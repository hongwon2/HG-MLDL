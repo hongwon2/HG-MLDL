{
  "nbformat": 4,
  "nbformat_minor": 0,
  "metadata": {
    "colab": {
      "provenance": [],
      "collapsed_sections": [
        "oSjddJBoe-GQ",
        "oT7l38qhoQaw",
        "-eznQOujrwD3",
        "ELcZImTvr1ue"
      ],
      "include_colab_link": true
    },
    "kernelspec": {
      "name": "python3",
      "display_name": "Python 3"
    },
    "language_info": {
      "name": "python"
    }
  },
  "cells": [
    {
      "cell_type": "markdown",
      "metadata": {
        "id": "view-in-github",
        "colab_type": "text"
      },
      "source": [
        "<a href=\"https://colab.research.google.com/github/hongwon2/HG-MLDL/blob/main/%EB%A8%B8%EC%8B%A0%EB%9F%AC%EB%8B%9D2_%EA%B0%80%EC%A7%9C_%EB%89%B4%EC%8A%A4_%EB%B6%84%EB%A5%98_%ED%94%84%EB%A1%9C%EC%A0%9D%ED%8A%B8.ipynb\" target=\"_parent\"><img src=\"https://colab.research.google.com/assets/colab-badge.svg\" alt=\"Open In Colab\"/></a>"
      ]
    },
    {
      "cell_type": "markdown",
      "source": [
        "# 메소드"
      ],
      "metadata": {
        "id": "oSjddJBoe-GQ"
      }
    },
    {
      "cell_type": "code",
      "execution_count": null,
      "metadata": {
        "id": "FTMFLYZa4n9g",
        "colab": {
          "base_uri": "https://localhost:8080/"
        },
        "outputId": "baea39c7-8e6e-46d6-942b-e6e671b2272d"
      },
      "outputs": [
        {
          "output_type": "stream",
          "name": "stdout",
          "text": [
            "Drive already mounted at /content/drive; to attempt to forcibly remount, call drive.mount(\"/content/drive\", force_remount=True).\n",
            "Looking in indexes: https://pypi.org/simple, https://us-python.pkg.dev/colab-wheels/public/simple/\n",
            "Requirement already satisfied: contractions in /usr/local/lib/python3.8/dist-packages (0.1.73)\n",
            "Requirement already satisfied: textsearch>=0.0.21 in /usr/local/lib/python3.8/dist-packages (from contractions) (0.0.24)\n",
            "Requirement already satisfied: anyascii in /usr/local/lib/python3.8/dist-packages (from textsearch>=0.0.21->contractions) (0.3.1)\n",
            "Requirement already satisfied: pyahocorasick in /usr/local/lib/python3.8/dist-packages (from textsearch>=0.0.21->contractions) (1.4.4)\n"
          ]
        },
        {
          "output_type": "stream",
          "name": "stderr",
          "text": [
            "[nltk_data] Downloading package punkt to /root/nltk_data...\n",
            "[nltk_data]   Package punkt is already up-to-date!\n",
            "[nltk_data] Downloading package stopwords to /root/nltk_data...\n",
            "[nltk_data]   Package stopwords is already up-to-date!\n",
            "[nltk_data] Downloading package wordnet to /root/nltk_data...\n",
            "[nltk_data]   Package wordnet is already up-to-date!\n",
            "[nltk_data] Downloading package averaged_perceptron_tagger to\n",
            "[nltk_data]     /root/nltk_data...\n",
            "[nltk_data]   Package averaged_perceptron_tagger is already up-to-\n",
            "[nltk_data]       date!\n"
          ]
        }
      ],
      "source": [
        "from google.colab import drive\n",
        "drive.mount('/content/drive')\n",
        "\n",
        "import numpy as np\n",
        "import pandas as pd\n",
        "import matplotlib.pyplot as plt\n",
        "import seaborn as sns\n",
        "\n",
        "import re\n",
        "import nltk\n",
        "from nltk.corpus import stopwords\n",
        "from nltk.stem.porter import PorterStemmer\n",
        "!pip install contractions\n",
        "import contractions\n",
        "nltk.download('punkt')\n",
        "nltk.download('stopwords')\n",
        "nltk.download('wordnet')\n",
        "nltk.download('averaged_perceptron_tagger')\n",
        "from nltk.tokenize import word_tokenize\n",
        "from nltk.stem import SnowballStemmer, WordNetLemmatizer\n",
        "\n",
        "from sklearn.feature_extraction.text import CountVectorizer, TfidfVectorizer, HashingVectorizer\n",
        "from sklearn.model_selection import train_test_split\n",
        "from sklearn.linear_model import LogisticRegression\n",
        "from sklearn.metrics import classification_report\n",
        "from sklearn.metrics import confusion_matrix, precision_score, \\\n",
        "                             recall_score, f1_score, roc_curve, \\\n",
        "                             accuracy_score, roc_auc_score\n",
        "from sklearn.model_selection import ParameterGrid, GridSearchCV\n",
        "\n",
        "\n",
        "import tensorflow as tf\n",
        "from tensorflow import keras\n",
        "from tensorflow.keras import layers as L\n",
        "from tensorflow.keras.layers import  Embedding\n",
        "from tensorflow.keras.layers import Bidirectional\n",
        "from tensorflow.keras.preprocessing.sequence import pad_sequences\n",
        "from tensorflow.keras.preprocessing.text import one_hot\n",
        "from tensorflow.keras.layers import Dense, Dropout, LSTM, Embedding, GRU, SimpleRNN\n",
        "from tensorflow.keras.models import Sequential\n",
        "from tensorflow.python.keras.callbacks import EarlyStopping\n",
        "\n",
        "from __future__ import absolute_import, division, print_function, unicode_literals\n",
        "\n",
        "VOCAB_SIZE = 5000"
      ]
    },
    {
      "cell_type": "code",
      "source": [
        "  path = '/content/drive/MyDrive/kaggle_data/'\n",
        "  test   = pd.read_csv(path + 'test.csv'  )\n",
        "  train  = pd.read_csv(path + 'train.csv' )\n",
        "  submit = pd.read_csv(path + 'submit.csv')"
      ],
      "metadata": {
        "id": "QZi9WC8rfldR"
      },
      "execution_count": null,
      "outputs": []
    },
    {
      "cell_type": "markdown",
      "source": [
        "# 데이터 전처리"
      ],
      "metadata": {
        "id": "oT7l38qhoQaw"
      }
    },
    {
      "cell_type": "code",
      "source": [
        "def data_clean(dt):\n",
        "  dt = dt.fillna('')\n",
        "  dt[\"total\"] = dt['title'] + \" \" + dt[\"author\"]  \n",
        "  return dt"
      ],
      "metadata": {
        "id": "MyzUvXw_7VT9"
      },
      "execution_count": null,
      "outputs": []
    },
    {
      "cell_type": "code",
      "source": [
        "def text_cleaning(df):\n",
        "    ps = PorterStemmer()\n",
        "    corpus = []\n",
        "    for i in range(len(df)):\n",
        "        m = re.sub(\"[^a-zA-Z]\", \" \", df[\"total\"][i])\n",
        "        m = m.lower()\n",
        "        m = m.split()\n",
        "        m = [ps.stem(word) for word in m if not word in stopwords.words('english')]\n",
        "        clean_text = \" \".join(m)\n",
        "        corpus.append(clean_text)\n",
        "    return corpus"
      ],
      "metadata": {
        "id": "0gMH5nyh7WeQ"
      },
      "execution_count": null,
      "outputs": []
    },
    {
      "cell_type": "code",
      "source": [
        "def onehot(corpus, VOCAB_SIZE = 5000):\n",
        "  return [one_hot(words, VOCAB_SIZE) for words in corpus]"
      ],
      "metadata": {
        "id": "1FD_8U4W7YFj"
      },
      "execution_count": null,
      "outputs": []
    },
    {
      "cell_type": "code",
      "source": [
        "def padding(onehot_text) :\n",
        "  return np.array(pad_sequences(onehot_text, padding=\"pre\", maxlen = 25))"
      ],
      "metadata": {
        "id": "ezuvw5AT7ZW4"
      },
      "execution_count": null,
      "outputs": []
    },
    {
      "cell_type": "code",
      "source": [
        "def get_label(df):\n",
        "  return np.array(df[\"label\"])"
      ],
      "metadata": {
        "id": "fSO8gnt27aS9"
      },
      "execution_count": null,
      "outputs": []
    },
    {
      "cell_type": "code",
      "source": [
        "def make_clean(df) :\n",
        "  corpus = data_clean(df)\n",
        "  corpus = text_cleaning(corpus)\n",
        "  corpus = onehot(corpus)\n",
        "  corpus = padding(corpus)\n",
        "  return   corpus"
      ],
      "metadata": {
        "id": "6a9NQk9u7bYj"
      },
      "execution_count": null,
      "outputs": []
    },
    {
      "cell_type": "code",
      "source": [
        "def get_data() :\n",
        "  path = '/content/drive/MyDrive/kaggle_data/'\n",
        "  test   = pd.read_csv(path + 'test.csv'  )\n",
        "  train  = pd.read_csv(path + 'train.csv' )\n",
        "  submit = pd.read_csv(path + 'submit.csv')\n",
        "\n",
        "  x = np.array(list(make_clean(train)) + list(make_clean(test )))\n",
        "  y = np.array(list(get_label(train )) + list(get_label(submit)))\n",
        "  return train_test_split(x, y, test_size = 0.1, random_state = 1234)"
      ],
      "metadata": {
        "id": "WVaYF29q7d9V"
      },
      "execution_count": null,
      "outputs": []
    },
    {
      "cell_type": "code",
      "source": [
        "def save_data(path, train_x, test_x, train_y, test_y) :\n",
        "  np.save(path + 'train_x', train_x)\n",
        "  np.save(path + 'test_x' , test_x )\n",
        "  np.save(path + 'train_y', train_x)\n",
        "  np.save(path + 'test_y' , test_x )"
      ],
      "metadata": {
        "id": "7H2BVAQv7fNJ"
      },
      "execution_count": null,
      "outputs": []
    },
    {
      "cell_type": "code",
      "source": [
        "train_x, test_x, train_y, test_y = get_data()\n",
        "\n",
        "save_data(path, train_x, test_x, train_y, test_y)"
      ],
      "metadata": {
        "id": "S0iHh-pk7gjI"
      },
      "execution_count": null,
      "outputs": []
    },
    {
      "cell_type": "code",
      "source": [
        "train_x,val_x,train_y,val_y = train_test_split(train_x,train_y,test_size = 0.1,random_state = 1234)"
      ],
      "metadata": {
        "id": "jKIAvJe_JS7d"
      },
      "execution_count": null,
      "outputs": []
    },
    {
      "cell_type": "code",
      "source": [
        "print(train_x.shape)\n",
        "print(train_y.shape)\n",
        "print(val_x.shape)\n",
        "print(val_y.shape)\n",
        "print(test_x.shape)\n",
        "print(test_y.shape)"
      ],
      "metadata": {
        "colab": {
          "base_uri": "https://localhost:8080/"
        },
        "id": "IaxWI4EVKDBO",
        "outputId": "ab6e20f2-ecb2-49a3-8320-1aa6d44dcbf1"
      },
      "execution_count": null,
      "outputs": [
        {
          "output_type": "stream",
          "name": "stdout",
          "text": [
            "(21060, 25)\n",
            "(21060,)\n",
            "(2340, 25)\n",
            "(2340,)\n",
            "(2600, 25)\n",
            "(2600,)\n"
          ]
        }
      ]
    },
    {
      "cell_type": "markdown",
      "source": [
        "#모델링"
      ],
      "metadata": {
        "id": "dFxs-BMY_CZC"
      }
    },
    {
      "cell_type": "markdown",
      "source": [
        "## RNN"
      ],
      "metadata": {
        "id": "-eznQOujrwD3"
      }
    },
    {
      "cell_type": "code",
      "source": [
        "model_RNN = Sequential()\n",
        "model_RNN.add(Embedding(30000, 30))\n",
        "model_RNN.add(SimpleRNN(100))\n",
        "model_RNN.add(Dense(1, activation='sigmoid'))\n",
        "model_RNN.compile(optimizer = 'Adam', loss='binary_crossentropy', metrics=['acc'])\n",
        "checkpoint_cb = keras.callbacks.ModelCheckpoint('best-RNN-model.h5')\n",
        "early_stopping_cb = keras.callbacks.EarlyStopping(patience=2, restore_best_weights=True)\n",
        "history_RNN = model_RNN.fit(train_x, train_y, epochs=10,\n",
        "                    validation_data=(val_x, val_y),\n",
        "                    callbacks=[checkpoint_cb, early_stopping_cb])\n",
        "model_RNN.summary()"
      ],
      "metadata": {
        "colab": {
          "base_uri": "https://localhost:8080/"
        },
        "id": "HvsAiNqr_DUV",
        "outputId": "92579840-0eab-4273-c373-8f4bd64b8824"
      },
      "execution_count": null,
      "outputs": [
        {
          "output_type": "stream",
          "name": "stdout",
          "text": [
            "Epoch 1/10\n",
            "659/659 [==============================] - 15s 21ms/step - loss: 0.3113 - acc: 0.8885 - val_loss: 0.2768 - val_acc: 0.9179\n",
            "Epoch 2/10\n",
            "659/659 [==============================] - 13s 19ms/step - loss: 0.2084 - acc: 0.9265 - val_loss: 0.2698 - val_acc: 0.9081\n",
            "Epoch 3/10\n",
            "659/659 [==============================] - 13s 19ms/step - loss: 0.1284 - acc: 0.9557 - val_loss: 0.3295 - val_acc: 0.8966\n",
            "Epoch 4/10\n",
            "659/659 [==============================] - 13s 20ms/step - loss: 0.0690 - acc: 0.9767 - val_loss: 0.4553 - val_acc: 0.8765\n",
            "Model: \"sequential\"\n",
            "_________________________________________________________________\n",
            " Layer (type)                Output Shape              Param #   \n",
            "=================================================================\n",
            " embedding (Embedding)       (None, None, 30)          900000    \n",
            "                                                                 \n",
            " simple_rnn (SimpleRNN)      (None, 100)               13100     \n",
            "                                                                 \n",
            " dense (Dense)               (None, 1)                 101       \n",
            "                                                                 \n",
            "=================================================================\n",
            "Total params: 913,201\n",
            "Trainable params: 913,201\n",
            "Non-trainable params: 0\n",
            "_________________________________________________________________\n"
          ]
        }
      ]
    },
    {
      "cell_type": "code",
      "source": [
        "plt.plot(history_RNN.history['loss'])\n",
        "plt.plot(history_RNN.history['val_loss'])\n",
        "plt.xlabel('epoch')\n",
        "plt.ylabel('loss')\n",
        "plt.legend(['train', 'val'])\n",
        "plt.show()"
      ],
      "metadata": {
        "colab": {
          "base_uri": "https://localhost:8080/",
          "height": 279
        },
        "id": "Xz5hLh_xQJpA",
        "outputId": "4f384067-0c18-4dac-9e6d-f1d28f9b6f4d"
      },
      "execution_count": null,
      "outputs": [
        {
          "output_type": "display_data",
          "data": {
            "text/plain": [
              "<Figure size 432x288 with 1 Axes>"
            ],
            "image/png": "[encoded data removed]"
          },
          "metadata": {
            "needs_background": "light"
          }
        }
      ]
    },
    {
      "cell_type": "code",
      "source": [
        "model_RNN.evaluate(val_x, val_y)"
      ],
      "metadata": {
        "id": "Jj4Dbo3a_KFh",
        "colab": {
          "base_uri": "https://localhost:8080/"
        },
        "outputId": "57b157f2-688b-4587-9a5f-9fdd7d8840e3"
      },
      "execution_count": null,
      "outputs": [
        {
          "output_type": "stream",
          "name": "stdout",
          "text": [
            "74/74 [==============================] - 0s 4ms/step - loss: 0.2698 - acc: 0.9081\n"
          ]
        },
        {
          "output_type": "execute_result",
          "data": {
            "text/plain": [
              "[0.2698318064212799, 0.9081196784973145]"
            ]
          },
          "metadata": {},
          "execution_count": 16
        }
      ]
    },
    {
      "cell_type": "markdown",
      "source": [
        "## LSTM"
      ],
      "metadata": {
        "id": "ELcZImTvr1ue"
      }
    },
    {
      "cell_type": "code",
      "source": [
        "model_LSTM = Sequential()\n",
        "model_LSTM.add(Embedding(30000, 30))\n",
        "model_LSTM.add(keras.layers.Dropout(0.3))\n",
        "model_LSTM.add(LSTM(100))\n",
        "model_LSTM.add(keras.layers.Dropout(0.3))\n",
        "model_LSTM.add(Dense(64, activation='relu'))\n",
        "model_LSTM.add(keras.layers.Dropout(0.3))\n",
        "model_LSTM.add(Dense(1, activation='sigmoid'))\n",
        "model_LSTM.compile(optimizer = 'Adam', loss='binary_crossentropy', metrics=['acc'])\n",
        "checkpoint_cb = keras.callbacks.ModelCheckpoint('best-LSTM-model.h5')\n",
        "early_stopping_cb = keras.callbacks.EarlyStopping(patience=2, restore_best_weights=True)\n",
        "history_LSTM = model_LSTM.fit(train_x, train_y, epochs=10,\n",
        "                    validation_data=(val_x, val_y),\n",
        "                    callbacks=[checkpoint_cb, early_stopping_cb])\n",
        "model_LSTM.summary()"
      ],
      "metadata": {
        "id": "UeGDLN2w_N-P",
        "colab": {
          "base_uri": "https://localhost:8080/"
        },
        "outputId": "a2062ad0-2bbd-4406-d9a3-3e3b6684f0eb"
      },
      "execution_count": null,
      "outputs": [
        {
          "output_type": "stream",
          "name": "stdout",
          "text": [
            "Epoch 1/10\n",
            "659/659 [==============================] - 29s 40ms/step - loss: 0.3198 - acc: 0.8822 - val_loss: 0.2563 - val_acc: 0.9167\n",
            "Epoch 2/10\n",
            "659/659 [==============================] - 22s 34ms/step - loss: 0.2413 - acc: 0.9203 - val_loss: 0.2563 - val_acc: 0.9154\n",
            "Epoch 3/10\n",
            "659/659 [==============================] - 22s 34ms/step - loss: 0.2135 - acc: 0.9268 - val_loss: 0.2674 - val_acc: 0.9068\n",
            "Model: \"sequential_1\"\n",
            "_________________________________________________________________\n",
            " Layer (type)                Output Shape              Param #   \n",
            "=================================================================\n",
            " embedding_1 (Embedding)     (None, None, 30)          900000    \n",
            "                                                                 \n",
            " dropout (Dropout)           (None, None, 30)          0         \n",
            "                                                                 \n",
            " lstm (LSTM)                 (None, 100)               52400     \n",
            "                                                                 \n",
            " dropout_1 (Dropout)         (None, 100)               0         \n",
            "                                                                 \n",
            " dense_1 (Dense)             (None, 64)                6464      \n",
            "                                                                 \n",
            " dropout_2 (Dropout)         (None, 64)                0         \n",
            "                                                                 \n",
            " dense_2 (Dense)             (None, 1)                 65        \n",
            "                                                                 \n",
            "=================================================================\n",
            "Total params: 958,929\n",
            "Trainable params: 958,929\n",
            "Non-trainable params: 0\n",
            "_________________________________________________________________\n"
          ]
        }
      ]
    },
    {
      "cell_type": "code",
      "source": [
        "plt.plot(history_LSTM.history['loss'])\n",
        "plt.plot(history_LSTM.history['val_loss'])\n",
        "plt.xlabel('epoch')\n",
        "plt.ylabel('loss')\n",
        "plt.legend(['train', 'val'])\n",
        "plt.show()"
      ],
      "metadata": {
        "colab": {
          "base_uri": "https://localhost:8080/",
          "height": 279
        },
        "id": "imdw022TUoMG",
        "outputId": "cd5d5bd7-3cb1-4206-c671-dd60e18b2a85"
      },
      "execution_count": null,
      "outputs": [
        {
          "output_type": "display_data",
          "data": {
            "text/plain": [
              "<Figure size 432x288 with 1 Axes>"
            ],
            "image/png": "[encoded data removed]"
          },
          "metadata": {
            "needs_background": "light"
          }
        }
      ]
    },
    {
      "cell_type": "code",
      "source": [
        "model_LSTM.evaluate(val_x, val_y)"
      ],
      "metadata": {
        "id": "OOhudVJbAsaQ",
        "colab": {
          "base_uri": "https://localhost:8080/"
        },
        "outputId": "1fd0fed5-1763-47ec-83d1-ce0e910fa9b3"
      },
      "execution_count": null,
      "outputs": [
        {
          "output_type": "stream",
          "name": "stdout",
          "text": [
            "74/74 [==============================] - 1s 8ms/step - loss: 0.2563 - acc: 0.9167\n"
          ]
        },
        {
          "output_type": "execute_result",
          "data": {
            "text/plain": [
              "[0.2562750577926636, 0.9166666865348816]"
            ]
          },
          "metadata": {},
          "execution_count": 19
        }
      ]
    },
    {
      "cell_type": "markdown",
      "source": [
        "## GRU"
      ],
      "metadata": {
        "id": "Yb-D57dNas5V"
      }
    },
    {
      "cell_type": "code",
      "source": [
        "model_GRU = Sequential()\n",
        "model_GRU.add(Embedding(30000, 64))\n",
        "model_GRU.add(keras.layers.Dropout(0.3))\n",
        "model_GRU.add(GRU(64))\n",
        "model_GRU.add(keras.layers.Dropout(0.3))\n",
        "model_GRU.add(Dense(16, activation='relu'))\n",
        "model_GRU.add(keras.layers.Dropout(0.3))\n",
        "model_GRU.add(Dense(1, activation='sigmoid'))\n",
        "model_GRU.compile(optimizer = 'Adam', loss='binary_crossentropy', metrics=['acc'])\n",
        "checkpoint_cb = keras.callbacks.ModelCheckpoint('best-GRU-model.h5')\n",
        "early_stopping_cb = keras.callbacks.EarlyStopping(patience=2, restore_best_weights=True)\n",
        "history_GRU = model_GRU.fit(train_x, train_y, epochs=10,\n",
        "                    validation_data=(val_x, val_y),\n",
        "                    callbacks=[checkpoint_cb, early_stopping_cb])\n",
        "model_GRU.summary()"
      ],
      "metadata": {
        "colab": {
          "base_uri": "https://localhost:8080/"
        },
        "id": "ew_9BQOVasO5",
        "outputId": "c5559d10-28af-4a00-e608-1d2ef0238a49"
      },
      "execution_count": null,
      "outputs": [
        {
          "output_type": "stream",
          "name": "stdout",
          "text": [
            "Epoch 1/10\n",
            "659/659 [==============================] - 27s 38ms/step - loss: 0.3239 - acc: 0.8896 - val_loss: 0.2517 - val_acc: 0.9167\n",
            "Epoch 2/10\n",
            "659/659 [==============================] - 24s 36ms/step - loss: 0.2475 - acc: 0.9217 - val_loss: 0.2542 - val_acc: 0.9167\n",
            "Epoch 3/10\n",
            "659/659 [==============================] - 24s 37ms/step - loss: 0.2166 - acc: 0.9268 - val_loss: 0.2823 - val_acc: 0.9090\n",
            "Model: \"sequential_2\"\n",
            "_________________________________________________________________\n",
            " Layer (type)                Output Shape              Param #   \n",
            "=================================================================\n",
            " embedding_2 (Embedding)     (None, None, 64)          1920000   \n",
            "                                                                 \n",
            " dropout_3 (Dropout)         (None, None, 64)          0         \n",
            "                                                                 \n",
            " gru (GRU)                   (None, 64)                24960     \n",
            "                                                                 \n",
            " dropout_4 (Dropout)         (None, 64)                0         \n",
            "                                                                 \n",
            " dense_3 (Dense)             (None, 16)                1040      \n",
            "                                                                 \n",
            " dropout_5 (Dropout)         (None, 16)                0         \n",
            "                                                                 \n",
            " dense_4 (Dense)             (None, 1)                 17        \n",
            "                                                                 \n",
            "=================================================================\n",
            "Total params: 1,946,017\n",
            "Trainable params: 1,946,017\n",
            "Non-trainable params: 0\n",
            "_________________________________________________________________\n"
          ]
        }
      ]
    },
    {
      "cell_type": "code",
      "source": [
        "plt.plot(history_GRU.history['loss'])\n",
        "plt.plot(history_GRU.history['val_loss'])\n",
        "plt.xlabel('epoch')\n",
        "plt.ylabel('loss')\n",
        "plt.legend(['train', 'val'])\n",
        "plt.show()"
      ],
      "metadata": {
        "colab": {
          "base_uri": "https://localhost:8080/",
          "height": 279
        },
        "id": "5GKmEGhkbRi_",
        "outputId": "59cb1e4c-fb84-480c-b90b-7e7565020b4d"
      },
      "execution_count": null,
      "outputs": [
        {
          "output_type": "display_data",
          "data": {
            "text/plain": [
              "<Figure size 432x288 with 1 Axes>"
            ],
            "image/png": "[encoded data removed]"
          },
          "metadata": {
            "needs_background": "light"
          }
        }
      ]
    },
    {
      "cell_type": "code",
      "source": [
        "model_GRU.evaluate(val_x, val_y)"
      ],
      "metadata": {
        "colab": {
          "base_uri": "https://localhost:8080/"
        },
        "id": "Po-nMNqlbWiU",
        "outputId": "0bb56d6b-3950-426f-91f6-068301ddac13"
      },
      "execution_count": null,
      "outputs": [
        {
          "output_type": "stream",
          "name": "stdout",
          "text": [
            "74/74 [==============================] - 0s 5ms/step - loss: 0.2517 - acc: 0.9167\n"
          ]
        },
        {
          "output_type": "execute_result",
          "data": {
            "text/plain": [
              "[0.2517031133174896, 0.9166666865348816]"
            ]
          },
          "metadata": {},
          "execution_count": 22
        }
      ]
    },
    {
      "cell_type": "markdown",
      "source": [
        "## CNN-LSTM\n"
      ],
      "metadata": {
        "id": "FpdxnE8SUN5o"
      }
    },
    {
      "cell_type": "code",
      "source": [
        "train_x.shape"
      ],
      "metadata": {
        "colab": {
          "base_uri": "https://localhost:8080/"
        },
        "id": "FwvPh97woDM5",
        "outputId": "d8db184e-4a54-4f5c-f0da-852cca467268"
      },
      "execution_count": null,
      "outputs": [
        {
          "output_type": "execute_result",
          "data": {
            "text/plain": [
              "(21060, 25)"
            ]
          },
          "metadata": {},
          "execution_count": 52
        }
      ]
    },
    {
      "cell_type": "code",
      "source": [
        "model_CNN_LSTM = Sequential()\n",
        "model_CNN_LSTM.add(keras.layers.Embedding(30000, 30))\n",
        "model_CNN_LSTM.add(keras.layers.Dropout(0.3))\n",
        "model_CNN_LSTM.add(keras.layers.Conv1D(32, 3, padding='same', strides=1,activation='relu'))\n",
        "model_CNN_LSTM.add(keras.layers.MaxPooling1D(2))\n",
        "model_CNN_LSTM.add(LSTM(100))\n",
        "model_CNN_LSTM.add(keras.layers.Dropout(0.3))\n",
        "model_CNN_LSTM.add(Dense(1, activation='sigmoid'))\n",
        "model_CNN_LSTM.compile(optimizer = 'Adam', loss='binary_crossentropy', metrics=['acc'])\n",
        "checkpoint_cb = keras.callbacks.ModelCheckpoint('best-CNN_LSTM-model.h5')\n",
        "early_stopping_cb = keras.callbacks.EarlyStopping(patience=2, restore_best_weights=True)\n",
        "history_CNN_LSTM = model_CNN_LSTM.fit(train_x, train_y, epochs=10,\n",
        "                    validation_data=(val_x, val_y),\n",
        "                    callbacks=[checkpoint_cb, early_stopping_cb])\n",
        "model_CNN_LSTM.summary()\n",
        "\n"
      ],
      "metadata": {
        "colab": {
          "base_uri": "https://localhost:8080/"
        },
        "id": "yqCZskxQUM4k",
        "outputId": "a44df258-c350-4aa1-f08a-977640882c86"
      },
      "execution_count": null,
      "outputs": [
        {
          "output_type": "stream",
          "name": "stdout",
          "text": [
            "Epoch 1/10\n",
            "659/659 [==============================] - 22s 30ms/step - loss: 0.3328 - acc: 0.8706 - val_loss: 0.2568 - val_acc: 0.9201\n",
            "Epoch 2/10\n",
            "659/659 [==============================] - 19s 28ms/step - loss: 0.2431 - acc: 0.9221 - val_loss: 0.2694 - val_acc: 0.9171\n",
            "Epoch 3/10\n",
            "659/659 [==============================] - 19s 28ms/step - loss: 0.2156 - acc: 0.9274 - val_loss: 0.2740 - val_acc: 0.9111\n",
            "Model: \"sequential_36\"\n",
            "_________________________________________________________________\n",
            " Layer (type)                Output Shape              Param #   \n",
            "=================================================================\n",
            " embedding_36 (Embedding)    (None, None, 30)          900000    \n",
            "                                                                 \n",
            " dropout_55 (Dropout)        (None, None, 30)          0         \n",
            "                                                                 \n",
            " conv1d_37 (Conv1D)          (None, None, 32)          2912      \n",
            "                                                                 \n",
            " max_pooling1d_18 (MaxPoolin  (None, None, 32)         0         \n",
            " g1D)                                                            \n",
            "                                                                 \n",
            " lstm_32 (LSTM)              (None, 100)               53200     \n",
            "                                                                 \n",
            " dropout_56 (Dropout)        (None, 100)               0         \n",
            "                                                                 \n",
            " dense_20 (Dense)            (None, 1)                 101       \n",
            "                                                                 \n",
            "=================================================================\n",
            "Total params: 956,213\n",
            "Trainable params: 956,213\n",
            "Non-trainable params: 0\n",
            "_________________________________________________________________\n"
          ]
        }
      ]
    },
    {
      "cell_type": "code",
      "source": [
        "plt.plot(history_CNN_LSTM.history['loss'])\n",
        "plt.plot(history_CNN_LSTM.history['val_loss'])\n",
        "plt.xlabel('epoch')\n",
        "plt.ylabel('loss')\n",
        "plt.legend(['train', 'val'])\n",
        "plt.show()"
      ],
      "metadata": {
        "colab": {
          "base_uri": "https://localhost:8080/",
          "height": 279
        },
        "id": "WA4kc0bFdHnc",
        "outputId": "503b99e4-80b1-4a2e-9698-22c1e27ec619"
      },
      "execution_count": null,
      "outputs": [
        {
          "output_type": "display_data",
          "data": {
            "text/plain": [
              "<Figure size 432x288 with 1 Axes>"
            ],
            "image/png": "[encoded data removed]"
          },
          "metadata": {
            "needs_background": "light"
          }
        }
      ]
    },
    {
      "cell_type": "code",
      "source": [
        "model_CNN_LSTM.evaluate(val_x, val_y)"
      ],
      "metadata": {
        "colab": {
          "base_uri": "https://localhost:8080/"
        },
        "id": "v0NaWkk3dPbN",
        "outputId": "7667af24-83e7-40f6-ef85-0d66d38fd5df"
      },
      "execution_count": null,
      "outputs": [
        {
          "output_type": "stream",
          "name": "stdout",
          "text": [
            "74/74 [==============================] - 1s 7ms/step - loss: 0.2568 - acc: 0.9201\n"
          ]
        },
        {
          "output_type": "execute_result",
          "data": {
            "text/plain": [
              "[0.2568093240261078, 0.9200854897499084]"
            ]
          },
          "metadata": {},
          "execution_count": 80
        }
      ]
    },
    {
      "cell_type": "markdown",
      "source": [
        "# 최종평가 : test set 예측 "
      ],
      "metadata": {
        "id": "1GFz7qEmqADK"
      }
    },
    {
      "cell_type": "code",
      "source": [
        "def show_metrics(y_pred, y_actual) :\n",
        "  print('Accuracy  :',  accuracy_score(y_pred, y_actual))\n",
        "  print('Precision :', precision_score(y_pred, y_actual))\n",
        "  print('Recall    :',    recall_score(y_pred, y_actual))\n",
        "  print('F1-score  :',        f1_score(y_pred, y_actual))\n",
        "  print('Auc       :',   roc_auc_score(y_pred, y_actual))"
      ],
      "metadata": {
        "id": "1VkYDJicqcbb"
      },
      "execution_count": null,
      "outputs": []
    },
    {
      "cell_type": "code",
      "source": [
        "def show_confusion_matrix(y_pred, y_actual, path, model_name) :\n",
        "  fig = plt.figure(figsize = (10, 8))\n",
        "  plt.title(model_name + ' Confusion Matrix')\n",
        "  sns.heatmap(confusion_matrix(y_pred, y_actual), annot = True, fmt = 'd', \n",
        "              cbar = False, cmap = sns.color_palette(\"Purples\",2),\n",
        "              xticklabels = ['Positive', 'Negative'],\n",
        "              yticklabels = ['Positive', 'Negative'])\n",
        "  plt.xlabel('Actuals')\n",
        "  plt.ylabel('Predicted')\n",
        "  plt.savefig(path + model_name +'_confusion_matrix.png', dpi = 300)\n",
        "  plt.show()"
      ],
      "metadata": {
        "id": "tY9SpoZdqdVk"
      },
      "execution_count": null,
      "outputs": []
    },
    {
      "cell_type": "code",
      "source": [
        "model_CNN_LSTM.evaluate(test_x,test_y)"
      ],
      "metadata": {
        "colab": {
          "base_uri": "https://localhost:8080/"
        },
        "id": "H4pNoskXqFn0",
        "outputId": "f6c4b3e1-c785-4d83-cb0f-1c70481854c9"
      },
      "execution_count": null,
      "outputs": [
        {
          "output_type": "stream",
          "name": "stdout",
          "text": [
            "82/82 [==============================] - 1s 11ms/step - loss: 0.2820 - acc: 0.9123\n"
          ]
        },
        {
          "output_type": "execute_result",
          "data": {
            "text/plain": [
              "[0.2819856107234955, 0.9123076796531677]"
            ]
          },
          "metadata": {},
          "execution_count": 81
        }
      ]
    },
    {
      "cell_type": "code",
      "source": [
        "y_pred = (model_CNN_LSTM.predict(test_x) > 0.5).astype(\"int32\")\n",
        "path2 = '/content/drive/MyDrive/ML2/'\n",
        "model_CNN_LSTM.save(path2 + 'CNN_LSTM.h5')"
      ],
      "metadata": {
        "id": "O4KcSqN2q0Hj",
        "colab": {
          "base_uri": "https://localhost:8080/"
        },
        "outputId": "df587687-96d2-41c1-bc1e-caa90cdeac50"
      },
      "execution_count": null,
      "outputs": [
        {
          "output_type": "stream",
          "name": "stdout",
          "text": [
            "82/82 [==============================] - 1s 6ms/step\n"
          ]
        }
      ]
    },
    {
      "cell_type": "code",
      "source": [
        "show_metrics(y_pred, test_y)\n",
        "show_confusion_matrix(y_pred, test_y, path2, 'CNN_LSTM')"
      ],
      "metadata": {
        "colab": {
          "base_uri": "https://localhost:8080/",
          "height": 605
        },
        "id": "IwuSvby2qsx3",
        "outputId": "4ac65d9f-8ec3-4fe7-c974-5ee4da6bd467"
      },
      "execution_count": null,
      "outputs": [
        {
          "output_type": "stream",
          "name": "stdout",
          "text": [
            "Accuracy  : 0.9123076923076923\n",
            "Precision : 0.905446293494705\n",
            "Recall    : 0.9207692307692308\n",
            "F1-score  : 0.9130434782608696\n",
            "Auc       : 0.9123076923076924\n"
          ]
        },
        {
          "output_type": "display_data",
          "data": {
            "text/plain": [
              "<Figure size 720x576 with 1 Axes>"
            ],
            "image/png": "[encoded data removed]"
          },
          "metadata": {
            "needs_background": "light"
          }
        }
      ]
    }
  ]
}