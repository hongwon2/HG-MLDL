{
  "nbformat": 4,
  "nbformat_minor": 0,
  "metadata": {
    "colab": {
      "provenance": [],
      "collapsed_sections": [
        "oSjddJBoe-GQ",
        "oT7l38qhoQaw",
        "-eznQOujrwD3",
        "ELcZImTvr1ue"
      ],
      "include_colab_link": true
    },
    "kernelspec": {
      "name": "python3",
      "display_name": "Python 3"
    },
    "language_info": {
      "name": "python"
    }
  },
  "cells": [
    {
      "cell_type": "markdown",
      "metadata": {
        "id": "view-in-github",
        "colab_type": "text"
      },
      "source": [
        "<a href=\"https://colab.research.google.com/github/hongwon2/HG-MLDL/blob/main/%EB%A8%B8%EC%8B%A0%EB%9F%AC%EB%8B%9D2_%EA%B0%80%EC%A7%9C_%EB%89%B4%EC%8A%A4_%EB%B6%84%EB%A5%98_%ED%94%84%EB%A1%9C%EC%A0%9D%ED%8A%B8.ipynb\" target=\"_parent\"><img src=\"https://colab.research.google.com/assets/colab-badge.svg\" alt=\"Open In Colab\"/></a>"
      ]
    },
    {
      "cell_type": "markdown",
      "source": [
        "# 메소드"
      ],
      "metadata": {
        "id": "oSjddJBoe-GQ"
      }
    },
    {
      "cell_type": "code",
      "execution_count": 2,
      "metadata": {
        "id": "FTMFLYZa4n9g",
        "colab": {
          "base_uri": "https://localhost:8080/"
        },
        "outputId": "bed176d5-8639-4f57-a82d-f4561ec4c7b7"
      },
      "outputs": [
        {
          "output_type": "stream",
          "name": "stdout",
          "text": [
            "Mounted at /content/drive\n",
            "Looking in indexes: https://pypi.org/simple, https://us-python.pkg.dev/colab-wheels/public/simple/\n",
            "Collecting contractions\n",
            "  Downloading contractions-0.1.73-py2.py3-none-any.whl (8.7 kB)\n",
            "Collecting textsearch>=0.0.21\n",
            "  Downloading textsearch-0.0.24-py2.py3-none-any.whl (7.6 kB)\n",
            "Collecting pyahocorasick\n",
            "  Downloading pyahocorasick-1.4.4-cp38-cp38-manylinux_2_17_x86_64.manylinux2014_x86_64.whl (110 kB)\n",
            "\u001b[K     |████████████████████████████████| 110 kB 5.0 MB/s \n",
            "\u001b[?25hCollecting anyascii\n",
            "  Downloading anyascii-0.3.1-py3-none-any.whl (287 kB)\n",
            "\u001b[K     |████████████████████████████████| 287 kB 39.5 MB/s \n",
            "\u001b[?25hInstalling collected packages: pyahocorasick, anyascii, textsearch, contractions\n",
            "Successfully installed anyascii-0.3.1 contractions-0.1.73 pyahocorasick-1.4.4 textsearch-0.0.24\n"
          ]
        },
        {
          "output_type": "stream",
          "name": "stderr",
          "text": [
            "[nltk_data] Downloading package punkt to /root/nltk_data...\n",
            "[nltk_data]   Unzipping tokenizers/punkt.zip.\n",
            "[nltk_data] Downloading package stopwords to /root/nltk_data...\n",
            "[nltk_data]   Unzipping corpora/stopwords.zip.\n",
            "[nltk_data] Downloading package wordnet to /root/nltk_data...\n",
            "[nltk_data] Downloading package averaged_perceptron_tagger to\n",
            "[nltk_data]     /root/nltk_data...\n",
            "[nltk_data]   Unzipping taggers/averaged_perceptron_tagger.zip.\n"
          ]
        }
      ],
      "source": [
        "from google.colab import drive\n",
        "drive.mount('/content/drive')\n",
        "\n",
        "import numpy as np\n",
        "import pandas as pd\n",
        "import matplotlib.pyplot as plt\n",
        "import seaborn as sns\n",
        "\n",
        "import re\n",
        "import nltk\n",
        "from nltk.corpus import stopwords\n",
        "from nltk.stem.porter import PorterStemmer\n",
        "!pip install contractions\n",
        "import contractions\n",
        "nltk.download('punkt')\n",
        "nltk.download('stopwords')\n",
        "nltk.download('wordnet')\n",
        "nltk.download('averaged_perceptron_tagger')\n",
        "from nltk.tokenize import word_tokenize\n",
        "from nltk.stem import SnowballStemmer, WordNetLemmatizer\n",
        "\n",
        "from sklearn.feature_extraction.text import CountVectorizer, TfidfVectorizer, HashingVectorizer\n",
        "from sklearn.model_selection import train_test_split\n",
        "from sklearn.linear_model import LogisticRegression\n",
        "from sklearn.metrics import classification_report\n",
        "from sklearn.metrics import confusion_matrix, precision_score, \\\n",
        "                             recall_score, f1_score, roc_curve, \\\n",
        "                             accuracy_score, roc_auc_score\n",
        "from sklearn.model_selection import ParameterGrid, GridSearchCV\n",
        "\n",
        "\n",
        "import tensorflow as tf\n",
        "from tensorflow import keras\n",
        "from tensorflow.keras import layers as L\n",
        "from tensorflow.keras.layers import  Embedding\n",
        "from tensorflow.keras.layers import Bidirectional\n",
        "from tensorflow.keras.preprocessing.sequence import pad_sequences\n",
        "from tensorflow.keras.preprocessing.text import one_hot\n",
        "from tensorflow.keras.layers import Dense, Dropout, LSTM, Embedding, GRU, SimpleRNN\n",
        "from tensorflow.keras.models import Sequential\n",
        "from tensorflow.python.keras.callbacks import EarlyStopping\n",
        "\n",
        "from __future__ import absolute_import, division, print_function, unicode_literals\n",
        "\n",
        "VOCAB_SIZE = 5000"
      ]
    },
    {
      "cell_type": "code",
      "source": [
        "  path = '/content/drive/MyDrive/kaggle_data/'\n",
        "  test   = pd.read_csv(path + 'test.csv'  )\n",
        "  train  = pd.read_csv(path + 'train.csv' )\n",
        "  submit = pd.read_csv(path + 'submit.csv')"
      ],
      "metadata": {
        "id": "QZi9WC8rfldR"
      },
      "execution_count": 3,
      "outputs": []
    },
    {
      "cell_type": "markdown",
      "source": [
        "# 데이터 전처리"
      ],
      "metadata": {
        "id": "oT7l38qhoQaw"
      }
    },
    {
      "cell_type": "code",
      "source": [
        "def data_clean(dt):\n",
        "  dt = dt.fillna('')\n",
        "  dt[\"total\"] = dt['title'] + \" \" + dt[\"author\"]  \n",
        "  return dt"
      ],
      "metadata": {
        "id": "MyzUvXw_7VT9"
      },
      "execution_count": 4,
      "outputs": []
    },
    {
      "cell_type": "code",
      "source": [
        "def text_cleaning(df):\n",
        "    ps = PorterStemmer()\n",
        "    corpus = []\n",
        "    for i in range(len(df)):\n",
        "        m = re.sub(\"[^a-zA-Z]\", \" \", df[\"total\"][i])\n",
        "        m = m.lower()\n",
        "        m = m.split()\n",
        "        m = [ps.stem(word) for word in m if not word in stopwords.words('english')]\n",
        "        clean_text = \" \".join(m)\n",
        "        corpus.append(clean_text)\n",
        "    return corpus"
      ],
      "metadata": {
        "id": "0gMH5nyh7WeQ"
      },
      "execution_count": 5,
      "outputs": []
    },
    {
      "cell_type": "code",
      "source": [
        "def onehot(corpus, VOCAB_SIZE = 5000):\n",
        "  return [one_hot(words, VOCAB_SIZE) for words in corpus]"
      ],
      "metadata": {
        "id": "1FD_8U4W7YFj"
      },
      "execution_count": 6,
      "outputs": []
    },
    {
      "cell_type": "code",
      "source": [
        "def padding(onehot_text) :\n",
        "  return np.array(pad_sequences(onehot_text, padding=\"pre\", maxlen = 25))"
      ],
      "metadata": {
        "id": "ezuvw5AT7ZW4"
      },
      "execution_count": 7,
      "outputs": []
    },
    {
      "cell_type": "code",
      "source": [
        "def get_label(df):\n",
        "  return np.array(df[\"label\"])"
      ],
      "metadata": {
        "id": "fSO8gnt27aS9"
      },
      "execution_count": 8,
      "outputs": []
    },
    {
      "cell_type": "code",
      "source": [
        "def make_clean(df) :\n",
        "  corpus = data_clean(df)\n",
        "  corpus = text_cleaning(corpus)\n",
        "  corpus = onehot(corpus)\n",
        "  corpus = padding(corpus)\n",
        "  return   corpus"
      ],
      "metadata": {
        "id": "6a9NQk9u7bYj"
      },
      "execution_count": 9,
      "outputs": []
    },
    {
      "cell_type": "code",
      "source": [
        "def get_data() :\n",
        "  path = '/content/drive/MyDrive/kaggle_data/'\n",
        "  test   = pd.read_csv(path + 'test.csv'  )\n",
        "  train  = pd.read_csv(path + 'train.csv' )\n",
        "  submit = pd.read_csv(path + 'submit.csv')\n",
        "\n",
        "  x = np.array(list(make_clean(train)) + list(make_clean(test )))\n",
        "  y = np.array(list(get_label(train )) + list(get_label(submit)))\n",
        "  return train_test_split(x, y, test_size = 0.1, random_state = 1234)"
      ],
      "metadata": {
        "id": "WVaYF29q7d9V"
      },
      "execution_count": 10,
      "outputs": []
    },
    {
      "cell_type": "code",
      "source": [
        "def save_data(path, train_x, test_x, train_y, test_y) :\n",
        "  np.save(path + 'train_x', train_x)\n",
        "  np.save(path + 'test_x' , test_x )\n",
        "  np.save(path + 'train_y', train_x)\n",
        "  np.save(path + 'test_y' , test_x )"
      ],
      "metadata": {
        "id": "7H2BVAQv7fNJ"
      },
      "execution_count": 11,
      "outputs": []
    },
    {
      "cell_type": "code",
      "source": [
        "train_x, test_x, train_y, test_y = get_data()\n",
        "\n",
        "save_data(path, train_x, test_x, train_y, test_y)"
      ],
      "metadata": {
        "id": "S0iHh-pk7gjI"
      },
      "execution_count": 12,
      "outputs": []
    },
    {
      "cell_type": "code",
      "source": [
        "train_x,val_x,train_y,val_y = train_test_split(train_x,train_y,test_size = 0.1,random_state = 1234)"
      ],
      "metadata": {
        "id": "jKIAvJe_JS7d"
      },
      "execution_count": 13,
      "outputs": []
    },
    {
      "cell_type": "code",
      "source": [
        "print(train_x.shape)\n",
        "print(train_y.shape)\n",
        "print(val_x.shape)\n",
        "print(val_y.shape)\n",
        "print(test_x.shape)\n",
        "print(test_y.shape)"
      ],
      "metadata": {
        "colab": {
          "base_uri": "https://localhost:8080/"
        },
        "id": "IaxWI4EVKDBO",
        "outputId": "98e74294-4b05-43d4-a848-cb63064aedbf"
      },
      "execution_count": 14,
      "outputs": [
        {
          "output_type": "stream",
          "name": "stdout",
          "text": [
            "(21060, 25)\n",
            "(21060,)\n",
            "(2340, 25)\n",
            "(2340,)\n",
            "(2600, 25)\n",
            "(2600,)\n"
          ]
        }
      ]
    },
    {
      "cell_type": "markdown",
      "source": [
        "#모델링"
      ],
      "metadata": {
        "id": "dFxs-BMY_CZC"
      }
    },
    {
      "cell_type": "markdown",
      "source": [
        "## RNN"
      ],
      "metadata": {
        "id": "-eznQOujrwD3"
      }
    },
    {
      "cell_type": "code",
      "source": [
        "model_RNN = Sequential()\n",
        "model_RNN.add(Embedding(30000, 30))\n",
        "model_RNN.add(SimpleRNN(100))\n",
        "model_RNN.add(Dense(1, activation='sigmoid'))\n",
        "model_RNN.compile(optimizer = 'Adam', loss='binary_crossentropy', metrics=['acc'])\n",
        "history_RNN = model_RNN.fit(train_x, train_y, epochs=100,\n",
        "                    validation_data=(val_x, val_y))\n",
        "model_RNN.summary()"
      ],
      "metadata": {
        "colab": {
          "base_uri": "https://localhost:8080/"
        },
        "id": "HvsAiNqr_DUV",
        "outputId": "19281c6a-6ffd-47b2-be05-fc121d078f54"
      },
      "execution_count": 17,
      "outputs": [
        {
          "output_type": "stream",
          "name": "stdout",
          "text": [
            "Epoch 1/100\n",
            "659/659 [==============================] - 16s 22ms/step - loss: 0.3197 - acc: 0.8834 - val_loss: 0.2581 - val_acc: 0.9192\n",
            "Epoch 2/100\n",
            "659/659 [==============================] - 13s 19ms/step - loss: 0.2100 - acc: 0.9266 - val_loss: 0.2732 - val_acc: 0.9115\n",
            "Epoch 3/100\n",
            "659/659 [==============================] - 13s 19ms/step - loss: 0.1239 - acc: 0.9573 - val_loss: 0.3143 - val_acc: 0.8970\n",
            "Epoch 4/100\n",
            "659/659 [==============================] - 13s 19ms/step - loss: 0.0651 - acc: 0.9791 - val_loss: 0.4171 - val_acc: 0.8876\n",
            "Epoch 5/100\n",
            "659/659 [==============================] - 14s 21ms/step - loss: 0.0452 - acc: 0.9861 - val_loss: 0.4446 - val_acc: 0.8859\n",
            "Epoch 6/100\n",
            "659/659 [==============================] - 13s 19ms/step - loss: 0.0361 - acc: 0.9896 - val_loss: 0.5133 - val_acc: 0.8829\n",
            "Epoch 7/100\n",
            "659/659 [==============================] - 13s 19ms/step - loss: 0.0345 - acc: 0.9890 - val_loss: 0.5469 - val_acc: 0.8812\n",
            "Epoch 8/100\n",
            "659/659 [==============================] - 13s 19ms/step - loss: 0.0213 - acc: 0.9945 - val_loss: 0.5875 - val_acc: 0.8799\n",
            "Epoch 9/100\n",
            "659/659 [==============================] - 13s 19ms/step - loss: 0.0239 - acc: 0.9934 - val_loss: 0.6326 - val_acc: 0.8624\n",
            "Epoch 10/100\n",
            "659/659 [==============================] - 13s 19ms/step - loss: 0.0208 - acc: 0.9937 - val_loss: 0.6437 - val_acc: 0.8543\n",
            "Epoch 11/100\n",
            "659/659 [==============================] - 13s 19ms/step - loss: 0.0210 - acc: 0.9933 - val_loss: 0.6747 - val_acc: 0.8709\n",
            "Epoch 12/100\n",
            "659/659 [==============================] - 13s 19ms/step - loss: 0.0251 - acc: 0.9919 - val_loss: 0.6901 - val_acc: 0.8714\n",
            "Epoch 13/100\n",
            "659/659 [==============================] - 14s 22ms/step - loss: 0.0152 - acc: 0.9953 - val_loss: 0.7080 - val_acc: 0.8645\n",
            "Epoch 14/100\n",
            "659/659 [==============================] - 13s 19ms/step - loss: 0.0175 - acc: 0.9947 - val_loss: 0.7502 - val_acc: 0.8718\n",
            "Epoch 15/100\n",
            "659/659 [==============================] - 13s 19ms/step - loss: 0.0147 - acc: 0.9953 - val_loss: 0.6804 - val_acc: 0.8714\n",
            "Epoch 16/100\n",
            "659/659 [==============================] - 14s 22ms/step - loss: 0.0186 - acc: 0.9937 - val_loss: 0.6981 - val_acc: 0.8654\n",
            "Epoch 17/100\n",
            "659/659 [==============================] - 13s 19ms/step - loss: 0.0149 - acc: 0.9953 - val_loss: 0.7019 - val_acc: 0.8628\n",
            "Epoch 18/100\n",
            "659/659 [==============================] - 13s 19ms/step - loss: 0.0146 - acc: 0.9951 - val_loss: 0.7041 - val_acc: 0.8709\n",
            "Epoch 19/100\n",
            "659/659 [==============================] - 13s 19ms/step - loss: 0.0130 - acc: 0.9962 - val_loss: 0.7917 - val_acc: 0.8791\n",
            "Epoch 20/100\n",
            "659/659 [==============================] - 13s 19ms/step - loss: 0.0163 - acc: 0.9943 - val_loss: 0.6814 - val_acc: 0.8799\n",
            "Epoch 21/100\n",
            "659/659 [==============================] - 13s 20ms/step - loss: 0.0155 - acc: 0.9945 - val_loss: 0.7178 - val_acc: 0.8585\n",
            "Epoch 22/100\n",
            "659/659 [==============================] - 13s 19ms/step - loss: 0.0111 - acc: 0.9964 - val_loss: 0.7182 - val_acc: 0.8735\n",
            "Epoch 23/100\n",
            "659/659 [==============================] - 13s 19ms/step - loss: 0.0118 - acc: 0.9952 - val_loss: 0.7597 - val_acc: 0.8782\n",
            "Epoch 24/100\n",
            "659/659 [==============================] - 13s 19ms/step - loss: 0.0121 - acc: 0.9961 - val_loss: 0.7540 - val_acc: 0.8675\n",
            "Epoch 25/100\n",
            "659/659 [==============================] - 15s 22ms/step - loss: 0.0143 - acc: 0.9945 - val_loss: 0.8076 - val_acc: 0.8722\n",
            "Epoch 26/100\n",
            "659/659 [==============================] - 13s 20ms/step - loss: 0.0118 - acc: 0.9960 - val_loss: 0.7769 - val_acc: 0.8744\n",
            "Epoch 27/100\n",
            "659/659 [==============================] - 13s 20ms/step - loss: 0.0099 - acc: 0.9962 - val_loss: 0.7694 - val_acc: 0.8697\n",
            "Epoch 28/100\n",
            "659/659 [==============================] - 13s 20ms/step - loss: 0.0086 - acc: 0.9965 - val_loss: 0.8806 - val_acc: 0.8714\n",
            "Epoch 29/100\n",
            "659/659 [==============================] - 13s 20ms/step - loss: 0.0173 - acc: 0.9936 - val_loss: 0.7553 - val_acc: 0.8671\n",
            "Epoch 30/100\n",
            "659/659 [==============================] - 13s 20ms/step - loss: 0.0102 - acc: 0.9963 - val_loss: 0.8603 - val_acc: 0.8620\n",
            "Epoch 31/100\n",
            "659/659 [==============================] - 13s 20ms/step - loss: 0.0086 - acc: 0.9966 - val_loss: 0.8363 - val_acc: 0.8697\n",
            "Epoch 32/100\n",
            "659/659 [==============================] - 13s 20ms/step - loss: 0.0103 - acc: 0.9960 - val_loss: 0.8605 - val_acc: 0.8590\n",
            "Epoch 33/100\n",
            "659/659 [==============================] - 13s 20ms/step - loss: 0.0124 - acc: 0.9956 - val_loss: 0.8319 - val_acc: 0.8726\n",
            "Epoch 34/100\n",
            "659/659 [==============================] - 13s 20ms/step - loss: 0.0072 - acc: 0.9970 - val_loss: 0.8651 - val_acc: 0.8620\n",
            "Epoch 35/100\n",
            "659/659 [==============================] - 13s 20ms/step - loss: 0.0063 - acc: 0.9973 - val_loss: 0.8748 - val_acc: 0.8671\n",
            "Epoch 36/100\n",
            "659/659 [==============================] - 15s 23ms/step - loss: 0.0131 - acc: 0.9948 - val_loss: 0.7827 - val_acc: 0.8470\n",
            "Epoch 37/100\n",
            "659/659 [==============================] - 13s 20ms/step - loss: 0.0132 - acc: 0.9946 - val_loss: 0.7943 - val_acc: 0.8718\n",
            "Epoch 38/100\n",
            "659/659 [==============================] - 13s 20ms/step - loss: 0.0068 - acc: 0.9968 - val_loss: 0.8837 - val_acc: 0.8658\n",
            "Epoch 39/100\n",
            "659/659 [==============================] - 13s 20ms/step - loss: 0.0060 - acc: 0.9975 - val_loss: 0.8214 - val_acc: 0.8714\n",
            "Epoch 40/100\n",
            "659/659 [==============================] - 13s 19ms/step - loss: 0.0062 - acc: 0.9971 - val_loss: 0.8287 - val_acc: 0.8756\n",
            "Epoch 41/100\n",
            "659/659 [==============================] - 13s 19ms/step - loss: 0.0061 - acc: 0.9972 - val_loss: 0.9031 - val_acc: 0.8654\n",
            "Epoch 42/100\n",
            "659/659 [==============================] - 13s 20ms/step - loss: 0.0063 - acc: 0.9970 - val_loss: 0.7523 - val_acc: 0.8791\n",
            "Epoch 43/100\n",
            "659/659 [==============================] - 13s 20ms/step - loss: 0.0216 - acc: 0.9923 - val_loss: 0.8335 - val_acc: 0.8594\n",
            "Epoch 44/100\n",
            "659/659 [==============================] - 13s 20ms/step - loss: 0.0075 - acc: 0.9966 - val_loss: 0.8305 - val_acc: 0.8774\n",
            "Epoch 45/100\n",
            "659/659 [==============================] - 13s 20ms/step - loss: 0.0090 - acc: 0.9962 - val_loss: 0.8244 - val_acc: 0.8641\n",
            "Epoch 46/100\n",
            "659/659 [==============================] - 13s 19ms/step - loss: 0.0104 - acc: 0.9957 - val_loss: 0.8959 - val_acc: 0.8568\n",
            "Epoch 47/100\n",
            "659/659 [==============================] - 13s 20ms/step - loss: 0.0065 - acc: 0.9969 - val_loss: 0.8691 - val_acc: 0.8675\n",
            "Epoch 48/100\n",
            "659/659 [==============================] - 15s 22ms/step - loss: 0.0052 - acc: 0.9973 - val_loss: 0.8959 - val_acc: 0.8679\n",
            "Epoch 49/100\n",
            "659/659 [==============================] - 13s 20ms/step - loss: 0.0054 - acc: 0.9974 - val_loss: 0.8978 - val_acc: 0.8632\n",
            "Epoch 50/100\n",
            "659/659 [==============================] - 13s 20ms/step - loss: 0.0053 - acc: 0.9971 - val_loss: 0.8835 - val_acc: 0.8731\n",
            "Epoch 51/100\n",
            "659/659 [==============================] - 13s 20ms/step - loss: 0.0051 - acc: 0.9973 - val_loss: 0.9076 - val_acc: 0.8684\n",
            "Epoch 52/100\n",
            "659/659 [==============================] - 13s 20ms/step - loss: 0.0074 - acc: 0.9964 - val_loss: 0.8183 - val_acc: 0.8517\n",
            "Epoch 53/100\n",
            "659/659 [==============================] - 13s 20ms/step - loss: 0.0222 - acc: 0.9922 - val_loss: 0.8293 - val_acc: 0.8701\n",
            "Epoch 54/100\n",
            "659/659 [==============================] - 13s 20ms/step - loss: 0.0071 - acc: 0.9965 - val_loss: 0.8435 - val_acc: 0.8714\n",
            "Epoch 55/100\n",
            "659/659 [==============================] - 13s 20ms/step - loss: 0.0066 - acc: 0.9967 - val_loss: 0.8569 - val_acc: 0.8697\n",
            "Epoch 56/100\n",
            "659/659 [==============================] - 13s 20ms/step - loss: 0.0083 - acc: 0.9963 - val_loss: 0.9309 - val_acc: 0.8598\n",
            "Epoch 57/100\n",
            "659/659 [==============================] - 13s 20ms/step - loss: 0.0060 - acc: 0.9970 - val_loss: 0.9277 - val_acc: 0.8658\n",
            "Epoch 58/100\n",
            "659/659 [==============================] - 13s 20ms/step - loss: 0.0050 - acc: 0.9973 - val_loss: 0.9224 - val_acc: 0.8697\n",
            "Epoch 59/100\n",
            "659/659 [==============================] - 13s 20ms/step - loss: 0.0049 - acc: 0.9974 - val_loss: 0.9332 - val_acc: 0.8735\n",
            "Epoch 60/100\n",
            "659/659 [==============================] - 15s 22ms/step - loss: 0.0048 - acc: 0.9975 - val_loss: 0.9684 - val_acc: 0.8637\n",
            "Epoch 61/100\n",
            "659/659 [==============================] - 13s 20ms/step - loss: 0.0211 - acc: 0.9927 - val_loss: 0.9069 - val_acc: 0.8611\n",
            "Epoch 62/100\n",
            "659/659 [==============================] - 13s 20ms/step - loss: 0.0072 - acc: 0.9966 - val_loss: 0.9058 - val_acc: 0.8705\n",
            "Epoch 63/100\n",
            "659/659 [==============================] - 13s 20ms/step - loss: 0.0050 - acc: 0.9972 - val_loss: 0.9273 - val_acc: 0.8726\n",
            "Epoch 64/100\n",
            "659/659 [==============================] - 13s 20ms/step - loss: 0.0048 - acc: 0.9972 - val_loss: 0.9368 - val_acc: 0.8726\n",
            "Epoch 65/100\n",
            "659/659 [==============================] - 13s 20ms/step - loss: 0.0048 - acc: 0.9973 - val_loss: 0.9255 - val_acc: 0.8675\n",
            "Epoch 66/100\n",
            "659/659 [==============================] - 13s 20ms/step - loss: 0.0048 - acc: 0.9974 - val_loss: 0.8920 - val_acc: 0.8744\n",
            "Epoch 67/100\n",
            "659/659 [==============================] - 13s 20ms/step - loss: 0.0051 - acc: 0.9972 - val_loss: 0.9022 - val_acc: 0.8692\n",
            "Epoch 68/100\n",
            "659/659 [==============================] - 13s 20ms/step - loss: 0.0204 - acc: 0.9928 - val_loss: 0.9366 - val_acc: 0.8509\n",
            "Epoch 69/100\n",
            "659/659 [==============================] - 13s 20ms/step - loss: 0.0122 - acc: 0.9951 - val_loss: 0.8429 - val_acc: 0.8709\n",
            "Epoch 70/100\n",
            "659/659 [==============================] - 13s 20ms/step - loss: 0.0055 - acc: 0.9970 - val_loss: 0.8699 - val_acc: 0.8731\n",
            "Epoch 71/100\n",
            "659/659 [==============================] - 13s 20ms/step - loss: 0.0047 - acc: 0.9972 - val_loss: 0.9056 - val_acc: 0.8718\n",
            "Epoch 72/100\n",
            "659/659 [==============================] - 15s 23ms/step - loss: 0.0047 - acc: 0.9973 - val_loss: 0.8947 - val_acc: 0.8714\n",
            "Epoch 73/100\n",
            "659/659 [==============================] - 13s 20ms/step - loss: 0.0047 - acc: 0.9972 - val_loss: 0.8801 - val_acc: 0.8744\n",
            "Epoch 74/100\n",
            "659/659 [==============================] - 13s 20ms/step - loss: 0.0046 - acc: 0.9973 - val_loss: 0.9497 - val_acc: 0.8722\n",
            "Epoch 75/100\n",
            "659/659 [==============================] - 13s 20ms/step - loss: 0.0047 - acc: 0.9977 - val_loss: 0.9729 - val_acc: 0.8671\n",
            "Epoch 76/100\n",
            "659/659 [==============================] - 13s 20ms/step - loss: 0.0111 - acc: 0.9954 - val_loss: 0.9779 - val_acc: 0.8184\n",
            "Epoch 77/100\n",
            "659/659 [==============================] - 13s 20ms/step - loss: 0.0250 - acc: 0.9916 - val_loss: 0.7784 - val_acc: 0.8658\n",
            "Epoch 78/100\n",
            "659/659 [==============================] - 13s 20ms/step - loss: 0.0108 - acc: 0.9954 - val_loss: 0.8607 - val_acc: 0.8632\n",
            "Epoch 79/100\n",
            "659/659 [==============================] - 13s 20ms/step - loss: 0.0055 - acc: 0.9974 - val_loss: 0.8747 - val_acc: 0.8624\n",
            "Epoch 80/100\n",
            "659/659 [==============================] - 13s 20ms/step - loss: 0.0048 - acc: 0.9974 - val_loss: 0.8789 - val_acc: 0.8697\n",
            "Epoch 81/100\n",
            "659/659 [==============================] - 13s 20ms/step - loss: 0.0046 - acc: 0.9973 - val_loss: 0.8875 - val_acc: 0.8701\n",
            "Epoch 82/100\n",
            "659/659 [==============================] - 13s 20ms/step - loss: 0.0044 - acc: 0.9978 - val_loss: 0.8907 - val_acc: 0.8752\n",
            "Epoch 83/100\n",
            "659/659 [==============================] - 13s 20ms/step - loss: 0.0046 - acc: 0.9976 - val_loss: 0.9027 - val_acc: 0.8735\n",
            "Epoch 84/100\n",
            "659/659 [==============================] - 15s 22ms/step - loss: 0.0046 - acc: 0.9974 - val_loss: 0.9316 - val_acc: 0.8654\n",
            "Epoch 85/100\n",
            "659/659 [==============================] - 13s 20ms/step - loss: 0.0046 - acc: 0.9974 - val_loss: 0.9364 - val_acc: 0.8692\n",
            "Epoch 86/100\n",
            "659/659 [==============================] - 13s 20ms/step - loss: 0.0045 - acc: 0.9973 - val_loss: 0.9200 - val_acc: 0.8726\n",
            "Epoch 87/100\n",
            "659/659 [==============================] - 13s 20ms/step - loss: 0.0191 - acc: 0.9932 - val_loss: 0.7571 - val_acc: 0.8765\n",
            "Epoch 88/100\n",
            "659/659 [==============================] - 13s 20ms/step - loss: 0.0127 - acc: 0.9950 - val_loss: 0.9157 - val_acc: 0.8513\n",
            "Epoch 89/100\n",
            "659/659 [==============================] - 13s 20ms/step - loss: 0.0073 - acc: 0.9962 - val_loss: 0.8529 - val_acc: 0.8701\n",
            "Epoch 90/100\n",
            "659/659 [==============================] - 13s 20ms/step - loss: 0.0063 - acc: 0.9970 - val_loss: 0.8769 - val_acc: 0.8675\n",
            "Epoch 91/100\n",
            "659/659 [==============================] - 13s 20ms/step - loss: 0.0058 - acc: 0.9970 - val_loss: 0.9433 - val_acc: 0.8671\n",
            "Epoch 92/100\n",
            "659/659 [==============================] - 13s 20ms/step - loss: 0.0046 - acc: 0.9977 - val_loss: 0.9344 - val_acc: 0.8675\n",
            "Epoch 93/100\n",
            "659/659 [==============================] - 13s 20ms/step - loss: 0.0045 - acc: 0.9978 - val_loss: 0.9489 - val_acc: 0.8718\n",
            "Epoch 94/100\n",
            "659/659 [==============================] - 13s 20ms/step - loss: 0.0048 - acc: 0.9973 - val_loss: 0.9151 - val_acc: 0.8744\n",
            "Epoch 95/100\n",
            "659/659 [==============================] - 13s 20ms/step - loss: 0.0143 - acc: 0.9949 - val_loss: 0.8350 - val_acc: 0.8641\n",
            "Epoch 96/100\n",
            "659/659 [==============================] - 15s 22ms/step - loss: 0.0190 - acc: 0.9926 - val_loss: 0.8691 - val_acc: 0.8632\n",
            "Epoch 97/100\n",
            "659/659 [==============================] - 13s 20ms/step - loss: 0.0059 - acc: 0.9968 - val_loss: 0.9052 - val_acc: 0.8658\n",
            "Epoch 98/100\n",
            "659/659 [==============================] - 13s 20ms/step - loss: 0.0058 - acc: 0.9970 - val_loss: 0.9313 - val_acc: 0.8645\n",
            "Epoch 99/100\n",
            "659/659 [==============================] - 13s 20ms/step - loss: 0.0065 - acc: 0.9967 - val_loss: 0.9359 - val_acc: 0.8598\n",
            "Epoch 100/100\n",
            "659/659 [==============================] - 13s 20ms/step - loss: 0.0064 - acc: 0.9972 - val_loss: 0.9581 - val_acc: 0.8607\n",
            "Model: \"sequential_1\"\n",
            "_________________________________________________________________\n",
            " Layer (type)                Output Shape              Param #   \n",
            "=================================================================\n",
            " embedding_1 (Embedding)     (None, None, 30)          900000    \n",
            "                                                                 \n",
            " simple_rnn_1 (SimpleRNN)    (None, 100)               13100     \n",
            "                                                                 \n",
            " dense_1 (Dense)             (None, 1)                 101       \n",
            "                                                                 \n",
            "=================================================================\n",
            "Total params: 913,201\n",
            "Trainable params: 913,201\n",
            "Non-trainable params: 0\n",
            "_________________________________________________________________\n"
          ]
        }
      ]
    },
    {
      "cell_type": "code",
      "source": [
        "plt.plot(history_RNN.history['loss'])\n",
        "plt.plot(history_RNN.history['val_loss'])\n",
        "plt.xlabel('epoch')\n",
        "plt.ylabel('loss')\n",
        "plt.legend(['train', 'val'])\n",
        "plt.show()"
      ],
      "metadata": {
        "colab": {
          "base_uri": "https://localhost:8080/",
          "height": 279
        },
        "id": "Xz5hLh_xQJpA",
        "outputId": "c1b82a70-fc15-4370-c8f1-9cc7e6396e29"
      },
      "execution_count": 18,
      "outputs": [
        {
          "output_type": "display_data",
          "data": {
            "text/plain": [
              "<Figure size 432x288 with 1 Axes>"
            ],
            "image/png": "[encoded data removed]"
          },
          "metadata": {
            "needs_background": "light"
          }
        }
      ]
    },
    {
      "cell_type": "code",
      "source": [
        "model_RNN.evaluate(val_x, val_y)"
      ],
      "metadata": {
        "id": "Jj4Dbo3a_KFh",
        "colab": {
          "base_uri": "https://localhost:8080/"
        },
        "outputId": "63eafae1-7d9c-49aa-ce9c-403f2d7c166e"
      },
      "execution_count": 19,
      "outputs": [
        {
          "output_type": "stream",
          "name": "stdout",
          "text": [
            "74/74 [==============================] - 0s 4ms/step - loss: 0.9581 - acc: 0.8607\n"
          ]
        },
        {
          "output_type": "execute_result",
          "data": {
            "text/plain": [
              "[0.958089292049408, 0.8606837391853333]"
            ]
          },
          "metadata": {},
          "execution_count": 19
        }
      ]
    },
    {
      "cell_type": "markdown",
      "source": [
        "## LSTM"
      ],
      "metadata": {
        "id": "ELcZImTvr1ue"
      }
    },
    {
      "cell_type": "code",
      "source": [
        "model_LSTM = Sequential()\n",
        "model_LSTM.add(Embedding(30000, 30))\n",
        "model_LSTM.add(keras.layers.Dropout(0.3))\n",
        "model_LSTM.add(LSTM(100))\n",
        "model_LSTM.add(keras.layers.Dropout(0.3))\n",
        "model_LSTM.add(Dense(64, activation='relu'))\n",
        "model_LSTM.add(keras.layers.Dropout(0.3))\n",
        "model_LSTM.add(Dense(1, activation='sigmoid'))\n",
        "model_LSTM.compile(optimizer = 'Adam', loss='binary_crossentropy', metrics=['acc'])\n",
        "history_LSTM = model_LSTM.fit(train_x, train_y, epochs=100,\n",
        "                    validation_data=(val_x, val_y))\n",
        "model_LSTM.summary()"
      ],
      "metadata": {
        "id": "UeGDLN2w_N-P",
        "colab": {
          "base_uri": "https://localhost:8080/"
        },
        "outputId": "c066cefe-b6d4-48b1-cba9-694cfa6b854b"
      },
      "execution_count": 20,
      "outputs": [
        {
          "output_type": "stream",
          "name": "stdout",
          "text": [
            "Epoch 1/100\n",
            "659/659 [==============================] - 26s 36ms/step - loss: 0.3222 - acc: 0.8853 - val_loss: 0.2585 - val_acc: 0.9179\n",
            "Epoch 2/100\n",
            "659/659 [==============================] - 27s 40ms/step - loss: 0.2448 - acc: 0.9208 - val_loss: 0.2588 - val_acc: 0.9150\n",
            "Epoch 3/100\n",
            "659/659 [==============================] - 24s 37ms/step - loss: 0.2250 - acc: 0.9246 - val_loss: 0.2698 - val_acc: 0.9120\n",
            "Epoch 4/100\n",
            "659/659 [==============================] - 23s 34ms/step - loss: 0.2051 - acc: 0.9282 - val_loss: 0.2910 - val_acc: 0.9047\n",
            "Epoch 5/100\n",
            "659/659 [==============================] - 23s 34ms/step - loss: 0.1825 - acc: 0.9328 - val_loss: 0.3020 - val_acc: 0.9004\n",
            "Epoch 6/100\n",
            "659/659 [==============================] - 23s 34ms/step - loss: 0.1624 - acc: 0.9377 - val_loss: 0.3585 - val_acc: 0.8927\n",
            "Epoch 7/100\n",
            "659/659 [==============================] - 23s 34ms/step - loss: 0.1447 - acc: 0.9440 - val_loss: 0.3733 - val_acc: 0.8850\n",
            "Epoch 8/100\n",
            "659/659 [==============================] - 23s 34ms/step - loss: 0.1284 - acc: 0.9491 - val_loss: 0.4207 - val_acc: 0.8868\n",
            "Epoch 9/100\n",
            "659/659 [==============================] - 22s 34ms/step - loss: 0.1170 - acc: 0.9547 - val_loss: 0.4496 - val_acc: 0.8795\n",
            "Epoch 10/100\n",
            "659/659 [==============================] - 24s 37ms/step - loss: 0.1067 - acc: 0.9578 - val_loss: 0.4645 - val_acc: 0.8765\n",
            "Epoch 11/100\n",
            "659/659 [==============================] - 22s 34ms/step - loss: 0.0954 - acc: 0.9609 - val_loss: 0.5324 - val_acc: 0.8752\n",
            "Epoch 12/100\n",
            "659/659 [==============================] - 25s 37ms/step - loss: 0.0847 - acc: 0.9663 - val_loss: 0.5548 - val_acc: 0.8714\n",
            "Epoch 13/100\n",
            "659/659 [==============================] - 23s 34ms/step - loss: 0.0813 - acc: 0.9673 - val_loss: 0.5737 - val_acc: 0.8816\n",
            "Epoch 14/100\n",
            "659/659 [==============================] - 23s 35ms/step - loss: 0.0757 - acc: 0.9702 - val_loss: 0.5727 - val_acc: 0.8701\n",
            "Epoch 15/100\n",
            "659/659 [==============================] - 23s 34ms/step - loss: 0.0670 - acc: 0.9718 - val_loss: 0.6265 - val_acc: 0.8761\n",
            "Epoch 16/100\n",
            "659/659 [==============================] - 24s 36ms/step - loss: 0.0606 - acc: 0.9753 - val_loss: 0.6831 - val_acc: 0.8812\n",
            "Epoch 17/100\n",
            "659/659 [==============================] - 24s 37ms/step - loss: 0.0600 - acc: 0.9756 - val_loss: 0.7330 - val_acc: 0.8667\n",
            "Epoch 18/100\n",
            "659/659 [==============================] - 23s 34ms/step - loss: 0.0546 - acc: 0.9782 - val_loss: 0.7199 - val_acc: 0.8735\n",
            "Epoch 19/100\n",
            "659/659 [==============================] - 22s 34ms/step - loss: 0.0536 - acc: 0.9792 - val_loss: 0.7154 - val_acc: 0.8658\n",
            "Epoch 20/100\n",
            "659/659 [==============================] - 23s 34ms/step - loss: 0.0490 - acc: 0.9812 - val_loss: 0.6989 - val_acc: 0.8816\n",
            "Epoch 21/100\n",
            "659/659 [==============================] - 23s 35ms/step - loss: 0.0445 - acc: 0.9830 - val_loss: 0.7145 - val_acc: 0.8684\n",
            "Epoch 22/100\n",
            "659/659 [==============================] - 22s 34ms/step - loss: 0.0424 - acc: 0.9833 - val_loss: 0.7855 - val_acc: 0.8718\n",
            "Epoch 23/100\n",
            "659/659 [==============================] - 23s 34ms/step - loss: 0.0431 - acc: 0.9839 - val_loss: 0.7553 - val_acc: 0.8748\n",
            "Epoch 24/100\n",
            "659/659 [==============================] - 24s 37ms/step - loss: 0.0401 - acc: 0.9853 - val_loss: 0.7230 - val_acc: 0.8795\n",
            "Epoch 25/100\n",
            "659/659 [==============================] - 23s 34ms/step - loss: 0.0356 - acc: 0.9867 - val_loss: 0.7745 - val_acc: 0.8765\n",
            "Epoch 26/100\n",
            "659/659 [==============================] - 23s 34ms/step - loss: 0.0316 - acc: 0.9881 - val_loss: 0.8315 - val_acc: 0.8761\n",
            "Epoch 27/100\n",
            "659/659 [==============================] - 23s 34ms/step - loss: 0.0310 - acc: 0.9887 - val_loss: 0.8311 - val_acc: 0.8726\n",
            "Epoch 28/100\n",
            "659/659 [==============================] - 23s 34ms/step - loss: 0.0298 - acc: 0.9883 - val_loss: 0.8793 - val_acc: 0.8739\n",
            "Epoch 29/100\n",
            "659/659 [==============================] - 22s 34ms/step - loss: 0.0321 - acc: 0.9884 - val_loss: 0.7764 - val_acc: 0.8739\n",
            "Epoch 30/100\n",
            "659/659 [==============================] - 22s 34ms/step - loss: 0.0304 - acc: 0.9884 - val_loss: 0.8614 - val_acc: 0.8774\n",
            "Epoch 31/100\n",
            "659/659 [==============================] - 24s 36ms/step - loss: 0.0280 - acc: 0.9896 - val_loss: 0.8362 - val_acc: 0.8752\n",
            "Epoch 32/100\n",
            "659/659 [==============================] - 22s 34ms/step - loss: 0.0259 - acc: 0.9905 - val_loss: 0.8831 - val_acc: 0.8786\n",
            "Epoch 33/100\n",
            "659/659 [==============================] - 22s 34ms/step - loss: 0.0268 - acc: 0.9905 - val_loss: 0.8444 - val_acc: 0.8731\n",
            "Epoch 34/100\n",
            "659/659 [==============================] - 22s 34ms/step - loss: 0.0241 - acc: 0.9910 - val_loss: 0.9157 - val_acc: 0.8714\n",
            "Epoch 35/100\n",
            "659/659 [==============================] - 22s 34ms/step - loss: 0.0253 - acc: 0.9906 - val_loss: 0.9861 - val_acc: 0.8731\n",
            "Epoch 36/100\n",
            "659/659 [==============================] - 22s 34ms/step - loss: 0.0237 - acc: 0.9914 - val_loss: 0.9631 - val_acc: 0.8718\n",
            "Epoch 37/100\n",
            "659/659 [==============================] - 23s 34ms/step - loss: 0.0233 - acc: 0.9916 - val_loss: 0.9001 - val_acc: 0.8679\n",
            "Epoch 38/100\n",
            "659/659 [==============================] - 24s 37ms/step - loss: 0.0260 - acc: 0.9906 - val_loss: 0.8997 - val_acc: 0.8769\n",
            "Epoch 39/100\n",
            "659/659 [==============================] - 22s 34ms/step - loss: 0.0226 - acc: 0.9919 - val_loss: 0.9534 - val_acc: 0.8803\n",
            "Epoch 40/100\n",
            "659/659 [==============================] - 23s 34ms/step - loss: 0.0202 - acc: 0.9926 - val_loss: 1.0431 - val_acc: 0.8786\n",
            "Epoch 41/100\n",
            "659/659 [==============================] - 23s 34ms/step - loss: 0.0201 - acc: 0.9929 - val_loss: 1.0622 - val_acc: 0.8744\n",
            "Epoch 42/100\n",
            "659/659 [==============================] - 23s 35ms/step - loss: 0.0214 - acc: 0.9925 - val_loss: 0.9516 - val_acc: 0.8829\n",
            "Epoch 43/100\n",
            "659/659 [==============================] - 23s 35ms/step - loss: 0.0183 - acc: 0.9935 - val_loss: 0.9158 - val_acc: 0.8774\n",
            "Epoch 44/100\n",
            "659/659 [==============================] - 23s 35ms/step - loss: 0.0194 - acc: 0.9926 - val_loss: 0.9682 - val_acc: 0.8791\n",
            "Epoch 45/100\n",
            "659/659 [==============================] - 24s 36ms/step - loss: 0.0168 - acc: 0.9942 - val_loss: 1.0147 - val_acc: 0.8795\n",
            "Epoch 46/100\n",
            "659/659 [==============================] - 23s 35ms/step - loss: 0.0181 - acc: 0.9930 - val_loss: 0.9556 - val_acc: 0.8812\n",
            "Epoch 47/100\n",
            "659/659 [==============================] - 23s 35ms/step - loss: 0.0180 - acc: 0.9933 - val_loss: 0.9876 - val_acc: 0.8808\n",
            "Epoch 48/100\n",
            "659/659 [==============================] - 23s 35ms/step - loss: 0.0178 - acc: 0.9939 - val_loss: 1.0416 - val_acc: 0.8812\n",
            "Epoch 49/100\n",
            "659/659 [==============================] - 23s 34ms/step - loss: 0.0192 - acc: 0.9926 - val_loss: 0.9600 - val_acc: 0.8774\n",
            "Epoch 50/100\n",
            "659/659 [==============================] - 23s 34ms/step - loss: 0.0163 - acc: 0.9941 - val_loss: 1.0510 - val_acc: 0.8786\n",
            "Epoch 51/100\n",
            "659/659 [==============================] - 25s 38ms/step - loss: 0.0171 - acc: 0.9936 - val_loss: 0.9083 - val_acc: 0.8739\n",
            "Epoch 52/100\n",
            "659/659 [==============================] - 23s 35ms/step - loss: 0.0188 - acc: 0.9937 - val_loss: 1.0019 - val_acc: 0.8791\n",
            "Epoch 53/100\n",
            "659/659 [==============================] - 23s 34ms/step - loss: 0.0182 - acc: 0.9933 - val_loss: 1.0589 - val_acc: 0.8803\n",
            "Epoch 54/100\n",
            "659/659 [==============================] - 23s 35ms/step - loss: 0.0154 - acc: 0.9943 - val_loss: 1.0738 - val_acc: 0.8795\n",
            "Epoch 55/100\n",
            "659/659 [==============================] - 23s 35ms/step - loss: 0.0165 - acc: 0.9937 - val_loss: 1.0259 - val_acc: 0.8795\n",
            "Epoch 56/100\n",
            "659/659 [==============================] - 23s 35ms/step - loss: 0.0141 - acc: 0.9949 - val_loss: 0.9701 - val_acc: 0.8842\n",
            "Epoch 57/100\n",
            "659/659 [==============================] - 23s 34ms/step - loss: 0.0156 - acc: 0.9946 - val_loss: 0.9982 - val_acc: 0.8786\n",
            "Epoch 58/100\n",
            "659/659 [==============================] - 24s 37ms/step - loss: 0.0157 - acc: 0.9937 - val_loss: 1.1526 - val_acc: 0.8774\n",
            "Epoch 59/100\n",
            "659/659 [==============================] - 23s 34ms/step - loss: 0.0130 - acc: 0.9952 - val_loss: 1.0820 - val_acc: 0.8821\n",
            "Epoch 60/100\n",
            "659/659 [==============================] - 23s 34ms/step - loss: 0.0156 - acc: 0.9942 - val_loss: 1.0858 - val_acc: 0.8795\n",
            "Epoch 61/100\n",
            "659/659 [==============================] - 23s 34ms/step - loss: 0.0138 - acc: 0.9949 - val_loss: 1.1694 - val_acc: 0.8748\n",
            "Epoch 62/100\n",
            "659/659 [==============================] - 23s 34ms/step - loss: 0.0136 - acc: 0.9946 - val_loss: 1.2297 - val_acc: 0.8803\n",
            "Epoch 63/100\n",
            "659/659 [==============================] - 23s 34ms/step - loss: 0.0146 - acc: 0.9944 - val_loss: 1.0400 - val_acc: 0.8769\n",
            "Epoch 64/100\n",
            "659/659 [==============================] - 23s 34ms/step - loss: 0.0140 - acc: 0.9945 - val_loss: 1.0348 - val_acc: 0.8880\n",
            "Epoch 65/100\n",
            "659/659 [==============================] - 24s 37ms/step - loss: 0.0141 - acc: 0.9946 - val_loss: 1.0056 - val_acc: 0.8816\n",
            "Epoch 66/100\n",
            "659/659 [==============================] - 23s 34ms/step - loss: 0.0122 - acc: 0.9952 - val_loss: 1.1938 - val_acc: 0.8829\n",
            "Epoch 67/100\n",
            "659/659 [==============================] - 23s 34ms/step - loss: 0.0140 - acc: 0.9950 - val_loss: 1.0983 - val_acc: 0.8850\n",
            "Epoch 68/100\n",
            "659/659 [==============================] - 23s 34ms/step - loss: 0.0139 - acc: 0.9946 - val_loss: 1.1919 - val_acc: 0.8855\n",
            "Epoch 69/100\n",
            "659/659 [==============================] - 22s 34ms/step - loss: 0.0155 - acc: 0.9943 - val_loss: 1.0631 - val_acc: 0.8795\n",
            "Epoch 70/100\n",
            "659/659 [==============================] - 22s 34ms/step - loss: 0.0120 - acc: 0.9956 - val_loss: 1.1588 - val_acc: 0.8833\n",
            "Epoch 71/100\n",
            "659/659 [==============================] - 22s 34ms/step - loss: 0.0116 - acc: 0.9953 - val_loss: 1.1572 - val_acc: 0.8821\n",
            "Epoch 72/100\n",
            "659/659 [==============================] - 26s 39ms/step - loss: 0.0153 - acc: 0.9947 - val_loss: 0.9816 - val_acc: 0.8838\n",
            "Epoch 73/100\n",
            "659/659 [==============================] - 23s 35ms/step - loss: 0.0111 - acc: 0.9954 - val_loss: 1.1863 - val_acc: 0.8855\n",
            "Epoch 74/100\n",
            "659/659 [==============================] - 23s 35ms/step - loss: 0.0133 - acc: 0.9946 - val_loss: 1.0601 - val_acc: 0.8816\n",
            "Epoch 75/100\n",
            "659/659 [==============================] - 23s 34ms/step - loss: 0.0106 - acc: 0.9956 - val_loss: 1.1491 - val_acc: 0.8833\n",
            "Epoch 76/100\n",
            "659/659 [==============================] - 23s 34ms/step - loss: 0.0135 - acc: 0.9948 - val_loss: 1.0896 - val_acc: 0.8842\n",
            "Epoch 77/100\n",
            "659/659 [==============================] - 23s 34ms/step - loss: 0.0130 - acc: 0.9951 - val_loss: 1.0903 - val_acc: 0.8833\n",
            "Epoch 78/100\n",
            "659/659 [==============================] - 23s 34ms/step - loss: 0.0100 - acc: 0.9956 - val_loss: 1.2011 - val_acc: 0.8863\n",
            "Epoch 79/100\n",
            "659/659 [==============================] - 24s 37ms/step - loss: 0.0150 - acc: 0.9946 - val_loss: 0.9233 - val_acc: 0.8863\n",
            "Epoch 80/100\n",
            "659/659 [==============================] - 23s 35ms/step - loss: 0.0124 - acc: 0.9955 - val_loss: 1.0965 - val_acc: 0.8842\n",
            "Epoch 81/100\n",
            "659/659 [==============================] - 23s 35ms/step - loss: 0.0112 - acc: 0.9956 - val_loss: 1.2034 - val_acc: 0.8855\n",
            "Epoch 82/100\n",
            "659/659 [==============================] - 23s 35ms/step - loss: 0.0121 - acc: 0.9955 - val_loss: 1.0881 - val_acc: 0.8859\n",
            "Epoch 83/100\n",
            "659/659 [==============================] - 23s 35ms/step - loss: 0.0091 - acc: 0.9962 - val_loss: 1.1499 - val_acc: 0.8825\n",
            "Epoch 84/100\n",
            "659/659 [==============================] - 23s 35ms/step - loss: 0.0118 - acc: 0.9955 - val_loss: 1.1771 - val_acc: 0.8812\n",
            "Epoch 85/100\n",
            "659/659 [==============================] - 24s 37ms/step - loss: 0.0114 - acc: 0.9950 - val_loss: 1.1874 - val_acc: 0.8803\n",
            "Epoch 86/100\n",
            "659/659 [==============================] - 23s 35ms/step - loss: 0.0113 - acc: 0.9956 - val_loss: 1.2460 - val_acc: 0.8850\n",
            "Epoch 87/100\n",
            "659/659 [==============================] - 23s 35ms/step - loss: 0.0115 - acc: 0.9953 - val_loss: 1.1639 - val_acc: 0.8863\n",
            "Epoch 88/100\n",
            "659/659 [==============================] - 23s 35ms/step - loss: 0.0105 - acc: 0.9960 - val_loss: 1.1675 - val_acc: 0.8872\n",
            "Epoch 89/100\n",
            "659/659 [==============================] - 23s 35ms/step - loss: 0.0094 - acc: 0.9962 - val_loss: 1.2361 - val_acc: 0.8752\n",
            "Epoch 90/100\n",
            "659/659 [==============================] - 23s 35ms/step - loss: 0.0124 - acc: 0.9954 - val_loss: 1.1235 - val_acc: 0.8838\n",
            "Epoch 91/100\n",
            "659/659 [==============================] - 23s 35ms/step - loss: 0.0099 - acc: 0.9963 - val_loss: 1.1946 - val_acc: 0.8778\n",
            "Epoch 92/100\n",
            "659/659 [==============================] - 25s 38ms/step - loss: 0.0110 - acc: 0.9955 - val_loss: 1.1354 - val_acc: 0.8876\n",
            "Epoch 93/100\n",
            "659/659 [==============================] - 23s 35ms/step - loss: 0.0096 - acc: 0.9958 - val_loss: 1.2057 - val_acc: 0.8902\n",
            "Epoch 94/100\n",
            "659/659 [==============================] - 23s 35ms/step - loss: 0.0125 - acc: 0.9954 - val_loss: 1.1587 - val_acc: 0.8825\n",
            "Epoch 95/100\n",
            "659/659 [==============================] - 23s 35ms/step - loss: 0.0111 - acc: 0.9960 - val_loss: 1.1285 - val_acc: 0.8774\n",
            "Epoch 96/100\n",
            "659/659 [==============================] - 23s 35ms/step - loss: 0.0093 - acc: 0.9961 - val_loss: 1.3143 - val_acc: 0.8726\n",
            "Epoch 97/100\n",
            "659/659 [==============================] - 23s 35ms/step - loss: 0.0088 - acc: 0.9962 - val_loss: 1.2292 - val_acc: 0.8872\n",
            "Epoch 98/100\n",
            "659/659 [==============================] - 23s 35ms/step - loss: 0.0096 - acc: 0.9962 - val_loss: 1.2102 - val_acc: 0.8769\n",
            "Epoch 99/100\n",
            "659/659 [==============================] - 25s 37ms/step - loss: 0.0099 - acc: 0.9962 - val_loss: 1.2648 - val_acc: 0.8889\n",
            "Epoch 100/100\n",
            "659/659 [==============================] - 23s 35ms/step - loss: 0.0106 - acc: 0.9960 - val_loss: 1.1307 - val_acc: 0.8910\n",
            "Model: \"sequential_2\"\n",
            "_________________________________________________________________\n",
            " Layer (type)                Output Shape              Param #   \n",
            "=================================================================\n",
            " embedding_2 (Embedding)     (None, None, 30)          900000    \n",
            "                                                                 \n",
            " dropout (Dropout)           (None, None, 30)          0         \n",
            "                                                                 \n",
            " lstm (LSTM)                 (None, 100)               52400     \n",
            "                                                                 \n",
            " dropout_1 (Dropout)         (None, 100)               0         \n",
            "                                                                 \n",
            " dense_2 (Dense)             (None, 64)                6464      \n",
            "                                                                 \n",
            " dropout_2 (Dropout)         (None, 64)                0         \n",
            "                                                                 \n",
            " dense_3 (Dense)             (None, 1)                 65        \n",
            "                                                                 \n",
            "=================================================================\n",
            "Total params: 958,929\n",
            "Trainable params: 958,929\n",
            "Non-trainable params: 0\n",
            "_________________________________________________________________\n"
          ]
        }
      ]
    },
    {
      "cell_type": "code",
      "source": [
        "plt.plot(history_LSTM.history['loss'])\n",
        "plt.plot(history_LSTM.history['val_loss'])\n",
        "plt.xlabel('epoch')\n",
        "plt.ylabel('loss')\n",
        "plt.legend(['train', 'val'])\n",
        "plt.show()"
      ],
      "metadata": {
        "colab": {
          "base_uri": "https://localhost:8080/",
          "height": 279
        },
        "id": "imdw022TUoMG",
        "outputId": "325af6a3-8801-4673-fdea-1997d4acc79d"
      },
      "execution_count": 21,
      "outputs": [
        {
          "output_type": "display_data",
          "data": {
            "text/plain": [
              "<Figure size 432x288 with 1 Axes>"
            ],
            "image/png": "[encoded data removed]"
          },
          "metadata": {
            "needs_background": "light"
          }
        }
      ]
    },
    {
      "cell_type": "code",
      "source": [
        "model_LSTM.evaluate(val_x, val_y)"
      ],
      "metadata": {
        "id": "OOhudVJbAsaQ",
        "colab": {
          "base_uri": "https://localhost:8080/"
        },
        "outputId": "14c48950-3124-4ed0-8369-20e0b5e4837f"
      },
      "execution_count": 22,
      "outputs": [
        {
          "output_type": "stream",
          "name": "stdout",
          "text": [
            "74/74 [==============================] - 1s 8ms/step - loss: 1.1307 - acc: 0.8910\n"
          ]
        },
        {
          "output_type": "execute_result",
          "data": {
            "text/plain": [
              "[1.130738615989685, 0.8910256624221802]"
            ]
          },
          "metadata": {},
          "execution_count": 22
        }
      ]
    },
    {
      "cell_type": "markdown",
      "source": [
        "## GRU"
      ],
      "metadata": {
        "id": "Yb-D57dNas5V"
      }
    },
    {
      "cell_type": "code",
      "source": [
        "model_GRU = Sequential()\n",
        "model_GRU.add(Embedding(30000, 64))\n",
        "model_GRU.add(keras.layers.Dropout(0.3))\n",
        "model_GRU.add(GRU(64))\n",
        "model_GRU.add(keras.layers.Dropout(0.3))\n",
        "model_GRU.add(Dense(16, activation='relu'))\n",
        "model_GRU.add(keras.layers.Dropout(0.3))\n",
        "model_GRU.add(Dense(1, activation='sigmoid'))\n",
        "model_GRU.compile(optimizer = 'Adam', loss='binary_crossentropy', metrics=['acc'])\n",
        "\n",
        "history_GRU = model_GRU.fit(train_x, train_y, epochs=100,\n",
        "                    validation_data=(val_x, val_y))\n",
        "model_GRU.summary()"
      ],
      "metadata": {
        "colab": {
          "base_uri": "https://localhost:8080/"
        },
        "id": "ew_9BQOVasO5",
        "outputId": "14cd406b-f177-48a2-8515-e43bb01b0a94"
      },
      "execution_count": 23,
      "outputs": [
        {
          "output_type": "stream",
          "name": "stdout",
          "text": [
            "Epoch 1/100\n",
            "659/659 [==============================] - 29s 40ms/step - loss: 0.3251 - acc: 0.8892 - val_loss: 0.2591 - val_acc: 0.9132\n",
            "Epoch 2/100\n",
            "659/659 [==============================] - 26s 39ms/step - loss: 0.2501 - acc: 0.9206 - val_loss: 0.2586 - val_acc: 0.9132\n",
            "Epoch 3/100\n",
            "659/659 [==============================] - 25s 39ms/step - loss: 0.2230 - acc: 0.9255 - val_loss: 0.2710 - val_acc: 0.9128\n",
            "Epoch 4/100\n",
            "659/659 [==============================] - 25s 38ms/step - loss: 0.2034 - acc: 0.9297 - val_loss: 0.2984 - val_acc: 0.9030\n",
            "Epoch 5/100\n",
            "659/659 [==============================] - 27s 41ms/step - loss: 0.1819 - acc: 0.9347 - val_loss: 0.3674 - val_acc: 0.8979\n",
            "Epoch 6/100\n",
            "659/659 [==============================] - 25s 39ms/step - loss: 0.1595 - acc: 0.9370 - val_loss: 0.3725 - val_acc: 0.8940\n",
            "Epoch 7/100\n",
            "659/659 [==============================] - 25s 39ms/step - loss: 0.1426 - acc: 0.9413 - val_loss: 0.3841 - val_acc: 0.8966\n",
            "Epoch 8/100\n",
            "659/659 [==============================] - 25s 38ms/step - loss: 0.1280 - acc: 0.9458 - val_loss: 0.4339 - val_acc: 0.8987\n",
            "Epoch 9/100\n",
            "659/659 [==============================] - 25s 38ms/step - loss: 0.1123 - acc: 0.9504 - val_loss: 0.5678 - val_acc: 0.8868\n",
            "Epoch 10/100\n",
            "659/659 [==============================] - 25s 38ms/step - loss: 0.1021 - acc: 0.9533 - val_loss: 0.5589 - val_acc: 0.8855\n",
            "Epoch 11/100\n",
            "659/659 [==============================] - 27s 41ms/step - loss: 0.0946 - acc: 0.9585 - val_loss: 0.5977 - val_acc: 0.8880\n",
            "Epoch 12/100\n",
            "659/659 [==============================] - 25s 39ms/step - loss: 0.0848 - acc: 0.9619 - val_loss: 0.5877 - val_acc: 0.8718\n",
            "Epoch 13/100\n",
            "659/659 [==============================] - 25s 38ms/step - loss: 0.0762 - acc: 0.9684 - val_loss: 0.6847 - val_acc: 0.8701\n",
            "Epoch 14/100\n",
            "659/659 [==============================] - 26s 39ms/step - loss: 0.0696 - acc: 0.9708 - val_loss: 0.7087 - val_acc: 0.8821\n",
            "Epoch 15/100\n",
            "659/659 [==============================] - 26s 39ms/step - loss: 0.0635 - acc: 0.9723 - val_loss: 0.7698 - val_acc: 0.8628\n",
            "Epoch 16/100\n",
            "659/659 [==============================] - 26s 39ms/step - loss: 0.0613 - acc: 0.9745 - val_loss: 0.7599 - val_acc: 0.8547\n",
            "Epoch 17/100\n",
            "659/659 [==============================] - 28s 42ms/step - loss: 0.0514 - acc: 0.9789 - val_loss: 0.8639 - val_acc: 0.8795\n",
            "Epoch 18/100\n",
            "659/659 [==============================] - 26s 39ms/step - loss: 0.0490 - acc: 0.9801 - val_loss: 0.9013 - val_acc: 0.8675\n",
            "Epoch 19/100\n",
            "659/659 [==============================] - 25s 38ms/step - loss: 0.0481 - acc: 0.9808 - val_loss: 0.8060 - val_acc: 0.8748\n",
            "Epoch 20/100\n",
            "659/659 [==============================] - 25s 39ms/step - loss: 0.0438 - acc: 0.9833 - val_loss: 0.9371 - val_acc: 0.8722\n",
            "Epoch 21/100\n",
            "659/659 [==============================] - 26s 39ms/step - loss: 0.0411 - acc: 0.9851 - val_loss: 0.8453 - val_acc: 0.8808\n",
            "Epoch 22/100\n",
            "659/659 [==============================] - 25s 39ms/step - loss: 0.0403 - acc: 0.9858 - val_loss: 0.9436 - val_acc: 0.8821\n",
            "Epoch 23/100\n",
            "659/659 [==============================] - 27s 41ms/step - loss: 0.0370 - acc: 0.9869 - val_loss: 0.8838 - val_acc: 0.8791\n",
            "Epoch 24/100\n",
            "659/659 [==============================] - 25s 38ms/step - loss: 0.0332 - acc: 0.9876 - val_loss: 0.9558 - val_acc: 0.8684\n",
            "Epoch 25/100\n",
            "659/659 [==============================] - 25s 38ms/step - loss: 0.0349 - acc: 0.9877 - val_loss: 0.8579 - val_acc: 0.8744\n",
            "Epoch 26/100\n",
            "659/659 [==============================] - 26s 39ms/step - loss: 0.0285 - acc: 0.9888 - val_loss: 0.9957 - val_acc: 0.8692\n",
            "Epoch 27/100\n",
            "659/659 [==============================] - 26s 39ms/step - loss: 0.0288 - acc: 0.9896 - val_loss: 0.9644 - val_acc: 0.8752\n",
            "Epoch 28/100\n",
            "659/659 [==============================] - 26s 39ms/step - loss: 0.0308 - acc: 0.9894 - val_loss: 0.9412 - val_acc: 0.8714\n",
            "Epoch 29/100\n",
            "659/659 [==============================] - 27s 41ms/step - loss: 0.0271 - acc: 0.9902 - val_loss: 1.0778 - val_acc: 0.8756\n",
            "Epoch 30/100\n",
            "659/659 [==============================] - 27s 40ms/step - loss: 0.0249 - acc: 0.9911 - val_loss: 1.1316 - val_acc: 0.8726\n",
            "Epoch 31/100\n",
            "659/659 [==============================] - 26s 39ms/step - loss: 0.0268 - acc: 0.9907 - val_loss: 1.1175 - val_acc: 0.8645\n",
            "Epoch 32/100\n",
            "659/659 [==============================] - 25s 38ms/step - loss: 0.0246 - acc: 0.9908 - val_loss: 1.0469 - val_acc: 0.8735\n",
            "Epoch 33/100\n",
            "659/659 [==============================] - 25s 39ms/step - loss: 0.0210 - acc: 0.9924 - val_loss: 1.0261 - val_acc: 0.8795\n",
            "Epoch 34/100\n",
            "659/659 [==============================] - 25s 39ms/step - loss: 0.0231 - acc: 0.9920 - val_loss: 1.0278 - val_acc: 0.8816\n",
            "Epoch 35/100\n",
            "659/659 [==============================] - 25s 38ms/step - loss: 0.0243 - acc: 0.9926 - val_loss: 1.0154 - val_acc: 0.8675\n",
            "Epoch 36/100\n",
            "659/659 [==============================] - 27s 41ms/step - loss: 0.0208 - acc: 0.9929 - val_loss: 1.1371 - val_acc: 0.8701\n",
            "Epoch 37/100\n",
            "659/659 [==============================] - 25s 38ms/step - loss: 0.0216 - acc: 0.9930 - val_loss: 1.1297 - val_acc: 0.8671\n",
            "Epoch 38/100\n",
            "659/659 [==============================] - 25s 38ms/step - loss: 0.0196 - acc: 0.9934 - val_loss: 1.1112 - val_acc: 0.8744\n",
            "Epoch 39/100\n",
            "659/659 [==============================] - 25s 38ms/step - loss: 0.0187 - acc: 0.9933 - val_loss: 1.1673 - val_acc: 0.8722\n",
            "Epoch 40/100\n",
            "659/659 [==============================] - 25s 38ms/step - loss: 0.0198 - acc: 0.9931 - val_loss: 1.2304 - val_acc: 0.8739\n",
            "Epoch 41/100\n",
            "659/659 [==============================] - 25s 38ms/step - loss: 0.0167 - acc: 0.9938 - val_loss: 1.1746 - val_acc: 0.8671\n",
            "Epoch 42/100\n",
            "659/659 [==============================] - 27s 41ms/step - loss: 0.0179 - acc: 0.9934 - val_loss: 1.2077 - val_acc: 0.8718\n",
            "Epoch 43/100\n",
            "659/659 [==============================] - 25s 38ms/step - loss: 0.0161 - acc: 0.9950 - val_loss: 1.1870 - val_acc: 0.8748\n",
            "Epoch 44/100\n",
            "659/659 [==============================] - 25s 38ms/step - loss: 0.0187 - acc: 0.9942 - val_loss: 1.1486 - val_acc: 0.8697\n",
            "Epoch 45/100\n",
            "659/659 [==============================] - 25s 38ms/step - loss: 0.0159 - acc: 0.9939 - val_loss: 1.2666 - val_acc: 0.8645\n",
            "Epoch 46/100\n",
            "659/659 [==============================] - 25s 39ms/step - loss: 0.0158 - acc: 0.9942 - val_loss: 1.2991 - val_acc: 0.8624\n",
            "Epoch 47/100\n",
            "659/659 [==============================] - 25s 39ms/step - loss: 0.0157 - acc: 0.9945 - val_loss: 1.3158 - val_acc: 0.8688\n",
            "Epoch 48/100\n",
            "659/659 [==============================] - 27s 41ms/step - loss: 0.0150 - acc: 0.9951 - val_loss: 1.2220 - val_acc: 0.8748\n",
            "Epoch 49/100\n",
            "659/659 [==============================] - 26s 39ms/step - loss: 0.0132 - acc: 0.9947 - val_loss: 1.3507 - val_acc: 0.8778\n",
            "Epoch 50/100\n",
            "659/659 [==============================] - 25s 39ms/step - loss: 0.0133 - acc: 0.9953 - val_loss: 1.3167 - val_acc: 0.8786\n",
            "Epoch 51/100\n",
            "659/659 [==============================] - 25s 39ms/step - loss: 0.0139 - acc: 0.9948 - val_loss: 1.3756 - val_acc: 0.8692\n",
            "Epoch 52/100\n",
            "659/659 [==============================] - 25s 38ms/step - loss: 0.0143 - acc: 0.9950 - val_loss: 1.2934 - val_acc: 0.8791\n",
            "Epoch 53/100\n",
            "659/659 [==============================] - 25s 39ms/step - loss: 0.0138 - acc: 0.9950 - val_loss: 1.3227 - val_acc: 0.8662\n",
            "Epoch 54/100\n",
            "659/659 [==============================] - 27s 41ms/step - loss: 0.0153 - acc: 0.9944 - val_loss: 1.2447 - val_acc: 0.8735\n",
            "Epoch 55/100\n",
            "659/659 [==============================] - 25s 39ms/step - loss: 0.0121 - acc: 0.9954 - val_loss: 1.3707 - val_acc: 0.8701\n",
            "Epoch 56/100\n",
            "659/659 [==============================] - 26s 39ms/step - loss: 0.0152 - acc: 0.9948 - val_loss: 1.1951 - val_acc: 0.8752\n",
            "Epoch 57/100\n",
            "659/659 [==============================] - 26s 39ms/step - loss: 0.0131 - acc: 0.9946 - val_loss: 1.2825 - val_acc: 0.8765\n",
            "Epoch 58/100\n",
            "659/659 [==============================] - 26s 39ms/step - loss: 0.0121 - acc: 0.9953 - val_loss: 1.4045 - val_acc: 0.8679\n",
            "Epoch 59/100\n",
            "659/659 [==============================] - 25s 39ms/step - loss: 0.0146 - acc: 0.9951 - val_loss: 1.2865 - val_acc: 0.8782\n",
            "Epoch 60/100\n",
            "659/659 [==============================] - 27s 41ms/step - loss: 0.0130 - acc: 0.9950 - val_loss: 1.2639 - val_acc: 0.8821\n",
            "Epoch 61/100\n",
            "659/659 [==============================] - 26s 39ms/step - loss: 0.0148 - acc: 0.9951 - val_loss: 1.2487 - val_acc: 0.8786\n",
            "Epoch 62/100\n",
            "659/659 [==============================] - 26s 39ms/step - loss: 0.0119 - acc: 0.9957 - val_loss: 1.4269 - val_acc: 0.8650\n",
            "Epoch 63/100\n",
            "659/659 [==============================] - 26s 39ms/step - loss: 0.0139 - acc: 0.9952 - val_loss: 1.3493 - val_acc: 0.8821\n",
            "Epoch 64/100\n",
            "659/659 [==============================] - 26s 39ms/step - loss: 0.0127 - acc: 0.9956 - val_loss: 1.3575 - val_acc: 0.8791\n",
            "Epoch 65/100\n",
            "659/659 [==============================] - 26s 39ms/step - loss: 0.0110 - acc: 0.9961 - val_loss: 1.4642 - val_acc: 0.8667\n",
            "Epoch 66/100\n",
            "659/659 [==============================] - 27s 42ms/step - loss: 0.0127 - acc: 0.9950 - val_loss: 1.4275 - val_acc: 0.8697\n",
            "Epoch 67/100\n",
            "659/659 [==============================] - 26s 40ms/step - loss: 0.0114 - acc: 0.9962 - val_loss: 1.3577 - val_acc: 0.8803\n",
            "Epoch 68/100\n",
            "659/659 [==============================] - 25s 39ms/step - loss: 0.0112 - acc: 0.9956 - val_loss: 1.4173 - val_acc: 0.8756\n",
            "Epoch 69/100\n",
            "659/659 [==============================] - 25s 39ms/step - loss: 0.0116 - acc: 0.9961 - val_loss: 1.3628 - val_acc: 0.8658\n",
            "Epoch 70/100\n",
            "659/659 [==============================] - 26s 39ms/step - loss: 0.0120 - acc: 0.9953 - val_loss: 1.3088 - val_acc: 0.8799\n",
            "Epoch 71/100\n",
            "659/659 [==============================] - 26s 39ms/step - loss: 0.0101 - acc: 0.9964 - val_loss: 1.4202 - val_acc: 0.8795\n",
            "Epoch 72/100\n",
            "659/659 [==============================] - 27s 41ms/step - loss: 0.0121 - acc: 0.9952 - val_loss: 1.3305 - val_acc: 0.8816\n",
            "Epoch 73/100\n",
            "659/659 [==============================] - 26s 39ms/step - loss: 0.0114 - acc: 0.9957 - val_loss: 1.3578 - val_acc: 0.8855\n",
            "Epoch 74/100\n",
            "659/659 [==============================] - 26s 39ms/step - loss: 0.0115 - acc: 0.9956 - val_loss: 1.3834 - val_acc: 0.8786\n",
            "Epoch 75/100\n",
            "659/659 [==============================] - 26s 39ms/step - loss: 0.0097 - acc: 0.9963 - val_loss: 1.4255 - val_acc: 0.8816\n",
            "Epoch 76/100\n",
            "659/659 [==============================] - 26s 39ms/step - loss: 0.0114 - acc: 0.9953 - val_loss: 1.4932 - val_acc: 0.8620\n",
            "Epoch 77/100\n",
            "659/659 [==============================] - 26s 39ms/step - loss: 0.0107 - acc: 0.9962 - val_loss: 1.4722 - val_acc: 0.8731\n",
            "Epoch 78/100\n",
            "659/659 [==============================] - 27s 41ms/step - loss: 0.0109 - acc: 0.9959 - val_loss: 1.4539 - val_acc: 0.8615\n",
            "Epoch 79/100\n",
            "659/659 [==============================] - 25s 38ms/step - loss: 0.0118 - acc: 0.9958 - val_loss: 1.4253 - val_acc: 0.8705\n",
            "Epoch 80/100\n",
            "659/659 [==============================] - 25s 38ms/step - loss: 0.0095 - acc: 0.9963 - val_loss: 1.4523 - val_acc: 0.8726\n",
            "Epoch 81/100\n",
            "659/659 [==============================] - 25s 38ms/step - loss: 0.0101 - acc: 0.9963 - val_loss: 1.4337 - val_acc: 0.8765\n",
            "Epoch 82/100\n",
            "659/659 [==============================] - 25s 38ms/step - loss: 0.0087 - acc: 0.9963 - val_loss: 1.4690 - val_acc: 0.8825\n",
            "Epoch 83/100\n",
            "659/659 [==============================] - 25s 38ms/step - loss: 0.0105 - acc: 0.9956 - val_loss: 1.4954 - val_acc: 0.8722\n",
            "Epoch 84/100\n",
            "659/659 [==============================] - 25s 38ms/step - loss: 0.0134 - acc: 0.9955 - val_loss: 1.3133 - val_acc: 0.8795\n",
            "Epoch 85/100\n",
            "659/659 [==============================] - 26s 40ms/step - loss: 0.0115 - acc: 0.9957 - val_loss: 1.3096 - val_acc: 0.8812\n",
            "Epoch 86/100\n",
            "659/659 [==============================] - 25s 38ms/step - loss: 0.0107 - acc: 0.9962 - val_loss: 1.3528 - val_acc: 0.8795\n",
            "Epoch 87/100\n",
            "659/659 [==============================] - 25s 38ms/step - loss: 0.0100 - acc: 0.9965 - val_loss: 1.4118 - val_acc: 0.8701\n",
            "Epoch 88/100\n",
            "659/659 [==============================] - 25s 38ms/step - loss: 0.0106 - acc: 0.9960 - val_loss: 1.3799 - val_acc: 0.8850\n",
            "Epoch 89/100\n",
            "659/659 [==============================] - 25s 38ms/step - loss: 0.0087 - acc: 0.9962 - val_loss: 1.5234 - val_acc: 0.8846\n",
            "Epoch 90/100\n",
            "659/659 [==============================] - 25s 38ms/step - loss: 0.0109 - acc: 0.9964 - val_loss: 1.3413 - val_acc: 0.8748\n",
            "Epoch 91/100\n",
            "659/659 [==============================] - 27s 41ms/step - loss: 0.0111 - acc: 0.9960 - val_loss: 1.3853 - val_acc: 0.8774\n",
            "Epoch 92/100\n",
            "659/659 [==============================] - 25s 38ms/step - loss: 0.0090 - acc: 0.9964 - val_loss: 1.4883 - val_acc: 0.8782\n",
            "Epoch 93/100\n",
            "659/659 [==============================] - 25s 38ms/step - loss: 0.0107 - acc: 0.9963 - val_loss: 1.3335 - val_acc: 0.8795\n",
            "Epoch 94/100\n",
            "659/659 [==============================] - 25s 39ms/step - loss: 0.0087 - acc: 0.9963 - val_loss: 1.6097 - val_acc: 0.8684\n",
            "Epoch 95/100\n",
            "659/659 [==============================] - 26s 39ms/step - loss: 0.0106 - acc: 0.9962 - val_loss: 1.3738 - val_acc: 0.8756\n",
            "Epoch 96/100\n",
            "659/659 [==============================] - 26s 40ms/step - loss: 0.0105 - acc: 0.9959 - val_loss: 1.4076 - val_acc: 0.8821\n",
            "Epoch 97/100\n",
            "659/659 [==============================] - 28s 43ms/step - loss: 0.0124 - acc: 0.9961 - val_loss: 1.3032 - val_acc: 0.8774\n",
            "Epoch 98/100\n",
            "659/659 [==============================] - 27s 41ms/step - loss: 0.0076 - acc: 0.9970 - val_loss: 1.4815 - val_acc: 0.8842\n",
            "Epoch 99/100\n",
            "659/659 [==============================] - 26s 40ms/step - loss: 0.0101 - acc: 0.9965 - val_loss: 1.3374 - val_acc: 0.8769\n",
            "Epoch 100/100\n",
            "659/659 [==============================] - 26s 39ms/step - loss: 0.0111 - acc: 0.9957 - val_loss: 1.3751 - val_acc: 0.8744\n",
            "Model: \"sequential_3\"\n",
            "_________________________________________________________________\n",
            " Layer (type)                Output Shape              Param #   \n",
            "=================================================================\n",
            " embedding_3 (Embedding)     (None, None, 64)          1920000   \n",
            "                                                                 \n",
            " dropout_3 (Dropout)         (None, None, 64)          0         \n",
            "                                                                 \n",
            " gru (GRU)                   (None, 64)                24960     \n",
            "                                                                 \n",
            " dropout_4 (Dropout)         (None, 64)                0         \n",
            "                                                                 \n",
            " dense_4 (Dense)             (None, 16)                1040      \n",
            "                                                                 \n",
            " dropout_5 (Dropout)         (None, 16)                0         \n",
            "                                                                 \n",
            " dense_5 (Dense)             (None, 1)                 17        \n",
            "                                                                 \n",
            "=================================================================\n",
            "Total params: 1,946,017\n",
            "Trainable params: 1,946,017\n",
            "Non-trainable params: 0\n",
            "_________________________________________________________________\n"
          ]
        }
      ]
    },
    {
      "cell_type": "code",
      "source": [
        "plt.plot(history_GRU.history['loss'])\n",
        "plt.plot(history_GRU.history['val_loss'])\n",
        "plt.xlabel('epoch')\n",
        "plt.ylabel('loss')\n",
        "plt.legend(['train', 'val'])\n",
        "plt.show()"
      ],
      "metadata": {
        "colab": {
          "base_uri": "https://localhost:8080/",
          "height": 279
        },
        "id": "5GKmEGhkbRi_",
        "outputId": "511759da-e10b-4ad4-940d-647be68b3b9a"
      },
      "execution_count": 24,
      "outputs": [
        {
          "output_type": "display_data",
          "data": {
            "text/plain": [
              "<Figure size 432x288 with 1 Axes>"
            ],
            "image/png": "[encoded data removed]"
          },
          "metadata": {
            "needs_background": "light"
          }
        }
      ]
    },
    {
      "cell_type": "code",
      "source": [
        "model_GRU.evaluate(val_x, val_y)"
      ],
      "metadata": {
        "colab": {
          "base_uri": "https://localhost:8080/"
        },
        "id": "Po-nMNqlbWiU",
        "outputId": "ae86fc91-92f0-4fe6-dccd-9bc4798eba93"
      },
      "execution_count": 25,
      "outputs": [
        {
          "output_type": "stream",
          "name": "stdout",
          "text": [
            "74/74 [==============================] - 0s 6ms/step - loss: 1.3751 - acc: 0.8744\n"
          ]
        },
        {
          "output_type": "execute_result",
          "data": {
            "text/plain": [
              "[1.3751423358917236, 0.8743589520454407]"
            ]
          },
          "metadata": {},
          "execution_count": 25
        }
      ]
    },
    {
      "cell_type": "markdown",
      "source": [
        "## CNN-LSTM\n"
      ],
      "metadata": {
        "id": "FpdxnE8SUN5o"
      }
    },
    {
      "cell_type": "code",
      "source": [
        "train_x.shape"
      ],
      "metadata": {
        "colab": {
          "base_uri": "https://localhost:8080/"
        },
        "id": "FwvPh97woDM5",
        "outputId": "03afab6b-5f15-4f54-8b6e-7c12214799d1"
      },
      "execution_count": 26,
      "outputs": [
        {
          "output_type": "execute_result",
          "data": {
            "text/plain": [
              "(21060, 25)"
            ]
          },
          "metadata": {},
          "execution_count": 26
        }
      ]
    },
    {
      "cell_type": "code",
      "source": [
        "model_CNN_LSTM = Sequential()\n",
        "model_CNN_LSTM.add(keras.layers.Embedding(30000, 30))\n",
        "model_CNN_LSTM.add(keras.layers.Dropout(0.3))\n",
        "model_CNN_LSTM.add(keras.layers.Conv1D(32, 3, padding='same', strides=1,activation='relu'))\n",
        "model_CNN_LSTM.add(keras.layers.MaxPooling1D(2))\n",
        "model_CNN_LSTM.add(LSTM(100))\n",
        "model_CNN_LSTM.add(keras.layers.Dropout(0.3))\n",
        "model_CNN_LSTM.add(Dense(1, activation='sigmoid'))\n",
        "model_CNN_LSTM.compile(optimizer = 'Adam', loss='binary_crossentropy', metrics=['acc'])\n",
        "history_CNN_LSTM = model_CNN_LSTM.fit(train_x, train_y, epochs=100,\n",
        "                    validation_data=(val_x, val_y))\n",
        "model_CNN_LSTM.summary()\n",
        "\n"
      ],
      "metadata": {
        "colab": {
          "base_uri": "https://localhost:8080/"
        },
        "id": "yqCZskxQUM4k",
        "outputId": "558ea52c-f8ff-4e1f-8fcf-b96ba4a34660"
      },
      "execution_count": 27,
      "outputs": [
        {
          "output_type": "stream",
          "name": "stdout",
          "text": [
            "Epoch 1/100\n",
            "659/659 [==============================] - 20s 27ms/step - loss: 0.3350 - acc: 0.8705 - val_loss: 0.2563 - val_acc: 0.9179\n",
            "Epoch 2/100\n",
            "659/659 [==============================] - 18s 27ms/step - loss: 0.2438 - acc: 0.9215 - val_loss: 0.2578 - val_acc: 0.9192\n",
            "Epoch 3/100\n",
            "659/659 [==============================] - 18s 27ms/step - loss: 0.2179 - acc: 0.9265 - val_loss: 0.2703 - val_acc: 0.9081\n",
            "Epoch 4/100\n",
            "659/659 [==============================] - 17s 26ms/step - loss: 0.1952 - acc: 0.9330 - val_loss: 0.2831 - val_acc: 0.9124\n",
            "Epoch 5/100\n",
            "659/659 [==============================] - 19s 29ms/step - loss: 0.1699 - acc: 0.9405 - val_loss: 0.3014 - val_acc: 0.9034\n",
            "Epoch 6/100\n",
            "659/659 [==============================] - 18s 27ms/step - loss: 0.1453 - acc: 0.9492 - val_loss: 0.3286 - val_acc: 0.8936\n",
            "Epoch 7/100\n",
            "659/659 [==============================] - 17s 26ms/step - loss: 0.1256 - acc: 0.9567 - val_loss: 0.3752 - val_acc: 0.8902\n",
            "Epoch 8/100\n",
            "659/659 [==============================] - 17s 26ms/step - loss: 0.1045 - acc: 0.9637 - val_loss: 0.3852 - val_acc: 0.8923\n",
            "Epoch 9/100\n",
            "659/659 [==============================] - 17s 26ms/step - loss: 0.0877 - acc: 0.9698 - val_loss: 0.4263 - val_acc: 0.8855\n",
            "Epoch 10/100\n",
            "659/659 [==============================] - 17s 26ms/step - loss: 0.0766 - acc: 0.9726 - val_loss: 0.4461 - val_acc: 0.8846\n",
            "Epoch 11/100\n",
            "659/659 [==============================] - 17s 26ms/step - loss: 0.0683 - acc: 0.9766 - val_loss: 0.5245 - val_acc: 0.8795\n",
            "Epoch 12/100\n",
            "659/659 [==============================] - 17s 26ms/step - loss: 0.0629 - acc: 0.9769 - val_loss: 0.5008 - val_acc: 0.8726\n",
            "Epoch 13/100\n",
            "659/659 [==============================] - 18s 27ms/step - loss: 0.0542 - acc: 0.9815 - val_loss: 0.5759 - val_acc: 0.8714\n",
            "Epoch 14/100\n",
            "659/659 [==============================] - 19s 29ms/step - loss: 0.0506 - acc: 0.9816 - val_loss: 0.5667 - val_acc: 0.8692\n",
            "Epoch 15/100\n",
            "659/659 [==============================] - 17s 26ms/step - loss: 0.0458 - acc: 0.9827 - val_loss: 0.5767 - val_acc: 0.8744\n",
            "Epoch 16/100\n",
            "659/659 [==============================] - 17s 26ms/step - loss: 0.0466 - acc: 0.9832 - val_loss: 0.5836 - val_acc: 0.8722\n",
            "Epoch 17/100\n",
            "659/659 [==============================] - 17s 26ms/step - loss: 0.0387 - acc: 0.9855 - val_loss: 0.6339 - val_acc: 0.8739\n",
            "Epoch 18/100\n",
            "659/659 [==============================] - 18s 27ms/step - loss: 0.0383 - acc: 0.9861 - val_loss: 0.6506 - val_acc: 0.8658\n",
            "Epoch 19/100\n",
            "659/659 [==============================] - 18s 27ms/step - loss: 0.0370 - acc: 0.9869 - val_loss: 0.6621 - val_acc: 0.8662\n",
            "Epoch 20/100\n",
            "659/659 [==============================] - 18s 27ms/step - loss: 0.0360 - acc: 0.9880 - val_loss: 0.6725 - val_acc: 0.8701\n",
            "Epoch 21/100\n",
            "659/659 [==============================] - 18s 27ms/step - loss: 0.0313 - acc: 0.9887 - val_loss: 0.6403 - val_acc: 0.8748\n",
            "Epoch 22/100\n",
            "659/659 [==============================] - 18s 27ms/step - loss: 0.0326 - acc: 0.9886 - val_loss: 0.6922 - val_acc: 0.8705\n",
            "Epoch 23/100\n",
            "659/659 [==============================] - 19s 29ms/step - loss: 0.0316 - acc: 0.9891 - val_loss: 0.7285 - val_acc: 0.8714\n",
            "Epoch 24/100\n",
            "659/659 [==============================] - 18s 27ms/step - loss: 0.0291 - acc: 0.9889 - val_loss: 0.6739 - val_acc: 0.8709\n",
            "Epoch 25/100\n",
            "659/659 [==============================] - 17s 26ms/step - loss: 0.0255 - acc: 0.9911 - val_loss: 0.7297 - val_acc: 0.8705\n",
            "Epoch 26/100\n",
            "659/659 [==============================] - 17s 26ms/step - loss: 0.0261 - acc: 0.9909 - val_loss: 0.6920 - val_acc: 0.8769\n",
            "Epoch 27/100\n",
            "659/659 [==============================] - 17s 26ms/step - loss: 0.0254 - acc: 0.9909 - val_loss: 0.6836 - val_acc: 0.8731\n",
            "Epoch 28/100\n",
            "659/659 [==============================] - 17s 26ms/step - loss: 0.0262 - acc: 0.9906 - val_loss: 0.6761 - val_acc: 0.8744\n",
            "Epoch 29/100\n",
            "659/659 [==============================] - 17s 26ms/step - loss: 0.0268 - acc: 0.9904 - val_loss: 0.7182 - val_acc: 0.8778\n",
            "Epoch 30/100\n",
            "659/659 [==============================] - 17s 27ms/step - loss: 0.0242 - acc: 0.9911 - val_loss: 0.6960 - val_acc: 0.8752\n",
            "Epoch 31/100\n",
            "659/659 [==============================] - 18s 27ms/step - loss: 0.0237 - acc: 0.9914 - val_loss: 0.7706 - val_acc: 0.8722\n",
            "Epoch 32/100\n",
            "659/659 [==============================] - 19s 28ms/step - loss: 0.0213 - acc: 0.9925 - val_loss: 0.7558 - val_acc: 0.8645\n",
            "Epoch 33/100\n",
            "659/659 [==============================] - 18s 28ms/step - loss: 0.0228 - acc: 0.9917 - val_loss: 0.8036 - val_acc: 0.8671\n",
            "Epoch 34/100\n",
            "659/659 [==============================] - 18s 27ms/step - loss: 0.0211 - acc: 0.9918 - val_loss: 0.7300 - val_acc: 0.8726\n",
            "Epoch 35/100\n",
            "659/659 [==============================] - 18s 27ms/step - loss: 0.0233 - acc: 0.9915 - val_loss: 0.7413 - val_acc: 0.8722\n",
            "Epoch 36/100\n",
            "659/659 [==============================] - 18s 27ms/step - loss: 0.0230 - acc: 0.9914 - val_loss: 0.6927 - val_acc: 0.8752\n",
            "Epoch 37/100\n",
            "659/659 [==============================] - 18s 27ms/step - loss: 0.0233 - acc: 0.9925 - val_loss: 0.7332 - val_acc: 0.8714\n",
            "Epoch 38/100\n",
            "659/659 [==============================] - 18s 28ms/step - loss: 0.0220 - acc: 0.9924 - val_loss: 0.7424 - val_acc: 0.8714\n",
            "Epoch 39/100\n",
            "659/659 [==============================] - 18s 28ms/step - loss: 0.0187 - acc: 0.9936 - val_loss: 0.8380 - val_acc: 0.8714\n",
            "Epoch 40/100\n",
            "659/659 [==============================] - 18s 28ms/step - loss: 0.0180 - acc: 0.9937 - val_loss: 0.7938 - val_acc: 0.8688\n",
            "Epoch 41/100\n",
            "659/659 [==============================] - 18s 28ms/step - loss: 0.0214 - acc: 0.9923 - val_loss: 0.7885 - val_acc: 0.8744\n",
            "Epoch 42/100\n",
            "659/659 [==============================] - 19s 28ms/step - loss: 0.0197 - acc: 0.9928 - val_loss: 0.8163 - val_acc: 0.8667\n",
            "Epoch 43/100\n",
            "659/659 [==============================] - 18s 27ms/step - loss: 0.0173 - acc: 0.9938 - val_loss: 0.8198 - val_acc: 0.8718\n",
            "Epoch 44/100\n",
            "659/659 [==============================] - 18s 27ms/step - loss: 0.0196 - acc: 0.9931 - val_loss: 0.8001 - val_acc: 0.8735\n",
            "Epoch 45/100\n",
            "659/659 [==============================] - 18s 27ms/step - loss: 0.0173 - acc: 0.9938 - val_loss: 0.7863 - val_acc: 0.8786\n",
            "Epoch 46/100\n",
            "659/659 [==============================] - 18s 27ms/step - loss: 0.0194 - acc: 0.9932 - val_loss: 0.7534 - val_acc: 0.8795\n",
            "Epoch 47/100\n",
            "659/659 [==============================] - 18s 28ms/step - loss: 0.0181 - acc: 0.9933 - val_loss: 0.8488 - val_acc: 0.8654\n",
            "Epoch 48/100\n",
            "659/659 [==============================] - 18s 27ms/step - loss: 0.0183 - acc: 0.9932 - val_loss: 0.7984 - val_acc: 0.8714\n",
            "Epoch 49/100\n",
            "659/659 [==============================] - 18s 27ms/step - loss: 0.0164 - acc: 0.9941 - val_loss: 0.8200 - val_acc: 0.8718\n",
            "Epoch 50/100\n",
            "659/659 [==============================] - 18s 27ms/step - loss: 0.0188 - acc: 0.9934 - val_loss: 0.8085 - val_acc: 0.8684\n",
            "Epoch 51/100\n",
            "659/659 [==============================] - 19s 29ms/step - loss: 0.0150 - acc: 0.9946 - val_loss: 0.8573 - val_acc: 0.8688\n",
            "Epoch 52/100\n",
            "659/659 [==============================] - 18s 27ms/step - loss: 0.0152 - acc: 0.9945 - val_loss: 0.8901 - val_acc: 0.8607\n",
            "Epoch 53/100\n",
            "659/659 [==============================] - 18s 27ms/step - loss: 0.0177 - acc: 0.9935 - val_loss: 0.8835 - val_acc: 0.8692\n",
            "Epoch 54/100\n",
            "659/659 [==============================] - 18s 27ms/step - loss: 0.0137 - acc: 0.9948 - val_loss: 1.0097 - val_acc: 0.8585\n",
            "Epoch 55/100\n",
            "659/659 [==============================] - 18s 28ms/step - loss: 0.0187 - acc: 0.9934 - val_loss: 0.8433 - val_acc: 0.8756\n",
            "Epoch 56/100\n",
            "659/659 [==============================] - 18s 28ms/step - loss: 0.0170 - acc: 0.9941 - val_loss: 0.8291 - val_acc: 0.8658\n",
            "Epoch 57/100\n",
            "659/659 [==============================] - 18s 27ms/step - loss: 0.0169 - acc: 0.9933 - val_loss: 0.8576 - val_acc: 0.8705\n",
            "Epoch 58/100\n",
            "659/659 [==============================] - 18s 27ms/step - loss: 0.0171 - acc: 0.9935 - val_loss: 0.7944 - val_acc: 0.8688\n",
            "Epoch 59/100\n",
            "659/659 [==============================] - 18s 27ms/step - loss: 0.0154 - acc: 0.9942 - val_loss: 0.8522 - val_acc: 0.8658\n",
            "Epoch 60/100\n",
            "659/659 [==============================] - 19s 29ms/step - loss: 0.0147 - acc: 0.9947 - val_loss: 0.8888 - val_acc: 0.8684\n",
            "Epoch 61/100\n",
            "659/659 [==============================] - 18s 27ms/step - loss: 0.0145 - acc: 0.9947 - val_loss: 0.8666 - val_acc: 0.8667\n",
            "Epoch 62/100\n",
            "659/659 [==============================] - 18s 27ms/step - loss: 0.0149 - acc: 0.9948 - val_loss: 0.8513 - val_acc: 0.8709\n",
            "Epoch 63/100\n",
            "659/659 [==============================] - 18s 27ms/step - loss: 0.0148 - acc: 0.9942 - val_loss: 0.8486 - val_acc: 0.8679\n",
            "Epoch 64/100\n",
            "659/659 [==============================] - 18s 27ms/step - loss: 0.0133 - acc: 0.9946 - val_loss: 0.8866 - val_acc: 0.8701\n",
            "Epoch 65/100\n",
            "659/659 [==============================] - 18s 27ms/step - loss: 0.0135 - acc: 0.9945 - val_loss: 0.8714 - val_acc: 0.8654\n",
            "Epoch 66/100\n",
            "659/659 [==============================] - 18s 27ms/step - loss: 0.0123 - acc: 0.9952 - val_loss: 0.9603 - val_acc: 0.8675\n",
            "Epoch 67/100\n",
            "659/659 [==============================] - 18s 27ms/step - loss: 0.0147 - acc: 0.9941 - val_loss: 0.9215 - val_acc: 0.8705\n",
            "Epoch 68/100\n",
            "659/659 [==============================] - 18s 27ms/step - loss: 0.0143 - acc: 0.9943 - val_loss: 0.8794 - val_acc: 0.8709\n",
            "Epoch 69/100\n",
            "659/659 [==============================] - 19s 29ms/step - loss: 0.0139 - acc: 0.9942 - val_loss: 0.9224 - val_acc: 0.8714\n",
            "Epoch 70/100\n",
            "659/659 [==============================] - 18s 27ms/step - loss: 0.0145 - acc: 0.9946 - val_loss: 0.9001 - val_acc: 0.8731\n",
            "Epoch 71/100\n",
            "659/659 [==============================] - 18s 27ms/step - loss: 0.0145 - acc: 0.9946 - val_loss: 0.8948 - val_acc: 0.8692\n",
            "Epoch 72/100\n",
            "659/659 [==============================] - 18s 27ms/step - loss: 0.0137 - acc: 0.9941 - val_loss: 0.9177 - val_acc: 0.8679\n",
            "Epoch 73/100\n",
            "659/659 [==============================] - 18s 27ms/step - loss: 0.0143 - acc: 0.9946 - val_loss: 0.9389 - val_acc: 0.8620\n",
            "Epoch 74/100\n",
            "659/659 [==============================] - 18s 27ms/step - loss: 0.0142 - acc: 0.9940 - val_loss: 0.9091 - val_acc: 0.8667\n",
            "Epoch 75/100\n",
            "659/659 [==============================] - 18s 28ms/step - loss: 0.0127 - acc: 0.9953 - val_loss: 0.9525 - val_acc: 0.8684\n",
            "Epoch 76/100\n",
            "659/659 [==============================] - 18s 27ms/step - loss: 0.0130 - acc: 0.9951 - val_loss: 0.9447 - val_acc: 0.8735\n",
            "Epoch 77/100\n",
            "659/659 [==============================] - 18s 28ms/step - loss: 0.0116 - acc: 0.9954 - val_loss: 0.9149 - val_acc: 0.8679\n",
            "Epoch 78/100\n",
            "659/659 [==============================] - 19s 29ms/step - loss: 0.0118 - acc: 0.9956 - val_loss: 1.0067 - val_acc: 0.8594\n",
            "Epoch 79/100\n",
            "659/659 [==============================] - 18s 28ms/step - loss: 0.0122 - acc: 0.9955 - val_loss: 0.9016 - val_acc: 0.8795\n",
            "Epoch 80/100\n",
            "659/659 [==============================] - 18s 28ms/step - loss: 0.0151 - acc: 0.9943 - val_loss: 0.8321 - val_acc: 0.8756\n",
            "Epoch 81/100\n",
            "659/659 [==============================] - 18s 27ms/step - loss: 0.0118 - acc: 0.9952 - val_loss: 0.9486 - val_acc: 0.8701\n",
            "Epoch 82/100\n",
            "659/659 [==============================] - 18s 27ms/step - loss: 0.0128 - acc: 0.9952 - val_loss: 0.9354 - val_acc: 0.8684\n",
            "Epoch 83/100\n",
            "659/659 [==============================] - 18s 27ms/step - loss: 0.0133 - acc: 0.9948 - val_loss: 0.9787 - val_acc: 0.8684\n",
            "Epoch 84/100\n",
            "659/659 [==============================] - 18s 27ms/step - loss: 0.0139 - acc: 0.9942 - val_loss: 0.8940 - val_acc: 0.8709\n",
            "Epoch 85/100\n",
            "659/659 [==============================] - 18s 27ms/step - loss: 0.0137 - acc: 0.9948 - val_loss: 0.9005 - val_acc: 0.8744\n",
            "Epoch 86/100\n",
            "659/659 [==============================] - 18s 28ms/step - loss: 0.0128 - acc: 0.9947 - val_loss: 0.9448 - val_acc: 0.8726\n",
            "Epoch 87/100\n",
            "659/659 [==============================] - 19s 29ms/step - loss: 0.0119 - acc: 0.9954 - val_loss: 0.8965 - val_acc: 0.8786\n",
            "Epoch 88/100\n",
            "659/659 [==============================] - 18s 28ms/step - loss: 0.0120 - acc: 0.9951 - val_loss: 0.8979 - val_acc: 0.8791\n",
            "Epoch 89/100\n",
            "659/659 [==============================] - 18s 27ms/step - loss: 0.0113 - acc: 0.9955 - val_loss: 1.0145 - val_acc: 0.8628\n",
            "Epoch 90/100\n",
            "659/659 [==============================] - 19s 28ms/step - loss: 0.0107 - acc: 0.9955 - val_loss: 0.9252 - val_acc: 0.8778\n",
            "Epoch 91/100\n",
            "659/659 [==============================] - 18s 27ms/step - loss: 0.0108 - acc: 0.9958 - val_loss: 0.9020 - val_acc: 0.8756\n",
            "Epoch 92/100\n",
            "659/659 [==============================] - 18s 27ms/step - loss: 0.0119 - acc: 0.9956 - val_loss: 0.9793 - val_acc: 0.8650\n",
            "Epoch 93/100\n",
            "659/659 [==============================] - 18s 28ms/step - loss: 0.0121 - acc: 0.9951 - val_loss: 0.9987 - val_acc: 0.8645\n",
            "Epoch 94/100\n",
            "659/659 [==============================] - 19s 28ms/step - loss: 0.0121 - acc: 0.9955 - val_loss: 0.9670 - val_acc: 0.8658\n",
            "Epoch 95/100\n",
            "659/659 [==============================] - 19s 28ms/step - loss: 0.0133 - acc: 0.9946 - val_loss: 0.9529 - val_acc: 0.8671\n",
            "Epoch 96/100\n",
            "659/659 [==============================] - 20s 30ms/step - loss: 0.0119 - acc: 0.9952 - val_loss: 0.9326 - val_acc: 0.8756\n",
            "Epoch 97/100\n",
            "659/659 [==============================] - 19s 29ms/step - loss: 0.0110 - acc: 0.9954 - val_loss: 0.9073 - val_acc: 0.8744\n",
            "Epoch 98/100\n",
            "659/659 [==============================] - 19s 29ms/step - loss: 0.0114 - acc: 0.9951 - val_loss: 0.9877 - val_acc: 0.8701\n",
            "Epoch 99/100\n",
            "659/659 [==============================] - 19s 29ms/step - loss: 0.0113 - acc: 0.9960 - val_loss: 0.9528 - val_acc: 0.8714\n",
            "Epoch 100/100\n",
            "659/659 [==============================] - 18s 28ms/step - loss: 0.0106 - acc: 0.9962 - val_loss: 0.9855 - val_acc: 0.8774\n",
            "Model: \"sequential_4\"\n",
            "_________________________________________________________________\n",
            " Layer (type)                Output Shape              Param #   \n",
            "=================================================================\n",
            " embedding_4 (Embedding)     (None, None, 30)          900000    \n",
            "                                                                 \n",
            " dropout_6 (Dropout)         (None, None, 30)          0         \n",
            "                                                                 \n",
            " conv1d (Conv1D)             (None, None, 32)          2912      \n",
            "                                                                 \n",
            " max_pooling1d (MaxPooling1D  (None, None, 32)         0         \n",
            " )                                                               \n",
            "                                                                 \n",
            " lstm_1 (LSTM)               (None, 100)               53200     \n",
            "                                                                 \n",
            " dropout_7 (Dropout)         (None, 100)               0         \n",
            "                                                                 \n",
            " dense_6 (Dense)             (None, 1)                 101       \n",
            "                                                                 \n",
            "=================================================================\n",
            "Total params: 956,213\n",
            "Trainable params: 956,213\n",
            "Non-trainable params: 0\n",
            "_________________________________________________________________\n"
          ]
        }
      ]
    },
    {
      "cell_type": "code",
      "source": [
        "plt.plot(history_CNN_LSTM.history['loss'])\n",
        "plt.plot(history_CNN_LSTM.history['val_loss'])\n",
        "plt.xlabel('epoch')\n",
        "plt.ylabel('loss')\n",
        "plt.legend(['train', 'val'])\n",
        "plt.show()"
      ],
      "metadata": {
        "colab": {
          "base_uri": "https://localhost:8080/",
          "height": 279
        },
        "id": "WA4kc0bFdHnc",
        "outputId": "d3c3edc5-2827-4151-946f-4c5170ddbe7b"
      },
      "execution_count": 28,
      "outputs": [
        {
          "output_type": "display_data",
          "data": {
            "text/plain": [
              "<Figure size 432x288 with 1 Axes>"
            ],
            "image/png": "[encoded data removed]"
          },
          "metadata": {
            "needs_background": "light"
          }
        }
      ]
    },
    {
      "cell_type": "code",
      "source": [
        "model_CNN_LSTM.evaluate(val_x, val_y)"
      ],
      "metadata": {
        "colab": {
          "base_uri": "https://localhost:8080/"
        },
        "id": "v0NaWkk3dPbN",
        "outputId": "3f17ec30-97d5-477f-e4b5-c0f3f20711d1"
      },
      "execution_count": 29,
      "outputs": [
        {
          "output_type": "stream",
          "name": "stdout",
          "text": [
            "74/74 [==============================] - 0s 6ms/step - loss: 0.9855 - acc: 0.8774\n"
          ]
        },
        {
          "output_type": "execute_result",
          "data": {
            "text/plain": [
              "[0.9855098128318787, 0.8773504495620728]"
            ]
          },
          "metadata": {},
          "execution_count": 29
        }
      ]
    },
    {
      "cell_type": "markdown",
      "source": [
        "# 최종평가 : test set 예측 "
      ],
      "metadata": {
        "id": "1GFz7qEmqADK"
      }
    },
    {
      "cell_type": "code",
      "source": [
        "def show_metrics(y_pred, y_actual) :\n",
        "  print('Accuracy  :',  accuracy_score(y_pred, y_actual))\n",
        "  print('Precision :', precision_score(y_pred, y_actual))\n",
        "  print('Recall    :',    recall_score(y_pred, y_actual))\n",
        "  print('F1-score  :',        f1_score(y_pred, y_actual))\n",
        "  print('Auc       :',   roc_auc_score(y_pred, y_actual))"
      ],
      "metadata": {
        "id": "1VkYDJicqcbb"
      },
      "execution_count": 35,
      "outputs": []
    },
    {
      "cell_type": "code",
      "source": [
        "def show_confusion_matrix(y_pred, y_actual, path, model_name) :\n",
        "  fig = plt.figure(figsize = (10, 8))\n",
        "  plt.title(model_name + ' Confusion Matrix')\n",
        "  sns.heatmap(confusion_matrix(y_pred, y_actual), annot = True, fmt = 'd', \n",
        "              cbar = False, cmap = sns.color_palette(\"Purples\",2),\n",
        "              xticklabels = ['Positive', 'Negative'],\n",
        "              yticklabels = ['Positive', 'Negative'])\n",
        "  plt.xlabel('Actuals')\n",
        "  plt.ylabel('Predicted')\n",
        "  plt.savefig(path + model_name +'_confusion_matrix.png', dpi = 300)\n",
        "  plt.show()"
      ],
      "metadata": {
        "id": "tY9SpoZdqdVk"
      },
      "execution_count": 36,
      "outputs": []
    },
    {
      "cell_type": "code",
      "source": [
        "model_LSTM.evaluate(test_x,test_y)"
      ],
      "metadata": {
        "colab": {
          "base_uri": "https://localhost:8080/"
        },
        "id": "H4pNoskXqFn0",
        "outputId": "d120cb1d-1e9c-4128-a342-f337a2f5aa90"
      },
      "execution_count": 37,
      "outputs": [
        {
          "output_type": "stream",
          "name": "stdout",
          "text": [
            "82/82 [==============================] - 1s 8ms/step - loss: 1.2414 - acc: 0.8838\n"
          ]
        },
        {
          "output_type": "execute_result",
          "data": {
            "text/plain": [
              "[1.241439700126648, 0.8838461637496948]"
            ]
          },
          "metadata": {},
          "execution_count": 37
        }
      ]
    },
    {
      "cell_type": "code",
      "source": [
        "y_pred = (model_CNN_LSTM.predict(test_x) > 0.5).astype(\"int32\")\n",
        "path2 = '/content/drive/MyDrive/ML2/'\n",
        "model_CNN_LSTM.save(path2 + 'CNN_LSTM.h5')"
      ],
      "metadata": {
        "id": "O4KcSqN2q0Hj",
        "colab": {
          "base_uri": "https://localhost:8080/"
        },
        "outputId": "a9cafde2-6902-4f9c-9878-5f9854508b9c"
      },
      "execution_count": 38,
      "outputs": [
        {
          "output_type": "stream",
          "name": "stdout",
          "text": [
            "82/82 [==============================] - 0s 6ms/step\n"
          ]
        }
      ]
    },
    {
      "cell_type": "code",
      "source": [
        "show_metrics(y_pred, test_y)\n",
        "show_confusion_matrix(y_pred, test_y, path2, 'LSTM')"
      ],
      "metadata": {
        "colab": {
          "base_uri": "https://localhost:8080/",
          "height": 605
        },
        "id": "IwuSvby2qsx3",
        "outputId": "18c55870-d877-42fe-dddf-c1bf060e2c13"
      },
      "execution_count": 40,
      "outputs": [
        {
          "output_type": "stream",
          "name": "stdout",
          "text": [
            "Accuracy  : 0.8634615384615385\n",
            "Precision : 0.8683812405446294\n",
            "Recall    : 0.8638073739653875\n",
            "F1-score  : 0.8660882685778951\n",
            "Auc       : 0.8634536476435907\n"
          ]
        },
        {
          "output_type": "display_data",
          "data": {
            "text/plain": [
              "<Figure size 720x576 with 1 Axes>"
            ],
            "image/png": "[encoded data removed]"
          },
          "metadata": {
            "needs_background": "light"
          }
        }
      ]
    }
  ]
}