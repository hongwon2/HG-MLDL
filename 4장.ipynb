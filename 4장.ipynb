{
  "nbformat": 4,
  "nbformat_minor": 0,
  "metadata": {
    "colab": {
      "name": "4장.ipynb",
      "provenance": [],
      "collapsed_sections": [],
      "authorship_tag": "ABX9TyM18xKlAXr5GkyYSIIVGqVy",
      "include_colab_link": true
    },
    "kernelspec": {
      "name": "python3",
      "display_name": "Python 3"
    },
    "language_info": {
      "name": "python"
    }
  },
  "cells": [
    {
      "cell_type": "markdown",
      "metadata": {
        "id": "view-in-github",
        "colab_type": "text"
      },
      "source": [
        "<a href=\"https://colab.research.google.com/github/hongwon2/HG-MLDL/blob/main/4%EC%9E%A5.ipynb\" target=\"_parent\"><img src=\"https://colab.research.google.com/assets/colab-badge.svg\" alt=\"Open In Colab\"/></a>"
      ]
    },
    {
      "cell_type": "markdown",
      "source": [
        "# **chapter04 다양한 분류 알고리즘**\n",
        "\n",
        "## **04-1 로지스틱 회귀**\n",
        "\n",
        "\n",
        "럭키백의 확률을 계산하라!"
      ],
      "metadata": {
        "id": "gXpwAPOS8Y_I"
      }
    },
    {
      "cell_type": "code",
      "source": [
        "import pandas as pd\n",
        "\n",
        "fish = pd.read_csv('http://bit.ly/fish_csv')\n",
        "fish.head()"
      ],
      "metadata": {
        "colab": {
          "base_uri": "https://localhost:8080/",
          "height": 206
        },
        "id": "BOgX7JB_8Z6D",
        "outputId": "cf35e9a7-1e32-4c25-85bd-e076336946e4"
      },
      "execution_count": 1,
      "outputs": [
        {
          "output_type": "execute_result",
          "data": {
            "text/plain": [
              "  Species  Weight  Length  Diagonal   Height   Width\n",
              "0   Bream   242.0    25.4      30.0  11.5200  4.0200\n",
              "1   Bream   290.0    26.3      31.2  12.4800  4.3056\n",
              "2   Bream   340.0    26.5      31.1  12.3778  4.6961\n",
              "3   Bream   363.0    29.0      33.5  12.7300  4.4555\n",
              "4   Bream   430.0    29.0      34.0  12.4440  5.1340"
            ],
            "text/html": [
              "\n",
              "  <div id=\"df-dad4c709-a79a-4e81-aac5-41808746d39e\">\n",
              "    <div class=\"colab-df-container\">\n",
              "      <div>\n",
              "<style scoped>\n",
              "    .dataframe tbody tr th:only-of-type {\n",
              "        vertical-align: middle;\n",
              "    }\n",
              "\n",
              "    .dataframe tbody tr th {\n",
              "        vertical-align: top;\n",
              "    }\n",
              "\n",
              "    .dataframe thead th {\n",
              "        text-align: right;\n",
              "    }\n",
              "</style>\n",
              "<table border=\"1\" class=\"dataframe\">\n",
              "  <thead>\n",
              "    <tr style=\"text-align: right;\">\n",
              "      <th></th>\n",
              "      <th>Species</th>\n",
              "      <th>Weight</th>\n",
              "      <th>Length</th>\n",
              "      <th>Diagonal</th>\n",
              "      <th>Height</th>\n",
              "      <th>Width</th>\n",
              "    </tr>\n",
              "  </thead>\n",
              "  <tbody>\n",
              "    <tr>\n",
              "      <th>0</th>\n",
              "      <td>Bream</td>\n",
              "      <td>242.0</td>\n",
              "      <td>25.4</td>\n",
              "      <td>30.0</td>\n",
              "      <td>11.5200</td>\n",
              "      <td>4.0200</td>\n",
              "    </tr>\n",
              "    <tr>\n",
              "      <th>1</th>\n",
              "      <td>Bream</td>\n",
              "      <td>290.0</td>\n",
              "      <td>26.3</td>\n",
              "      <td>31.2</td>\n",
              "      <td>12.4800</td>\n",
              "      <td>4.3056</td>\n",
              "    </tr>\n",
              "    <tr>\n",
              "      <th>2</th>\n",
              "      <td>Bream</td>\n",
              "      <td>340.0</td>\n",
              "      <td>26.5</td>\n",
              "      <td>31.1</td>\n",
              "      <td>12.3778</td>\n",
              "      <td>4.6961</td>\n",
              "    </tr>\n",
              "    <tr>\n",
              "      <th>3</th>\n",
              "      <td>Bream</td>\n",
              "      <td>363.0</td>\n",
              "      <td>29.0</td>\n",
              "      <td>33.5</td>\n",
              "      <td>12.7300</td>\n",
              "      <td>4.4555</td>\n",
              "    </tr>\n",
              "    <tr>\n",
              "      <th>4</th>\n",
              "      <td>Bream</td>\n",
              "      <td>430.0</td>\n",
              "      <td>29.0</td>\n",
              "      <td>34.0</td>\n",
              "      <td>12.4440</td>\n",
              "      <td>5.1340</td>\n",
              "    </tr>\n",
              "  </tbody>\n",
              "</table>\n",
              "</div>\n",
              "      <button class=\"colab-df-convert\" onclick=\"convertToInteractive('df-dad4c709-a79a-4e81-aac5-41808746d39e')\"\n",
              "              title=\"Convert this dataframe to an interactive table.\"\n",
              "              style=\"display:none;\">\n",
              "        \n",
              "  <svg xmlns=\"http://www.w3.org/2000/svg\" height=\"24px\"viewBox=\"0 0 24 24\"\n",
              "       width=\"24px\">\n",
              "    <path d=\"M0 0h24v24H0V0z\" fill=\"none\"/>\n",
              "    <path d=\"M18.56 5.44l.94 2.06.94-2.06 2.06-.94-2.06-.94-.94-2.06-.94 2.06-2.06.94zm-11 1L8.5 8.5l.94-2.06 2.06-.94-2.06-.94L8.5 2.5l-.94 2.06-2.06.94zm10 10l.94 2.06.94-2.06 2.06-.94-2.06-.94-.94-2.06-.94 2.06-2.06.94z\"/><path d=\"M17.41 7.96l-1.37-1.37c-.4-.4-.92-.59-1.43-.59-.52 0-1.04.2-1.43.59L10.3 9.45l-7.72 7.72c-.78.78-.78 2.05 0 2.83L4 21.41c.39.39.9.59 1.41.59.51 0 1.02-.2 1.41-.59l7.78-7.78 2.81-2.81c.8-.78.8-2.07 0-2.86zM5.41 20L4 18.59l7.72-7.72 1.47 1.35L5.41 20z\"/>\n",
              "  </svg>\n",
              "      </button>\n",
              "      \n",
              "  <style>\n",
              "    .colab-df-container {\n",
              "      display:flex;\n",
              "      flex-wrap:wrap;\n",
              "      gap: 12px;\n",
              "    }\n",
              "\n",
              "    .colab-df-convert {\n",
              "      background-color: #E8F0FE;\n",
              "      border: none;\n",
              "      border-radius: 50%;\n",
              "      cursor: pointer;\n",
              "      display: none;\n",
              "      fill: #1967D2;\n",
              "      height: 32px;\n",
              "      padding: 0 0 0 0;\n",
              "      width: 32px;\n",
              "    }\n",
              "\n",
              "    .colab-df-convert:hover {\n",
              "      background-color: #E2EBFA;\n",
              "      box-shadow: 0px 1px 2px rgba(60, 64, 67, 0.3), 0px 1px 3px 1px rgba(60, 64, 67, 0.15);\n",
              "      fill: #174EA6;\n",
              "    }\n",
              "\n",
              "    [theme=dark] .colab-df-convert {\n",
              "      background-color: #3B4455;\n",
              "      fill: #D2E3FC;\n",
              "    }\n",
              "\n",
              "    [theme=dark] .colab-df-convert:hover {\n",
              "      background-color: #434B5C;\n",
              "      box-shadow: 0px 1px 3px 1px rgba(0, 0, 0, 0.15);\n",
              "      filter: drop-shadow(0px 1px 2px rgba(0, 0, 0, 0.3));\n",
              "      fill: #FFFFFF;\n",
              "    }\n",
              "  </style>\n",
              "\n",
              "      <script>\n",
              "        const buttonEl =\n",
              "          document.querySelector('#df-dad4c709-a79a-4e81-aac5-41808746d39e button.colab-df-convert');\n",
              "        buttonEl.style.display =\n",
              "          google.colab.kernel.accessAllowed ? 'block' : 'none';\n",
              "\n",
              "        async function convertToInteractive(key) {\n",
              "          const element = document.querySelector('#df-dad4c709-a79a-4e81-aac5-41808746d39e');\n",
              "          const dataTable =\n",
              "            await google.colab.kernel.invokeFunction('convertToInteractive',\n",
              "                                                     [key], {});\n",
              "          if (!dataTable) return;\n",
              "\n",
              "          const docLinkHtml = 'Like what you see? Visit the ' +\n",
              "            '<a target=\"_blank\" href=https://colab.research.google.com/notebooks/data_table.ipynb>data table notebook</a>'\n",
              "            + ' to learn more about interactive tables.';\n",
              "          element.innerHTML = '';\n",
              "          dataTable['output_type'] = 'display_data';\n",
              "          await google.colab.output.renderOutput(dataTable, element);\n",
              "          const docLink = document.createElement('div');\n",
              "          docLink.innerHTML = docLinkHtml;\n",
              "          element.appendChild(docLink);\n",
              "        }\n",
              "      </script>\n",
              "    </div>\n",
              "  </div>\n",
              "  "
            ]
          },
          "metadata": {},
          "execution_count": 1
        }
      ]
    },
    {
      "cell_type": "markdown",
      "source": [
        "**데이터 프레임이란**\n",
        "\n",
        "2차원 형식의 주요 데이터 구조\n",
        "\n",
        "넘파이,사이킷런과 호환 굿"
      ],
      "metadata": {
        "id": "Nn5C7RTL8-Rh"
      }
    },
    {
      "cell_type": "code",
      "source": [
        "print(pd.unique(fish['Species'])) #시리즈 열에서 고유값 추출 - pd.unique()"
      ],
      "metadata": {
        "colab": {
          "base_uri": "https://localhost:8080/"
        },
        "id": "GmivAbVS9IC0",
        "outputId": "97c51af6-6eb1-4e0e-a5c7-9a74581b294d"
      },
      "execution_count": 2,
      "outputs": [
        {
          "output_type": "stream",
          "name": "stdout",
          "text": [
            "['Bream' 'Roach' 'Whitefish' 'Parkki' 'Perch' 'Pike' 'Smelt']\n"
          ]
        }
      ]
    },
    {
      "cell_type": "code",
      "source": [
        "#fish_input = fish['Weight'].to_numpy() #값이 한 배열에 다 들어감\n",
        "#fish_input = fish['Weight','Length'].to_numpy() #같은 배열에 들어 갈 수없음 한 열만 가능\n",
        "#fish_input = fish[['Weight','Length']] - 데이터 프레임 형식이니까 넘파이로 바꿔야함\n",
        "fish_input = fish[['Weight','Length','Diagonal','Height','Width']].to_numpy()\n",
        "\n"
      ],
      "metadata": {
        "id": "U9aW-kqO-lea"
      },
      "execution_count": 3,
      "outputs": []
    },
    {
      "cell_type": "code",
      "source": [
        "print(fish_input[:5])"
      ],
      "metadata": {
        "colab": {
          "base_uri": "https://localhost:8080/"
        },
        "id": "RVCxpDT4-s_6",
        "outputId": "f741dad1-13d4-4108-f2b9-4e7d593b6a45"
      },
      "execution_count": 4,
      "outputs": [
        {
          "output_type": "stream",
          "name": "stdout",
          "text": [
            "[[242.      25.4     30.      11.52     4.02  ]\n",
            " [290.      26.3     31.2     12.48     4.3056]\n",
            " [340.      26.5     31.1     12.3778   4.6961]\n",
            " [363.      29.      33.5     12.73     4.4555]\n",
            " [430.      29.      34.      12.444    5.134 ]]\n"
          ]
        }
      ]
    },
    {
      "cell_type": "code",
      "source": [
        "fish_target = fish['Species'].to_numpy() # 넘파이 배열로 바꾸어 fish_target에 저장"
      ],
      "metadata": {
        "id": "CDxyziqzB9S-"
      },
      "execution_count": 5,
      "outputs": []
    },
    {
      "cell_type": "code",
      "source": [
        "print(fish_target)"
      ],
      "metadata": {
        "colab": {
          "base_uri": "https://localhost:8080/"
        },
        "id": "QZc9IIajCGqe",
        "outputId": "ed850a6e-d842-4713-da59-dd36c2ed6b8f"
      },
      "execution_count": 6,
      "outputs": [
        {
          "output_type": "stream",
          "name": "stdout",
          "text": [
            "['Bream' 'Bream' 'Bream' 'Bream' 'Bream' 'Bream' 'Bream' 'Bream' 'Bream'\n",
            " 'Bream' 'Bream' 'Bream' 'Bream' 'Bream' 'Bream' 'Bream' 'Bream' 'Bream'\n",
            " 'Bream' 'Bream' 'Bream' 'Bream' 'Bream' 'Bream' 'Bream' 'Bream' 'Bream'\n",
            " 'Bream' 'Bream' 'Bream' 'Bream' 'Bream' 'Bream' 'Bream' 'Bream' 'Roach'\n",
            " 'Roach' 'Roach' 'Roach' 'Roach' 'Roach' 'Roach' 'Roach' 'Roach' 'Roach'\n",
            " 'Roach' 'Roach' 'Roach' 'Roach' 'Roach' 'Roach' 'Roach' 'Roach' 'Roach'\n",
            " 'Roach' 'Whitefish' 'Whitefish' 'Whitefish' 'Whitefish' 'Whitefish'\n",
            " 'Whitefish' 'Parkki' 'Parkki' 'Parkki' 'Parkki' 'Parkki' 'Parkki'\n",
            " 'Parkki' 'Parkki' 'Parkki' 'Parkki' 'Parkki' 'Perch' 'Perch' 'Perch'\n",
            " 'Perch' 'Perch' 'Perch' 'Perch' 'Perch' 'Perch' 'Perch' 'Perch' 'Perch'\n",
            " 'Perch' 'Perch' 'Perch' 'Perch' 'Perch' 'Perch' 'Perch' 'Perch' 'Perch'\n",
            " 'Perch' 'Perch' 'Perch' 'Perch' 'Perch' 'Perch' 'Perch' 'Perch' 'Perch'\n",
            " 'Perch' 'Perch' 'Perch' 'Perch' 'Perch' 'Perch' 'Perch' 'Perch' 'Perch'\n",
            " 'Perch' 'Perch' 'Perch' 'Perch' 'Perch' 'Perch' 'Perch' 'Perch' 'Perch'\n",
            " 'Perch' 'Perch' 'Perch' 'Perch' 'Perch' 'Perch' 'Perch' 'Perch' 'Pike'\n",
            " 'Pike' 'Pike' 'Pike' 'Pike' 'Pike' 'Pike' 'Pike' 'Pike' 'Pike' 'Pike'\n",
            " 'Pike' 'Pike' 'Pike' 'Pike' 'Pike' 'Pike' 'Smelt' 'Smelt' 'Smelt' 'Smelt'\n",
            " 'Smelt' 'Smelt' 'Smelt' 'Smelt' 'Smelt' 'Smelt' 'Smelt' 'Smelt' 'Smelt'\n",
            " 'Smelt']\n"
          ]
        }
      ]
    },
    {
      "cell_type": "code",
      "source": [
        "from sklearn.model_selection import train_test_split\n",
        "train_input,test_input,train_target,test_target = train_test_split(fish_input,fish_target,random_state = 42)  "
      ],
      "metadata": {
        "id": "aDKNm-7HCadQ"
      },
      "execution_count": 7,
      "outputs": []
    },
    {
      "cell_type": "code",
      "source": [
        "# 훈련세트와 테스트 세트를 표준화 전처리하기 - 이부분 잘 모르니 연습하기\n",
        "#'Weight','Length','Diagonal','Height','Width' 모두 크기가 다르니까 맞춰줘야지 \n",
        "# 표준점수로 훈련세트 스케일링 하고(fit),transfrom으로 변환해라 - 인풋데이터\n",
        "from sklearn.preprocessing import StandardScaler\n",
        "ss = StandardScaler()\n",
        "ss.fit(train_input)\n",
        "train_scaled = ss.transform(train_input)\n",
        "test_scaled = ss.transform(test_input)\n"
      ],
      "metadata": {
        "id": "iQmwCHFvC8lB"
      },
      "execution_count": 8,
      "outputs": []
    },
    {
      "cell_type": "markdown",
      "source": [
        "k-최근접 이웃 분류기의 확률 예측\n",
        "\n",
        "데이터 준비,스켈일링 다 끝냈다면 이제 예측할 차례!"
      ],
      "metadata": {
        "id": "Ci8JImMKEX8J"
      }
    },
    {
      "cell_type": "code",
      "source": [
        "from sklearn.neighbors import KNeighborsClassifier\n",
        "knc = KNeighborsClassifier(n_neighbors=3)\n",
        "knc.fit(train_scaled,train_target) #사실 사이킷 런은 타겟값을 자동으로 정수로 바꿔줌\n",
        "print(knc.score(train_scaled,train_target))\n",
        "print(knc.score(test_scaled,test_target))"
      ],
      "metadata": {
        "colab": {
          "base_uri": "https://localhost:8080/"
        },
        "id": "n_vLKhQ4Egz3",
        "outputId": "9a96a254-fb01-4375-fb3b-2b01748ffd47"
      },
      "execution_count": 9,
      "outputs": [
        {
          "output_type": "stream",
          "name": "stdout",
          "text": [
            "0.8907563025210085\n",
            "0.85\n"
          ]
        }
      ]
    },
    {
      "cell_type": "code",
      "source": [
        "print(knc.classes_) # KNeighborsClassifier에서 정렬된 타깃값은 classes_속성에 저장 - 알파벳순\n",
        "# 함수에 _ 는 내가 지정한게 아니라 컴퓨터가 스스로 학습하면서 정한 것"
      ],
      "metadata": {
        "colab": {
          "base_uri": "https://localhost:8080/"
        },
        "id": "9v7SQVPyGmQL",
        "outputId": "0f9a5c95-cece-4fb7-93e9-b9fa8286cd29"
      },
      "execution_count": 10,
      "outputs": [
        {
          "output_type": "stream",
          "name": "stdout",
          "text": [
            "['Bream' 'Parkki' 'Perch' 'Pike' 'Roach' 'Smelt' 'Whitefish']\n"
          ]
        }
      ]
    },
    {
      "cell_type": "code",
      "source": [
        "print(knc.predict(test_scaled[:5]))"
      ],
      "metadata": {
        "colab": {
          "base_uri": "https://localhost:8080/"
        },
        "id": "Q_WzdPYQG9yI",
        "outputId": "e5829262-4867-48ea-aa87-3f8e3ccd5b30"
      },
      "execution_count": 11,
      "outputs": [
        {
          "output_type": "stream",
          "name": "stdout",
          "text": [
            "['Perch' 'Smelt' 'Pike' 'Perch' 'Perch']\n"
          ]
        }
      ]
    },
    {
      "cell_type": "code",
      "source": [
        "from numpy.lib.shape_base import row_stack\n",
        "import numpy as np\n",
        "proba = knc.predict_proba(test_scaled[:5])\n",
        "#print(knc.classes_)\n",
        "#print(np.round(proba,decimals=4))\n",
        "#print(row_stack([knc.classes_,proba]))\n",
        "print(pd.DataFrame(np.round(proba,decimals=4),columns = knc.classes_))"
      ],
      "metadata": {
        "colab": {
          "base_uri": "https://localhost:8080/"
        },
        "id": "LrUWcYIjHo5R",
        "outputId": "50158538-1033-41de-a97f-e5faddf99694"
      },
      "execution_count": 12,
      "outputs": [
        {
          "output_type": "stream",
          "name": "stdout",
          "text": [
            "   Bream  Parkki   Perch  Pike   Roach  Smelt  Whitefish\n",
            "0    0.0     0.0  1.0000   0.0  0.0000    0.0        0.0\n",
            "1    0.0     0.0  0.0000   0.0  0.0000    1.0        0.0\n",
            "2    0.0     0.0  0.0000   1.0  0.0000    0.0        0.0\n",
            "3    0.0     0.0  0.6667   0.0  0.3333    0.0        0.0\n",
            "4    0.0     0.0  0.6667   0.0  0.3333    0.0        0.0\n"
          ]
        }
      ]
    },
    {
      "cell_type": "code",
      "source": [
        "print(test_scaled[3:4]) # 3행 픽\n"
      ],
      "metadata": {
        "colab": {
          "base_uri": "https://localhost:8080/"
        },
        "id": "m7XO6px6Nn-L",
        "outputId": "697962d2-af4e-4108-8529-25bdaf779c57"
      },
      "execution_count": 13,
      "outputs": [
        {
          "output_type": "stream",
          "name": "stdout",
          "text": [
            "[[-0.34698097 -0.23396068 -0.22320459 -0.11905019 -0.12233464]]\n"
          ]
        }
      ]
    },
    {
      "cell_type": "code",
      "source": [
        "distances,indexes = knc.kneighbors(test_scaled[3:4])\n",
        "print(distances,indexes) # 위 행과 가장 가까운  트레인 셋 중 3개의 거리와, 3개의 인덱스번호 \n",
        "#왜냐면 fit을 트레인셋에 했잖아\n",
        "print(train_target[indexes]) #트레인셋 인덱스의 타겟정보"
      ],
      "metadata": {
        "colab": {
          "base_uri": "https://localhost:8080/"
        },
        "id": "RiPNC3K0I47U",
        "outputId": "555560bb-f732-4132-c056-eb19810e19af"
      },
      "execution_count": 14,
      "outputs": [
        {
          "output_type": "stream",
          "name": "stdout",
          "text": [
            "[[0.20774583 0.24862983 0.33682411]] [[104 115 106]]\n",
            "[['Roach' 'Perch' 'Perch']]\n"
          ]
        }
      ]
    },
    {
      "cell_type": "markdown",
      "source": [
        "로지스틱 회귀"
      ],
      "metadata": {
        "id": "U7_--26sS-Mb"
      }
    },
    {
      "cell_type": "code",
      "source": [
        "import numpy as np\n",
        "import matplotlib.pyplot as plt\n",
        "z = np.arange(-5,5,0.01)  # 0.1 간격으로 곡선을 부드럽게 하는 효과\n",
        "phi = 1 / (1 + np.exp(-z)) #시그모이드 함수(=y값)\n",
        "plt.plot(z , phi)\n",
        "plt.xlabel('z')\n",
        "plt.ylabel('phi')\n",
        "plt.show()"
      ],
      "metadata": {
        "colab": {
          "base_uri": "https://localhost:8080/",
          "height": 279
        },
        "id": "5Bn7MNuETACx",
        "outputId": "4c709529-f5ba-47c1-99c0-2c5fad7fd58a"
      },
      "execution_count": 15,
      "outputs": [
        {
          "output_type": "display_data",
          "data": {
            "text/plain": [
              "<Figure size 432x288 with 1 Axes>"
            ],
            "image/png": "[encoded data removed]"
          },
          "metadata": {
            "needs_background": "light"
          }
        }
      ]
    },
    {
      "cell_type": "markdown",
      "source": [
        "## **로지스틱 회귀로 이진 분류 수행하기**\n",
        "\n",
        "이진분류인 경우 시그모이드 함수의 출력이 \n",
        "\n",
        "'>0.5 양성클래스, <0.5 음성 클래스 \n",
        "\n",
        "'=0.5일 경우 라이브러리마다 다르다! 사이킷런은 음성\n",
        "\n",
        "**불리언 인덱싱(boolean indexing) = 넘파이 배열은 True, False 값**"
      ],
      "metadata": {
        "id": "9RHUN8DcaJAw"
      }
    },
    {
      "cell_type": "code",
      "source": [
        "#불리언 인덱싱\n",
        "#예시 A C 골라내기\n",
        "char_arr = np.array(['A','B','C','D','E'])\n",
        "print(char_arr[[True,False,True,False,False]])"
      ],
      "metadata": {
        "colab": {
          "base_uri": "https://localhost:8080/"
        },
        "id": "yZaIoMA_aJlb",
        "outputId": "d25829a9-c75b-4bf1-fb5d-d35bad9d1d94"
      },
      "execution_count": 16,
      "outputs": [
        {
          "output_type": "stream",
          "name": "stdout",
          "text": [
            "['A' 'C']\n"
          ]
        }
      ]
    },
    {
      "cell_type": "code",
      "source": [
        "# 불리언 인덱싱으로 도미(Bream)와 빙어(Smelt)의 행만 골라내기\n",
        "# 비교 결과를 비트 or 연산자(|)를 사용해 합치면 골라낼 수 있다.\n",
        "bream_smelt_indexes = (train_target == 'Bream') | (train_target == 'Smelt')\n",
        "train_bream_smelt = train_scaled[bream_smelt_indexes]\n",
        "target_bream_smelt = train_target[bream_smelt_indexes]\n",
        "#bream과 smelt 일 경우 true, 아니면 false\n",
        "#bream과 smelt를 뽑아내는 방법"
      ],
      "metadata": {
        "id": "bRt4L7Zea0e6"
      },
      "execution_count": 17,
      "outputs": []
    },
    {
      "cell_type": "code",
      "source": [
        "# 도미와 빙어만 골라낸 데이터로 로지스틱 회귀 모델 훈련하기\n",
        "# LogisticRegression 클래스는 선형 모델이므로 sklearn.linear_model 패키지에 존재\n",
        "from sklearn.linear_model import LogisticRegression\n",
        "lr = LogisticRegression()\n",
        "lr.fit(train_bream_smelt,target_bream_smelt)"
      ],
      "metadata": {
        "colab": {
          "base_uri": "https://localhost:8080/"
        },
        "id": "Dnl58B09qMGO",
        "outputId": "032fe64d-4052-43a6-d8b8-72075f380bf7"
      },
      "execution_count": 18,
      "outputs": [
        {
          "output_type": "execute_result",
          "data": {
            "text/plain": [
              "LogisticRegression()"
            ]
          },
          "metadata": {},
          "execution_count": 18
        }
      ]
    },
    {
      "cell_type": "code",
      "source": [
        "#훈련 모델로 5개 예측하기\n",
        "#print(lr.classes_) 알파벳 순으로\n",
        "#0번 열(음성클래스):(도미:bream_), 1번열(양성클래스):(빙어 : smelt)\n",
        "#print(lr.predict_proba(train_bream_smelt[:5]))\n",
        "print(pd.DataFrame(lr.predict_proba(train_bream_smelt[:5]),columns = lr.classes_))"
      ],
      "metadata": {
        "colab": {
          "base_uri": "https://localhost:8080/"
        },
        "id": "cWO2xl8Dq4y6",
        "outputId": "90a2b198-1c91-4286-b992-6dae01215963"
      },
      "execution_count": 19,
      "outputs": [
        {
          "output_type": "stream",
          "name": "stdout",
          "text": [
            "      Bream     Smelt\n",
            "0  0.997599  0.002401\n",
            "1  0.027352  0.972648\n",
            "2  0.994861  0.005139\n",
            "3  0.985842  0.014158\n",
            "4  0.997673  0.002327\n"
          ]
        }
      ]
    },
    {
      "cell_type": "code",
      "source": [
        "# 선형 회귀처럼 로지스틱 회귀가 학습한 계수 확인하기\n",
        "print(lr.coef_ , lr.intercept_)\n",
        "# z = -0.4037798*무게-0.57620209*길이-0.66280298*대각선-1.01290277*높이-0.73168947*두께 -2.16155132\n"
      ],
      "metadata": {
        "colab": {
          "base_uri": "https://localhost:8080/"
        },
        "id": "2xlZnBursJJg",
        "outputId": "0b18c853-f859-438e-f04a-1fc412e9ef19"
      },
      "execution_count": 20,
      "outputs": [
        {
          "output_type": "stream",
          "name": "stdout",
          "text": [
            "[[-0.4037798  -0.57620209 -0.66280298 -1.01290277 -0.73168947]] [-2.16155132]\n"
          ]
        }
      ]
    },
    {
      "cell_type": "code",
      "source": [
        "# LogisticRegression 클래스는 decision_function()메서드로 z값을 출력할 수 있다!\n",
        "# 처음 5개 샘플의 z 값을 출력해보자\n",
        "decisions = lr.decision_function(train_bream_smelt[:5])\n",
        "print(decisions)\n"
      ],
      "metadata": {
        "colab": {
          "base_uri": "https://localhost:8080/"
        },
        "id": "wSrCQgvMtrzb",
        "outputId": "42561432-91b0-494c-c000-ef0661e52f0e"
      },
      "execution_count": 21,
      "outputs": [
        {
          "output_type": "stream",
          "name": "stdout",
          "text": [
            "[-6.02927744  3.57123907 -5.26568906 -4.24321775 -6.0607117 ]\n"
          ]
        }
      ]
    },
    {
      "cell_type": "code",
      "source": [
        "# 이 z 값을 시그모이드 함수에 통과시키면 확률을 얻을 수 있음\n",
        "# 다행히 파이썬의 사이파이(scipy) 라이브러리에도 시그모이드 함수-expit() 함수가 있음.\n",
        "# np.exp()함수를 사용해 분수 계산을 하는 것보다 훨씬 편리하고 안전함\n",
        "from scipy.special import expit\n",
        "print(expit(decisions))\n",
        "# z값을 시그모이드 함수에 집어넣고 이진분류 로지스틱회귀니까 양성(1열)만을 반환\n",
        "# 출력된 값을 보면 predict_proba() 메서드 출력의 두 번째 열의 값과 동일함\n",
        "# 즉, decision_function() 메서드는 양성 클래스에 대한 z 값을 반환함\n"
      ],
      "metadata": {
        "colab": {
          "base_uri": "https://localhost:8080/"
        },
        "id": "SIi68ox0zO9B",
        "outputId": "4a324b33-f7f4-4e47-dbe9-1edfa2389b70"
      },
      "execution_count": 22,
      "outputs": [
        {
          "output_type": "stream",
          "name": "stdout",
          "text": [
            "[0.00240145 0.97264817 0.00513928 0.01415798 0.00232731]\n"
          ]
        }
      ]
    },
    {
      "cell_type": "code",
      "source": [
        "plt.plot(z,expit(z))\n",
        "plt.scatter(decisions,expit(decisions),marker = \"^\",color = 'red')\n",
        "plt.xlabel('z')\n",
        "plt.ylabel('phi')\n",
        "plt.show()\n",
        "print(lr.predict(train_bream_smelt[:5]))"
      ],
      "metadata": {
        "colab": {
          "base_uri": "https://localhost:8080/",
          "height": 297
        },
        "id": "jWmyPOjHnIin",
        "outputId": "ddd2d20b-f09f-47a4-8430-97c97a46bee4"
      },
      "execution_count": 23,
      "outputs": [
        {
          "output_type": "display_data",
          "data": {
            "text/plain": [
              "<Figure size 432x288 with 1 Axes>"
            ],
            "image/png": "[encoded data removed]"
          },
          "metadata": {
            "needs_background": "light"
          }
        },
        {
          "output_type": "stream",
          "name": "stdout",
          "text": [
            "['Bream' 'Smelt' 'Bream' 'Bream' 'Bream']\n"
          ]
        }
      ]
    },
    {
      "cell_type": "markdown",
      "source": [
        "## **로지스틱 회귀로 다중 분류 수행하기**\n",
        "\n",
        "이진분류와의 차이점을 알아보자\n",
        "\n",
        "LogisticRegression 클래스는 기본적으로 반복적인 알고리즘을 사용함.\n",
        "\n",
        " - max_iter 매개변수에서 반복횟수를 지정(100은 부족, 1,000으로 변경)\n",
        "\n",
        "\n",
        "LogisticRegresiion은 기본적으로 릿지 회귀와 같이 계수로 제곱을 규제함\n",
        "\n",
        " - 이런 규제를 'L2 규제'라고 함.\n",
        "\n",
        " - 매개변수 C, 작을수록 규제가 커짐. C의 기본값은 1(사이킷런의 분류모델은 alpha 말고 C)"
      ],
      "metadata": {
        "id": "nsu1oE2azq2Z"
      }
    },
    {
      "cell_type": "code",
      "source": [
        "lr = LogisticRegression(C = 20,max_iter = 1000)\n",
        "lr.fit(train_scaled,train_target)\n",
        "print(lr.score(train_scaled, train_target))\n",
        "print(lr.score(test_scaled, test_target))\n"
      ],
      "metadata": {
        "colab": {
          "base_uri": "https://localhost:8080/"
        },
        "id": "jrQoRG9jzc_k",
        "outputId": "e831bc58-fb64-4e77-8283-cf080e14ca1a"
      },
      "execution_count": 24,
      "outputs": [
        {
          "output_type": "stream",
          "name": "stdout",
          "text": [
            "0.9327731092436975\n",
            "0.925\n"
          ]
        }
      ]
    },
    {
      "cell_type": "code",
      "source": [
        "# 훈련 세트와 테스트 세트가 과대적합이나 과소적합이 아닌 것으로 보여짐.\n",
        "# 테스트 세트의 처음 5개 샘플에 대한 예측 출력\n",
        "print(lr.predict(test_scaled[:5]))"
      ],
      "metadata": {
        "colab": {
          "base_uri": "https://localhost:8080/"
        },
        "id": "GlPGH0sm09fj",
        "outputId": "68659590-6310-4096-f4fa-593dfef0761b"
      },
      "execution_count": 25,
      "outputs": [
        {
          "output_type": "stream",
          "name": "stdout",
          "text": [
            "['Perch' 'Smelt' 'Pike' 'Roach' 'Perch']\n"
          ]
        }
      ]
    },
    {
      "cell_type": "code",
      "source": [
        "#처음 5개 샘플에 대한 예측 확률을 출력\n",
        "#반올림 시행\n",
        "proba = lr.predict_proba(test_scaled[:5])\n",
        "#print(np.round(proba,decimals = 3 ))\n",
        "print(pd.DataFrame(np.round(proba,decimals = 3 ),columns = lr.classes_))"
      ],
      "metadata": {
        "colab": {
          "base_uri": "https://localhost:8080/"
        },
        "id": "2qO6JDMl1YXR",
        "outputId": "6d11d05e-4a8a-4ec3-e543-d020837d8b42"
      },
      "execution_count": 26,
      "outputs": [
        {
          "output_type": "stream",
          "name": "stdout",
          "text": [
            "   Bream  Parkki  Perch   Pike  Roach  Smelt  Whitefish\n",
            "0  0.000   0.014  0.841  0.000  0.136  0.007      0.003\n",
            "1  0.000   0.003  0.044  0.000  0.007  0.946      0.000\n",
            "2  0.000   0.000  0.034  0.935  0.015  0.016      0.000\n",
            "3  0.011   0.034  0.306  0.007  0.567  0.000      0.076\n",
            "4  0.000   0.000  0.904  0.002  0.089  0.002      0.001\n"
          ]
        }
      ]
    },
    {
      "cell_type": "code",
      "source": [
        "# 다중 분류일 경우 선형 방정식은 어떠한 모습일까?\n",
        "# coef_intercept_의 크기를 출력해보자\n",
        "print(lr.coef_)\n",
        "print(lr.coef_.shape)\n",
        "print('---------------')\n",
        "print(lr.intercept_)\n",
        "print(lr.intercept_.shape)\n"
      ],
      "metadata": {
        "colab": {
          "base_uri": "https://localhost:8080/"
        },
        "id": "MeOcBt-h2J8z",
        "outputId": "2d28e2d5-43a6-4bb2-d6b6-8816aa8c5ca7"
      },
      "execution_count": 27,
      "outputs": [
        {
          "output_type": "stream",
          "name": "stdout",
          "text": [
            "[[-1.49002087 -1.02912886  2.59345551  7.70357682 -1.2007011 ]\n",
            " [ 0.19618235 -2.01068181 -3.77976834  6.50491489 -1.99482722]\n",
            " [ 3.56279745  6.34357182 -8.48971143 -5.75757348  3.79307308]\n",
            " [-0.10458098  3.60319431  3.93067812 -3.61736674 -1.75069691]\n",
            " [-1.40061442 -6.07503434  5.25969314 -0.87220069  1.86043659]\n",
            " [-1.38526214  1.49214574  1.39226167 -5.67734118 -4.40097523]\n",
            " [ 0.62149861 -2.32406685 -0.90660867  1.71599038  3.6936908 ]]\n",
            "(7, 5)\n",
            "---------------\n",
            "[-0.09205179 -0.26290885  3.25101327 -0.14742956  2.65498283 -6.78782948\n",
            "  1.38422358]\n",
            "(7,)\n"
          ]
        }
      ]
    },
    {
      "cell_type": "code",
      "source": [
        "decision = lr.decision_function(test_scaled[:5])\n",
        "print(np.round(decision,decimals = 2))\n",
        "# 5개 특성을 사용하므로 coef_배열의 열은 5개다\n",
        "# 행이 7개란 말은 이진 분류에서 보았던 z를 7개나 계산한다.\n",
        "# 다중 분류는 클래스마다 z 값을 하나씩 계산한다. \n",
        "\n",
        "# 이진 분류는 z를 0~1사이의 값으로 변환, \n",
        "# 다중 분류는 소프트맥스함수를 사용하여 7개의 z값을 확률로 변환함."
      ],
      "metadata": {
        "colab": {
          "base_uri": "https://localhost:8080/"
        },
        "id": "HKJjH5lS4Gdb",
        "outputId": "d7f07e6a-cc0c-46cc-c18e-a21f5e518924"
      },
      "execution_count": 28,
      "outputs": [
        {
          "output_type": "stream",
          "name": "stdout",
          "text": [
            "[[ -6.5    1.03   5.16  -2.73   3.34   0.33  -0.63]\n",
            " [-10.86   1.93   4.77  -2.4    2.98   7.84  -4.26]\n",
            " [ -4.34  -6.23   3.17   6.49   2.36   2.42  -3.87]\n",
            " [ -0.68   0.45   2.65  -1.19   3.26  -5.75   1.26]\n",
            " [ -6.4   -1.99   5.82  -0.11   3.5   -0.11  -0.71]]\n"
          ]
        }
      ]
    },
    {
      "cell_type": "code",
      "source": [
        "# 사이파이는 소프트맥스 함수도 제공함\n",
        "# scipy.special 아래에 softmax() 함수를 임포트해 사용함\n",
        "from scipy.special import softmax\n",
        "proba = softmax(decision,axis = 1)\n",
        "#print(np.round(proba,decimals = 3))\n",
        "# decision 배열을 softmax() 함수에 전달함\n",
        "# softmax() 의 axis 매개변수는 소프트 맥스를 계산할 축을 지정\n",
        "# 만약 axis 매개변수를 지정하지 않으면 배열 전체에 대한 소프트 맥스를 계산함. \n",
        "print(pd.DataFrame(np.round(proba,decimals = 3),columns = lr.classes_))\n",
        "print(lr.predict(test_scaled[:5]))\n"
      ],
      "metadata": {
        "colab": {
          "base_uri": "https://localhost:8080/"
        },
        "id": "b4AnJYid4b7a",
        "outputId": "92be9dd2-ca82-40ef-be40-64b636c8921a"
      },
      "execution_count": 29,
      "outputs": [
        {
          "output_type": "stream",
          "name": "stdout",
          "text": [
            "   Bream  Parkki  Perch   Pike  Roach  Smelt  Whitefish\n",
            "0  0.000   0.014  0.841  0.000  0.136  0.007      0.003\n",
            "1  0.000   0.003  0.044  0.000  0.007  0.946      0.000\n",
            "2  0.000   0.000  0.034  0.935  0.015  0.016      0.000\n",
            "3  0.011   0.034  0.306  0.007  0.567  0.000      0.076\n",
            "4  0.000   0.000  0.904  0.002  0.089  0.002      0.001\n",
            "['Perch' 'Smelt' 'Pike' 'Roach' 'Perch']\n"
          ]
        }
      ]
    }
  ]
}