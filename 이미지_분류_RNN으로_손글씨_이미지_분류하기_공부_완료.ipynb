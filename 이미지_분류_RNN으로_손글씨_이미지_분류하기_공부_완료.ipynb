{
  "nbformat": 4,
  "nbformat_minor": 0,
  "metadata": {
    "colab": {
      "provenance": [],
      "collapsed_sections": [
        "7FQT89oqrdkA"
      ],
      "include_colab_link": true
    },
    "kernelspec": {
      "name": "python3",
      "display_name": "Python 3"
    }
  },
  "cells": [
    {
      "cell_type": "markdown",
      "metadata": {
        "id": "view-in-github",
        "colab_type": "text"
      },
      "source": [
        "<a href=\"https://colab.research.google.com/github/hongwon2/HG-MLDL/blob/main/%EC%9D%B4%EB%AF%B8%EC%A7%80_%EB%B6%84%EB%A5%98_RNN%EC%9C%BC%EB%A1%9C_%EC%86%90%EA%B8%80%EC%94%A8_%EC%9D%B4%EB%AF%B8%EC%A7%80_%EB%B6%84%EB%A5%98%ED%95%98%EA%B8%B0_%EA%B3%B5%EB%B6%80_%EC%99%84%EB%A3%8C.ipynb\" target=\"_parent\"><img src=\"https://colab.research.google.com/assets/colab-badge.svg\" alt=\"Open In Colab\"/></a>"
      ]
    },
    {
      "cell_type": "markdown",
      "metadata": {
        "id": "oR0VJlz7mi5A"
      },
      "source": [
        "# 주제 : 이미지 분류 - RNN으로 손글씨 이미지 분류하기\n",
        "--------------\n",
        "## 실습 가이드\n",
        "    1. 데이터를 다운로드하여 Colab에 불러옵니다.\n",
        "    2. 필요한 라이브러리는 모두 코드로 작성되어 있습니다.\n",
        "    3. 코드는 위에서부터 아래로 순서대로 실행합니다.\n",
        "    4. 전체 문제 구성은 좌측 첫 번째 아이콘을 통해 확인할 수 있습니다.\n",
        "\n",
        "## 데이터 소개  \n",
        "    - 이번 주제의 데이터는 너무나 유명한 MNIST 데이터를 사용합니다.\n",
        "  ![mnist 이미지](https://www.mdpi.com/applsci/applsci-09-03169/article_deploy/html/images/applsci-09-03169-g001.png)\n",
        "\n",
        "      위의 이미지는 다음과 같은 것을 보여줍니다.  \n",
        "      (a) 28x28의 배열에서 3이 어떻게 모사되는지   \n",
        "      (b) 각 0-9까지의 다양한 그림의 모습들\n",
        "\n",
        "\n",
        "- 데이터 출처: [MNIST](http://yann.lecun.com/exdb/mnist/)\n",
        "\n",
        "\n",
        "## 최종 목표\n",
        "\n",
        "    - 이전에 배웠던 MNIST fully-conntect network과 CNN classificaion외 RNN식 접근을 배워본다.  \n",
        "    - 또한, data augmentation 기법의 기초가 될 수 있는 이미지에 noisy와 같은 변형을 줄 수 있는 방법을 알아본다.\n",
        "    - 이미지에 대한 RNN 접근 방법을 배울 수 있습니다.\n",
        "\n",
        "\n",
        "---\n"
      ]
    },
    {
      "cell_type": "code",
      "metadata": {
        "id": "e7kl3hgkikbo"
      },
      "source": [
        "import tensorflow as tf  # 텐서플로우 볼러와\n",
        "from tensorflow import keras # 텐서플로우에서 케라스 블러와\n",
        "from keras.layers import Dense #케라스.layers 에서 dense(학습 층) 함수 불러와\n",
        "from keras.models import Sequential #케라스.model 에서 시퀀셜 함수 불러와\n",
        "\n",
        "import pandas as pd  # 판다스 불러오셈\n",
        "import numpy as np #넘파이도\n",
        "import matplotlib.pyplot as plt # 시각화 기본 패키지임\n",
        "import seaborn as sns # 시각화 고급 패키지임 - 이거 이름 시험에 나올수도\n",
        "import warnings #경고 표시 패키지 인데 신경 안써도 됨\n",
        "from IPython.display import Image #파이썬에서 이미지를 표시하기 위해 설치하는 라이브러리 \n",
        "\n",
        "warnings.filterwarnings('ignore') #경고 표시 무시하기\n",
        "%matplotlib inline \n",
        "\n",
        "SEED = 34 #무시하셈"
      ],
      "execution_count": null,
      "outputs": []
    },
    {
      "cell_type": "markdown",
      "metadata": {
        "id": "c5uDUVunS1Yk"
      },
      "source": [
        "## Step 1. 도입전 기본 처리"
      ]
    },
    {
      "cell_type": "markdown",
      "metadata": {
        "id": "2Bgf6uZtoBob"
      },
      "source": [
        "### 문제 1. mnist 데이터 살펴보기"
      ]
    },
    {
      "cell_type": "code",
      "metadata": {
        "id": "l2NW5G5nTgsb",
        "colab": {
          "base_uri": "https://localhost:8080/"
        },
        "outputId": "a1e63a1b-99ef-45ba-a441-e81912dc327b"
      },
      "source": [
        "# 데이터를 불러오는 코드를 작성해주세요.\n",
        "mnist = keras.datasets.mnist #숫자 분류 데이터 셋 이름 : mnist - 중요\n",
        "((train_images, train_labels) , (test_images, test_labels)) = mnist.load_data()"
      ],
      "execution_count": null,
      "outputs": [
        {
          "output_type": "stream",
          "name": "stdout",
          "text": [
            "Downloading data from https://storage.googleapis.com/tensorflow/tf-keras-datasets/mnist.npz\n",
            "11490434/11490434 [==============================] - 0s 0us/step\n"
          ]
        }
      ]
    },
    {
      "cell_type": "markdown",
      "metadata": {
        "id": "ko4D-BpJTq2r"
      },
      "source": [
        "### 문제 2. 데이터의 shape을 출력해보세요."
      ]
    },
    {
      "cell_type": "code",
      "metadata": {
        "id": "waksbx9aT5tK",
        "colab": {
          "base_uri": "https://localhost:8080/"
        },
        "outputId": "aad6a886-081c-44a8-a57d-533b2cd4a4f0"
      },
      "source": [
        "# 데이터의 크기를 shape 함수를 통해 출력해주세요.\n",
        "print(f\"train_images: {train_images.shape}\") #6만장 , 가로 28픽셀 , 세로 28픽셀인 손글씨 숫자 사진\n",
        "print(f\"train_labels: {train_labels.shape}\") #6만장, 0~ 9 까지의 숫자 라벨\n",
        "\n",
        "print(f\"test__images: {test_images.shape}\") \n",
        "print(f\"test_labels: {test_labels.shape}\")\n",
        "## print(f {}) 하는 이유는 f 를 써야 {} 안에 변수를 출력할 수 있음"
      ],
      "execution_count": null,
      "outputs": [
        {
          "output_type": "stream",
          "name": "stdout",
          "text": [
            "train_images: (60000, 28, 28)\n",
            "train_labels: (60000,)\n",
            "test__images: (10000, 28, 28)\n",
            "test_labels: (10000,)\n"
          ]
        }
      ]
    },
    {
      "cell_type": "markdown",
      "metadata": {
        "id": "hrmQ7HzEUKrz"
      },
      "source": [
        "### 문제 3. (28, 28) 형태의 이미지를 plt을 이용하여 출력해보세요."
      ]
    },
    {
      "cell_type": "code",
      "metadata": {
        "id": "fVzGHMSYUUKk",
        "colab": {
          "base_uri": "https://localhost:8080/",
          "height": 283
        },
        "outputId": "2d59cceb-0e91-4801-8e06-b6ba21d3c49b"
      },
      "source": [
        "# 28x28의 흑백 이미지를 plt를 이용하여 출력하는 코드를 작성해보세요.\n",
        "plt.figure() # plt.figure :이미지 그릴게 빈 종이 구해놔 \n",
        "plt.imshow(train_images[1]) # plt.imshow : 이미지 그려\n",
        "plt.colorbar()  #그래프 옆에 긴 막대기\n",
        "plt.grid(True) #그래프 안에 격자무늬 그리드\n",
        "plt.show() # 다했다 보여줘\n",
        "\n",
        "\n",
        "print(train_labels[1]) #이건 그래프 밑에있는 숫자의 정답지 '0' 을 뜻함\n",
        "\n",
        "# 아래 그림 '0' 에서 그려진 부분은 진하기에 따라 0~255 의 데이터 값을 가짐\n",
        "# 컴퓨터는 이 숫자의 값, 위치를 보고 이 숫자가 어떤 숫자인지 학습함 "
      ],
      "execution_count": null,
      "outputs": [
        {
          "output_type": "display_data",
          "data": {
            "text/plain": [
              "<Figure size 432x288 with 2 Axes>"
            ],
            "image/png": "[encoded data removed]"
          },
          "metadata": {
            "needs_background": "light"
          }
        },
        {
          "output_type": "stream",
          "name": "stdout",
          "text": [
            "0\n"
          ]
        }
      ]
    },
    {
      "cell_type": "code",
      "source": [
        "#이해를 돕기위해 내가 만들었음 - 0 모양 데이터 값 확인\n",
        "\n",
        "for i in train_images[1] : #train_images[' ']안의 값을 바꾸면서 숫자 확인해 (0 ~ 59999) 까지 가능\n",
        "    for j in i:\n",
        "        print(j,end=\" \")\n",
        "    print()\n",
        "\n",
        "#가로 28 , 세로 28 이런게 6만장 있다 \n"
      ],
      "metadata": {
        "colab": {
          "base_uri": "https://localhost:8080/"
        },
        "id": "XKGPyUruVYMJ",
        "outputId": "ed2bebf9-8a0e-42ff-faba-0827ec880ea7"
      },
      "execution_count": null,
      "outputs": [
        {
          "output_type": "stream",
          "name": "stdout",
          "text": [
            "0 0 0 0 0 0 0 0 0 0 0 0 0 0 0 0 0 0 0 0 0 0 0 0 0 0 0 0 \n",
            "0 0 0 0 0 0 0 0 0 0 0 0 0 0 0 0 0 0 0 0 0 0 0 0 0 0 0 0 \n",
            "0 0 0 0 0 0 0 0 0 0 0 0 0 0 0 0 0 0 0 0 0 0 0 0 0 0 0 0 \n",
            "0 0 0 0 0 0 0 0 0 0 0 0 0 0 0 0 0 0 0 0 0 0 0 0 0 0 0 0 \n",
            "0 0 0 0 0 0 0 0 0 0 0 0 0 0 0 51 159 253 159 50 0 0 0 0 0 0 0 0 \n",
            "0 0 0 0 0 0 0 0 0 0 0 0 0 0 48 238 252 252 252 237 0 0 0 0 0 0 0 0 \n",
            "0 0 0 0 0 0 0 0 0 0 0 0 0 54 227 253 252 239 233 252 57 6 0 0 0 0 0 0 \n",
            "0 0 0 0 0 0 0 0 0 0 0 10 60 224 252 253 252 202 84 252 253 122 0 0 0 0 0 0 \n",
            "0 0 0 0 0 0 0 0 0 0 0 163 252 252 252 253 252 252 96 189 253 167 0 0 0 0 0 0 \n",
            "0 0 0 0 0 0 0 0 0 0 51 238 253 253 190 114 253 228 47 79 255 168 0 0 0 0 0 0 \n",
            "0 0 0 0 0 0 0 0 0 48 238 252 252 179 12 75 121 21 0 0 253 243 50 0 0 0 0 0 \n",
            "0 0 0 0 0 0 0 0 38 165 253 233 208 84 0 0 0 0 0 0 253 252 165 0 0 0 0 0 \n",
            "0 0 0 0 0 0 0 7 178 252 240 71 19 28 0 0 0 0 0 0 253 252 195 0 0 0 0 0 \n",
            "0 0 0 0 0 0 0 57 252 252 63 0 0 0 0 0 0 0 0 0 253 252 195 0 0 0 0 0 \n",
            "0 0 0 0 0 0 0 198 253 190 0 0 0 0 0 0 0 0 0 0 255 253 196 0 0 0 0 0 \n",
            "0 0 0 0 0 0 76 246 252 112 0 0 0 0 0 0 0 0 0 0 253 252 148 0 0 0 0 0 \n",
            "0 0 0 0 0 0 85 252 230 25 0 0 0 0 0 0 0 0 7 135 253 186 12 0 0 0 0 0 \n",
            "0 0 0 0 0 0 85 252 223 0 0 0 0 0 0 0 0 7 131 252 225 71 0 0 0 0 0 0 \n",
            "0 0 0 0 0 0 85 252 145 0 0 0 0 0 0 0 48 165 252 173 0 0 0 0 0 0 0 0 \n",
            "0 0 0 0 0 0 86 253 225 0 0 0 0 0 0 114 238 253 162 0 0 0 0 0 0 0 0 0 \n",
            "0 0 0 0 0 0 85 252 249 146 48 29 85 178 225 253 223 167 56 0 0 0 0 0 0 0 0 0 \n",
            "0 0 0 0 0 0 85 252 252 252 229 215 252 252 252 196 130 0 0 0 0 0 0 0 0 0 0 0 \n",
            "0 0 0 0 0 0 28 199 252 252 253 252 252 233 145 0 0 0 0 0 0 0 0 0 0 0 0 0 \n",
            "0 0 0 0 0 0 0 25 128 252 253 252 141 37 0 0 0 0 0 0 0 0 0 0 0 0 0 0 \n",
            "0 0 0 0 0 0 0 0 0 0 0 0 0 0 0 0 0 0 0 0 0 0 0 0 0 0 0 0 \n",
            "0 0 0 0 0 0 0 0 0 0 0 0 0 0 0 0 0 0 0 0 0 0 0 0 0 0 0 0 \n",
            "0 0 0 0 0 0 0 0 0 0 0 0 0 0 0 0 0 0 0 0 0 0 0 0 0 0 0 0 \n",
            "0 0 0 0 0 0 0 0 0 0 0 0 0 0 0 0 0 0 0 0 0 0 0 0 0 0 0 0 \n"
          ]
        }
      ]
    },
    {
      "cell_type": "markdown",
      "metadata": {
        "id": "vDLHexaGUs17"
      },
      "source": [
        "### 문제 4. train_images에서 0이 아닌 값들을 출력해보세요."
      ]
    },
    {
      "cell_type": "code",
      "metadata": {
        "id": "1NYdCv1yUsKG",
        "colab": {
          "base_uri": "https://localhost:8080/"
        },
        "outputId": "54c427ab-e211-4eeb-81c8-873380c97798"
      },
      "source": [
        "# 하나의 이미지에 대한 모든 0이 아닌 값을 출력하는 코드를 작성하세요. ##이미지내에서 빈공간(0) 이 아닌 색칠된 곳의 색깔값을 표현하시오\n",
        "list(filter(lambda x: x != 0, train_images[1].reshape(-1)))[:11] \n",
        "# reshape(-1)을 하는 이유 : 데이터 값이 몇개가 있든 알아서 한줄짜리 열로 세워\n",
        "# lambda 란? - 빠르게 함수 (def :) 를 만들어 주는 역할을 함 \n",
        "# filter : lambda 함수로 값을 걸러\n",
        "# list : 리스트에 넣어\n",
        "\n",
        "#결과 = 위에 '0'에서 제일 위에 숫자 두줄... 귀여움"
      ],
      "execution_count": null,
      "outputs": [
        {
          "output_type": "execute_result",
          "data": {
            "text/plain": [
              "[0.2,\n",
              " 0.6235294117647059,\n",
              " 0.9921568627450981,\n",
              " 0.6235294117647059,\n",
              " 0.19607843137254902,\n",
              " 0.18823529411764706,\n",
              " 0.9333333333333333,\n",
              " 0.9882352941176471,\n",
              " 0.9882352941176471,\n",
              " 0.9882352941176471,\n",
              " 0.9294117647058824]"
            ]
          },
          "metadata": {},
          "execution_count": 50
        }
      ]
    },
    {
      "cell_type": "markdown",
      "metadata": {
        "id": "CZOhbFOFU_jr"
      },
      "source": [
        "### 문제 5. train_images의 dtype을 출력해보세요."
      ]
    },
    {
      "cell_type": "code",
      "metadata": {
        "id": "nVc4kjgAVNl7",
        "colab": {
          "base_uri": "https://localhost:8080/"
        },
        "outputId": "12d0e1f2-4cea-4983-ca13-2cf0ebd5fe18"
      },
      "source": [
        "# dtype을 이용하여 이미지의 np array type을 확인해보세요.\n",
        "print(train_images.dtype) # .dtype : 넘파이 배열의 데이터 타입을 알려줘\n",
        "print(train_labels.dtype) # uint8 - 정수형(0 ~ 255) ## int8 - 정수형(-128 ~ 127)  다름  #그래도 정수형인건 같다.\n",
        "print(test_images.dtype)\n",
        "print(test_labels.dtype)"
      ],
      "execution_count": null,
      "outputs": [
        {
          "output_type": "stream",
          "name": "stdout",
          "text": [
            "uint8\n",
            "uint8\n",
            "uint8\n",
            "uint8\n"
          ]
        }
      ]
    },
    {
      "cell_type": "markdown",
      "metadata": {
        "id": "eKv9UoZAxTr6"
      },
      "source": [
        "## Step 2. 전처리"
      ]
    },
    {
      "cell_type": "markdown",
      "metadata": {
        "id": "UTXpP1Imyaad"
      },
      "source": [
        "### 문제 6. train/test 이미지 데이터의 범위 확인"
      ]
    },
    {
      "cell_type": "code",
      "metadata": {
        "id": "Ji6XLxvRy5eJ",
        "colab": {
          "base_uri": "https://localhost:8080/"
        },
        "outputId": "d54014aa-8e14-4e96-a7b6-6a3ce44cfad9"
      },
      "source": [
        "# test_images의 shape과 dtype, 0이 아닌 숫자를 출력하는 코드를 작성하세요.\n",
        "print(list(filter(lambda x: x != 0, train_images[0].reshape(-1)))[:10])\n",
        "print(list(filter(lambda x: x != 0, train_labels.reshape(-1)))[:10])\n",
        "print(list(filter(lambda x: x != 0, test_images[0].reshape(-1)))[:10])\n",
        "print(list(filter(lambda x: x != 0, test_labels.reshape(-1)))[:10])"
      ],
      "execution_count": null,
      "outputs": [
        {
          "output_type": "stream",
          "name": "stdout",
          "text": [
            "[3, 18, 18, 18, 126, 136, 175, 26, 166, 255]\n",
            "[5, 4, 1, 9, 2, 1, 3, 1, 4, 3]\n",
            "[84, 185, 159, 151, 60, 36, 222, 254, 254, 254]\n",
            "[7, 2, 1, 4, 1, 4, 9, 5, 9, 6]\n"
          ]
        }
      ]
    },
    {
      "cell_type": "markdown",
      "metadata": {
        "id": "7OpFGbD6V8Zl"
      },
      "source": [
        "### 문제 7. train/test 이미지 데이터의 최소/최대값을 출력"
      ]
    },
    {
      "cell_type": "code",
      "metadata": {
        "id": "sFOJNRTvYo7d",
        "colab": {
          "base_uri": "https://localhost:8080/"
        },
        "outputId": "cc8b236c-6257-44f2-bfd3-9a6c9093bea2"
      },
      "source": [
        "# train/test 전체 데이터에서 각 images, labels의 min, max를 출력하는 코드를 작성하세요.\n",
        "print(max(train_images.reshape(-1)), min(train_images.reshape(-1)) ) #max는 당연히 255(가장 진한 값), min은 당연히 0 (색칠 안된 부분)\n",
        "print(max(test_images.reshape(-1)), min(test_images.reshape(-1)) )"
      ],
      "execution_count": null,
      "outputs": [
        {
          "output_type": "stream",
          "name": "stdout",
          "text": [
            "255 0\n",
            "255 0\n"
          ]
        }
      ]
    },
    {
      "cell_type": "markdown",
      "metadata": {
        "id": "W_xsByHegZhh"
      },
      "source": [
        "### 문제 8. 정수형을 실수형으로 변경 후 dtype으로 비교"
      ]
    },
    {
      "cell_type": "code",
      "metadata": {
        "id": "Y88qmAVChg_Z"
      },
      "source": [
        "# train/test 데이터의 타입을 dtype으로 확인해보고 실수형으로 전환하는 코드를 작성하세요.\n",
        "test_images = test_images.astype(np.float64) # .astype 함수를 사용해서 아까 확인한 dtype(uint8 :정수형)을 dtype(float64 : 실수형) 으로 변경 \n",
        "train_images = train_images.astype(np.float64) ##데이터 형식만 바뀐거지 값이 바뀐건 아님 ex 값 123(정수형) -> 123.0(실수형)으로 바뀐것"
      ],
      "execution_count": null,
      "outputs": []
    },
    {
      "cell_type": "markdown",
      "metadata": {
        "id": "9iIJK2qsfevX"
      },
      "source": [
        "### 문제 9. 데이터 0-1 노말라이즈 수행\n"
      ]
    },
    {
      "cell_type": "markdown",
      "metadata": {
        "id": "L0f__zuBfotM"
      },
      "source": [
        "#### 힌트\n",
        "\n",
        "일반적으로 0-1사의의 값을 가지게 하기 위해서는 다음 수식을 사용합니다.\n",
        "\n",
        "$$normalize(x) = \\frac{x - 최소값}{최대값 - 최소값}$$\n",
        "\n",
        "이 경우 최소값이 0이기 떄문에 다음과 같이 간편하게 구할 수 있습니다.\n",
        "\n",
        "$$normalize(x) = \\frac{x}{최대값}$$"
      ]
    },
    {
      "cell_type": "code",
      "metadata": {
        "id": "SV2A6JZBf7Ku"
      },
      "source": [
        "# images의 값이 0-1사이의 값을 같도록 코드를 작성해보세요.\n",
        "train_images = train_images / 255 # 색깔값 0~255 이었던 색깔값을 0~1 사이의 값으로 변경시켜주는 작업\n",
        "test_images = test_images / 255 ## 0~255 만큼의 거리가 0~1 사이로 좁혀지면, 컴퓨터가 학습하기 편하기 때문에 해주는 작업"
      ],
      "execution_count": null,
      "outputs": []
    },
    {
      "cell_type": "markdown",
      "metadata": {
        "id": "8QqqdPzDiC3F"
      },
      "source": [
        "### 문제 10. 0-1 노말라이즈 후 데이터의 값이 변경되었는지 문제 6, 7의 방법을 이용하여 확인하세요."
      ]
    },
    {
      "cell_type": "markdown",
      "metadata": {
        "id": "C_04Z-Kj2uyh"
      },
      "source": [
        "노말라이즈가 제대로 됐는지 확안해 보겠습니다."
      ]
    },
    {
      "cell_type": "code",
      "metadata": {
        "id": "t-ZKXRKO2rBE",
        "colab": {
          "base_uri": "https://localhost:8080/"
        },
        "outputId": "73b79b75-de7e-4543-af7a-4a137cc67410"
      },
      "source": [
        "# 노말라이즈 후 min/max, shape, 0이 아닌 값, dtype 등을 확인하는 코드를 작성해보세요. \n",
        "print(list(filter(lambda x: x != 0, train_images[0].reshape(-1)))[:10])\n",
        "print(list(filter(lambda x: x != 0, train_labels.reshape(-1)))[:10]) #라벨은 정규화 해주면 안됨 데이터 값이 아니라 정답지기 때문에 0~9의 값을 당연히 그대로 유지해야함\n",
        "print(list(filter(lambda x: x != 0, test_images[0].reshape(-1)))[:10])\n",
        "print(list(filter(lambda x: x != 0, test_labels.reshape(-1)))[:10])"
      ],
      "execution_count": null,
      "outputs": [
        {
          "output_type": "stream",
          "name": "stdout",
          "text": [
            "[0.011764705882352941, 0.07058823529411765, 0.07058823529411765, 0.07058823529411765, 0.49411764705882355, 0.5333333333333333, 0.6862745098039216, 0.10196078431372549, 0.6509803921568628, 1.0]\n",
            "[5, 4, 1, 9, 2, 1, 3, 1, 4, 3]\n",
            "[0.32941176470588235, 0.7254901960784313, 0.6235294117647059, 0.592156862745098, 0.23529411764705882, 0.1411764705882353, 0.8705882352941177, 0.996078431372549, 0.996078431372549, 0.996078431372549]\n",
            "[7, 2, 1, 4, 1, 4, 9, 5, 9, 6]\n"
          ]
        }
      ]
    },
    {
      "cell_type": "code",
      "metadata": {
        "colab": {
          "base_uri": "https://localhost:8080/"
        },
        "id": "FhGrcYf0aqbZ",
        "outputId": "186db913-63f5-4721-f7d5-f1a260e0a987"
      },
      "source": [
        "print(train_images.shape, train_labels.shape, test_images.shape, test_labels.shape) #shape :행렬의 '구조(차원)' 을 보여주세요 ##(6만장, 가로 28, 세로 28  )\n",
        "print(train_images.dtype, train_labels.dtype, test_images.dtype, test_labels.dtype) #dtype : 행렬의 '타입'을 보여주세요 ## 데이터 값 : float64로 변경됨, 라벨 타입은 그래도 uint8"
      ],
      "execution_count": null,
      "outputs": [
        {
          "output_type": "stream",
          "name": "stdout",
          "text": [
            "(60000, 28, 28) (60000,) (10000, 28, 28) (10000,)\n",
            "float64 uint8 float64 uint8\n"
          ]
        }
      ]
    },
    {
      "cell_type": "code",
      "source": [
        "#정수가 0~1 사이 실수값이 되어서 그림이 찌그러져 보이지만 '0' 모양임 \n",
        "for i in train_images[1] : #트레인 이미지의 첫번째 그림\n",
        "    for j in i:\n",
        "        print(j,end=\" \")\n",
        "    print()"
      ],
      "metadata": {
        "colab": {
          "base_uri": "https://localhost:8080/"
        },
        "id": "khEQDaQWQ2n1",
        "outputId": "0bc65329-2e7a-487c-b852-47cb8a87f471"
      },
      "execution_count": null,
      "outputs": [
        {
          "output_type": "stream",
          "name": "stdout",
          "text": [
            "0.0 0.0 0.0 0.0 0.0 0.0 0.0 0.0 0.0 0.0 0.0 0.0 0.0 0.0 0.0 0.0 0.0 0.0 0.0 0.0 0.0 0.0 0.0 0.0 0.0 0.0 0.0 0.0 \n",
            "0.0 0.0 0.0 0.0 0.0 0.0 0.0 0.0 0.0 0.0 0.0 0.0 0.0 0.0 0.0 0.0 0.0 0.0 0.0 0.0 0.0 0.0 0.0 0.0 0.0 0.0 0.0 0.0 \n",
            "0.0 0.0 0.0 0.0 0.0 0.0 0.0 0.0 0.0 0.0 0.0 0.0 0.0 0.0 0.0 0.0 0.0 0.0 0.0 0.0 0.0 0.0 0.0 0.0 0.0 0.0 0.0 0.0 \n",
            "0.0 0.0 0.0 0.0 0.0 0.0 0.0 0.0 0.0 0.0 0.0 0.0 0.0 0.0 0.0 0.0 0.0 0.0 0.0 0.0 0.0 0.0 0.0 0.0 0.0 0.0 0.0 0.0 \n",
            "0.0 0.0 0.0 0.0 0.0 0.0 0.0 0.0 0.0 0.0 0.0 0.0 0.0 0.0 0.0 0.2 0.6235294117647059 0.9921568627450981 0.6235294117647059 0.19607843137254902 0.0 0.0 0.0 0.0 0.0 0.0 0.0 0.0 \n",
            "0.0 0.0 0.0 0.0 0.0 0.0 0.0 0.0 0.0 0.0 0.0 0.0 0.0 0.0 0.18823529411764706 0.9333333333333333 0.9882352941176471 0.9882352941176471 0.9882352941176471 0.9294117647058824 0.0 0.0 0.0 0.0 0.0 0.0 0.0 0.0 \n",
            "0.0 0.0 0.0 0.0 0.0 0.0 0.0 0.0 0.0 0.0 0.0 0.0 0.0 0.21176470588235294 0.8901960784313725 0.9921568627450981 0.9882352941176471 0.9372549019607843 0.9137254901960784 0.9882352941176471 0.2235294117647059 0.023529411764705882 0.0 0.0 0.0 0.0 0.0 0.0 \n",
            "0.0 0.0 0.0 0.0 0.0 0.0 0.0 0.0 0.0 0.0 0.0 0.0392156862745098 0.23529411764705882 0.8784313725490196 0.9882352941176471 0.9921568627450981 0.9882352941176471 0.792156862745098 0.32941176470588235 0.9882352941176471 0.9921568627450981 0.47843137254901963 0.0 0.0 0.0 0.0 0.0 0.0 \n",
            "0.0 0.0 0.0 0.0 0.0 0.0 0.0 0.0 0.0 0.0 0.0 0.6392156862745098 0.9882352941176471 0.9882352941176471 0.9882352941176471 0.9921568627450981 0.9882352941176471 0.9882352941176471 0.3764705882352941 0.7411764705882353 0.9921568627450981 0.6549019607843137 0.0 0.0 0.0 0.0 0.0 0.0 \n",
            "0.0 0.0 0.0 0.0 0.0 0.0 0.0 0.0 0.0 0.0 0.2 0.9333333333333333 0.9921568627450981 0.9921568627450981 0.7450980392156863 0.4470588235294118 0.9921568627450981 0.8941176470588236 0.1843137254901961 0.30980392156862746 1.0 0.6588235294117647 0.0 0.0 0.0 0.0 0.0 0.0 \n",
            "0.0 0.0 0.0 0.0 0.0 0.0 0.0 0.0 0.0 0.18823529411764706 0.9333333333333333 0.9882352941176471 0.9882352941176471 0.7019607843137254 0.047058823529411764 0.29411764705882354 0.4745098039215686 0.08235294117647059 0.0 0.0 0.9921568627450981 0.9529411764705882 0.19607843137254902 0.0 0.0 0.0 0.0 0.0 \n",
            "0.0 0.0 0.0 0.0 0.0 0.0 0.0 0.0 0.14901960784313725 0.6470588235294118 0.9921568627450981 0.9137254901960784 0.8156862745098039 0.32941176470588235 0.0 0.0 0.0 0.0 0.0 0.0 0.9921568627450981 0.9882352941176471 0.6470588235294118 0.0 0.0 0.0 0.0 0.0 \n",
            "0.0 0.0 0.0 0.0 0.0 0.0 0.0 0.027450980392156862 0.6980392156862745 0.9882352941176471 0.9411764705882353 0.2784313725490196 0.07450980392156863 0.10980392156862745 0.0 0.0 0.0 0.0 0.0 0.0 0.9921568627450981 0.9882352941176471 0.7647058823529411 0.0 0.0 0.0 0.0 0.0 \n",
            "0.0 0.0 0.0 0.0 0.0 0.0 0.0 0.2235294117647059 0.9882352941176471 0.9882352941176471 0.24705882352941178 0.0 0.0 0.0 0.0 0.0 0.0 0.0 0.0 0.0 0.9921568627450981 0.9882352941176471 0.7647058823529411 0.0 0.0 0.0 0.0 0.0 \n",
            "0.0 0.0 0.0 0.0 0.0 0.0 0.0 0.7764705882352941 0.9921568627450981 0.7450980392156863 0.0 0.0 0.0 0.0 0.0 0.0 0.0 0.0 0.0 0.0 1.0 0.9921568627450981 0.7686274509803922 0.0 0.0 0.0 0.0 0.0 \n",
            "0.0 0.0 0.0 0.0 0.0 0.0 0.2980392156862745 0.9647058823529412 0.9882352941176471 0.4392156862745098 0.0 0.0 0.0 0.0 0.0 0.0 0.0 0.0 0.0 0.0 0.9921568627450981 0.9882352941176471 0.5803921568627451 0.0 0.0 0.0 0.0 0.0 \n",
            "0.0 0.0 0.0 0.0 0.0 0.0 0.3333333333333333 0.9882352941176471 0.9019607843137255 0.09803921568627451 0.0 0.0 0.0 0.0 0.0 0.0 0.0 0.0 0.027450980392156862 0.5294117647058824 0.9921568627450981 0.7294117647058823 0.047058823529411764 0.0 0.0 0.0 0.0 0.0 \n",
            "0.0 0.0 0.0 0.0 0.0 0.0 0.3333333333333333 0.9882352941176471 0.8745098039215686 0.0 0.0 0.0 0.0 0.0 0.0 0.0 0.0 0.027450980392156862 0.5137254901960784 0.9882352941176471 0.8823529411764706 0.2784313725490196 0.0 0.0 0.0 0.0 0.0 0.0 \n",
            "0.0 0.0 0.0 0.0 0.0 0.0 0.3333333333333333 0.9882352941176471 0.5686274509803921 0.0 0.0 0.0 0.0 0.0 0.0 0.0 0.18823529411764706 0.6470588235294118 0.9882352941176471 0.6784313725490196 0.0 0.0 0.0 0.0 0.0 0.0 0.0 0.0 \n",
            "0.0 0.0 0.0 0.0 0.0 0.0 0.33725490196078434 0.9921568627450981 0.8823529411764706 0.0 0.0 0.0 0.0 0.0 0.0 0.4470588235294118 0.9333333333333333 0.9921568627450981 0.6352941176470588 0.0 0.0 0.0 0.0 0.0 0.0 0.0 0.0 0.0 \n",
            "0.0 0.0 0.0 0.0 0.0 0.0 0.3333333333333333 0.9882352941176471 0.9764705882352941 0.5725490196078431 0.18823529411764706 0.11372549019607843 0.3333333333333333 0.6980392156862745 0.8823529411764706 0.9921568627450981 0.8745098039215686 0.6549019607843137 0.2196078431372549 0.0 0.0 0.0 0.0 0.0 0.0 0.0 0.0 0.0 \n",
            "0.0 0.0 0.0 0.0 0.0 0.0 0.3333333333333333 0.9882352941176471 0.9882352941176471 0.9882352941176471 0.8980392156862745 0.8431372549019608 0.9882352941176471 0.9882352941176471 0.9882352941176471 0.7686274509803922 0.5098039215686274 0.0 0.0 0.0 0.0 0.0 0.0 0.0 0.0 0.0 0.0 0.0 \n",
            "0.0 0.0 0.0 0.0 0.0 0.0 0.10980392156862745 0.7803921568627451 0.9882352941176471 0.9882352941176471 0.9921568627450981 0.9882352941176471 0.9882352941176471 0.9137254901960784 0.5686274509803921 0.0 0.0 0.0 0.0 0.0 0.0 0.0 0.0 0.0 0.0 0.0 0.0 0.0 \n",
            "0.0 0.0 0.0 0.0 0.0 0.0 0.0 0.09803921568627451 0.5019607843137255 0.9882352941176471 0.9921568627450981 0.9882352941176471 0.5529411764705883 0.1450980392156863 0.0 0.0 0.0 0.0 0.0 0.0 0.0 0.0 0.0 0.0 0.0 0.0 0.0 0.0 \n",
            "0.0 0.0 0.0 0.0 0.0 0.0 0.0 0.0 0.0 0.0 0.0 0.0 0.0 0.0 0.0 0.0 0.0 0.0 0.0 0.0 0.0 0.0 0.0 0.0 0.0 0.0 0.0 0.0 \n",
            "0.0 0.0 0.0 0.0 0.0 0.0 0.0 0.0 0.0 0.0 0.0 0.0 0.0 0.0 0.0 0.0 0.0 0.0 0.0 0.0 0.0 0.0 0.0 0.0 0.0 0.0 0.0 0.0 \n",
            "0.0 0.0 0.0 0.0 0.0 0.0 0.0 0.0 0.0 0.0 0.0 0.0 0.0 0.0 0.0 0.0 0.0 0.0 0.0 0.0 0.0 0.0 0.0 0.0 0.0 0.0 0.0 0.0 \n",
            "0.0 0.0 0.0 0.0 0.0 0.0 0.0 0.0 0.0 0.0 0.0 0.0 0.0 0.0 0.0 0.0 0.0 0.0 0.0 0.0 0.0 0.0 0.0 0.0 0.0 0.0 0.0 0.0 \n"
          ]
        }
      ]
    },
    {
      "cell_type": "markdown",
      "metadata": {
        "id": "SMyUArry3UhT"
      },
      "source": [
        "## Step 3. 시각화 방법"
      ]
    },
    {
      "cell_type": "markdown",
      "metadata": {
        "id": "UFga-Bbo6L0E"
      },
      "source": [
        "### 문제 11. train_image의 이미지를 5장 획득하여 (5, 28, 28)의 shape을 출력하세요."
      ]
    },
    {
      "cell_type": "code",
      "metadata": {
        "id": "cLaqqwz4i_7D",
        "colab": {
          "base_uri": "https://localhost:8080/"
        },
        "outputId": "90fb066a-8971-40df-958c-e8b588fedaa1"
      },
      "source": [
        "# (60000, 28, 28)인 train_images에서 (5, 28, 28)을 획득하는 코드를 작성하세요.\n",
        "train_images[:5].shape"
      ],
      "execution_count": null,
      "outputs": [
        {
          "output_type": "execute_result",
          "data": {
            "text/plain": [
              "(5, 28, 28)"
            ]
          },
          "metadata": {},
          "execution_count": 15
        }
      ]
    },
    {
      "cell_type": "code",
      "source": [
        "train_images[:5].shape"
      ],
      "metadata": {
        "colab": {
          "base_uri": "https://localhost:8080/"
        },
        "id": "CSjbnYglULzB",
        "outputId": "fba71d89-40d5-42b5-e65c-260ecc6febfb"
      },
      "execution_count": null,
      "outputs": [
        {
          "output_type": "execute_result",
          "data": {
            "text/plain": [
              "(5, 28, 28)"
            ]
          },
          "metadata": {},
          "execution_count": 16
        }
      ]
    },
    {
      "cell_type": "markdown",
      "metadata": {
        "id": "gX8JH97njNNr"
      },
      "source": [
        "### 문제 12. 획득한 5장의 의미지를 (28, 28 * 5)의 shape으로 변경해보세요."
      ]
    },
    {
      "cell_type": "code",
      "metadata": {
        "id": "bxRhMcaKk3Pa",
        "colab": {
          "base_uri": "https://localhost:8080/"
        },
        "outputId": "a33fa8ad-d173-4259-82ea-aa9c6418170f"
      },
      "source": [
        "# np.hstack은 height 방향의 배열을 풀어서 width 방향으로 연결해줍니다.\n",
        "# 해당 기능을 쓰면 (height(이미지 장 수 : 5장의 높이), image_height(28 픽셀), image_width(28 픽셀))의 shape을 (image_height, image_width * height)으로 바꿔 줄 수 있습니다.\n",
        "# 코드를 작성해보세요.\n",
        "print(np.hstack(train_images[:5]).shape)\n"
      ],
      "execution_count": null,
      "outputs": [
        {
          "output_type": "stream",
          "name": "stdout",
          "text": [
            "(28, 140)\n"
          ]
        }
      ]
    },
    {
      "cell_type": "code",
      "source": [
        "# 이렇게 해주는 작업임 (내가 추가한 부분,원래 없으니까 참고하쇼)\n",
        "a = np.hstack(train_images[:5])\n",
        "print(a.shape)\n",
        "for i in a :\n",
        "  for j in i:\n",
        "    print(j ,end = \" \")\n",
        "  print()\n",
        "\n",
        "#각각 5장이었던 숫자들을 한장의 가로 방향으로 붙인다는 뜻 (5,28,28) -> (28,140)\n",
        "#5,0,4,1,9\n",
        "## 아무튼 시험엔 hstack의 뜻이랑 이름이 더 중요함  ### np.hstack은 height 방향의 배열을 풀어서 width 방향으로 연결해줍니다."
      ],
      "metadata": {
        "colab": {
          "base_uri": "https://localhost:8080/"
        },
        "id": "acodMKswbYTi",
        "outputId": "4516dfc9-faff-4f43-f4b3-cdc8672e37a4"
      },
      "execution_count": null,
      "outputs": [
        {
          "output_type": "stream",
          "name": "stdout",
          "text": [
            "(28, 140)\n",
            "0.0 0.0 0.0 0.0 0.0 0.0 0.0 0.0 0.0 0.0 0.0 0.0 0.0 0.0 0.0 0.0 0.0 0.0 0.0 0.0 0.0 0.0 0.0 0.0 0.0 0.0 0.0 0.0 0.0 0.0 0.0 0.0 0.0 0.0 0.0 0.0 0.0 0.0 0.0 0.0 0.0 0.0 0.0 0.0 0.0 0.0 0.0 0.0 0.0 0.0 0.0 0.0 0.0 0.0 0.0 0.0 0.0 0.0 0.0 0.0 0.0 0.0 0.0 0.0 0.0 0.0 0.0 0.0 0.0 0.0 0.0 0.0 0.0 0.0 0.0 0.0 0.0 0.0 0.0 0.0 0.0 0.0 0.0 0.0 0.0 0.0 0.0 0.0 0.0 0.0 0.0 0.0 0.0 0.0 0.0 0.0 0.0 0.0 0.0 0.0 0.0 0.0 0.0 0.0 0.0 0.0 0.0 0.0 0.0 0.0 0.0 0.0 0.0 0.0 0.0 0.0 0.0 0.0 0.0 0.0 0.0 0.0 0.0 0.0 0.0 0.0 0.0 0.0 0.0 0.0 0.0 0.0 0.0 0.0 0.0 0.0 0.0 0.0 0.0 0.0 \n",
            "0.0 0.0 0.0 0.0 0.0 0.0 0.0 0.0 0.0 0.0 0.0 0.0 0.0 0.0 0.0 0.0 0.0 0.0 0.0 0.0 0.0 0.0 0.0 0.0 0.0 0.0 0.0 0.0 0.0 0.0 0.0 0.0 0.0 0.0 0.0 0.0 0.0 0.0 0.0 0.0 0.0 0.0 0.0 0.0 0.0 0.0 0.0 0.0 0.0 0.0 0.0 0.0 0.0 0.0 0.0 0.0 0.0 0.0 0.0 0.0 0.0 0.0 0.0 0.0 0.0 0.0 0.0 0.0 0.0 0.0 0.0 0.0 0.0 0.0 0.0 0.0 0.0 0.0 0.0 0.0 0.0 0.0 0.0 0.0 0.0 0.0 0.0 0.0 0.0 0.0 0.0 0.0 0.0 0.0 0.0 0.0 0.0 0.0 0.0 0.0 0.0 0.0 0.0 0.0 0.0 0.0 0.0 0.0 0.0 0.0 0.0 0.0 0.0 0.0 0.0 0.0 0.0 0.0 0.0 0.0 0.0 0.0 0.0 0.0 0.0 0.0 0.0 0.0 0.0 0.0 0.0 0.0 0.0 0.0 0.0 0.0 0.0 0.0 0.0 0.0 \n",
            "0.0 0.0 0.0 0.0 0.0 0.0 0.0 0.0 0.0 0.0 0.0 0.0 0.0 0.0 0.0 0.0 0.0 0.0 0.0 0.0 0.0 0.0 0.0 0.0 0.0 0.0 0.0 0.0 0.0 0.0 0.0 0.0 0.0 0.0 0.0 0.0 0.0 0.0 0.0 0.0 0.0 0.0 0.0 0.0 0.0 0.0 0.0 0.0 0.0 0.0 0.0 0.0 0.0 0.0 0.0 0.0 0.0 0.0 0.0 0.0 0.0 0.0 0.0 0.0 0.0 0.0 0.0 0.0 0.0 0.0 0.0 0.0 0.0 0.0 0.0 0.0 0.0 0.0 0.0 0.0 0.0 0.0 0.0 0.0 0.0 0.0 0.0 0.0 0.0 0.0 0.0 0.0 0.0 0.0 0.0 0.0 0.0 0.0 0.0 0.0 0.0 0.0 0.0 0.0 0.0 0.0 0.0 0.0 0.0 0.0 0.0 0.0 0.0 0.0 0.0 0.0 0.0 0.0 0.0 0.0 0.0 0.0 0.0 0.0 0.0 0.0 0.0 0.0 0.0 0.0 0.0 0.0 0.0 0.0 0.0 0.0 0.0 0.0 0.0 0.0 \n",
            "0.0 0.0 0.0 0.0 0.0 0.0 0.0 0.0 0.0 0.0 0.0 0.0 0.0 0.0 0.0 0.0 0.0 0.0 0.0 0.0 0.0 0.0 0.0 0.0 0.0 0.0 0.0 0.0 0.0 0.0 0.0 0.0 0.0 0.0 0.0 0.0 0.0 0.0 0.0 0.0 0.0 0.0 0.0 0.0 0.0 0.0 0.0 0.0 0.0 0.0 0.0 0.0 0.0 0.0 0.0 0.0 0.0 0.0 0.0 0.0 0.0 0.0 0.0 0.0 0.0 0.0 0.0 0.0 0.0 0.0 0.0 0.0 0.0 0.0 0.0 0.0 0.0 0.0 0.0 0.0 0.0 0.0 0.0 0.0 0.0 0.0 0.0 0.0 0.0 0.0 0.0 0.0 0.0 0.0 0.0 0.0 0.0 0.0 0.0 0.0 0.0 0.0 0.0 0.0 0.0 0.0 0.0 0.0 0.0 0.0 0.0 0.0 0.0 0.0 0.0 0.0 0.0 0.0 0.0 0.0 0.0 0.0 0.0 0.0 0.0 0.0 0.0 0.0 0.0 0.0 0.0 0.0 0.0 0.0 0.0 0.0 0.0 0.0 0.0 0.0 \n",
            "0.0 0.0 0.0 0.0 0.0 0.0 0.0 0.0 0.0 0.0 0.0 0.0 0.0 0.0 0.0 0.0 0.0 0.0 0.0 0.0 0.0 0.0 0.0 0.0 0.0 0.0 0.0 0.0 0.0 0.0 0.0 0.0 0.0 0.0 0.0 0.0 0.0 0.0 0.0 0.0 0.0 0.0 0.0 0.2 0.6235294117647059 0.9921568627450981 0.6235294117647059 0.19607843137254902 0.0 0.0 0.0 0.0 0.0 0.0 0.0 0.0 0.0 0.0 0.0 0.0 0.0 0.0 0.0 0.0 0.0 0.0 0.0 0.0 0.0 0.0 0.0 0.0 0.0 0.0 0.0 0.0 0.0 0.0 0.0 0.0 0.0 0.0 0.0 0.0 0.0 0.0 0.0 0.0 0.0 0.0 0.0 0.0 0.0 0.0 0.0 0.0 0.0 0.0 0.0 0.0 0.0 0.0 0.0 0.0 0.0 0.0 0.0 0.0 0.0 0.0 0.0 0.0 0.0 0.0 0.0 0.0 0.0 0.0 0.0 0.0 0.0 0.0 0.0 0.0 0.0 0.0 0.0 0.0 0.0 0.0 0.0 0.0 0.0 0.0 0.0 0.0 0.0 0.0 0.0 0.0 \n",
            "0.0 0.0 0.0 0.0 0.0 0.0 0.0 0.0 0.0 0.0 0.0 0.0 0.011764705882352941 0.07058823529411765 0.07058823529411765 0.07058823529411765 0.49411764705882355 0.5333333333333333 0.6862745098039216 0.10196078431372549 0.6509803921568628 1.0 0.9686274509803922 0.4980392156862745 0.0 0.0 0.0 0.0 0.0 0.0 0.0 0.0 0.0 0.0 0.0 0.0 0.0 0.0 0.0 0.0 0.0 0.0 0.18823529411764706 0.9333333333333333 0.9882352941176471 0.9882352941176471 0.9882352941176471 0.9294117647058824 0.0 0.0 0.0 0.0 0.0 0.0 0.0 0.0 0.0 0.0 0.0 0.0 0.0 0.0 0.0 0.0 0.0 0.0 0.0 0.0 0.0 0.0 0.0 0.0 0.0 0.0 0.0 0.0 0.2627450980392157 0.9098039215686274 0.15294117647058825 0.0 0.0 0.0 0.0 0.0 0.0 0.0 0.0 0.0 0.0 0.0 0.0 0.0 0.0 0.0 0.0 0.0 0.0 0.0 0.0 0.0 0.0 0.0 0.48627450980392156 0.9921568627450981 1.0 0.24705882352941178 0.0 0.0 0.0 0.0 0.0 0.0 0.0 0.0 0.0 0.0 0.0 0.0 0.0 0.0 0.0 0.0 0.0 0.0 0.0 0.0 0.0 0.0 0.0 0.0 0.0 0.0 0.0 0.0 0.0 0.0 0.0 0.0 0.0 0.0 \n",
            "0.0 0.0 0.0 0.0 0.0 0.0 0.0 0.0 0.11764705882352941 0.1411764705882353 0.3686274509803922 0.6039215686274509 0.6666666666666666 0.9921568627450981 0.9921568627450981 0.9921568627450981 0.9921568627450981 0.9921568627450981 0.8823529411764706 0.6745098039215687 0.9921568627450981 0.9490196078431372 0.7647058823529411 0.25098039215686274 0.0 0.0 0.0 0.0 0.0 0.0 0.0 0.0 0.0 0.0 0.0 0.0 0.0 0.0 0.0 0.0 0.0 0.21176470588235294 0.8901960784313725 0.9921568627450981 0.9882352941176471 0.9372549019607843 0.9137254901960784 0.9882352941176471 0.2235294117647059 0.023529411764705882 0.0 0.0 0.0 0.0 0.0 0.0 0.0 0.0 0.0 0.0 0.24313725490196078 0.3176470588235294 0.0 0.0 0.0 0.0 0.0 0.0 0.0 0.0 0.0 0.0 0.0 0.0 0.0 0.0 0.47058823529411764 0.7058823529411765 0.15294117647058825 0.0 0.0 0.0 0.0 0.0 0.0 0.0 0.0 0.0 0.0 0.0 0.0 0.0 0.0 0.0 0.0 0.0 0.0 0.0 0.0 0.0 0.0 0.3764705882352941 0.9568627450980393 0.984313725490196 0.9921568627450981 0.24313725490196078 0.0 0.0 0.0 0.0 0.0 0.0 0.0 0.0 0.0 0.0 0.0 0.0 0.0 0.0 0.0 0.0 0.0 0.0 0.0 0.0 0.0 0.0 0.0 0.0 0.0 0.0 0.0 0.0 0.0 0.0 0.0 0.0 0.0 0.0 \n",
            "0.0 0.0 0.0 0.0 0.0 0.0 0.0 0.19215686274509805 0.9333333333333333 0.9921568627450981 0.9921568627450981 0.9921568627450981 0.9921568627450981 0.9921568627450981 0.9921568627450981 0.9921568627450981 0.9921568627450981 0.984313725490196 0.36470588235294116 0.3215686274509804 0.3215686274509804 0.2196078431372549 0.15294117647058825 0.0 0.0 0.0 0.0 0.0 0.0 0.0 0.0 0.0 0.0 0.0 0.0 0.0 0.0 0.0 0.0 0.0392156862745098 0.23529411764705882 0.8784313725490196 0.9882352941176471 0.9921568627450981 0.9882352941176471 0.792156862745098 0.32941176470588235 0.9882352941176471 0.9921568627450981 0.47843137254901963 0.0 0.0 0.0 0.0 0.0 0.0 0.0 0.0 0.0 0.0 0.49411764705882355 0.6392156862745098 0.0 0.0 0.0 0.0 0.0 0.0 0.0 0.0 0.0 0.0 0.0 0.0 0.0 0.00784313725490196 0.6 0.8235294117647058 0.1568627450980392 0.0 0.0 0.0 0.0 0.0 0.0 0.0 0.0 0.0 0.0 0.0 0.0 0.0 0.0 0.0 0.0 0.0 0.0 0.0 0.0 0.0 0.0 0.4980392156862745 0.984313725490196 0.984313725490196 0.9921568627450981 0.24313725490196078 0.0 0.0 0.0 0.0 0.0 0.0 0.0 0.0 0.0 0.0 0.0 0.0 0.0 0.0 0.0 0.0 0.0 0.0 0.21568627450980393 0.5803921568627451 0.8235294117647058 0.9921568627450981 0.9921568627450981 0.44313725490196076 0.3411764705882353 0.5803921568627451 0.21568627450980393 0.0 0.0 0.0 0.0 0.0 0.0 0.0 \n",
            "0.0 0.0 0.0 0.0 0.0 0.0 0.0 0.07058823529411765 0.8588235294117647 0.9921568627450981 0.9921568627450981 0.9921568627450981 0.9921568627450981 0.9921568627450981 0.7764705882352941 0.7137254901960784 0.9686274509803922 0.9450980392156862 0.0 0.0 0.0 0.0 0.0 0.0 0.0 0.0 0.0 0.0 0.0 0.0 0.0 0.0 0.0 0.0 0.0 0.0 0.0 0.0 0.0 0.6392156862745098 0.9882352941176471 0.9882352941176471 0.9882352941176471 0.9921568627450981 0.9882352941176471 0.9882352941176471 0.3764705882352941 0.7411764705882353 0.9921568627450981 0.6549019607843137 0.0 0.0 0.0 0.0 0.0 0.0 0.0 0.0 0.0 0.0 0.8627450980392157 0.6392156862745098 0.0 0.0 0.0 0.0 0.0 0.0 0.0 0.0 0.0 0.0 0.0 0.0 0.0 0.10588235294117647 0.996078431372549 0.6352941176470588 0.0 0.0 0.0 0.0 0.0 0.0 0.0 0.0 0.0 0.0 0.0 0.0 0.0 0.0 0.0 0.0 0.0 0.0 0.0 0.0 0.0 0.0 0.26666666666666666 0.9254901960784314 0.984313725490196 0.8274509803921568 0.12156862745098039 0.03137254901960784 0.0 0.0 0.0 0.0 0.0 0.0 0.0 0.0 0.0 0.0 0.0 0.0 0.0 0.0 0.0 0.0 0.0 0.3411764705882353 0.9098039215686274 0.9882352941176471 0.9921568627450981 0.7411764705882353 0.8235294117647058 0.9882352941176471 0.9882352941176471 0.9921568627450981 0.6588235294117647 0.0 0.0 0.0 0.0 0.0 0.0 0.0 \n",
            "0.0 0.0 0.0 0.0 0.0 0.0 0.0 0.0 0.3137254901960784 0.611764705882353 0.4196078431372549 0.9921568627450981 0.9921568627450981 0.803921568627451 0.043137254901960784 0.0 0.16862745098039217 0.6039215686274509 0.0 0.0 0.0 0.0 0.0 0.0 0.0 0.0 0.0 0.0 0.0 0.0 0.0 0.0 0.0 0.0 0.0 0.0 0.0 0.0 0.2 0.9333333333333333 0.9921568627450981 0.9921568627450981 0.7450980392156863 0.4470588235294118 0.9921568627450981 0.8941176470588236 0.1843137254901961 0.30980392156862746 1.0 0.6588235294117647 0.0 0.0 0.0 0.0 0.0 0.0 0.0 0.0 0.0 0.0 0.8705882352941177 0.6392156862745098 0.0 0.0 0.0 0.0 0.0 0.0 0.0 0.0 0.0 0.0 0.0 0.0 0.0 0.7176470588235294 0.996078431372549 0.49019607843137253 0.0 0.0 0.0 0.0 0.0 0.0 0.0 0.0 0.0 0.0 0.0 0.0 0.0 0.0 0.0 0.0 0.0 0.0 0.0 0.0 0.0 0.23529411764705882 0.8941176470588236 0.984313725490196 0.984313725490196 0.3686274509803922 0.0 0.0 0.0 0.0 0.0 0.0 0.0 0.0 0.0 0.0 0.0 0.0 0.0 0.0 0.0 0.0 0.0 0.01568627450980392 0.2235294117647059 0.9490196078431372 0.9882352941176471 0.7450980392156863 0.2549019607843137 0.0196078431372549 0.047058823529411764 0.7137254901960784 0.9882352941176471 0.9921568627450981 0.4549019607843137 0.0 0.0 0.0 0.0 0.0 0.0 0.0 \n",
            "0.0 0.0 0.0 0.0 0.0 0.0 0.0 0.0 0.0 0.054901960784313725 0.00392156862745098 0.6039215686274509 0.9921568627450981 0.35294117647058826 0.0 0.0 0.0 0.0 0.0 0.0 0.0 0.0 0.0 0.0 0.0 0.0 0.0 0.0 0.0 0.0 0.0 0.0 0.0 0.0 0.0 0.0 0.0 0.18823529411764706 0.9333333333333333 0.9882352941176471 0.9882352941176471 0.7019607843137254 0.047058823529411764 0.29411764705882354 0.4745098039215686 0.08235294117647059 0.0 0.0 0.9921568627450981 0.9529411764705882 0.19607843137254902 0.0 0.0 0.0 0.0 0.0 0.0 0.0 0.0 0.1803921568627451 0.9607843137254902 0.6392156862745098 0.0 0.0 0.0 0.0 0.0 0.0 0.0 0.0 0.0 0.0 0.0 0.0 0.0 0.7764705882352941 0.996078431372549 0.2196078431372549 0.0 0.0 0.0 0.0 0.0 0.0 0.0 0.0 0.0 0.0 0.0 0.0 0.0 0.0 0.0 0.0 0.0 0.0 0.0 0.0 0.0 0.6078431372549019 0.9921568627450981 0.9921568627450981 0.7411764705882353 0.0 0.0 0.0 0.0 0.0 0.0 0.0 0.0 0.0 0.0 0.0 0.0 0.0 0.0 0.0 0.0 0.0 0.0 0.3764705882352941 0.9882352941176471 0.9882352941176471 0.7176470588235294 0.054901960784313725 0.0 0.0 0.3607843137254902 0.9882352941176471 0.9882352941176471 0.8823529411764706 0.08235294117647059 0.0 0.0 0.0 0.0 0.0 0.0 0.0 \n",
            "0.0 0.0 0.0 0.0 0.0 0.0 0.0 0.0 0.0 0.0 0.0 0.5450980392156862 0.9921568627450981 0.7450980392156863 0.00784313725490196 0.0 0.0 0.0 0.0 0.0 0.0 0.0 0.0 0.0 0.0 0.0 0.0 0.0 0.0 0.0 0.0 0.0 0.0 0.0 0.0 0.0 0.14901960784313725 0.6470588235294118 0.9921568627450981 0.9137254901960784 0.8156862745098039 0.32941176470588235 0.0 0.0 0.0 0.0 0.0 0.0 0.9921568627450981 0.9882352941176471 0.6470588235294118 0.0 0.0 0.0 0.0 0.0 0.0 0.0 0.0 0.47058823529411764 0.996078431372549 0.6392156862745098 0.0 0.0 0.0 0.0 0.0 0.0 0.0 0.0 0.0 0.0 0.0 0.0 0.09019607843137255 0.9058823529411765 0.996078431372549 0.11372549019607843 0.0 0.0 0.0 0.0 0.0 0.0 0.0 0.0 0.0 0.0 0.0 0.0 0.0 0.0 0.0 0.0 0.0 0.0 0.0 0.0 0.0784313725490196 0.9921568627450981 0.984313725490196 0.9215686274509803 0.25882352941176473 0.0 0.0 0.0 0.0 0.0 0.0 0.0 0.0 0.0 0.0 0.0 0.0 0.0 0.0 0.0 0.0 0.0 0.5176470588235295 0.9921568627450981 0.9882352941176471 0.5725490196078431 0.054901960784313725 0.0 0.0 0.0 0.8431372549019608 0.9882352941176471 0.9882352941176471 0.30980392156862746 0.0 0.0 0.0 0.0 0.0 0.0 0.0 0.0 \n",
            "0.0 0.0 0.0 0.0 0.0 0.0 0.0 0.0 0.0 0.0 0.0 0.043137254901960784 0.7450980392156863 0.9921568627450981 0.27450980392156865 0.0 0.0 0.0 0.0 0.0 0.0 0.0 0.0 0.0 0.0 0.0 0.0 0.0 0.0 0.0 0.0 0.0 0.0 0.0 0.0 0.027450980392156862 0.6980392156862745 0.9882352941176471 0.9411764705882353 0.2784313725490196 0.07450980392156863 0.10980392156862745 0.0 0.0 0.0 0.0 0.0 0.0 0.9921568627450981 0.9882352941176471 0.7647058823529411 0.0 0.0 0.0 0.0 0.0 0.0 0.0 0.0 0.6235294117647059 0.996078431372549 0.47058823529411764 0.0 0.0 0.0 0.0 0.0 0.0 0.0 0.0 0.0 0.0 0.0 0.0 0.6392156862745098 0.996078431372549 0.8470588235294118 0.06274509803921569 0.0 0.0 0.0 0.0 0.0 0.0 0.0 0.0 0.0 0.0 0.0 0.0 0.0 0.0 0.0 0.0 0.0 0.0 0.0 0.12549019607843137 0.803921568627451 0.9921568627450981 0.984313725490196 0.49411764705882355 0.0 0.0 0.0 0.0 0.0 0.0 0.0 0.0 0.0 0.0 0.0 0.0 0.0 0.0 0.0 0.0 0.0 0.49411764705882355 0.9921568627450981 0.9686274509803922 0.6901960784313725 0.03529411764705882 0.0 0.0 0.03137254901960784 0.3058823529411765 0.9607843137254902 0.9921568627450981 0.5058823529411764 0.0 0.0 0.0 0.0 0.0 0.0 0.0 0.0 0.0 \n",
            "0.0 0.0 0.0 0.0 0.0 0.0 0.0 0.0 0.0 0.0 0.0 0.0 0.13725490196078433 0.9450980392156862 0.8823529411764706 0.6274509803921569 0.4235294117647059 0.00392156862745098 0.0 0.0 0.0 0.0 0.0 0.0 0.0 0.0 0.0 0.0 0.0 0.0 0.0 0.0 0.0 0.0 0.0 0.2235294117647059 0.9882352941176471 0.9882352941176471 0.24705882352941178 0.0 0.0 0.0 0.0 0.0 0.0 0.0 0.0 0.0 0.9921568627450981 0.9882352941176471 0.7647058823529411 0.0 0.0 0.0 0.0 0.0 0.0 0.0 0.0 0.6235294117647059 0.996078431372549 0.2627450980392157 0.0 0.0 0.0 0.0 0.0 0.0 0.0 0.0 0.0 0.054901960784313725 0.33725490196078434 0.6980392156862745 0.9725490196078431 0.996078431372549 0.3568627450980392 0.0 0.0 0.0 0.0 0.0 0.0 0.0 0.0 0.0 0.0 0.0 0.0 0.0 0.0 0.0 0.0 0.0 0.0 0.0 0.0 0.40784313725490196 0.984313725490196 0.9921568627450981 0.7215686274509804 0.058823529411764705 0.0 0.0 0.0 0.0 0.0 0.0 0.0 0.0 0.0 0.0 0.0 0.0 0.0 0.0 0.0 0.0 0.06274509803921569 0.9098039215686274 0.9882352941176471 0.6901960784313725 0.0 0.0 0.0 0.1411764705882353 0.788235294117647 0.9882352941176471 0.9882352941176471 0.6627450980392157 0.043137254901960784 0.0 0.0 0.0 0.0 0.0 0.0 0.0 0.0 0.0 \n",
            "0.0 0.0 0.0 0.0 0.0 0.0 0.0 0.0 0.0 0.0 0.0 0.0 0.0 0.3176470588235294 0.9411764705882353 0.9921568627450981 0.9921568627450981 0.4666666666666667 0.09803921568627451 0.0 0.0 0.0 0.0 0.0 0.0 0.0 0.0 0.0 0.0 0.0 0.0 0.0 0.0 0.0 0.0 0.7764705882352941 0.9921568627450981 0.7450980392156863 0.0 0.0 0.0 0.0 0.0 0.0 0.0 0.0 0.0 0.0 1.0 0.9921568627450981 0.7686274509803922 0.0 0.0 0.0 0.0 0.0 0.0 0.0 0.0 0.6235294117647059 0.996078431372549 0.3333333333333333 0.0 0.0 0.0 0.1843137254901961 0.19215686274509805 0.4549019607843137 0.5647058823529412 0.5882352941176471 0.9450980392156862 0.9529411764705882 0.9176470588235294 0.7019607843137254 0.9450980392156862 0.9882352941176471 0.1568627450980392 0.0 0.0 0.0 0.0 0.0 0.0 0.0 0.0 0.0 0.0 0.0 0.0 0.0 0.0 0.0 0.0 0.0 0.0 0.0 0.3137254901960784 0.9411764705882353 0.984313725490196 0.7568627450980392 0.09019607843137255 0.0 0.0 0.0 0.0 0.0 0.0 0.0 0.0 0.0 0.0 0.0 0.0 0.0 0.0 0.0 0.0 0.0 0.08627450980392157 0.9882352941176471 0.9882352941176471 0.11764705882352941 0.08627450980392157 0.4666666666666667 0.7725490196078432 0.9450980392156862 0.9921568627450981 0.9882352941176471 0.984313725490196 0.30196078431372547 0.0 0.0 0.0 0.0 0.0 0.0 0.0 0.0 0.0 0.0 \n",
            "0.0 0.0 0.0 0.0 0.0 0.0 0.0 0.0 0.0 0.0 0.0 0.0 0.0 0.0 0.17647058823529413 0.7294117647058823 0.9921568627450981 0.9921568627450981 0.5882352941176471 0.10588235294117647 0.0 0.0 0.0 0.0 0.0 0.0 0.0 0.0 0.0 0.0 0.0 0.0 0.0 0.0 0.2980392156862745 0.9647058823529412 0.9882352941176471 0.4392156862745098 0.0 0.0 0.0 0.0 0.0 0.0 0.0 0.0 0.0 0.0 0.9921568627450981 0.9882352941176471 0.5803921568627451 0.0 0.0 0.0 0.0 0.0 0.0 0.0 0.0 0.5882352941176471 0.9921568627450981 0.9294117647058824 0.8117647058823529 0.8117647058823529 0.8117647058823529 0.9921568627450981 0.996078431372549 0.9803921568627451 0.9411764705882353 0.7764705882352941 0.5607843137254902 0.3568627450980392 0.10980392156862745 0.0196078431372549 0.9137254901960784 0.9803921568627451 0.0 0.0 0.0 0.0 0.0 0.0 0.0 0.0 0.0 0.0 0.0 0.0 0.0 0.0 0.0 0.0 0.0 0.0 0.0 0.12549019607843137 0.9921568627450981 0.9921568627450981 0.9921568627450981 0.6235294117647059 0.0 0.0 0.0 0.0 0.0 0.0 0.0 0.0 0.0 0.0 0.0 0.0 0.0 0.0 0.0 0.0 0.0 0.0 0.06274509803921569 0.9058823529411765 0.9882352941176471 0.9921568627450981 0.9882352941176471 0.9882352941176471 0.9882352941176471 0.8862745098039215 0.8901960784313725 0.9882352941176471 0.9058823529411765 0.0 0.0 0.0 0.0 0.0 0.0 0.0 0.0 0.0 0.0 0.0 \n",
            "0.0 0.0 0.0 0.0 0.0 0.0 0.0 0.0 0.0 0.0 0.0 0.0 0.0 0.0 0.0 0.06274509803921569 0.36470588235294116 0.9882352941176471 0.9921568627450981 0.7333333333333333 0.0 0.0 0.0 0.0 0.0 0.0 0.0 0.0 0.0 0.0 0.0 0.0 0.0 0.0 0.3333333333333333 0.9882352941176471 0.9019607843137255 0.09803921568627451 0.0 0.0 0.0 0.0 0.0 0.0 0.0 0.0 0.027450980392156862 0.5294117647058824 0.9921568627450981 0.7294117647058823 0.047058823529411764 0.0 0.0 0.0 0.0 0.0 0.0 0.0 0.0 0.0 0.4666666666666667 0.6941176470588235 0.6941176470588235 0.6941176470588235 0.6941176470588235 0.6941176470588235 0.3843137254901961 0.2196078431372549 0.0 0.0 0.0 0.0 0.0 0.4 0.996078431372549 0.8627450980392157 0.0 0.0 0.0 0.0 0.0 0.0 0.0 0.0 0.0 0.0 0.0 0.0 0.0 0.0 0.0 0.0 0.0 0.0 0.0 0.592156862745098 0.984313725490196 0.984313725490196 0.984313725490196 0.15294117647058825 0.0 0.0 0.0 0.0 0.0 0.0 0.0 0.0 0.0 0.0 0.0 0.0 0.0 0.0 0.0 0.0 0.0 0.0 0.0 0.21568627450980393 0.9215686274509803 0.9921568627450981 0.8509803921568627 0.5411764705882353 0.16470588235294117 0.09411764705882353 0.7529411764705882 0.9882352941176471 0.5607843137254902 0.0 0.0 0.0 0.0 0.0 0.0 0.0 0.0 0.0 0.0 0.0 \n",
            "0.0 0.0 0.0 0.0 0.0 0.0 0.0 0.0 0.0 0.0 0.0 0.0 0.0 0.0 0.0 0.0 0.0 0.9764705882352941 0.9921568627450981 0.9764705882352941 0.25098039215686274 0.0 0.0 0.0 0.0 0.0 0.0 0.0 0.0 0.0 0.0 0.0 0.0 0.0 0.3333333333333333 0.9882352941176471 0.8745098039215686 0.0 0.0 0.0 0.0 0.0 0.0 0.0 0.0 0.027450980392156862 0.5137254901960784 0.9882352941176471 0.8823529411764706 0.2784313725490196 0.0 0.0 0.0 0.0 0.0 0.0 0.0 0.0 0.0 0.0 0.0 0.0 0.0 0.0 0.0 0.0 0.0 0.0 0.0 0.0 0.0 0.0 0.0 0.6627450980392157 0.996078431372549 0.5372549019607843 0.0 0.0 0.0 0.0 0.0 0.0 0.0 0.0 0.0 0.0 0.0 0.0 0.0 0.0 0.0 0.0 0.0 0.0 0.18823529411764706 0.8666666666666667 0.984313725490196 0.984313725490196 0.6745098039215687 0.0 0.0 0.0 0.0 0.0 0.0 0.0 0.0 0.0 0.0 0.0 0.0 0.0 0.0 0.0 0.0 0.0 0.0 0.0 0.0 0.0 0.0 0.0 0.0 0.0 0.0 0.24313725490196078 1.0 0.9921568627450981 0.42745098039215684 0.0 0.0 0.0 0.0 0.0 0.0 0.0 0.0 0.0 0.0 0.0 \n",
            "0.0 0.0 0.0 0.0 0.0 0.0 0.0 0.0 0.0 0.0 0.0 0.0 0.0 0.0 0.1803921568627451 0.5098039215686274 0.7176470588235294 0.9921568627450981 0.9921568627450981 0.8117647058823529 0.00784313725490196 0.0 0.0 0.0 0.0 0.0 0.0 0.0 0.0 0.0 0.0 0.0 0.0 0.0 0.3333333333333333 0.9882352941176471 0.5686274509803921 0.0 0.0 0.0 0.0 0.0 0.0 0.0 0.18823529411764706 0.6470588235294118 0.9882352941176471 0.6784313725490196 0.0 0.0 0.0 0.0 0.0 0.0 0.0 0.0 0.0 0.0 0.0 0.0 0.0 0.0 0.0 0.0 0.0 0.0 0.0 0.0 0.0 0.0 0.0 0.0 0.0 0.6627450980392157 0.996078431372549 0.2235294117647059 0.0 0.0 0.0 0.0 0.0 0.0 0.0 0.0 0.0 0.0 0.0 0.0 0.0 0.0 0.0 0.0 0.0 0.0 0.9176470588235294 0.984313725490196 0.984313725490196 0.7686274509803922 0.047058823529411764 0.0 0.0 0.0 0.0 0.0 0.0 0.0 0.0 0.0 0.0 0.0 0.0 0.0 0.0 0.0 0.0 0.0 0.0 0.0 0.0 0.0 0.0 0.0 0.0 0.0 0.0 0.2784313725490196 0.9921568627450981 0.9882352941176471 0.08235294117647059 0.0 0.0 0.0 0.0 0.0 0.0 0.0 0.0 0.0 0.0 0.0 \n",
            "0.0 0.0 0.0 0.0 0.0 0.0 0.0 0.0 0.0 0.0 0.0 0.0 0.15294117647058825 0.5803921568627451 0.8980392156862745 0.9921568627450981 0.9921568627450981 0.9921568627450981 0.9803921568627451 0.7137254901960784 0.0 0.0 0.0 0.0 0.0 0.0 0.0 0.0 0.0 0.0 0.0 0.0 0.0 0.0 0.33725490196078434 0.9921568627450981 0.8823529411764706 0.0 0.0 0.0 0.0 0.0 0.0 0.4470588235294118 0.9333333333333333 0.9921568627450981 0.6352941176470588 0.0 0.0 0.0 0.0 0.0 0.0 0.0 0.0 0.0 0.0 0.0 0.0 0.0 0.0 0.0 0.0 0.0 0.0 0.0 0.0 0.0 0.0 0.0 0.0 0.0 0.0 0.6627450980392157 0.996078431372549 0.2235294117647059 0.0 0.0 0.0 0.0 0.0 0.0 0.0 0.0 0.0 0.0 0.0 0.0 0.0 0.0 0.0 0.0 0.0 0.0 0.9921568627450981 0.984313725490196 0.984313725490196 0.34901960784313724 0.0 0.0 0.0 0.0 0.0 0.0 0.0 0.0 0.0 0.0 0.0 0.0 0.0 0.0 0.0 0.0 0.0 0.0 0.0 0.0 0.0 0.0 0.0 0.0 0.0 0.0 0.0 0.0 0.9921568627450981 0.9882352941176471 0.08235294117647059 0.0 0.0 0.0 0.0 0.0 0.0 0.0 0.0 0.0 0.0 0.0 \n",
            "0.0 0.0 0.0 0.0 0.0 0.0 0.0 0.0 0.0 0.0 0.09411764705882353 0.4470588235294118 0.8666666666666667 0.9921568627450981 0.9921568627450981 0.9921568627450981 0.9921568627450981 0.788235294117647 0.3058823529411765 0.0 0.0 0.0 0.0 0.0 0.0 0.0 0.0 0.0 0.0 0.0 0.0 0.0 0.0 0.0 0.3333333333333333 0.9882352941176471 0.9764705882352941 0.5725490196078431 0.18823529411764706 0.11372549019607843 0.3333333333333333 0.6980392156862745 0.8823529411764706 0.9921568627450981 0.8745098039215686 0.6549019607843137 0.2196078431372549 0.0 0.0 0.0 0.0 0.0 0.0 0.0 0.0 0.0 0.0 0.0 0.0 0.0 0.0 0.0 0.0 0.0 0.0 0.0 0.0 0.0 0.0 0.0 0.0 0.0 0.0 0.6627450980392157 1.0 0.3686274509803922 0.0 0.0 0.0 0.0 0.0 0.0 0.0 0.0 0.0 0.0 0.0 0.0 0.0 0.0 0.0 0.0 0.0 0.6235294117647059 1.0 0.9921568627450981 0.9921568627450981 0.12156862745098039 0.0 0.0 0.0 0.0 0.0 0.0 0.0 0.0 0.0 0.0 0.0 0.0 0.0 0.0 0.0 0.0 0.0 0.0 0.0 0.0 0.0 0.0 0.0 0.0 0.0 0.0 0.0 0.2784313725490196 0.9921568627450981 0.9882352941176471 0.08235294117647059 0.0 0.0 0.0 0.0 0.0 0.0 0.0 0.0 0.0 0.0 0.0 \n",
            "0.0 0.0 0.0 0.0 0.0 0.0 0.0 0.0 0.09019607843137255 0.25882352941176473 0.8352941176470589 0.9921568627450981 0.9921568627450981 0.9921568627450981 0.9921568627450981 0.7764705882352941 0.3176470588235294 0.00784313725490196 0.0 0.0 0.0 0.0 0.0 0.0 0.0 0.0 0.0 0.0 0.0 0.0 0.0 0.0 0.0 0.0 0.3333333333333333 0.9882352941176471 0.9882352941176471 0.9882352941176471 0.8980392156862745 0.8431372549019608 0.9882352941176471 0.9882352941176471 0.9882352941176471 0.7686274509803922 0.5098039215686274 0.0 0.0 0.0 0.0 0.0 0.0 0.0 0.0 0.0 0.0 0.0 0.0 0.0 0.0 0.0 0.0 0.0 0.0 0.0 0.0 0.0 0.0 0.0 0.0 0.0 0.0 0.0 0.0 0.6627450980392157 0.996078431372549 0.3764705882352941 0.0 0.0 0.0 0.0 0.0 0.0 0.0 0.0 0.0 0.0 0.0 0.0 0.0 0.0 0.0 0.0 0.18823529411764706 0.8941176470588236 0.9921568627450981 0.9686274509803922 0.5490196078431373 0.03137254901960784 0.0 0.0 0.0 0.0 0.0 0.0 0.0 0.0 0.0 0.0 0.0 0.0 0.0 0.0 0.0 0.0 0.0 0.0 0.0 0.0 0.0 0.0 0.0 0.0 0.0 0.0 0.0 0.41568627450980394 0.9921568627450981 0.9882352941176471 0.08235294117647059 0.0 0.0 0.0 0.0 0.0 0.0 0.0 0.0 0.0 0.0 0.0 \n",
            "0.0 0.0 0.0 0.0 0.0 0.0 0.07058823529411765 0.6705882352941176 0.8588235294117647 0.9921568627450981 0.9921568627450981 0.9921568627450981 0.9921568627450981 0.7647058823529411 0.3137254901960784 0.03529411764705882 0.0 0.0 0.0 0.0 0.0 0.0 0.0 0.0 0.0 0.0 0.0 0.0 0.0 0.0 0.0 0.0 0.0 0.0 0.10980392156862745 0.7803921568627451 0.9882352941176471 0.9882352941176471 0.9921568627450981 0.9882352941176471 0.9882352941176471 0.9137254901960784 0.5686274509803921 0.0 0.0 0.0 0.0 0.0 0.0 0.0 0.0 0.0 0.0 0.0 0.0 0.0 0.0 0.0 0.0 0.0 0.0 0.0 0.0 0.0 0.0 0.0 0.0 0.0 0.0 0.0 0.0 0.0 0.0 0.6627450980392157 0.996078431372549 0.6 0.0 0.0 0.0 0.0 0.0 0.0 0.0 0.0 0.0 0.0 0.0 0.0 0.0 0.0 0.0 0.0 0.25098039215686274 0.984313725490196 0.9921568627450981 0.8627450980392157 0.0 0.0 0.0 0.0 0.0 0.0 0.0 0.0 0.0 0.0 0.0 0.0 0.0 0.0 0.0 0.0 0.0 0.0 0.0 0.0 0.0 0.0 0.0 0.0 0.0 0.0 0.0 0.0 0.0 0.17647058823529413 1.0 0.9921568627450981 0.08235294117647059 0.0 0.0 0.0 0.0 0.0 0.0 0.0 0.0 0.0 0.0 0.0 \n",
            "0.0 0.0 0.0 0.0 0.21568627450980393 0.6745098039215687 0.8862745098039215 0.9921568627450981 0.9921568627450981 0.9921568627450981 0.9921568627450981 0.9568627450980393 0.5215686274509804 0.043137254901960784 0.0 0.0 0.0 0.0 0.0 0.0 0.0 0.0 0.0 0.0 0.0 0.0 0.0 0.0 0.0 0.0 0.0 0.0 0.0 0.0 0.0 0.09803921568627451 0.5019607843137255 0.9882352941176471 0.9921568627450981 0.9882352941176471 0.5529411764705883 0.1450980392156863 0.0 0.0 0.0 0.0 0.0 0.0 0.0 0.0 0.0 0.0 0.0 0.0 0.0 0.0 0.0 0.0 0.0 0.0 0.0 0.0 0.0 0.0 0.0 0.0 0.0 0.0 0.0 0.0 0.0 0.0 0.0 0.6627450980392157 1.0 0.6 0.0 0.0 0.0 0.0 0.0 0.0 0.0 0.0 0.0 0.0 0.0 0.0 0.0 0.0 0.0 0.0 0.25098039215686274 0.984313725490196 0.9921568627450981 0.8627450980392157 0.0 0.0 0.0 0.0 0.0 0.0 0.0 0.0 0.0 0.0 0.0 0.0 0.0 0.0 0.0 0.0 0.0 0.0 0.0 0.0 0.0 0.0 0.0 0.0 0.0 0.0 0.0 0.0 0.0 0.0 0.8549019607843137 0.9882352941176471 0.2196078431372549 0.0 0.0 0.0 0.0 0.0 0.0 0.0 0.0 0.0 0.0 0.0 \n",
            "0.0 0.0 0.0 0.0 0.5333333333333333 0.9921568627450981 0.9921568627450981 0.9921568627450981 0.8313725490196079 0.5294117647058824 0.5176470588235295 0.06274509803921569 0.0 0.0 0.0 0.0 0.0 0.0 0.0 0.0 0.0 0.0 0.0 0.0 0.0 0.0 0.0 0.0 0.0 0.0 0.0 0.0 0.0 0.0 0.0 0.0 0.0 0.0 0.0 0.0 0.0 0.0 0.0 0.0 0.0 0.0 0.0 0.0 0.0 0.0 0.0 0.0 0.0 0.0 0.0 0.0 0.0 0.0 0.0 0.0 0.0 0.0 0.0 0.0 0.0 0.0 0.0 0.0 0.0 0.0 0.0 0.0 0.0 0.3764705882352941 0.996078431372549 0.6 0.0 0.0 0.0 0.0 0.0 0.0 0.0 0.0 0.0 0.0 0.0 0.0 0.0 0.0 0.0 0.0 0.09411764705882353 0.7568627450980392 0.9921568627450981 0.8627450980392157 0.0 0.0 0.0 0.0 0.0 0.0 0.0 0.0 0.0 0.0 0.0 0.0 0.0 0.0 0.0 0.0 0.0 0.0 0.0 0.0 0.0 0.0 0.0 0.0 0.0 0.0 0.0 0.0 0.0 0.0 0.3764705882352941 0.9882352941176471 0.7411764705882353 0.16470588235294117 0.0 0.0 0.0 0.0 0.0 0.0 0.0 0.0 0.0 0.0 \n",
            "0.0 0.0 0.0 0.0 0.0 0.0 0.0 0.0 0.0 0.0 0.0 0.0 0.0 0.0 0.0 0.0 0.0 0.0 0.0 0.0 0.0 0.0 0.0 0.0 0.0 0.0 0.0 0.0 0.0 0.0 0.0 0.0 0.0 0.0 0.0 0.0 0.0 0.0 0.0 0.0 0.0 0.0 0.0 0.0 0.0 0.0 0.0 0.0 0.0 0.0 0.0 0.0 0.0 0.0 0.0 0.0 0.0 0.0 0.0 0.0 0.0 0.0 0.0 0.0 0.0 0.0 0.0 0.0 0.0 0.0 0.0 0.0 0.0 0.0 0.0 0.0 0.0 0.0 0.0 0.0 0.0 0.0 0.0 0.0 0.0 0.0 0.0 0.0 0.0 0.0 0.0 0.0 0.0 0.0 0.0 0.0 0.0 0.0 0.0 0.0 0.0 0.0 0.0 0.0 0.0 0.0 0.0 0.0 0.0 0.0 0.0 0.0 0.0 0.0 0.0 0.0 0.0 0.0 0.0 0.0 0.0 0.0 0.0 0.0 0.0 0.0 0.054901960784313725 0.7215686274509804 0.9882352941176471 0.6666666666666666 0.043137254901960784 0.0 0.0 0.0 0.0 0.0 0.0 0.0 0.0 0.0 \n",
            "0.0 0.0 0.0 0.0 0.0 0.0 0.0 0.0 0.0 0.0 0.0 0.0 0.0 0.0 0.0 0.0 0.0 0.0 0.0 0.0 0.0 0.0 0.0 0.0 0.0 0.0 0.0 0.0 0.0 0.0 0.0 0.0 0.0 0.0 0.0 0.0 0.0 0.0 0.0 0.0 0.0 0.0 0.0 0.0 0.0 0.0 0.0 0.0 0.0 0.0 0.0 0.0 0.0 0.0 0.0 0.0 0.0 0.0 0.0 0.0 0.0 0.0 0.0 0.0 0.0 0.0 0.0 0.0 0.0 0.0 0.0 0.0 0.0 0.0 0.0 0.0 0.0 0.0 0.0 0.0 0.0 0.0 0.0 0.0 0.0 0.0 0.0 0.0 0.0 0.0 0.0 0.0 0.0 0.0 0.0 0.0 0.0 0.0 0.0 0.0 0.0 0.0 0.0 0.0 0.0 0.0 0.0 0.0 0.0 0.0 0.0 0.0 0.0 0.0 0.0 0.0 0.0 0.0 0.0 0.0 0.0 0.0 0.0 0.0 0.0 0.0 0.0 0.054901960784313725 0.5764705882352941 0.9882352941176471 0.16470588235294117 0.0 0.0 0.0 0.0 0.0 0.0 0.0 0.0 0.0 \n",
            "0.0 0.0 0.0 0.0 0.0 0.0 0.0 0.0 0.0 0.0 0.0 0.0 0.0 0.0 0.0 0.0 0.0 0.0 0.0 0.0 0.0 0.0 0.0 0.0 0.0 0.0 0.0 0.0 0.0 0.0 0.0 0.0 0.0 0.0 0.0 0.0 0.0 0.0 0.0 0.0 0.0 0.0 0.0 0.0 0.0 0.0 0.0 0.0 0.0 0.0 0.0 0.0 0.0 0.0 0.0 0.0 0.0 0.0 0.0 0.0 0.0 0.0 0.0 0.0 0.0 0.0 0.0 0.0 0.0 0.0 0.0 0.0 0.0 0.0 0.0 0.0 0.0 0.0 0.0 0.0 0.0 0.0 0.0 0.0 0.0 0.0 0.0 0.0 0.0 0.0 0.0 0.0 0.0 0.0 0.0 0.0 0.0 0.0 0.0 0.0 0.0 0.0 0.0 0.0 0.0 0.0 0.0 0.0 0.0 0.0 0.0 0.0 0.0 0.0 0.0 0.0 0.0 0.0 0.0 0.0 0.0 0.0 0.0 0.0 0.0 0.0 0.0 0.0 0.0 0.0 0.0 0.0 0.0 0.0 0.0 0.0 0.0 0.0 0.0 0.0 \n"
          ]
        }
      ]
    },
    {
      "cell_type": "markdown",
      "metadata": {
        "id": "xqyaO-5bk-sj"
      },
      "source": [
        "### 문제 13. np.hstack은 tensorflow에서 제공하는 방법이 아니므로 transpose 함수를 이용하여 (28, 28 * 5)로 shape을 변경해보세요."
      ]
    },
    {
      "cell_type": "code",
      "metadata": {
        "id": "SqmKdjlGlqLJ",
        "colab": {
          "base_uri": "https://localhost:8080/"
        },
        "outputId": "fce75290-72a8-46e5-8462-731e9a4eefcf"
      },
      "source": [
        "# transpose는 tensor의 axis를 섞는 기능을 합니다.\n",
        "# 해당 기능을 이용해서 (28, 140)을 작성하는 코드를 작성해보세요.\n",
        "train_images[:5].transpose( (1, 0, 2) ).reshape(28, -1)\n",
        "\n",
        "# 이거 이해하기 어렵다.. 그냥 hp.hstack은 공식적인 방법이 아니므로 같은 기능을 하는 transpose((1,0,2)).reshape(28,-1) 를 써야한다고 외우삼\n",
        "## reshape의 -1 은 140을 뜻함"
      ],
      "execution_count": null,
      "outputs": [
        {
          "output_type": "execute_result",
          "data": {
            "text/plain": [
              "array([[0., 0., 0., ..., 0., 0., 0.],\n",
              "       [0., 0., 0., ..., 0., 0., 0.],\n",
              "       [0., 0., 0., ..., 0., 0., 0.],\n",
              "       ...,\n",
              "       [0., 0., 0., ..., 0., 0., 0.],\n",
              "       [0., 0., 0., ..., 0., 0., 0.],\n",
              "       [0., 0., 0., ..., 0., 0., 0.]])"
            ]
          },
          "metadata": {},
          "execution_count": 19
        }
      ]
    },
    {
      "cell_type": "markdown",
      "metadata": {
        "id": "T0oaToP6l0Pd"
      },
      "source": [
        "### 문제 14. (28, 140)이 된 tensor를 plt로 출력해보세요."
      ]
    },
    {
      "cell_type": "code",
      "metadata": {
        "id": "ToUpk3oBmIr1",
        "colab": {
          "base_uri": "https://localhost:8080/",
          "height": 118
        },
        "outputId": "8557eb4c-6e93-477f-c5a1-33b6309d7da4"
      },
      "source": [
        "# (28, 140)의 이미지를 plt로 출력해보세요.\n",
        "plt.imshow(train_images[:5].transpose( (1, 0, 2) ).reshape(28, -1))\n",
        "plt.show()"
      ],
      "execution_count": null,
      "outputs": [
        {
          "output_type": "display_data",
          "data": {
            "text/plain": [
              "<Figure size 432x288 with 1 Axes>"
            ],
            "image/png": "[encoded data removed]"
          },
          "metadata": {
            "needs_background": "light"
          }
        }
      ]
    },
    {
      "cell_type": "markdown",
      "metadata": {
        "id": "LDwAlHN5mQ6K"
      },
      "source": [
        "###문제 15. (28, 140)이 된 tensor를 plt로 흑백으로 출력해보세요. 또한, 해당되는 labels의 값도 print로 출력하세요.\n",
        "\n",
        "hit: imshow 함수의 cmap ='gray' 옵션은 흑백이미지를 heatmap으로 출력하지 않습니다."
      ]
    },
    {
      "cell_type": "code",
      "metadata": {
        "id": "cT-BXF6OmQUy",
        "colab": {
          "base_uri": "https://localhost:8080/",
          "height": 276
        },
        "outputId": "c453ec7e-7269-47b9-da05-8607c93a137b"
      },
      "source": [
        "# images와 labels 5개를 출력하는 코드를 작성하세요.\n",
        "plt.imshow(train_images[:5].transpose( (1, 0, 2) ).reshape(28, -1), cmap=\"gray\") #imshow 의 cmap = 'gray' 를 사용하여 흑백으로 표현가능\n",
        "plt.colorbar()\n",
        "plt.show()\n",
        "print(train_labels[:5])"
      ],
      "execution_count": null,
      "outputs": [
        {
          "output_type": "display_data",
          "data": {
            "text/plain": [
              "<Figure size 432x288 with 2 Axes>"
            ],
            "image/png": "[encoded data removed]"
          },
          "metadata": {
            "needs_background": "light"
          }
        },
        {
          "output_type": "stream",
          "name": "stdout",
          "text": [
            "[5 0 4 1 9]\n"
          ]
        }
      ]
    },
    {
      "cell_type": "markdown",
      "metadata": {
        "id": "Kz3kWteP8Kap"
      },
      "source": [
        "## Step 4. Data augmentation - Noise 추가 방법"
      ]
    },
    {
      "cell_type": "markdown",
      "metadata": {
        "id": "fesKKJqio--a"
      },
      "source": [
        "### 문제 16. np.random.random 함수를 이용하여 0-1 사이의 랜덤값을 3회 print로 출력해보시오."
      ]
    },
    {
      "cell_type": "code",
      "metadata": {
        "id": "Jsmh1keWpODx",
        "colab": {
          "base_uri": "https://localhost:8080/"
        },
        "outputId": "9bcd6ca8-4392-4c58-afdb-ca660f03cd43"
      },
      "source": [
        "# np.random.ranodm을 이용해서 0-1 사의의 랜덤값을 3회 출력하는 코드를 작성하시오.\n",
        "print(np.random.random()) #랜덤값을 보여주는 함수\n",
        "print(np.random.random())\n",
        "print(np.random.random())\n",
        "\n",
        "#내가 만든것(원래 없음) - 두개 출력하기\n",
        "print(np.random.random(2))"
      ],
      "execution_count": null,
      "outputs": [
        {
          "output_type": "stream",
          "name": "stdout",
          "text": [
            "0.8545571726783936\n",
            "0.18750284693488128\n",
            "0.3299440746945156\n",
            "[0.89699216 0.36133587]\n"
          ]
        }
      ]
    },
    {
      "cell_type": "markdown",
      "metadata": {
        "id": "_1NMpB6LqIB5"
      },
      "source": [
        "### 문제 17. np.random.random 함수와 shape 파라매터를 (28, 28)의 랜덤 노이즈를 생성해보세요."
      ]
    },
    {
      "cell_type": "code",
      "metadata": {
        "id": "U9-NlbEhqhCx",
        "colab": {
          "base_uri": "https://localhost:8080/"
        },
        "outputId": "8bcaccfe-93b8-428e-ab39-af32db0df97d"
      },
      "source": [
        "# np.random.randpm 함수와 shape 파라매터를 이용하여 (28, 28)의 랜덤 노이즈를 생성하는 코드를 작성하시오.\n",
        "np.random.random((28,28)).shape"
      ],
      "execution_count": null,
      "outputs": [
        {
          "output_type": "execute_result",
          "data": {
            "text/plain": [
              "(28, 28)"
            ]
          },
          "metadata": {},
          "execution_count": 23
        }
      ]
    },
    {
      "cell_type": "code",
      "source": [
        "#이해를 돕기 위해 내가 만든 부분(원래 없음)\n",
        "rd = np.random.random((28,28)) #28,28 을 출력하기 위해 넣어줌\n",
        "for i in rd:\n",
        "  for j in i:\n",
        "    print(j,end =' ')\n",
        "  print()\n",
        "\n",
        "#양수값임"
      ],
      "metadata": {
        "colab": {
          "base_uri": "https://localhost:8080/"
        },
        "id": "eEs4cgzhfHzJ",
        "outputId": "4f833dca-75e2-4c08-d4c5-2d93ba188d8d"
      },
      "execution_count": null,
      "outputs": [
        {
          "output_type": "stream",
          "name": "stdout",
          "text": [
            "0.40950074292108074 0.11342814214886843 0.20519630030050728 0.7492959938917106 0.6281164578812133 0.8659601131541712 0.11735639190082703 0.8342560139775022 0.7130393039806793 0.9797863794034687 0.02285751094247246 0.3564694369314816 0.9097179321999542 0.4683490195897805 0.6919669047404529 0.5067716964267467 0.4456175773529518 0.2626052088941392 0.2823914456805994 0.01786906129363386 0.8298424060549704 0.9513655224427066 0.8993109361501733 0.12461728980760267 0.7111074576118519 0.5519532092990903 0.9453860176218865 0.16498340121450372 \n",
            "0.8605822367460005 0.6034143311211501 0.068615076678607 0.26730917109784536 0.38275548929712255 0.19753718667697284 0.33454443280535073 0.8588301079336018 0.7032706029539537 0.6312912494649096 0.5977128439653343 0.15277299896818308 0.5375473337551189 0.9740331083288605 0.4759719853008737 0.7794468855734309 0.46457864140524263 0.7437670746991805 0.2884202276238107 0.7827607711767532 0.6187225356759467 0.29781144337555043 0.8202339082056908 0.11740566796953811 0.4824496663513108 0.5582787683686928 0.8161377793774184 0.5361243688440988 \n",
            "0.15663084787378112 0.24423445789832832 0.5599080097694552 0.20960773852975068 0.3980094989865728 0.10618269298046301 0.9917671578116993 0.04306029188623639 0.11170872657698327 0.9982856135707047 0.6851049237209015 0.3443786725199812 0.30496300701395196 0.0819754253421825 0.4447460517873666 0.2500650205578916 0.14859387176110816 0.131042758726443 0.5551831293441333 0.7470263849621227 0.2285676131970069 0.10163255725545317 0.7101839723947637 0.7950149967035118 0.755912093396431 0.6980357325081091 0.8064270737146827 0.5271313717608982 \n",
            "0.8959693725630427 0.41921991335169584 0.1696680486889025 0.8869223721444656 0.7888758973166403 0.8998140615935317 0.7141713157400112 0.06544268657023511 0.8451014568064167 0.5265590160591919 0.928864525270343 0.6263670165500207 0.640463930979965 0.42201557395846623 0.3400262255167237 0.20594441962191956 0.6525706890678492 0.844035922566212 0.8853456223910413 0.24764148875926217 0.8127519222678875 0.6180834442337634 0.017173170087272926 0.36732647649355865 0.6800360645004457 0.7311045387536876 0.7746500471547877 0.16017650194756117 \n",
            "0.7016695784208088 0.31295411868982403 0.5802049019132363 0.5580959007216073 0.2958993339687085 0.45214634216401717 0.7523961232698166 0.50194335796913 0.22719273960371844 0.19059072106508146 0.24362503938848656 0.47626868049017623 0.3428099376838638 0.23971033614120518 0.8802583817277645 0.6067259785924296 0.8352728919195398 0.16863407526507435 0.025530980091024502 0.46202855222801487 0.9473029897267286 0.3125668244401303 0.7378599080689519 0.4952184673183855 0.05410013302654704 0.07836777033706466 0.9703120497246999 0.9051713920407998 \n",
            "0.0022471917873212455 0.49339955117053125 0.26136800800543736 0.15294683159460398 0.1294549771124388 0.09687485695199016 0.21596473868735466 0.5289432761073052 0.20428758338148334 0.6789138613108204 0.12827878937136028 0.8009025148744235 0.132583108406214 0.006334942349204287 0.019347823404196274 0.4739872928721355 0.9684792901567516 0.3187639285825623 0.23119739925228966 0.04530062789098532 0.09221872111427121 0.8512830306052955 0.16902553203474058 0.5505647149145738 0.9225666776559941 0.15426849558890066 0.8888206634418281 0.8507143654283008 \n",
            "0.768596555390367 0.8251114258045886 0.27902181401854176 0.36596374821852606 0.224383899733542 0.8613725560992093 0.5081527756865815 0.7271005214692818 0.6169868670484202 0.24459276615548775 0.7074376169374299 0.368008632170712 0.9361124912604796 0.01654632100671083 0.761029903178053 0.49510096567172934 0.570409254207209 0.7408393368553339 0.7535665049247793 0.69960991877124 0.5815571272772159 0.9706166317260565 0.5444496908431087 0.27021820384863715 0.9752621972466847 0.5215254533882949 0.6355293009336982 0.46520564355603944 \n",
            "0.13080151585520972 0.07026245274401088 0.5848870093892622 0.3658813153396422 0.42926660971431363 0.47343332975630037 0.5459333778734256 0.35838666999200863 0.6483559121454987 0.3376081240521319 0.02541856004776699 0.7839132200909853 0.7323543586499813 0.3652209515244137 0.8513203135452948 0.6217149541709008 0.1147138926332012 0.021216141232565877 0.1647875064353448 0.9455957941511511 0.7662050803316146 0.15926414720260784 0.4427537294974242 0.7662185674775669 0.9460416847545007 0.42629938214284113 0.6333705458511938 0.5420714223718363 \n",
            "0.6319476572463174 0.2625098872896656 0.6630961488836038 0.45356057418030893 0.16259290679188843 0.7747653620190115 0.5594945973834398 0.6322602451734368 0.5934271787022631 0.13909950555567452 0.5389294098818626 0.8908352323076291 0.06277033614884242 0.304325147758287 0.1585770333103953 0.29017534868720074 0.3613639573503905 0.45404062430450376 0.6333343883861017 0.29363509282805755 0.3426298824850429 0.3072109649219761 0.5379924873696964 0.630192125748743 0.35647526558753395 0.665189960576991 0.051598913651721534 0.5326717068864858 \n",
            "0.5168503279828688 0.7181375660859 0.5008172400200854 0.2851077904344693 0.3633657179890849 0.9345108644780834 0.3198378220421981 0.16692614154094243 0.631818362298195 0.4822741897982291 0.9886365957005775 0.49321013440524275 0.27630805423125504 0.012058331099061292 0.1655142760189079 0.5276630777062022 0.18682718315915336 0.9943702035052691 0.035991345004842246 0.4710783390908626 0.0002825868319485947 0.18200858111531337 0.0855758160179062 0.8298242696831317 0.8273715993448687 0.7743062997960599 0.04712629080471009 0.8950068255036421 \n",
            "0.3839145919669772 0.8976056058977325 0.9468576693925845 0.9401351215325109 0.3351031919629639 0.7680501456258257 0.31920949331571813 0.15809930954643703 0.4939550733802375 0.8950451669248662 0.1048949490755503 0.645401801645489 0.8069699628492135 0.5056344558300142 0.752982041671286 0.3111172725356989 0.18253193351246022 0.3311859894785535 0.6827569511911186 0.5824034385076345 0.8213482361511463 0.15882539223404413 0.798866770287748 0.7649871651729236 0.1878360422669012 0.19214408008207795 0.46544918320923834 0.3317278691166481 \n",
            "0.0014900106270925306 0.8747598437626254 0.8524795950307608 0.9520231356730566 0.3977644443731505 0.709982108648979 0.6307099536933829 0.45600887501451615 0.25146338090314213 0.06241095189751167 0.3453658975851466 0.4567854171122643 0.8747553834214449 0.4886617477876105 0.7540910909574216 0.9318178754286495 0.12538535827127062 0.6533471807239591 0.19475055355196735 0.2560451417080657 0.3617892413457502 0.5988612367718364 0.03364850325308144 0.21919389844130066 0.5869353337864726 0.8772393331156084 0.9828385565724033 0.839698990074585 \n",
            "0.9405030128785833 0.24588739117590552 0.9826037580964053 0.2817415332648703 0.937030122113113 0.36346019049294 0.03974875845800763 0.06399026322304924 0.24501175253690366 0.1344650079941807 0.2280025621595415 0.5088096086027226 0.9240247992917588 0.3690608424002405 0.2001005646220103 0.92873712507067 0.08071158323145444 0.4965886534051891 0.46580405096082356 0.037832578966203956 0.4657468766811139 0.33419585961920084 0.3371365749534605 0.1407834615930038 0.7038835087412652 0.20952246261789664 0.5239491812879182 0.9434096072652277 \n",
            "0.41491559815363366 0.4552088615689375 0.5154733183405209 0.7858074756801752 0.15758416152739774 0.847326806003323 0.8462391253374175 0.43050703640357246 0.8648642296625889 0.9532967523837387 0.22469401916362508 0.13815672434182147 0.5469853027338863 0.20689702695318013 0.1346773017300411 0.09690298119363239 0.2352639381542475 0.35154872587515695 0.9604643105696109 0.1539897101632416 0.9137534291409907 0.048652827328889314 0.20545640698805656 0.6154088248537061 0.3663194598966998 0.8977040574520655 0.047501118875756254 0.7093440948463092 \n",
            "0.6470117695483888 0.5455291044284961 0.7831451792931092 0.7892310399396679 0.6556978930399353 0.928297273347498 0.8864109344473687 0.7508784691213791 0.993861463716796 0.9668554281487804 0.5731790022759834 0.3802103539240329 0.704244891306994 0.09449119808609707 0.34961063866996633 0.6659637298912917 0.7736555665160783 0.4175907853474955 0.9443711040643991 0.12491256343837753 0.6805383181360872 0.6327831714602578 0.7690799371432824 0.006512276982457932 0.31423982847757104 0.14356391220729714 0.16119946258366669 0.3273138008893136 \n",
            "0.5331370908848848 0.6206178587933736 0.5974904088761509 0.6545566029349636 0.3704144612538445 0.44744463494790643 0.2633030722814633 0.24780916851825707 0.2573043416011801 0.3940529663460186 0.07177449215936982 0.9674148338570961 0.20578195178221093 0.8363582244424019 0.40480696790424875 0.18874697067228108 0.7009631989884373 0.4699700352514967 0.5855457528862469 0.15137589346919178 0.07318420709838802 0.5706249269965017 0.5271821424045883 0.8689114216204976 0.4709410094879508 0.7955766317875983 0.4448587385337931 0.6550879010005278 \n",
            "0.0245294908267234 0.16562296181930214 0.4100800559886184 0.46972370429123633 0.11594644695335476 0.7650175409728369 0.9200908023783454 0.18550057668073516 0.8939537773252473 0.5925926477549918 0.9919730231264416 0.15175439777724253 0.2886368857913739 0.4730793157719432 0.14813563197182034 0.5947721819813078 0.5775004028602182 0.11003090939017268 0.4201713393800106 0.3612175583097761 0.6534755360570805 0.12934939032959858 0.8691267272978954 0.8000048715259351 0.6491297780553205 0.08988003037797809 0.20545226884650847 0.07890157381173835 \n",
            "0.9283356180807767 0.2759475657058147 0.8130403775027502 0.34719965680281417 0.8528269017728971 0.19130773014254088 0.7053754260341375 0.05595987060983654 0.12003522827943025 0.5991890956555073 0.9914307411840151 0.26875436061298186 0.32292179164173884 0.555381241802427 0.11166621024170653 0.1009889762008559 0.09466919105117033 0.04122341353653325 0.2683527679145822 0.43975874669099624 0.23211222986391689 0.7492504239185593 0.8515415778749363 0.6653380603585708 0.27056242671101494 0.8494570359434184 0.40695101543208345 0.5637188214582753 \n",
            "0.025981433841945067 0.2188859721962395 0.21792004957639932 0.8700048503022504 0.9618698665180329 0.7360315096342809 0.5670721341524562 0.0874512818029719 0.43942524829872354 0.6643763731323468 0.3072509738564817 0.679092933209238 0.32620089853532974 0.6164818386240797 0.7841957053855656 0.10885595648853597 0.48032538868341856 0.6111849541052152 0.6475203737787557 0.13699114430763348 0.13200752072581767 0.3051864327238055 0.75288514138962 0.037889169230648556 0.9606364322198926 0.935027105943597 0.6909158695029517 0.430419964240605 \n",
            "0.4116192854232009 0.4800621200838492 0.9945580192064886 0.8711604569549122 0.8125242951210212 0.9437519775837366 0.7780570454209695 0.012121536786455778 0.5889118943305376 0.5351635886280256 0.31039314273282237 0.4402350844179319 0.30783574801447466 0.9634930933045965 0.13712450885140592 0.6076371449673806 0.20745212531628865 0.03132105065757351 0.9805122012801751 0.04464851016833149 0.3350886326341471 0.862693785244637 0.29951191655222054 0.5866964524117111 0.5305848067930751 0.23601250278832742 0.3159347758579981 0.9721783406898336 \n",
            "0.6289358461764624 0.41063250095509507 0.5048541088490033 0.7064386534951689 0.15060737012697345 0.7843386080205773 0.8997500016310407 0.5945375136652488 0.6906764936903141 0.15433924230521234 0.7609984848838488 0.9140529752434952 0.931566051683891 0.25253614365871013 0.4075016657003915 0.31327724488574626 0.802078493309447 0.9747624421286945 0.5917059395255262 0.20915137561668562 0.6228168688017743 0.5099012763108347 0.2441858091239033 0.5666623694515807 0.9866263177801847 0.669251732468003 0.34256477057065926 0.045733893978527895 \n",
            "0.5859759536321265 0.36695025174703455 0.939781360096437 0.02822196165524582 0.7131798574999506 0.6425659975637976 0.2805196509673423 0.1821236021812015 0.8070872890150602 0.7374639223467496 0.8783818997867542 0.5993885689037902 0.9918486821401603 0.01379483459921338 0.40737708408301687 0.04769296334608475 0.2924055089578088 0.13370730024342758 0.9792085441164059 0.29816484495630524 0.41141789179370414 0.8107468062114935 0.576479209400129 0.8163954895849829 0.15066376266650172 0.0516593772180558 0.4341035975307662 0.8137781716597525 \n",
            "0.9418695552129495 0.11770928741993913 0.11789655034052071 0.42875774630553454 0.10614463201657343 0.3975679357340627 0.769100431550302 0.4030340909292722 0.2951426691172869 0.03327296374644151 0.03934546947846207 0.49402719955520247 0.4513825871048851 0.8115937988800489 0.41274295563093966 0.1284064361873889 0.4612467076301031 0.44618178142068765 0.7425142345919813 0.7442416531709105 0.20771466484490464 0.3033962038452481 0.6558078508711134 0.2984329797951052 0.9834117646798493 0.6858154610200776 0.827823369837452 0.7537360203043442 \n",
            "0.9889915938473682 0.7110538598866938 0.31648195584593053 0.04999999558152057 0.7965495774101663 0.9269565142267452 0.6102076169675396 0.5570881033668655 0.8744061212239604 0.48858186916172563 0.9406094015675598 0.7506300656707008 0.40080737334753647 0.7989363972768029 0.2856194583321453 0.6893298446479948 0.21056997724319237 0.6250401747697073 0.9959275057200991 0.9175512668039985 0.21066891242673735 0.8881696530604665 0.3621389016430381 0.12513537124975294 0.5456939080860516 0.6443678674738895 0.048684833397011684 0.9912231276440557 \n",
            "0.6152668961398386 0.8578078240354402 0.3847614052253079 0.9321644368855014 0.8615415264475114 0.11158093818340642 0.6534141069659822 0.9851183813042481 0.6038433301280616 0.8447996524013553 0.4074229423174407 0.20764456083011718 0.18430271857724123 0.5514288023075289 0.8589848842961578 0.8382314135273843 0.4582526222018223 0.5672739395961575 0.6236447778456174 0.5183300394067817 0.14980152156484916 0.43414605832030084 0.7730818448570249 0.636171391370025 0.44207558236589717 0.3099923282293632 0.08956070613807021 0.08291865768110629 \n",
            "0.38643359237443475 0.40484486437031686 0.5019382872415727 0.9248226713898066 0.31686669628231257 0.9963513596260809 0.843157163513542 0.14689460013109823 0.29872401509815005 0.011791341534235555 0.38084735643318457 0.5865998209884584 0.9832451533359431 0.11521871025108432 0.4101015026306163 0.474971162252499 0.606126763756768 0.7811783529714981 0.012458913524996729 0.746793284231012 0.13039060437473537 0.8249600069776939 0.9173517869371696 0.329643607977965 0.9230347364180236 0.9146259549083489 0.6370710867600231 0.4566723852626893 \n",
            "0.25057264927135225 0.7187475735393687 0.1392564578863349 0.7538434133888653 0.24016369394058834 0.13336273887175887 0.05342125566157663 0.03251056926745721 0.161637355142204 0.014176053157096247 0.7622508003903107 0.6526529858281103 0.4361247438802348 0.3392330607569224 0.9755415035475118 0.41164214973525226 0.0032580986717732907 0.9634744647577486 0.2437409095814339 0.19503409920382342 0.9057449356680243 0.9465677389813593 0.3111157586407305 0.09705235530779133 0.5234938845653162 0.6459313063650044 0.011084783082713545 0.9849824293951956 \n",
            "0.5840397350557711 0.4043791187740565 0.8163583140504114 0.17799110619926628 0.9593098980116294 0.3736975984850863 0.18351669620301114 0.7521370938402069 0.7820761952798133 0.890829348840218 0.6382668389913938 0.0648077521412943 0.1115095584969924 0.5146271380070123 0.049447994091891156 0.5919944073800829 0.4215512625376602 0.05364842133973757 0.7858680206731243 0.9039997806189248 0.6788804860149729 0.7146091490379962 0.8069224038383785 0.3215687395825846 0.7464028461152191 0.4140188948243474 0.24766502021513648 0.3398012610373876 \n"
          ]
        }
      ]
    },
    {
      "cell_type": "markdown",
      "metadata": {
        "id": "JLSYLZr0qvGI"
      },
      "source": [
        "### 문제 18. 생성된 random (28, 28) 노이즈를 plt를 통하여 확인해보세요."
      ]
    },
    {
      "cell_type": "code",
      "metadata": {
        "id": "EsgmHRFSrDX4",
        "colab": {
          "base_uri": "https://localhost:8080/",
          "height": 265
        },
        "outputId": "3d53999a-69c6-4567-8c13-387d769057ec"
      },
      "source": [
        "# plt를 통하여 random (28, 28) 노이즈를 2회 출력하는 코드를 작성하시고, 이미지가 다른지 확인하세요.\n",
        "plt.imshow(np.random.random((28,28)), cmap=\"gray\")\n",
        "plt.colorbar()\n",
        "plt.show()\n",
        "# 원래 이미지의 경우 안그려진 부분은 0, 그려진 부분은 색깔값 이라서 숫자 모양이 만들어졌지만, 지금은 모양이 만들어지지 않은 모습 "
      ],
      "execution_count": null,
      "outputs": [
        {
          "output_type": "display_data",
          "data": {
            "text/plain": [
              "<Figure size 432x288 with 2 Axes>"
            ],
            "image/png": "[encoded data removed]"
          },
          "metadata": {
            "needs_background": "light"
          }
        }
      ]
    },
    {
      "cell_type": "markdown",
      "metadata": {
        "id": "nWy8FKR1AYJU"
      },
      "source": [
        "### 문제 19. 가우시안 노이즈 함수를 사용하여 평균 0, 표준편차 0.1, 사이즈 1로 랜덤 값을 3번 출력하세요. (np.random.normal)"
      ]
    },
    {
      "cell_type": "code",
      "metadata": {
        "id": "ENpSWYu_stHp",
        "colab": {
          "base_uri": "https://localhost:8080/"
        },
        "outputId": "0fa4aa30-70f6-497e-b728-bfb04e6e585b"
      },
      "source": [
        "# 가우시안 노이즈 함수를 이용하여 mu 0.1 std 0.1 size 1인 랜덤값을 3번 출력하는 코드를 작성하세요.\n",
        "print(np.random.normal(0.0, 0.1, 1))\n",
        "print(np.random.normal(0.0, 0.1, 1))\n",
        "print(np.random.normal(0.0, 0.1, 1))"
      ],
      "execution_count": null,
      "outputs": [
        {
          "output_type": "stream",
          "name": "stdout",
          "text": [
            "[-0.15379099]\n",
            "[0.1984918]\n",
            "[0.02022654]\n"
          ]
        }
      ]
    },
    {
      "cell_type": "markdown",
      "metadata": {
        "id": "OQPItJ4zBWTt"
      },
      "source": [
        "### 문제 20. 가우시안 노이즈 함수의 옵션을 문제 19과 동일하지만 평균이 3.0인 경우, 표준 편차가 0.01인 경우로 각각 3회씩 출력해보세요."
      ]
    },
    {
      "cell_type": "code",
      "metadata": {
        "id": "CuvUg3SmtRrx",
        "colab": {
          "base_uri": "https://localhost:8080/"
        },
        "outputId": "7d29d188-5ef3-4088-fcf3-1d29df4f93b8"
      },
      "source": [
        "# 가우시안 노이즈 함수 mu = 3.0, std = 0.1, size = 1을 3 회 출력, mu = 0.0, std = 0.01, size = 1을 3회 출력하는 코드를 작성해보세요.\n",
        "print(np.random.normal(3.0, 0.01, 1)) #평균 3, 표준편차 0.01, 1개 값\n",
        "print(np.random.normal(3.0, 0.01, 1))\n",
        "print(np.random.normal(3.0, 0.01, 1))\n",
        "\n",
        "# 내가 추가한것 - 2개가 출력됨\n",
        "print(np.random.normal(3.0, 0.01, 2))"
      ],
      "execution_count": null,
      "outputs": [
        {
          "output_type": "stream",
          "name": "stdout",
          "text": [
            "[2.98936488]\n",
            "[2.99531771]\n",
            "[3.01463659]\n",
            "[2.99071285 2.99771454]\n"
          ]
        }
      ]
    },
    {
      "cell_type": "markdown",
      "metadata": {
        "id": "ef1qyJ8HtZfu"
      },
      "source": [
        "### 문제 21. 가우시안 노이즈 함수를 문제 19의 옵션으로 size를 (28, 28)로 생성 후 plt로 출력해보세요."
      ]
    },
    {
      "cell_type": "code",
      "metadata": {
        "id": "kh_v1QZYt0kJ",
        "colab": {
          "base_uri": "https://localhost:8080/",
          "height": 265
        },
        "outputId": "d568ff2e-bef8-4b26-f3f6-8cd274552fe7"
      },
      "source": [
        "# 가우시안 노이즈 함수를 문제 17의 옵션으로 size를 (28, 28)로 생성 후 plt로 출력하는 코드를 작성해보세요. 단, std = 0.01\n",
        "plt.imshow(np.random.normal(0.0, 0.01, (28, 28)), cmap=\"gray\")\n",
        "plt.colorbar()\n",
        "plt.show()"
      ],
      "execution_count": null,
      "outputs": [
        {
          "output_type": "display_data",
          "data": {
            "text/plain": [
              "<Figure size 432x288 with 2 Axes>"
            ],
            "image/png": "[encoded data removed]"
          },
          "metadata": {
            "needs_background": "light"
          }
        }
      ]
    },
    {
      "cell_type": "markdown",
      "metadata": {
        "id": "MUdBACZuCDfA"
      },
      "source": [
        "### 문제 22. train_images의 5번째 이미지와 가우시안 노이즈 (28, 28)를 생성 한 뒤 각각 tensor를 더한 뒤 noisy_image 변수에 할당 해보세요."
      ]
    },
    {
      "cell_type": "code",
      "metadata": {
        "id": "pWia41PbumMX"
      },
      "source": [
        "# train_images[5]와 가우시안 노이즈 (28, 28)을 더한 뒤 noisy_image 변수에 할당하는 코드를 작성하세요. mu = 0.5, std = 0.1\n",
        "noisy_image = train_images[5] + np.random.normal(0.5, 0.1, (28, 28))\n",
        "\n",
        "# 원래 깨끗했던 숫자 이미지에 (28,28) 모양의 노이즈를 더해서 흐릿하게 만들어줌\n",
        "## 모델의 과적합을 막기위해 해줌(이정도면 2 맞으니까 2 로 판별해라 라는 느낌)"
      ],
      "execution_count": null,
      "outputs": []
    },
    {
      "cell_type": "markdown",
      "metadata": {
        "id": "WsA0v_tNuv7Z"
      },
      "source": [
        "### 문제 23. noisy_image를 plt를 통해서 출력해보세요."
      ]
    },
    {
      "cell_type": "code",
      "metadata": {
        "id": "SMLTjkltv4g3",
        "colab": {
          "base_uri": "https://localhost:8080/",
          "height": 265
        },
        "outputId": "f939c995-bcbb-45f9-eb3a-fc964aff30b4"
      },
      "source": [
        "# noisy_image를 plt로 출력하는 코드를 작성해보세요.\n",
        "plt.imshow(noisy_image, cmap=\"gray\")\n",
        "plt.colorbar()\n",
        "plt.show()"
      ],
      "execution_count": null,
      "outputs": [
        {
          "output_type": "display_data",
          "data": {
            "text/plain": [
              "<Figure size 432x288 with 2 Axes>"
            ],
            "image/png": "[encoded data removed]"
          },
          "metadata": {
            "needs_background": "light"
          }
        }
      ]
    },
    {
      "cell_type": "markdown",
      "metadata": {
        "id": "Mqv2vE5EwChf"
      },
      "source": [
        "### 문제 24. 노이지 이미지를 생성했지만, max가 1이 넘습니다. max값을 1로 조절해보세요."
      ]
    },
    {
      "cell_type": "code",
      "metadata": {
        "id": "yxlKvbMBwyZu",
        "colab": {
          "base_uri": "https://localhost:8080/",
          "height": 269
        },
        "outputId": "22a073cc-3cfb-4ea7-99a8-4fd1dcdcadb6"
      },
      "source": [
        "# max가 1을 초과하지 않게 noisy_image를 수정한 뒤 plt로 출력해보세요.\n",
        "noisy_image[noisy_image > 1.0] = 1.0 # 이미지값중 1이 넘는 수 == 1 입니다. (1은 원래 255 였으니 검정색을 뜻함. 즉 일반 검정색보다 더 검정색인건 일반 검정색으로 바꿔라)\n",
        "plt.imshow(noisy_image, cmap=\"gray\")\n",
        "plt.colorbar()\n",
        "plt.show()"
      ],
      "execution_count": null,
      "outputs": [
        {
          "output_type": "display_data",
          "data": {
            "text/plain": [
              "<Figure size 432x288 with 2 Axes>"
            ],
            "image/png": "[encoded data removed]"
          },
          "metadata": {
            "needs_background": "light"
          }
        }
      ]
    },
    {
      "cell_type": "markdown",
      "metadata": {
        "id": "-ZGNiCnuxQTO"
      },
      "source": [
        "### 문제 25. 위의 방법을 전부 활용하여 train_images와 test_images 데이터에 랜덤 노이즈를 추가한 train_noisy_images와 test_noisy_images를 생성해보세요."
      ]
    },
    {
      "cell_type": "code",
      "metadata": {
        "id": "c7292i2CMFCz"
      },
      "source": [
        "# train_noisy_image와 test_nosiy_images를 생성하는 코드를 작성하세요.\n",
        "train_noisy_images = train_images + np.random.normal(0.5, 0.1, train_images.shape) #원래 트레인 셋에 노이즈 값을 추가\n",
        "train_noisy_images[train_noisy_images > 1.0] = 1.0  #1이 넘는 값들은 1로 변경\n",
        "\n",
        "test_noisy_images = test_images + np.random.normal(0.5, 0.1, test_images.shape)\n",
        "test_noisy_images[test_noisy_images > 1.0] = 1.0"
      ],
      "execution_count": null,
      "outputs": []
    },
    {
      "cell_type": "code",
      "metadata": {
        "colab": {
          "base_uri": "https://localhost:8080/",
          "height": 252
        },
        "id": "zGzd99EolQBo",
        "outputId": "5703a735-1db3-4ab8-c9d0-276787e37aff"
      },
      "source": [
        "plt.imshow(train_noisy_images[:5].transpose( (1, 0, 2) ).reshape(28, -1), cmap=\"gray\")\n",
        "plt.colorbar()\n",
        "plt.show()"
      ],
      "execution_count": null,
      "outputs": [
        {
          "output_type": "display_data",
          "data": {
            "text/plain": [
              "<Figure size 432x288 with 2 Axes>"
            ],
            "image/png": "[encoded data removed]"
          },
          "metadata": {
            "needs_background": "light"
          }
        }
      ]
    },
    {
      "cell_type": "markdown",
      "metadata": {
        "id": "cclii1-lS_HA"
      },
      "source": [
        "### 문제 26. labels에 onehot 인코딩을 적용하여 (배치 사이즈, 클래스 개수)의 shape으로 변경해보세요."
      ]
    },
    {
      "cell_type": "code",
      "source": [
        "#원래 라벨\n",
        "train_labels[2]"
      ],
      "metadata": {
        "colab": {
          "base_uri": "https://localhost:8080/"
        },
        "id": "nFQ5h3atkPmd",
        "outputId": "0f70129b-86cd-4893-e479-ad9f83ebdd2d"
      },
      "execution_count": null,
      "outputs": [
        {
          "output_type": "execute_result",
          "data": {
            "text/plain": [
              "4"
            ]
          },
          "metadata": {},
          "execution_count": 34
        }
      ]
    },
    {
      "cell_type": "code",
      "metadata": {
        "id": "S34frxLyxAD-",
        "colab": {
          "base_uri": "https://localhost:8080/"
        },
        "outputId": "7a505d38-4a5e-454b-eb58-50b8c1746829"
      },
      "source": [
        "# train/test labels에 onehot encoding을 적용하여 shape을 (배치사이즈,) 에서 (배치사이즈, 클래스 개수)로 변경하는 코드를 작성하세요.\n",
        "from keras.utils import to_categorical\n",
        "print(train_labels.shape, test_labels.shape)\n",
        "train_labels = to_categorical( train_labels, 10) #중요\n",
        "test_labels = to_categorical( test_labels, 10)\n",
        "print(train_labels.shape, test_labels.shape)"
      ],
      "execution_count": null,
      "outputs": [
        {
          "output_type": "stream",
          "name": "stdout",
          "text": [
            "(60000,) (10000,)\n",
            "(60000, 10) (10000, 10)\n"
          ]
        }
      ]
    },
    {
      "cell_type": "code",
      "source": [
        "#원 핫 인코딩 된 라벨 - to_categorical 함수!!\n",
        "train_labels[2]\n",
        "#4 를 뜻함"
      ],
      "metadata": {
        "colab": {
          "base_uri": "https://localhost:8080/"
        },
        "id": "YT5T05QgkZ9U",
        "outputId": "1a922196-4c27-4886-8627-c7fd9ec7f947"
      },
      "execution_count": null,
      "outputs": [
        {
          "output_type": "execute_result",
          "data": {
            "text/plain": [
              "array([0., 0., 0., 0., 1., 0., 0., 0., 0., 0.], dtype=float32)"
            ]
          },
          "metadata": {},
          "execution_count": 36
        }
      ]
    },
    {
      "cell_type": "markdown",
      "metadata": {
        "id": "z67dTPu0xJSu"
      },
      "source": [
        "## Step 5. 모델링"
      ]
    },
    {
      "cell_type": "markdown",
      "metadata": {
        "id": "20iJHg2gXrC2"
      },
      "source": [
        "### 문제 27. 해당 학습셋을 처리하는 이미지 classification 모델을 작성하세요."
      ]
    },
    {
      "cell_type": "code",
      "metadata": {
        "id": "1Q1XtFoxX0eN"
      },
      "source": [
        "# input (28, 28), 64 unit의 simple RNN, 10 unit의 fully-conntect를 가진 모델을 작성하세요.\n",
        "from keras.layers import SimpleRNN\n",
        "from keras.layers import Dense, Input\n",
        "from keras.models import Model\n",
        "\n",
        "inputs = Input(shape=(28, 28))\n",
        "x1 = SimpleRNN(64, activation=\"tanh\")(inputs) #학습층 tanh 활성화 함수를 사용한 모습\n",
        "x2 = Dense(10, activation=\"softmax\")(x1) # 0~9까지의 숫자를 분류해야 하므로 다중분류 - 다중 분류시에는 마지막 층에서 softmax 함수를 사용\n",
        "model = Model(inputs, x2)"
      ],
      "execution_count": null,
      "outputs": []
    },
    {
      "cell_type": "markdown",
      "metadata": {
        "id": "svYCsKxOyJzt"
      },
      "source": [
        "### 문제 28. 모델 요약 정보를 출력해보세요."
      ]
    },
    {
      "cell_type": "code",
      "metadata": {
        "id": "d4qnTxHpyN37",
        "colab": {
          "base_uri": "https://localhost:8080/"
        },
        "outputId": "2e64403a-4a1c-4fde-ac8d-8678d759c51f"
      },
      "source": [
        "# 모델 요약 정보를 출력해보세요.\n",
        "model.summary()"
      ],
      "execution_count": null,
      "outputs": [
        {
          "output_type": "stream",
          "name": "stdout",
          "text": [
            "Model: \"model\"\n",
            "_________________________________________________________________\n",
            " Layer (type)                Output Shape              Param #   \n",
            "=================================================================\n",
            " input_1 (InputLayer)        [(None, 28, 28)]          0         \n",
            "                                                                 \n",
            " simple_rnn (SimpleRNN)      (None, 64)                5952      \n",
            "                                                                 \n",
            " dense (Dense)               (None, 10)                650       \n",
            "                                                                 \n",
            "=================================================================\n",
            "Total params: 6,602\n",
            "Trainable params: 6,602\n",
            "Non-trainable params: 0\n",
            "_________________________________________________________________\n"
          ]
        }
      ]
    },
    {
      "cell_type": "markdown",
      "metadata": {
        "id": "PkOrDR1yam4a"
      },
      "source": [
        "### 문제 29. 27에서 만든 모델에 로스와 옵티마이저, 메트릭을 설정하세요."
      ]
    },
    {
      "cell_type": "code",
      "metadata": {
        "id": "nufi0CMyazsF"
      },
      "source": [
        "# 만든 모델에 loss는 categorical_crossentropy, optimizer는 adam 매트릭은 accuracy으로 설정하는 코드를 작성하세요.\n",
        "model.compile(loss='categorical_crossentropy', optimizer='adam', metrics = [\"accuracy\"]) #다중 분류에는 손실함수로 categorical_crossentropy 를 사용\n",
        "\n",
        "#모델 생성 완료. 이제 공부시킬 시간"
      ],
      "execution_count": null,
      "outputs": []
    },
    {
      "cell_type": "markdown",
      "metadata": {
        "id": "IZRqZC50ZoaE"
      },
      "source": [
        "### 문제 30. 만든 모델에 train_noisy_images를 학습시켜 보세요."
      ]
    },
    {
      "cell_type": "code",
      "metadata": {
        "id": "PtpJp3fmaRuA",
        "colab": {
          "base_uri": "https://localhost:8080/"
        },
        "outputId": "0776a422-48b4-4b03-dc6c-ea00655fd454"
      },
      "source": [
        "# train_noisy_images를 학습시키고 5 epochs을 돌리고 그 진행 사항을 hist에 저장하는 코드를 작성하세요.\n",
        "hist = model.fit(train_noisy_images, train_labels, validation_data=(test_noisy_images, test_labels), epochs=5, verbose=2)\n",
        "#공부 : 트레인 노이즈 셋\n",
        "#평가 : 테스트 노이즈 셋과 비교\n",
        "#에포크 : 5번 공부\n",
        "#벌보스\n",
        "#verbose = 학습 중 출력되는 문구를 설정합니다.\n",
        "#- 0 : 아무 것도 출력하지 않습니다.\n",
        "#- 1 : 훈련의 진행도를 보여주는 진행 막대와 정보를 보여줌.\n",
        "#- 2 : 정보만 보여줌 진행도 보여주는 막대 안보여줌."
      ],
      "execution_count": null,
      "outputs": [
        {
          "output_type": "stream",
          "name": "stdout",
          "text": [
            "Epoch 1/5\n",
            "1875/1875 - 12s - loss: 0.7276 - accuracy: 0.7646 - val_loss: 0.4109 - val_accuracy: 0.8748 - 12s/epoch - 7ms/step\n",
            "Epoch 2/5\n",
            "1875/1875 - 10s - loss: 0.3995 - accuracy: 0.8779 - val_loss: 0.3459 - val_accuracy: 0.9001 - 10s/epoch - 6ms/step\n",
            "Epoch 3/5\n",
            "1875/1875 - 15s - loss: 0.3324 - accuracy: 0.8996 - val_loss: 0.2788 - val_accuracy: 0.9173 - 15s/epoch - 8ms/step\n",
            "Epoch 4/5\n",
            "1875/1875 - 13s - loss: 0.2987 - accuracy: 0.9102 - val_loss: 0.2724 - val_accuracy: 0.9176 - 13s/epoch - 7ms/step\n",
            "Epoch 5/5\n",
            "1875/1875 - 12s - loss: 0.2701 - accuracy: 0.9195 - val_loss: 0.2258 - val_accuracy: 0.9338 - 12s/epoch - 6ms/step\n"
          ]
        }
      ]
    },
    {
      "cell_type": "markdown",
      "metadata": {
        "id": "hU3-Lm7Ma_97"
      },
      "source": [
        "### 문제 31. 학습 진행 사항을 plt으로 출력하세요."
      ]
    },
    {
      "cell_type": "code",
      "metadata": {
        "id": "B6pKz5o3bPIT",
        "colab": {
          "base_uri": "https://localhost:8080/",
          "height": 265
        },
        "outputId": "2fe43a16-a9c4-41f1-b670-bbfd8a73ca6a"
      },
      "source": [
        "# hist의 accuracy plt의 plot을 이용하여 출력하는 코드를 작성하세요.\n",
        "plt.plot(hist.history['accuracy'], label='accuracy')\n",
        "plt.plot(hist.history['loss'], label='loss')\n",
        "plt.plot(hist.history['val_accuracy'], label='val_accuracy')\n",
        "plt.plot(hist.history['val_loss'], label='val_loss')\n",
        "plt.legend(loc='upper left')\n",
        "plt.show()"
      ],
      "execution_count": null,
      "outputs": [
        {
          "output_type": "display_data",
          "data": {
            "text/plain": [
              "<Figure size 432x288 with 1 Axes>"
            ],
            "image/png": "[encoded data removed]"
          },
          "metadata": {
            "needs_background": "light"
          }
        }
      ]
    },
    {
      "cell_type": "markdown",
      "metadata": {
        "id": "bfxPsEKTrKBq"
      },
      "source": [
        "## Step 6. 결과 확인"
      ]
    },
    {
      "cell_type": "markdown",
      "metadata": {
        "id": "J6nvDS4yOSCD"
      },
      "source": [
        "### 문제 32. 완성된 모델에서 test_noisy_image를 1장 넣고 결과를 res 변수에 저정하세요."
      ]
    },
    {
      "cell_type": "code",
      "metadata": {
        "id": "uKFAu5z4QRjR",
        "colab": {
          "base_uri": "https://localhost:8080/"
        },
        "outputId": "a7622524-a91a-4654-a663-ffbfadfaf430"
      },
      "source": [
        "# 모델에 test_noisy_images 중 1장을 넣고 결과를 받는 코드를 작성하세요.\n",
        "res = model.predict( test_noisy_images[3:4] ) #한장만 알고싶을때 predict 함수 사용\n",
        "print(res.shape)\n",
        "print(res)\n",
        "#0일 확률 99퍼,1일 확률 27퍼, 2일확률 29퍼 ,,, 로 이해하면 됨 ## 세부 값은 실행시킬 때 마다 변경 될 수 있으나 아마 0이 99퍼 대 인건 동일할듯"
      ],
      "execution_count": null,
      "outputs": [
        {
          "output_type": "stream",
          "name": "stdout",
          "text": [
            "1/1 [==============================] - 0s 202ms/step\n",
            "(1, 10)\n",
            "[[9.9736732e-01 1.1748737e-05 1.5205351e-03 1.4012115e-04 4.0711270e-06\n",
            "  3.5863367e-04 3.2922052e-04 7.7933699e-05 1.8571234e-04 4.7185472e-06]]\n"
          ]
        }
      ]
    },
    {
      "cell_type": "markdown",
      "metadata": {
        "id": "KMHHUTQfQcU0"
      },
      "source": [
        "### 문제 33. test_noisy_images[0], test_images[0]를 width 방향으로 결합하여 plt로 출력하세요"
      ]
    },
    {
      "cell_type": "code",
      "metadata": {
        "id": "L0t-FO9qRfoK",
        "colab": {
          "base_uri": "https://localhost:8080/",
          "height": 466
        },
        "outputId": "46e4a2a0-3925-4fb8-8403-b085f368f821"
      },
      "source": [
        "# test_noisy_images[0], test_images[0]를 width 방향으로 결합하여 (28, 28 * 2) 의 이미지를 만들어 plt로 출력하는 코드를 작성하세요.\n",
        "plt.imshow(   np.concatenate([test_noisy_images[3], test_images[3]], axis=1) , cmap=\"gray\") #np.concatenate 함수는 그림을 붙이는 역할을 함 - axis = 1 은 '가로로\n",
        "plt.show()\n",
        "\n",
        "#세로 예시(내가 만듦)\n",
        "plt.imshow(   np.concatenate([test_noisy_images[3], test_images[3]], axis=0) , cmap=\"gray\") #np.concatenate 함수는 그림을 붙이는 역할을 함 - axis = 0 은 '세로로 붙여라' 라는 뜻\n",
        "plt.show()"
      ],
      "execution_count": null,
      "outputs": [
        {
          "output_type": "display_data",
          "data": {
            "text/plain": [
              "<Figure size 432x288 with 1 Axes>"
            ],
            "image/png": "[encoded data removed]"
          },
          "metadata": {
            "needs_background": "light"
          }
        },
        {
          "output_type": "display_data",
          "data": {
            "text/plain": [
              "<Figure size 432x288 with 1 Axes>"
            ],
            "image/png": "[encoded data removed]"
          },
          "metadata": {
            "needs_background": "light"
          }
        }
      ]
    },
    {
      "cell_type": "markdown",
      "metadata": {
        "id": "16fGMxJRwhc6"
      },
      "source": [
        "### 문제 34. res와 test_labels[0]의 결과를 plt.bar로 확인하세요."
      ]
    },
    {
      "cell_type": "code",
      "metadata": {
        "id": "oLZEQHHAwqPC",
        "colab": {
          "base_uri": "https://localhost:8080/",
          "height": 265
        },
        "outputId": "cbf3f0ea-0392-42ad-e2bf-9744d87ddcbe"
      },
      "source": [
        "# res와 test_labels[0]의 결과를 plt.bar로 확인하세요.\n",
        "plt.bar(range(10), res[0], color='red') #range(10) 은 뭔가요? : 그래프 x축인 0~10을 뜻함\n",
        "plt.bar(np.array(range(10)) + 0.35, test_labels[3]) #0.35 신경 쓸 필요 없음- 그냥 원래대로 하면 x축 숫자10이 없어져서 조금 늘린거임\n",
        "plt.show()"
      ],
      "execution_count": null,
      "outputs": [
        {
          "output_type": "display_data",
          "data": {
            "text/plain": [
              "<Figure size 432x288 with 1 Axes>"
            ],
            "image/png": "[encoded data removed]"
          },
          "metadata": {
            "needs_background": "light"
          }
        }
      ]
    },
    {
      "cell_type": "markdown",
      "metadata": {
        "id": "7FQT89oqrdkA"
      },
      "source": [
        "## Step 7. 모델 저장 및 로드, 다운"
      ]
    },
    {
      "cell_type": "markdown",
      "metadata": {
        "id": "c2GZFvCAzFNl"
      },
      "source": [
        "### 문제 35. 모델을 저장하세요."
      ]
    },
    {
      "cell_type": "code",
      "metadata": {
        "id": "YjuCVTNbriVJ"
      },
      "source": [
        "# 모델을 저장하는 코드를 작성하세요. \n",
        "model.save(\"./lecture001.h5\") # .save 함수 기억하세요"
      ],
      "execution_count": null,
      "outputs": []
    },
    {
      "cell_type": "markdown",
      "metadata": {
        "id": "Bj4P3DdzzhyC"
      },
      "source": [
        "### 문제 36. 모델 파일을 새로운 모델에 로드하세요."
      ]
    },
    {
      "cell_type": "code",
      "metadata": {
        "id": "xuRAnBR8zY-X"
      },
      "source": [
        "# 모델을 로드하는 코드를 작성하세요.\n",
        "new_model = tf.keras.models.load_model('./lecture001.h5') #tf.keras.model(새로운 모델 생성)에 .load_model(붙여넣기) 하세요"
      ],
      "execution_count": null,
      "outputs": []
    },
    {
      "cell_type": "code",
      "metadata": {
        "colab": {
          "base_uri": "https://localhost:8080/"
        },
        "id": "cWof77221dxs",
        "outputId": "a4c9704a-c042-49c6-b12b-06e8dbb9c521"
      },
      "source": [
        "res = new_model.predict( test_noisy_images[3:4] ) \n",
        "res.shape\n",
        "plt.bar(range(10), res[0], color='red')\n",
        "plt.bar(np.array(range(10)) + 0.35, test_labels[3])\n",
        "plt.show()"
      ],
      "execution_count": null,
      "outputs": [
        {
          "output_type": "stream",
          "name": "stdout",
          "text": [
            "1/1 [==============================] - 0s 159ms/step\n"
          ]
        },
        {
          "output_type": "display_data",
          "data": {
            "text/plain": [
              "<Figure size 432x288 with 1 Axes>"
            ],
            "image/png": "[encoded data removed]"
          },
          "metadata": {
            "needs_background": "light"
          }
        }
      ]
    },
    {
      "cell_type": "markdown",
      "metadata": {
        "id": "ta1I5ZEY1FBR"
      },
      "source": [
        "### 문제 37. 로드한 모델을 test 데이터로 평가해보세요.\n"
      ]
    },
    {
      "cell_type": "code",
      "metadata": {
        "id": "ALrVf_lm0_Bc",
        "colab": {
          "base_uri": "https://localhost:8080/"
        },
        "outputId": "19b599e0-eca0-4ac0-ca1b-93bdb3eb7fe8"
      },
      "source": [
        "# 로드한 모델을 test 데이터로 평가해보세요.\n",
        "loss, acc = new_model.evaluate(test_noisy_images, test_labels, verbose=2) #여러장을 학습시켜 정확도를 보고싶으면 evaluate 함수 사용\n",
        "print(loss, acc)\n",
        "loss, acc = model.evaluate(test_noisy_images, test_labels, verbose=2)\n",
        "print(loss, acc)"
      ],
      "execution_count": null,
      "outputs": [
        {
          "output_type": "stream",
          "name": "stdout",
          "text": [
            "313/313 - 1s - loss: 0.2258 - accuracy: 0.9338 - 1s/epoch - 3ms/step\n",
            "0.22583527863025665 0.9337999820709229\n",
            "313/313 - 1s - loss: 0.2258 - accuracy: 0.9338 - 1s/epoch - 4ms/step\n",
            "0.22583527863025665 0.9337999820709229\n"
          ]
        }
      ]
    },
    {
      "cell_type": "markdown",
      "metadata": {
        "id": "gfEgY1Vr1T1v"
      },
      "source": [
        "### 문제 38. 모델을 내 컴퓨터에 저장해보세요"
      ]
    },
    {
      "cell_type": "code",
      "metadata": {
        "id": "ASkJv_Ui1RGv",
        "colab": {
          "base_uri": "https://localhost:8080/"
        },
        "outputId": "0532daef-5b24-4838-d6fe-db86ea6a8e0b"
      },
      "source": [
        "# 모델을 내 컴퓨터에 저장해보세요.\n",
        "from google.colab import files\n",
        "files.download('./lecture001.h5') #files.download 함수로 내 켬퓨터에 저장"
      ],
      "execution_count": null,
      "outputs": [
        {
          "output_type": "display_data",
          "data": {
            "text/plain": [
              "<IPython.core.display.Javascript object>"
            ],
            "application/javascript": [
              "\n",
              "    async function download(id, filename, size) {\n",
              "      if (!google.colab.kernel.accessAllowed) {\n",
              "        return;\n",
              "      }\n",
              "      const div = document.createElement('div');\n",
              "      const label = document.createElement('label');\n",
              "      label.textContent = `Downloading \"${filename}\": `;\n",
              "      div.appendChild(label);\n",
              "      const progress = document.createElement('progress');\n",
              "      progress.max = size;\n",
              "      div.appendChild(progress);\n",
              "      document.body.appendChild(div);\n",
              "\n",
              "      const buffers = [];\n",
              "      let downloaded = 0;\n",
              "\n",
              "      const channel = await google.colab.kernel.comms.open(id);\n",
              "      // Send a message to notify the kernel that we're ready.\n",
              "      channel.send({})\n",
              "\n",
              "      for await (const message of channel.messages) {\n",
              "        // Send a message to notify the kernel that we're ready.\n",
              "        channel.send({})\n",
              "        if (message.buffers) {\n",
              "          for (const buffer of message.buffers) {\n",
              "            buffers.push(buffer);\n",
              "            downloaded += buffer.byteLength;\n",
              "            progress.value = downloaded;\n",
              "          }\n",
              "        }\n",
              "      }\n",
              "      const blob = new Blob(buffers, {type: 'application/binary'});\n",
              "      const a = document.createElement('a');\n",
              "      a.href = window.URL.createObjectURL(blob);\n",
              "      a.download = filename;\n",
              "      div.appendChild(a);\n",
              "      a.click();\n",
              "      div.remove();\n",
              "    }\n",
              "  "
            ]
          },
          "metadata": {}
        },
        {
          "output_type": "display_data",
          "data": {
            "text/plain": [
              "<IPython.core.display.Javascript object>"
            ],
            "application/javascript": [
              "download(\"download_65cb121b-e1b8-405d-9702-61d6bab92e9c\", \"lecture001.h5\", 110960)"
            ]
          },
          "metadata": {}
        }
      ]
    },
    {
      "cell_type": "code",
      "metadata": {
        "id": "4qBQZvGj2IkF"
      },
      "source": [],
      "execution_count": null,
      "outputs": []
    }
  ]
}