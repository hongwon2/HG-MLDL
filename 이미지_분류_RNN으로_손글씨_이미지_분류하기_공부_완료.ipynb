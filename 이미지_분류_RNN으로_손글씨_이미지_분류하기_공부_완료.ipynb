{
  "nbformat": 4,
  "nbformat_minor": 0,
  "metadata": {
    "colab": {
      "provenance": [],
      "collapsed_sections": [
        "7FQT89oqrdkA"
      ],
      "include_colab_link": true
    },
    "kernelspec": {
      "name": "python3",
      "display_name": "Python 3"
    }
  },
  "cells": [
    {
      "cell_type": "markdown",
      "metadata": {
        "id": "view-in-github",
        "colab_type": "text"
      },
      "source": [
        "<a href=\"https://colab.research.google.com/github/hongwon2/HG-MLDL/blob/main/%EC%9D%B4%EB%AF%B8%EC%A7%80_%EB%B6%84%EB%A5%98_RNN%EC%9C%BC%EB%A1%9C_%EC%86%90%EA%B8%80%EC%94%A8_%EC%9D%B4%EB%AF%B8%EC%A7%80_%EB%B6%84%EB%A5%98%ED%95%98%EA%B8%B0_%EA%B3%B5%EB%B6%80_%EC%99%84%EB%A3%8C.ipynb\" target=\"_parent\"><img src=\"https://colab.research.google.com/assets/colab-badge.svg\" alt=\"Open In Colab\"/></a>"
      ]
    },
    {
      "cell_type": "markdown",
      "metadata": {
        "id": "oR0VJlz7mi5A"
      },
      "source": [
        "# 주제 : 이미지 분류 - RNN으로 손글씨 이미지 분류하기\n",
        "--------------\n",
        "## 실습 가이드\n",
        "    1. 데이터를 다운로드하여 Colab에 불러옵니다.\n",
        "    2. 필요한 라이브러리는 모두 코드로 작성되어 있습니다.\n",
        "    3. 코드는 위에서부터 아래로 순서대로 실행합니다.\n",
        "    4. 전체 문제 구성은 좌측 첫 번째 아이콘을 통해 확인할 수 있습니다.\n",
        "\n",
        "## 데이터 소개  \n",
        "    - 이번 주제의 데이터는 너무나 유명한 MNIST 데이터를 사용합니다.\n",
        "  ![mnist 이미지](https://www.mdpi.com/applsci/applsci-09-03169/article_deploy/html/images/applsci-09-03169-g001.png)\n",
        "\n",
        "      위의 이미지는 다음과 같은 것을 보여줍니다.  \n",
        "      (a) 28x28의 배열에서 3이 어떻게 모사되는지   \n",
        "      (b) 각 0-9까지의 다양한 그림의 모습들\n",
        "\n",
        "\n",
        "- 데이터 출처: [MNIST](http://yann.lecun.com/exdb/mnist/)\n",
        "\n",
        "\n",
        "## 최종 목표\n",
        "\n",
        "    - 이전에 배웠던 MNIST fully-conntect network과 CNN classificaion외 RNN식 접근을 배워본다.  \n",
        "    - 또한, data augmentation 기법의 기초가 될 수 있는 이미지에 noisy와 같은 변형을 줄 수 있는 방법을 알아본다.\n",
        "    - 이미지에 대한 RNN 접근 방법을 배울 수 있습니다.\n",
        "\n",
        "\n",
        "---\n"
      ]
    },
    {
      "cell_type": "code",
      "metadata": {
        "id": "e7kl3hgkikbo"
      },
      "source": [
        "import tensorflow as tf  # 텐서플로우 볼러와\n",
        "from tensorflow import keras # 텐서플로우에서 케라스 블러와\n",
        "from keras.layers import Dense #케라스.layers 에서 dense(학습 층) 함수 불러와\n",
        "from keras.models import Sequential #케라스.model 에서 시퀀셜 함수 불러와\n",
        "\n",
        "import pandas as pd  # 판다스 불러오셈\n",
        "import numpy as np #넘파이도\n",
        "import matplotlib.pyplot as plt # 시각화 기본 패키지임\n",
        "import seaborn as sns # 시각화 고급 패키지임 - 이거 이름 시험에 나올수도\n",
        "import warnings #경고 표시 패키지 인데 신경 안써도 됨\n",
        "from IPython.display import Image #파이썬에서 이미지를 표시하기 위해 설치하는 라이브러리 \n",
        "\n",
        "warnings.filterwarnings('ignore') #경고 표시 무시하기\n",
        "%matplotlib inline \n",
        "\n",
        "SEED = 34 #무시하셈"
      ],
      "execution_count": 1,
      "outputs": []
    },
    {
      "cell_type": "markdown",
      "metadata": {
        "id": "c5uDUVunS1Yk"
      },
      "source": [
        "## Step 1. 도입전 기본 처리"
      ]
    },
    {
      "cell_type": "markdown",
      "metadata": {
        "id": "2Bgf6uZtoBob"
      },
      "source": [
        "### 문제 1. mnist 데이터 살펴보기"
      ]
    },
    {
      "cell_type": "code",
      "metadata": {
        "id": "l2NW5G5nTgsb",
        "colab": {
          "base_uri": "https://localhost:8080/"
        },
        "outputId": "47a24623-5224-47aa-8e62-6969c43284d1"
      },
      "source": [
        "# 데이터를 불러오는 코드를 작성해주세요.\n",
        "mnist = keras.datasets.mnist #숫자 분류 데이터 셋 이름 : mnist - 중요\n",
        "((train_images, train_labels) , (test_images, test_labels)) = mnist.load_data()"
      ],
      "execution_count": 2,
      "outputs": [
        {
          "output_type": "stream",
          "name": "stdout",
          "text": [
            "Downloading data from https://storage.googleapis.com/tensorflow/tf-keras-datasets/mnist.npz\n",
            "11490434/11490434 [==============================] - 0s 0us/step\n"
          ]
        }
      ]
    },
    {
      "cell_type": "markdown",
      "metadata": {
        "id": "ko4D-BpJTq2r"
      },
      "source": [
        "### 문제 2. 데이터의 shape을 출력해보세요."
      ]
    },
    {
      "cell_type": "code",
      "metadata": {
        "id": "waksbx9aT5tK",
        "colab": {
          "base_uri": "https://localhost:8080/"
        },
        "outputId": "cc1bd7ba-f81c-432b-c5a0-82780b41d0bf"
      },
      "source": [
        "# 데이터의 크기를 shape 함수를 통해 출력해주세요.\n",
        "print(f\"train_images: {train_images.shape}\") #6만장 , 가로 28픽셀 , 세로 28픽셀인 손글씨 숫자 사진\n",
        "print(f\"train_labels: {train_labels.shape}\") #6만장, 0~ 9 까지의 숫자 라벨\n",
        "\n",
        "print(f\"test__images: {test_images.shape}\") \n",
        "print(f\"test_labels: {test_labels.shape}\")\n",
        "## print(f {}) 하는 이유는 f 를 써야 {} 안에 변수를 출력할 수 있음"
      ],
      "execution_count": 3,
      "outputs": [
        {
          "output_type": "stream",
          "name": "stdout",
          "text": [
            "train_images: (60000, 28, 28)\n",
            "train_labels: (60000,)\n",
            "test__images: (10000, 28, 28)\n",
            "test_labels: (10000,)\n"
          ]
        }
      ]
    },
    {
      "cell_type": "markdown",
      "metadata": {
        "id": "hrmQ7HzEUKrz"
      },
      "source": [
        "### 문제 3. (28, 28) 형태의 이미지를 plt을 이용하여 출력해보세요."
      ]
    },
    {
      "cell_type": "code",
      "metadata": {
        "id": "fVzGHMSYUUKk",
        "colab": {
          "base_uri": "https://localhost:8080/",
          "height": 283
        },
        "outputId": "baa7b138-4aa6-4300-ac02-75cbd10418fd"
      },
      "source": [
        "# 28x28의 흑백 이미지를 plt를 이용하여 출력하는 코드를 작성해보세요.\n",
        "plt.figure() # plt.figure :이미지 그릴게 빈 종이 구해놔 \n",
        "plt.imshow(train_images[1]) # plt.imshow : 이미지 그려\n",
        "plt.colorbar()  #그래프 옆에 긴 막대기\n",
        "plt.grid(True) #그래프 안에 격자무늬 그리드\n",
        "plt.show() # 다했다 보여줘\n",
        "\n",
        "\n",
        "print(train_labels[1]) #이건 그래프 밑에있는 숫자의 정답지 '0' 을 뜻함\n",
        "\n",
        "# 아래 그림 '0' 에서 그려진 부분은 진하기에 따라 0~255 의 데이터 값을 가짐\n",
        "# 컴퓨터는 이 숫자의 값, 위치를 보고 이 숫자가 어떤 숫자인지 학습함 "
      ],
      "execution_count": 4,
      "outputs": [
        {
          "output_type": "display_data",
          "data": {
            "text/plain": [
              "<Figure size 432x288 with 2 Axes>"
            ],
            "image/png": "[encoded data removed]"
          },
          "metadata": {
            "needs_background": "light"
          }
        },
        {
          "output_type": "stream",
          "name": "stdout",
          "text": [
            "0\n"
          ]
        }
      ]
    },
    {
      "cell_type": "code",
      "source": [
        "#이해를 돕기위해 내가 만들었음 - 0 모양 데이터 값 확인\n",
        "\n",
        "for i in train_images[1] : #train_images[' ']안의 값을 바꾸면서 숫자 확인해 (0 ~ 59999) 까지 가능\n",
        "    for j in i:\n",
        "        print(j,end=\" \")\n",
        "    print()\n",
        "\n",
        "#가로 28 , 세로 28 이런게 6만장 있다 \n"
      ],
      "metadata": {
        "colab": {
          "base_uri": "https://localhost:8080/"
        },
        "id": "XKGPyUruVYMJ",
        "outputId": "78823046-5bbd-416e-f324-64bff6f86930"
      },
      "execution_count": 5,
      "outputs": [
        {
          "output_type": "stream",
          "name": "stdout",
          "text": [
            "0 0 0 0 0 0 0 0 0 0 0 0 0 0 0 0 0 0 0 0 0 0 0 0 0 0 0 0 \n",
            "0 0 0 0 0 0 0 0 0 0 0 0 0 0 0 0 0 0 0 0 0 0 0 0 0 0 0 0 \n",
            "0 0 0 0 0 0 0 0 0 0 0 0 0 0 0 0 0 0 0 0 0 0 0 0 0 0 0 0 \n",
            "0 0 0 0 0 0 0 0 0 0 0 0 0 0 0 0 0 0 0 0 0 0 0 0 0 0 0 0 \n",
            "0 0 0 0 0 0 0 0 0 0 0 0 0 0 0 51 159 253 159 50 0 0 0 0 0 0 0 0 \n",
            "0 0 0 0 0 0 0 0 0 0 0 0 0 0 48 238 252 252 252 237 0 0 0 0 0 0 0 0 \n",
            "0 0 0 0 0 0 0 0 0 0 0 0 0 54 227 253 252 239 233 252 57 6 0 0 0 0 0 0 \n",
            "0 0 0 0 0 0 0 0 0 0 0 10 60 224 252 253 252 202 84 252 253 122 0 0 0 0 0 0 \n",
            "0 0 0 0 0 0 0 0 0 0 0 163 252 252 252 253 252 252 96 189 253 167 0 0 0 0 0 0 \n",
            "0 0 0 0 0 0 0 0 0 0 51 238 253 253 190 114 253 228 47 79 255 168 0 0 0 0 0 0 \n",
            "0 0 0 0 0 0 0 0 0 48 238 252 252 179 12 75 121 21 0 0 253 243 50 0 0 0 0 0 \n",
            "0 0 0 0 0 0 0 0 38 165 253 233 208 84 0 0 0 0 0 0 253 252 165 0 0 0 0 0 \n",
            "0 0 0 0 0 0 0 7 178 252 240 71 19 28 0 0 0 0 0 0 253 252 195 0 0 0 0 0 \n",
            "0 0 0 0 0 0 0 57 252 252 63 0 0 0 0 0 0 0 0 0 253 252 195 0 0 0 0 0 \n",
            "0 0 0 0 0 0 0 198 253 190 0 0 0 0 0 0 0 0 0 0 255 253 196 0 0 0 0 0 \n",
            "0 0 0 0 0 0 76 246 252 112 0 0 0 0 0 0 0 0 0 0 253 252 148 0 0 0 0 0 \n",
            "0 0 0 0 0 0 85 252 230 25 0 0 0 0 0 0 0 0 7 135 253 186 12 0 0 0 0 0 \n",
            "0 0 0 0 0 0 85 252 223 0 0 0 0 0 0 0 0 7 131 252 225 71 0 0 0 0 0 0 \n",
            "0 0 0 0 0 0 85 252 145 0 0 0 0 0 0 0 48 165 252 173 0 0 0 0 0 0 0 0 \n",
            "0 0 0 0 0 0 86 253 225 0 0 0 0 0 0 114 238 253 162 0 0 0 0 0 0 0 0 0 \n",
            "0 0 0 0 0 0 85 252 249 146 48 29 85 178 225 253 223 167 56 0 0 0 0 0 0 0 0 0 \n",
            "0 0 0 0 0 0 85 252 252 252 229 215 252 252 252 196 130 0 0 0 0 0 0 0 0 0 0 0 \n",
            "0 0 0 0 0 0 28 199 252 252 253 252 252 233 145 0 0 0 0 0 0 0 0 0 0 0 0 0 \n",
            "0 0 0 0 0 0 0 25 128 252 253 252 141 37 0 0 0 0 0 0 0 0 0 0 0 0 0 0 \n",
            "0 0 0 0 0 0 0 0 0 0 0 0 0 0 0 0 0 0 0 0 0 0 0 0 0 0 0 0 \n",
            "0 0 0 0 0 0 0 0 0 0 0 0 0 0 0 0 0 0 0 0 0 0 0 0 0 0 0 0 \n",
            "0 0 0 0 0 0 0 0 0 0 0 0 0 0 0 0 0 0 0 0 0 0 0 0 0 0 0 0 \n",
            "0 0 0 0 0 0 0 0 0 0 0 0 0 0 0 0 0 0 0 0 0 0 0 0 0 0 0 0 \n"
          ]
        }
      ]
    },
    {
      "cell_type": "markdown",
      "metadata": {
        "id": "vDLHexaGUs17"
      },
      "source": [
        "### 문제 4. train_images에서 0이 아닌 값들을 출력해보세요."
      ]
    },
    {
      "cell_type": "code",
      "metadata": {
        "id": "1NYdCv1yUsKG",
        "colab": {
          "base_uri": "https://localhost:8080/"
        },
        "outputId": "86d001a3-135e-4b55-a118-00bd6489e718"
      },
      "source": [
        "# 하나의 이미지에 대한 모든 0이 아닌 값을 출력하는 코드를 작성하세요. ##이미지내에서 빈공간(0) 이 아닌 색칠된 곳의 색깔값을 표현하시오\n",
        "list(filter(lambda x: x != 0, train_images[1].reshape(-1)))[:11] \n",
        "# reshape(-1)을 하는 이유 : 데이터 값이 몇개가 있든 알아서 한줄짜리 열로 세워\n",
        "# lambda 란? - 빠르게 함수 (def :) 를 만들어 주는 역할을 함 \n",
        "# filter : lambda 함수로 값을 걸러\n",
        "# list : 리스트에 넣어\n",
        "\n",
        "#결과 = 위에 '0'에서 제일 위에 숫자 두줄... 귀여움"
      ],
      "execution_count": 6,
      "outputs": [
        {
          "output_type": "execute_result",
          "data": {
            "text/plain": [
              "[51, 159, 253, 159, 50, 48, 238, 252, 252, 252, 237]"
            ]
          },
          "metadata": {},
          "execution_count": 6
        }
      ]
    },
    {
      "cell_type": "markdown",
      "metadata": {
        "id": "CZOhbFOFU_jr"
      },
      "source": [
        "### 문제 5. train_images의 dtype을 출력해보세요."
      ]
    },
    {
      "cell_type": "code",
      "metadata": {
        "id": "nVc4kjgAVNl7",
        "colab": {
          "base_uri": "https://localhost:8080/"
        },
        "outputId": "07a3d918-8c44-4eb7-8b67-c3a7135f1bcd"
      },
      "source": [
        "# dtype을 이용하여 이미지의 np array type을 확인해보세요.\n",
        "print(train_images.dtype) # .dtype : 넘파이 배열의 데이터 타입을 알려줘\n",
        "print(train_labels.dtype) # uint8 - 정수형(0 ~ 255) ## int8 - 정수형(-128 ~ 127)  다름  #그래도 정수형인건 같다.\n",
        "print(test_images.dtype)\n",
        "print(test_labels.dtype)"
      ],
      "execution_count": 7,
      "outputs": [
        {
          "output_type": "stream",
          "name": "stdout",
          "text": [
            "uint8\n",
            "uint8\n",
            "uint8\n",
            "uint8\n"
          ]
        }
      ]
    },
    {
      "cell_type": "markdown",
      "metadata": {
        "id": "eKv9UoZAxTr6"
      },
      "source": [
        "## Step 2. 전처리"
      ]
    },
    {
      "cell_type": "markdown",
      "metadata": {
        "id": "UTXpP1Imyaad"
      },
      "source": [
        "### 문제 6. train/test 이미지 데이터의 범위 확인"
      ]
    },
    {
      "cell_type": "code",
      "metadata": {
        "id": "Ji6XLxvRy5eJ",
        "colab": {
          "base_uri": "https://localhost:8080/"
        },
        "outputId": "dd090435-aa69-4e45-b12e-db484f930685"
      },
      "source": [
        "# test_images의 shape과 dtype, 0이 아닌 숫자를 출력하는 코드를 작성하세요.\n",
        "print(list(filter(lambda x: x != 0, train_images[0].reshape(-1)))[:10])\n",
        "print(list(filter(lambda x: x != 0, train_labels.reshape(-1)))[:10])\n",
        "print(list(filter(lambda x: x != 0, test_images[0].reshape(-1)))[:10])\n",
        "print(list(filter(lambda x: x != 0, test_labels.reshape(-1)))[:10])"
      ],
      "execution_count": 8,
      "outputs": [
        {
          "output_type": "stream",
          "name": "stdout",
          "text": [
            "[3, 18, 18, 18, 126, 136, 175, 26, 166, 255]\n",
            "[5, 4, 1, 9, 2, 1, 3, 1, 4, 3]\n",
            "[84, 185, 159, 151, 60, 36, 222, 254, 254, 254]\n",
            "[7, 2, 1, 4, 1, 4, 9, 5, 9, 6]\n"
          ]
        }
      ]
    },
    {
      "cell_type": "markdown",
      "metadata": {
        "id": "7OpFGbD6V8Zl"
      },
      "source": [
        "### 문제 7. train/test 이미지 데이터의 최소/최대값을 출력"
      ]
    },
    {
      "cell_type": "code",
      "metadata": {
        "id": "sFOJNRTvYo7d",
        "colab": {
          "base_uri": "https://localhost:8080/"
        },
        "outputId": "0c04efdc-3354-4c22-e832-181e60b07a7f"
      },
      "source": [
        "# train/test 전체 데이터에서 각 images, labels의 min, max를 출력하는 코드를 작성하세요.\n",
        "print(max(train_images.reshape(-1)), min(train_images.reshape(-1)) ) #max는 당연히 255(가장 진한 값), min은 당연히 0 (색칠 안된 부분)\n",
        "print(max(test_images.reshape(-1)), min(test_images.reshape(-1)) )"
      ],
      "execution_count": 9,
      "outputs": [
        {
          "output_type": "stream",
          "name": "stdout",
          "text": [
            "255 0\n",
            "255 0\n"
          ]
        }
      ]
    },
    {
      "cell_type": "markdown",
      "metadata": {
        "id": "W_xsByHegZhh"
      },
      "source": [
        "### 문제 8. 정수형을 실수형으로 변경 후 dtype으로 비교"
      ]
    },
    {
      "cell_type": "code",
      "metadata": {
        "id": "Y88qmAVChg_Z"
      },
      "source": [
        "# train/test 데이터의 타입을 dtype으로 확인해보고 실수형으로 전환하는 코드를 작성하세요.\n",
        "test_images = test_images.astype(np.float64) # .astype 함수를 사용해서 아까 확인한 dtype(uint8 :정수형)을 dtype(float64 : 실수형) 으로 변경 \n",
        "train_images = train_images.astype(np.float64) ##데이터 형식만 바뀐거지 값이 바뀐건 아님 ex 값 123(정수형) -> 123.0(실수형)으로 바뀐것"
      ],
      "execution_count": 10,
      "outputs": []
    },
    {
      "cell_type": "markdown",
      "metadata": {
        "id": "9iIJK2qsfevX"
      },
      "source": [
        "### 문제 9. 데이터 0-1 노말라이즈 수행\n"
      ]
    },
    {
      "cell_type": "markdown",
      "metadata": {
        "id": "L0f__zuBfotM"
      },
      "source": [
        "#### 힌트\n",
        "\n",
        "일반적으로 0-1사의의 값을 가지게 하기 위해서는 다음 수식을 사용합니다.\n",
        "\n",
        "$$normalize(x) = \\frac{x - 최소값}{최대값 - 최소값}$$\n",
        "\n",
        "이 경우 최소값이 0이기 떄문에 다음과 같이 간편하게 구할 수 있습니다.\n",
        "\n",
        "$$normalize(x) = \\frac{x}{최대값}$$"
      ]
    },
    {
      "cell_type": "code",
      "metadata": {
        "id": "SV2A6JZBf7Ku"
      },
      "source": [
        "# images의 값이 0-1사이의 값을 같도록 코드를 작성해보세요.\n",
        "train_images = train_images / 255 # 색깔값 0~255 이었던 색깔값을 0~1 사이의 값으로 변경시켜주는 작업\n",
        "test_images = test_images / 255 ## 0~255 만큼의 거리가 0~1 사이로 좁혀지면, 컴퓨터가 학습하기 편하기 때문에 해주는 작업"
      ],
      "execution_count": 11,
      "outputs": []
    },
    {
      "cell_type": "markdown",
      "metadata": {
        "id": "8QqqdPzDiC3F"
      },
      "source": [
        "### 문제 10. 0-1 노말라이즈 후 데이터의 값이 변경되었는지 문제 6, 7의 방법을 이용하여 확인하세요."
      ]
    },
    {
      "cell_type": "markdown",
      "metadata": {
        "id": "C_04Z-Kj2uyh"
      },
      "source": [
        "노말라이즈가 제대로 됐는지 확안해 보겠습니다."
      ]
    },
    {
      "cell_type": "code",
      "metadata": {
        "id": "t-ZKXRKO2rBE",
        "colab": {
          "base_uri": "https://localhost:8080/"
        },
        "outputId": "f25e7749-8368-47f7-a542-a212ca62aace"
      },
      "source": [
        "# 노말라이즈 후 min/max, shape, 0이 아닌 값, dtype 등을 확인하는 코드를 작성해보세요. \n",
        "print(list(filter(lambda x: x != 0, train_images[0].reshape(-1)))[:10])\n",
        "print(list(filter(lambda x: x != 0, train_labels.reshape(-1)))[:10]) #라벨은 정규화 해주면 안됨 데이터 값이 아니라 정답지기 때문에 0~9의 값을 당연히 그대로 유지해야함\n",
        "print(list(filter(lambda x: x != 0, test_images[0].reshape(-1)))[:10])\n",
        "print(list(filter(lambda x: x != 0, test_labels.reshape(-1)))[:10])"
      ],
      "execution_count": 12,
      "outputs": [
        {
          "output_type": "stream",
          "name": "stdout",
          "text": [
            "[0.011764705882352941, 0.07058823529411765, 0.07058823529411765, 0.07058823529411765, 0.49411764705882355, 0.5333333333333333, 0.6862745098039216, 0.10196078431372549, 0.6509803921568628, 1.0]\n",
            "[5, 4, 1, 9, 2, 1, 3, 1, 4, 3]\n",
            "[0.32941176470588235, 0.7254901960784313, 0.6235294117647059, 0.592156862745098, 0.23529411764705882, 0.1411764705882353, 0.8705882352941177, 0.996078431372549, 0.996078431372549, 0.996078431372549]\n",
            "[7, 2, 1, 4, 1, 4, 9, 5, 9, 6]\n"
          ]
        }
      ]
    },
    {
      "cell_type": "code",
      "metadata": {
        "colab": {
          "base_uri": "https://localhost:8080/"
        },
        "id": "FhGrcYf0aqbZ",
        "outputId": "c9213f7d-c635-40a9-f707-539c0c0c6fc8"
      },
      "source": [
        "print(train_images.shape, train_labels.shape, test_images.shape, test_labels.shape) #shape :행렬의 '구조(차원)' 을 보여주세요 ##(6만장, 가로 28, 세로 28  )\n",
        "print(train_images.dtype, train_labels.dtype, test_images.dtype, test_labels.dtype) #dtype : 행렬의 '타입'을 보여주세요 ## 데이터 값 : float64로 변경됨, 라벨 타입은 그래도 uint8"
      ],
      "execution_count": 13,
      "outputs": [
        {
          "output_type": "stream",
          "name": "stdout",
          "text": [
            "(60000, 28, 28) (60000,) (10000, 28, 28) (10000,)\n",
            "float64 uint8 float64 uint8\n"
          ]
        }
      ]
    },
    {
      "cell_type": "code",
      "source": [
        "#정수가 0~1 사이 실수값이 되어서 그림이 찌그러져 보이지만 '0' 모양임 \n",
        "for i in train_images[1] : #트레인 이미지의 첫번째 그림\n",
        "    for j in i:\n",
        "        print(j,end=\" \")\n",
        "    print()"
      ],
      "metadata": {
        "colab": {
          "base_uri": "https://localhost:8080/"
        },
        "id": "khEQDaQWQ2n1",
        "outputId": "26b1d705-197d-4a6c-8c4e-ed83548aff42"
      },
      "execution_count": 14,
      "outputs": [
        {
          "output_type": "stream",
          "name": "stdout",
          "text": [
            "0.0 0.0 0.0 0.0 0.0 0.0 0.0 0.0 0.0 0.0 0.0 0.0 0.0 0.0 0.0 0.0 0.0 0.0 0.0 0.0 0.0 0.0 0.0 0.0 0.0 0.0 0.0 0.0 \n",
            "0.0 0.0 0.0 0.0 0.0 0.0 0.0 0.0 0.0 0.0 0.0 0.0 0.0 0.0 0.0 0.0 0.0 0.0 0.0 0.0 0.0 0.0 0.0 0.0 0.0 0.0 0.0 0.0 \n",
            "0.0 0.0 0.0 0.0 0.0 0.0 0.0 0.0 0.0 0.0 0.0 0.0 0.0 0.0 0.0 0.0 0.0 0.0 0.0 0.0 0.0 0.0 0.0 0.0 0.0 0.0 0.0 0.0 \n",
            "0.0 0.0 0.0 0.0 0.0 0.0 0.0 0.0 0.0 0.0 0.0 0.0 0.0 0.0 0.0 0.0 0.0 0.0 0.0 0.0 0.0 0.0 0.0 0.0 0.0 0.0 0.0 0.0 \n",
            "0.0 0.0 0.0 0.0 0.0 0.0 0.0 0.0 0.0 0.0 0.0 0.0 0.0 0.0 0.0 0.2 0.6235294117647059 0.9921568627450981 0.6235294117647059 0.19607843137254902 0.0 0.0 0.0 0.0 0.0 0.0 0.0 0.0 \n",
            "0.0 0.0 0.0 0.0 0.0 0.0 0.0 0.0 0.0 0.0 0.0 0.0 0.0 0.0 0.18823529411764706 0.9333333333333333 0.9882352941176471 0.9882352941176471 0.9882352941176471 0.9294117647058824 0.0 0.0 0.0 0.0 0.0 0.0 0.0 0.0 \n",
            "0.0 0.0 0.0 0.0 0.0 0.0 0.0 0.0 0.0 0.0 0.0 0.0 0.0 0.21176470588235294 0.8901960784313725 0.9921568627450981 0.9882352941176471 0.9372549019607843 0.9137254901960784 0.9882352941176471 0.2235294117647059 0.023529411764705882 0.0 0.0 0.0 0.0 0.0 0.0 \n",
            "0.0 0.0 0.0 0.0 0.0 0.0 0.0 0.0 0.0 0.0 0.0 0.0392156862745098 0.23529411764705882 0.8784313725490196 0.9882352941176471 0.9921568627450981 0.9882352941176471 0.792156862745098 0.32941176470588235 0.9882352941176471 0.9921568627450981 0.47843137254901963 0.0 0.0 0.0 0.0 0.0 0.0 \n",
            "0.0 0.0 0.0 0.0 0.0 0.0 0.0 0.0 0.0 0.0 0.0 0.6392156862745098 0.9882352941176471 0.9882352941176471 0.9882352941176471 0.9921568627450981 0.9882352941176471 0.9882352941176471 0.3764705882352941 0.7411764705882353 0.9921568627450981 0.6549019607843137 0.0 0.0 0.0 0.0 0.0 0.0 \n",
            "0.0 0.0 0.0 0.0 0.0 0.0 0.0 0.0 0.0 0.0 0.2 0.9333333333333333 0.9921568627450981 0.9921568627450981 0.7450980392156863 0.4470588235294118 0.9921568627450981 0.8941176470588236 0.1843137254901961 0.30980392156862746 1.0 0.6588235294117647 0.0 0.0 0.0 0.0 0.0 0.0 \n",
            "0.0 0.0 0.0 0.0 0.0 0.0 0.0 0.0 0.0 0.18823529411764706 0.9333333333333333 0.9882352941176471 0.9882352941176471 0.7019607843137254 0.047058823529411764 0.29411764705882354 0.4745098039215686 0.08235294117647059 0.0 0.0 0.9921568627450981 0.9529411764705882 0.19607843137254902 0.0 0.0 0.0 0.0 0.0 \n",
            "0.0 0.0 0.0 0.0 0.0 0.0 0.0 0.0 0.14901960784313725 0.6470588235294118 0.9921568627450981 0.9137254901960784 0.8156862745098039 0.32941176470588235 0.0 0.0 0.0 0.0 0.0 0.0 0.9921568627450981 0.9882352941176471 0.6470588235294118 0.0 0.0 0.0 0.0 0.0 \n",
            "0.0 0.0 0.0 0.0 0.0 0.0 0.0 0.027450980392156862 0.6980392156862745 0.9882352941176471 0.9411764705882353 0.2784313725490196 0.07450980392156863 0.10980392156862745 0.0 0.0 0.0 0.0 0.0 0.0 0.9921568627450981 0.9882352941176471 0.7647058823529411 0.0 0.0 0.0 0.0 0.0 \n",
            "0.0 0.0 0.0 0.0 0.0 0.0 0.0 0.2235294117647059 0.9882352941176471 0.9882352941176471 0.24705882352941178 0.0 0.0 0.0 0.0 0.0 0.0 0.0 0.0 0.0 0.9921568627450981 0.9882352941176471 0.7647058823529411 0.0 0.0 0.0 0.0 0.0 \n",
            "0.0 0.0 0.0 0.0 0.0 0.0 0.0 0.7764705882352941 0.9921568627450981 0.7450980392156863 0.0 0.0 0.0 0.0 0.0 0.0 0.0 0.0 0.0 0.0 1.0 0.9921568627450981 0.7686274509803922 0.0 0.0 0.0 0.0 0.0 \n",
            "0.0 0.0 0.0 0.0 0.0 0.0 0.2980392156862745 0.9647058823529412 0.9882352941176471 0.4392156862745098 0.0 0.0 0.0 0.0 0.0 0.0 0.0 0.0 0.0 0.0 0.9921568627450981 0.9882352941176471 0.5803921568627451 0.0 0.0 0.0 0.0 0.0 \n",
            "0.0 0.0 0.0 0.0 0.0 0.0 0.3333333333333333 0.9882352941176471 0.9019607843137255 0.09803921568627451 0.0 0.0 0.0 0.0 0.0 0.0 0.0 0.0 0.027450980392156862 0.5294117647058824 0.9921568627450981 0.7294117647058823 0.047058823529411764 0.0 0.0 0.0 0.0 0.0 \n",
            "0.0 0.0 0.0 0.0 0.0 0.0 0.3333333333333333 0.9882352941176471 0.8745098039215686 0.0 0.0 0.0 0.0 0.0 0.0 0.0 0.0 0.027450980392156862 0.5137254901960784 0.9882352941176471 0.8823529411764706 0.2784313725490196 0.0 0.0 0.0 0.0 0.0 0.0 \n",
            "0.0 0.0 0.0 0.0 0.0 0.0 0.3333333333333333 0.9882352941176471 0.5686274509803921 0.0 0.0 0.0 0.0 0.0 0.0 0.0 0.18823529411764706 0.6470588235294118 0.9882352941176471 0.6784313725490196 0.0 0.0 0.0 0.0 0.0 0.0 0.0 0.0 \n",
            "0.0 0.0 0.0 0.0 0.0 0.0 0.33725490196078434 0.9921568627450981 0.8823529411764706 0.0 0.0 0.0 0.0 0.0 0.0 0.4470588235294118 0.9333333333333333 0.9921568627450981 0.6352941176470588 0.0 0.0 0.0 0.0 0.0 0.0 0.0 0.0 0.0 \n",
            "0.0 0.0 0.0 0.0 0.0 0.0 0.3333333333333333 0.9882352941176471 0.9764705882352941 0.5725490196078431 0.18823529411764706 0.11372549019607843 0.3333333333333333 0.6980392156862745 0.8823529411764706 0.9921568627450981 0.8745098039215686 0.6549019607843137 0.2196078431372549 0.0 0.0 0.0 0.0 0.0 0.0 0.0 0.0 0.0 \n",
            "0.0 0.0 0.0 0.0 0.0 0.0 0.3333333333333333 0.9882352941176471 0.9882352941176471 0.9882352941176471 0.8980392156862745 0.8431372549019608 0.9882352941176471 0.9882352941176471 0.9882352941176471 0.7686274509803922 0.5098039215686274 0.0 0.0 0.0 0.0 0.0 0.0 0.0 0.0 0.0 0.0 0.0 \n",
            "0.0 0.0 0.0 0.0 0.0 0.0 0.10980392156862745 0.7803921568627451 0.9882352941176471 0.9882352941176471 0.9921568627450981 0.9882352941176471 0.9882352941176471 0.9137254901960784 0.5686274509803921 0.0 0.0 0.0 0.0 0.0 0.0 0.0 0.0 0.0 0.0 0.0 0.0 0.0 \n",
            "0.0 0.0 0.0 0.0 0.0 0.0 0.0 0.09803921568627451 0.5019607843137255 0.9882352941176471 0.9921568627450981 0.9882352941176471 0.5529411764705883 0.1450980392156863 0.0 0.0 0.0 0.0 0.0 0.0 0.0 0.0 0.0 0.0 0.0 0.0 0.0 0.0 \n",
            "0.0 0.0 0.0 0.0 0.0 0.0 0.0 0.0 0.0 0.0 0.0 0.0 0.0 0.0 0.0 0.0 0.0 0.0 0.0 0.0 0.0 0.0 0.0 0.0 0.0 0.0 0.0 0.0 \n",
            "0.0 0.0 0.0 0.0 0.0 0.0 0.0 0.0 0.0 0.0 0.0 0.0 0.0 0.0 0.0 0.0 0.0 0.0 0.0 0.0 0.0 0.0 0.0 0.0 0.0 0.0 0.0 0.0 \n",
            "0.0 0.0 0.0 0.0 0.0 0.0 0.0 0.0 0.0 0.0 0.0 0.0 0.0 0.0 0.0 0.0 0.0 0.0 0.0 0.0 0.0 0.0 0.0 0.0 0.0 0.0 0.0 0.0 \n",
            "0.0 0.0 0.0 0.0 0.0 0.0 0.0 0.0 0.0 0.0 0.0 0.0 0.0 0.0 0.0 0.0 0.0 0.0 0.0 0.0 0.0 0.0 0.0 0.0 0.0 0.0 0.0 0.0 \n"
          ]
        }
      ]
    },
    {
      "cell_type": "markdown",
      "metadata": {
        "id": "SMyUArry3UhT"
      },
      "source": [
        "## Step 3. 시각화 방법"
      ]
    },
    {
      "cell_type": "markdown",
      "metadata": {
        "id": "UFga-Bbo6L0E"
      },
      "source": [
        "### 문제 11. train_image의 이미지를 5장 획득하여 (5, 28, 28)의 shape을 출력하세요."
      ]
    },
    {
      "cell_type": "code",
      "metadata": {
        "id": "cLaqqwz4i_7D",
        "colab": {
          "base_uri": "https://localhost:8080/"
        },
        "outputId": "f8c3aaef-18a6-4bf2-e276-656bc18d2c23"
      },
      "source": [
        "# (60000, 28, 28)인 train_images에서 (5, 28, 28)을 획득하는 코드를 작성하세요.\n",
        "train_images[:5].shape"
      ],
      "execution_count": 15,
      "outputs": [
        {
          "output_type": "execute_result",
          "data": {
            "text/plain": [
              "(5, 28, 28)"
            ]
          },
          "metadata": {},
          "execution_count": 15
        }
      ]
    },
    {
      "cell_type": "code",
      "source": [
        "train_images[:5].shape"
      ],
      "metadata": {
        "colab": {
          "base_uri": "https://localhost:8080/"
        },
        "id": "CSjbnYglULzB",
        "outputId": "452d7f4a-2e30-4620-851d-0c73718f5688"
      },
      "execution_count": 16,
      "outputs": [
        {
          "output_type": "execute_result",
          "data": {
            "text/plain": [
              "(5, 28, 28)"
            ]
          },
          "metadata": {},
          "execution_count": 16
        }
      ]
    },
    {
      "cell_type": "markdown",
      "metadata": {
        "id": "gX8JH97njNNr"
      },
      "source": [
        "### 문제 12. 획득한 5장의 의미지를 (28, 28 * 5)의 shape으로 변경해보세요."
      ]
    },
    {
      "cell_type": "code",
      "metadata": {
        "id": "bxRhMcaKk3Pa",
        "colab": {
          "base_uri": "https://localhost:8080/"
        },
        "outputId": "51ef115d-38c5-4069-f150-e09db596aa8a"
      },
      "source": [
        "# np.hstack은 height 방향의 배열을 풀어서 width 방향으로 연결해줍니다.\n",
        "# 해당 기능을 쓰면 (height(이미지 장 수 : 5장의 높이), image_height(28 픽셀), image_width(28 픽셀))의 shape을 (image_height, image_width * height)으로 바꿔 줄 수 있습니다.\n",
        "# 코드를 작성해보세요.\n",
        "print(np.hstack(train_images[:5]).shape)\n"
      ],
      "execution_count": 17,
      "outputs": [
        {
          "output_type": "stream",
          "name": "stdout",
          "text": [
            "(28, 140)\n"
          ]
        }
      ]
    },
    {
      "cell_type": "code",
      "source": [
        "# 이렇게 해주는 작업임 (내가 추가한 부분,원래 없으니까 참고하쇼)\n",
        "a = np.hstack(train_images[:5])\n",
        "print(a.shape)\n",
        "for i in a :\n",
        "  for j in i:\n",
        "    print(j ,end = \" \")\n",
        "  print()\n",
        "\n",
        "#각각 5장이었던 숫자들을 한장의 가로 방향으로 붙인다는 뜻 (5,28,28) -> (28,140)\n",
        "#5,0,4,1,9\n",
        "## 아무튼 시험엔 hstack의 뜻이랑 이름이 더 중요함  ### np.hstack은 height 방향의 배열을 풀어서 width 방향으로 연결해줍니다."
      ],
      "metadata": {
        "colab": {
          "base_uri": "https://localhost:8080/"
        },
        "id": "acodMKswbYTi",
        "outputId": "46fe25ae-5f4e-49a8-ad21-cdfeb7019866"
      },
      "execution_count": 18,
      "outputs": [
        {
          "output_type": "stream",
          "name": "stdout",
          "text": [
            "(28, 140)\n",
            "0.0 0.0 0.0 0.0 0.0 0.0 0.0 0.0 0.0 0.0 0.0 0.0 0.0 0.0 0.0 0.0 0.0 0.0 0.0 0.0 0.0 0.0 0.0 0.0 0.0 0.0 0.0 0.0 0.0 0.0 0.0 0.0 0.0 0.0 0.0 0.0 0.0 0.0 0.0 0.0 0.0 0.0 0.0 0.0 0.0 0.0 0.0 0.0 0.0 0.0 0.0 0.0 0.0 0.0 0.0 0.0 0.0 0.0 0.0 0.0 0.0 0.0 0.0 0.0 0.0 0.0 0.0 0.0 0.0 0.0 0.0 0.0 0.0 0.0 0.0 0.0 0.0 0.0 0.0 0.0 0.0 0.0 0.0 0.0 0.0 0.0 0.0 0.0 0.0 0.0 0.0 0.0 0.0 0.0 0.0 0.0 0.0 0.0 0.0 0.0 0.0 0.0 0.0 0.0 0.0 0.0 0.0 0.0 0.0 0.0 0.0 0.0 0.0 0.0 0.0 0.0 0.0 0.0 0.0 0.0 0.0 0.0 0.0 0.0 0.0 0.0 0.0 0.0 0.0 0.0 0.0 0.0 0.0 0.0 0.0 0.0 0.0 0.0 0.0 0.0 \n",
            "0.0 0.0 0.0 0.0 0.0 0.0 0.0 0.0 0.0 0.0 0.0 0.0 0.0 0.0 0.0 0.0 0.0 0.0 0.0 0.0 0.0 0.0 0.0 0.0 0.0 0.0 0.0 0.0 0.0 0.0 0.0 0.0 0.0 0.0 0.0 0.0 0.0 0.0 0.0 0.0 0.0 0.0 0.0 0.0 0.0 0.0 0.0 0.0 0.0 0.0 0.0 0.0 0.0 0.0 0.0 0.0 0.0 0.0 0.0 0.0 0.0 0.0 0.0 0.0 0.0 0.0 0.0 0.0 0.0 0.0 0.0 0.0 0.0 0.0 0.0 0.0 0.0 0.0 0.0 0.0 0.0 0.0 0.0 0.0 0.0 0.0 0.0 0.0 0.0 0.0 0.0 0.0 0.0 0.0 0.0 0.0 0.0 0.0 0.0 0.0 0.0 0.0 0.0 0.0 0.0 0.0 0.0 0.0 0.0 0.0 0.0 0.0 0.0 0.0 0.0 0.0 0.0 0.0 0.0 0.0 0.0 0.0 0.0 0.0 0.0 0.0 0.0 0.0 0.0 0.0 0.0 0.0 0.0 0.0 0.0 0.0 0.0 0.0 0.0 0.0 \n",
            "0.0 0.0 0.0 0.0 0.0 0.0 0.0 0.0 0.0 0.0 0.0 0.0 0.0 0.0 0.0 0.0 0.0 0.0 0.0 0.0 0.0 0.0 0.0 0.0 0.0 0.0 0.0 0.0 0.0 0.0 0.0 0.0 0.0 0.0 0.0 0.0 0.0 0.0 0.0 0.0 0.0 0.0 0.0 0.0 0.0 0.0 0.0 0.0 0.0 0.0 0.0 0.0 0.0 0.0 0.0 0.0 0.0 0.0 0.0 0.0 0.0 0.0 0.0 0.0 0.0 0.0 0.0 0.0 0.0 0.0 0.0 0.0 0.0 0.0 0.0 0.0 0.0 0.0 0.0 0.0 0.0 0.0 0.0 0.0 0.0 0.0 0.0 0.0 0.0 0.0 0.0 0.0 0.0 0.0 0.0 0.0 0.0 0.0 0.0 0.0 0.0 0.0 0.0 0.0 0.0 0.0 0.0 0.0 0.0 0.0 0.0 0.0 0.0 0.0 0.0 0.0 0.0 0.0 0.0 0.0 0.0 0.0 0.0 0.0 0.0 0.0 0.0 0.0 0.0 0.0 0.0 0.0 0.0 0.0 0.0 0.0 0.0 0.0 0.0 0.0 \n",
            "0.0 0.0 0.0 0.0 0.0 0.0 0.0 0.0 0.0 0.0 0.0 0.0 0.0 0.0 0.0 0.0 0.0 0.0 0.0 0.0 0.0 0.0 0.0 0.0 0.0 0.0 0.0 0.0 0.0 0.0 0.0 0.0 0.0 0.0 0.0 0.0 0.0 0.0 0.0 0.0 0.0 0.0 0.0 0.0 0.0 0.0 0.0 0.0 0.0 0.0 0.0 0.0 0.0 0.0 0.0 0.0 0.0 0.0 0.0 0.0 0.0 0.0 0.0 0.0 0.0 0.0 0.0 0.0 0.0 0.0 0.0 0.0 0.0 0.0 0.0 0.0 0.0 0.0 0.0 0.0 0.0 0.0 0.0 0.0 0.0 0.0 0.0 0.0 0.0 0.0 0.0 0.0 0.0 0.0 0.0 0.0 0.0 0.0 0.0 0.0 0.0 0.0 0.0 0.0 0.0 0.0 0.0 0.0 0.0 0.0 0.0 0.0 0.0 0.0 0.0 0.0 0.0 0.0 0.0 0.0 0.0 0.0 0.0 0.0 0.0 0.0 0.0 0.0 0.0 0.0 0.0 0.0 0.0 0.0 0.0 0.0 0.0 0.0 0.0 0.0 \n",
            "0.0 0.0 0.0 0.0 0.0 0.0 0.0 0.0 0.0 0.0 0.0 0.0 0.0 0.0 0.0 0.0 0.0 0.0 0.0 0.0 0.0 0.0 0.0 0.0 0.0 0.0 0.0 0.0 0.0 0.0 0.0 0.0 0.0 0.0 0.0 0.0 0.0 0.0 0.0 0.0 0.0 0.0 0.0 0.2 0.6235294117647059 0.9921568627450981 0.6235294117647059 0.19607843137254902 0.0 0.0 0.0 0.0 0.0 0.0 0.0 0.0 0.0 0.0 0.0 0.0 0.0 0.0 0.0 0.0 0.0 0.0 0.0 0.0 0.0 0.0 0.0 0.0 0.0 0.0 0.0 0.0 0.0 0.0 0.0 0.0 0.0 0.0 0.0 0.0 0.0 0.0 0.0 0.0 0.0 0.0 0.0 0.0 0.0 0.0 0.0 0.0 0.0 0.0 0.0 0.0 0.0 0.0 0.0 0.0 0.0 0.0 0.0 0.0 0.0 0.0 0.0 0.0 0.0 0.0 0.0 0.0 0.0 0.0 0.0 0.0 0.0 0.0 0.0 0.0 0.0 0.0 0.0 0.0 0.0 0.0 0.0 0.0 0.0 0.0 0.0 0.0 0.0 0.0 0.0 0.0 \n",
            "0.0 0.0 0.0 0.0 0.0 0.0 0.0 0.0 0.0 0.0 0.0 0.0 0.011764705882352941 0.07058823529411765 0.07058823529411765 0.07058823529411765 0.49411764705882355 0.5333333333333333 0.6862745098039216 0.10196078431372549 0.6509803921568628 1.0 0.9686274509803922 0.4980392156862745 0.0 0.0 0.0 0.0 0.0 0.0 0.0 0.0 0.0 0.0 0.0 0.0 0.0 0.0 0.0 0.0 0.0 0.0 0.18823529411764706 0.9333333333333333 0.9882352941176471 0.9882352941176471 0.9882352941176471 0.9294117647058824 0.0 0.0 0.0 0.0 0.0 0.0 0.0 0.0 0.0 0.0 0.0 0.0 0.0 0.0 0.0 0.0 0.0 0.0 0.0 0.0 0.0 0.0 0.0 0.0 0.0 0.0 0.0 0.0 0.2627450980392157 0.9098039215686274 0.15294117647058825 0.0 0.0 0.0 0.0 0.0 0.0 0.0 0.0 0.0 0.0 0.0 0.0 0.0 0.0 0.0 0.0 0.0 0.0 0.0 0.0 0.0 0.0 0.0 0.48627450980392156 0.9921568627450981 1.0 0.24705882352941178 0.0 0.0 0.0 0.0 0.0 0.0 0.0 0.0 0.0 0.0 0.0 0.0 0.0 0.0 0.0 0.0 0.0 0.0 0.0 0.0 0.0 0.0 0.0 0.0 0.0 0.0 0.0 0.0 0.0 0.0 0.0 0.0 0.0 0.0 \n",
            "0.0 0.0 0.0 0.0 0.0 0.0 0.0 0.0 0.11764705882352941 0.1411764705882353 0.3686274509803922 0.6039215686274509 0.6666666666666666 0.9921568627450981 0.9921568627450981 0.9921568627450981 0.9921568627450981 0.9921568627450981 0.8823529411764706 0.6745098039215687 0.9921568627450981 0.9490196078431372 0.7647058823529411 0.25098039215686274 0.0 0.0 0.0 0.0 0.0 0.0 0.0 0.0 0.0 0.0 0.0 0.0 0.0 0.0 0.0 0.0 0.0 0.21176470588235294 0.8901960784313725 0.9921568627450981 0.9882352941176471 0.9372549019607843 0.9137254901960784 0.9882352941176471 0.2235294117647059 0.023529411764705882 0.0 0.0 0.0 0.0 0.0 0.0 0.0 0.0 0.0 0.0 0.24313725490196078 0.3176470588235294 0.0 0.0 0.0 0.0 0.0 0.0 0.0 0.0 0.0 0.0 0.0 0.0 0.0 0.0 0.47058823529411764 0.7058823529411765 0.15294117647058825 0.0 0.0 0.0 0.0 0.0 0.0 0.0 0.0 0.0 0.0 0.0 0.0 0.0 0.0 0.0 0.0 0.0 0.0 0.0 0.0 0.0 0.0 0.3764705882352941 0.9568627450980393 0.984313725490196 0.9921568627450981 0.24313725490196078 0.0 0.0 0.0 0.0 0.0 0.0 0.0 0.0 0.0 0.0 0.0 0.0 0.0 0.0 0.0 0.0 0.0 0.0 0.0 0.0 0.0 0.0 0.0 0.0 0.0 0.0 0.0 0.0 0.0 0.0 0.0 0.0 0.0 0.0 \n",
            "0.0 0.0 0.0 0.0 0.0 0.0 0.0 0.19215686274509805 0.9333333333333333 0.9921568627450981 0.9921568627450981 0.9921568627450981 0.9921568627450981 0.9921568627450981 0.9921568627450981 0.9921568627450981 0.9921568627450981 0.984313725490196 0.36470588235294116 0.3215686274509804 0.3215686274509804 0.2196078431372549 0.15294117647058825 0.0 0.0 0.0 0.0 0.0 0.0 0.0 0.0 0.0 0.0 0.0 0.0 0.0 0.0 0.0 0.0 0.0392156862745098 0.23529411764705882 0.8784313725490196 0.9882352941176471 0.9921568627450981 0.9882352941176471 0.792156862745098 0.32941176470588235 0.9882352941176471 0.9921568627450981 0.47843137254901963 0.0 0.0 0.0 0.0 0.0 0.0 0.0 0.0 0.0 0.0 0.49411764705882355 0.6392156862745098 0.0 0.0 0.0 0.0 0.0 0.0 0.0 0.0 0.0 0.0 0.0 0.0 0.0 0.00784313725490196 0.6 0.8235294117647058 0.1568627450980392 0.0 0.0 0.0 0.0 0.0 0.0 0.0 0.0 0.0 0.0 0.0 0.0 0.0 0.0 0.0 0.0 0.0 0.0 0.0 0.0 0.0 0.0 0.4980392156862745 0.984313725490196 0.984313725490196 0.9921568627450981 0.24313725490196078 0.0 0.0 0.0 0.0 0.0 0.0 0.0 0.0 0.0 0.0 0.0 0.0 0.0 0.0 0.0 0.0 0.0 0.0 0.21568627450980393 0.5803921568627451 0.8235294117647058 0.9921568627450981 0.9921568627450981 0.44313725490196076 0.3411764705882353 0.5803921568627451 0.21568627450980393 0.0 0.0 0.0 0.0 0.0 0.0 0.0 \n",
            "0.0 0.0 0.0 0.0 0.0 0.0 0.0 0.07058823529411765 0.8588235294117647 0.9921568627450981 0.9921568627450981 0.9921568627450981 0.9921568627450981 0.9921568627450981 0.7764705882352941 0.7137254901960784 0.9686274509803922 0.9450980392156862 0.0 0.0 0.0 0.0 0.0 0.0 0.0 0.0 0.0 0.0 0.0 0.0 0.0 0.0 0.0 0.0 0.0 0.0 0.0 0.0 0.0 0.6392156862745098 0.9882352941176471 0.9882352941176471 0.9882352941176471 0.9921568627450981 0.9882352941176471 0.9882352941176471 0.3764705882352941 0.7411764705882353 0.9921568627450981 0.6549019607843137 0.0 0.0 0.0 0.0 0.0 0.0 0.0 0.0 0.0 0.0 0.8627450980392157 0.6392156862745098 0.0 0.0 0.0 0.0 0.0 0.0 0.0 0.0 0.0 0.0 0.0 0.0 0.0 0.10588235294117647 0.996078431372549 0.6352941176470588 0.0 0.0 0.0 0.0 0.0 0.0 0.0 0.0 0.0 0.0 0.0 0.0 0.0 0.0 0.0 0.0 0.0 0.0 0.0 0.0 0.0 0.0 0.26666666666666666 0.9254901960784314 0.984313725490196 0.8274509803921568 0.12156862745098039 0.03137254901960784 0.0 0.0 0.0 0.0 0.0 0.0 0.0 0.0 0.0 0.0 0.0 0.0 0.0 0.0 0.0 0.0 0.0 0.3411764705882353 0.9098039215686274 0.9882352941176471 0.9921568627450981 0.7411764705882353 0.8235294117647058 0.9882352941176471 0.9882352941176471 0.9921568627450981 0.6588235294117647 0.0 0.0 0.0 0.0 0.0 0.0 0.0 \n",
            "0.0 0.0 0.0 0.0 0.0 0.0 0.0 0.0 0.3137254901960784 0.611764705882353 0.4196078431372549 0.9921568627450981 0.9921568627450981 0.803921568627451 0.043137254901960784 0.0 0.16862745098039217 0.6039215686274509 0.0 0.0 0.0 0.0 0.0 0.0 0.0 0.0 0.0 0.0 0.0 0.0 0.0 0.0 0.0 0.0 0.0 0.0 0.0 0.0 0.2 0.9333333333333333 0.9921568627450981 0.9921568627450981 0.7450980392156863 0.4470588235294118 0.9921568627450981 0.8941176470588236 0.1843137254901961 0.30980392156862746 1.0 0.6588235294117647 0.0 0.0 0.0 0.0 0.0 0.0 0.0 0.0 0.0 0.0 0.8705882352941177 0.6392156862745098 0.0 0.0 0.0 0.0 0.0 0.0 0.0 0.0 0.0 0.0 0.0 0.0 0.0 0.7176470588235294 0.996078431372549 0.49019607843137253 0.0 0.0 0.0 0.0 0.0 0.0 0.0 0.0 0.0 0.0 0.0 0.0 0.0 0.0 0.0 0.0 0.0 0.0 0.0 0.0 0.0 0.23529411764705882 0.8941176470588236 0.984313725490196 0.984313725490196 0.3686274509803922 0.0 0.0 0.0 0.0 0.0 0.0 0.0 0.0 0.0 0.0 0.0 0.0 0.0 0.0 0.0 0.0 0.0 0.01568627450980392 0.2235294117647059 0.9490196078431372 0.9882352941176471 0.7450980392156863 0.2549019607843137 0.0196078431372549 0.047058823529411764 0.7137254901960784 0.9882352941176471 0.9921568627450981 0.4549019607843137 0.0 0.0 0.0 0.0 0.0 0.0 0.0 \n",
            "0.0 0.0 0.0 0.0 0.0 0.0 0.0 0.0 0.0 0.054901960784313725 0.00392156862745098 0.6039215686274509 0.9921568627450981 0.35294117647058826 0.0 0.0 0.0 0.0 0.0 0.0 0.0 0.0 0.0 0.0 0.0 0.0 0.0 0.0 0.0 0.0 0.0 0.0 0.0 0.0 0.0 0.0 0.0 0.18823529411764706 0.9333333333333333 0.9882352941176471 0.9882352941176471 0.7019607843137254 0.047058823529411764 0.29411764705882354 0.4745098039215686 0.08235294117647059 0.0 0.0 0.9921568627450981 0.9529411764705882 0.19607843137254902 0.0 0.0 0.0 0.0 0.0 0.0 0.0 0.0 0.1803921568627451 0.9607843137254902 0.6392156862745098 0.0 0.0 0.0 0.0 0.0 0.0 0.0 0.0 0.0 0.0 0.0 0.0 0.0 0.7764705882352941 0.996078431372549 0.2196078431372549 0.0 0.0 0.0 0.0 0.0 0.0 0.0 0.0 0.0 0.0 0.0 0.0 0.0 0.0 0.0 0.0 0.0 0.0 0.0 0.0 0.0 0.6078431372549019 0.9921568627450981 0.9921568627450981 0.7411764705882353 0.0 0.0 0.0 0.0 0.0 0.0 0.0 0.0 0.0 0.0 0.0 0.0 0.0 0.0 0.0 0.0 0.0 0.0 0.3764705882352941 0.9882352941176471 0.9882352941176471 0.7176470588235294 0.054901960784313725 0.0 0.0 0.3607843137254902 0.9882352941176471 0.9882352941176471 0.8823529411764706 0.08235294117647059 0.0 0.0 0.0 0.0 0.0 0.0 0.0 \n",
            "0.0 0.0 0.0 0.0 0.0 0.0 0.0 0.0 0.0 0.0 0.0 0.5450980392156862 0.9921568627450981 0.7450980392156863 0.00784313725490196 0.0 0.0 0.0 0.0 0.0 0.0 0.0 0.0 0.0 0.0 0.0 0.0 0.0 0.0 0.0 0.0 0.0 0.0 0.0 0.0 0.0 0.14901960784313725 0.6470588235294118 0.9921568627450981 0.9137254901960784 0.8156862745098039 0.32941176470588235 0.0 0.0 0.0 0.0 0.0 0.0 0.9921568627450981 0.9882352941176471 0.6470588235294118 0.0 0.0 0.0 0.0 0.0 0.0 0.0 0.0 0.47058823529411764 0.996078431372549 0.6392156862745098 0.0 0.0 0.0 0.0 0.0 0.0 0.0 0.0 0.0 0.0 0.0 0.0 0.09019607843137255 0.9058823529411765 0.996078431372549 0.11372549019607843 0.0 0.0 0.0 0.0 0.0 0.0 0.0 0.0 0.0 0.0 0.0 0.0 0.0 0.0 0.0 0.0 0.0 0.0 0.0 0.0 0.0784313725490196 0.9921568627450981 0.984313725490196 0.9215686274509803 0.25882352941176473 0.0 0.0 0.0 0.0 0.0 0.0 0.0 0.0 0.0 0.0 0.0 0.0 0.0 0.0 0.0 0.0 0.0 0.5176470588235295 0.9921568627450981 0.9882352941176471 0.5725490196078431 0.054901960784313725 0.0 0.0 0.0 0.8431372549019608 0.9882352941176471 0.9882352941176471 0.30980392156862746 0.0 0.0 0.0 0.0 0.0 0.0 0.0 0.0 \n",
            "0.0 0.0 0.0 0.0 0.0 0.0 0.0 0.0 0.0 0.0 0.0 0.043137254901960784 0.7450980392156863 0.9921568627450981 0.27450980392156865 0.0 0.0 0.0 0.0 0.0 0.0 0.0 0.0 0.0 0.0 0.0 0.0 0.0 0.0 0.0 0.0 0.0 0.0 0.0 0.0 0.027450980392156862 0.6980392156862745 0.9882352941176471 0.9411764705882353 0.2784313725490196 0.07450980392156863 0.10980392156862745 0.0 0.0 0.0 0.0 0.0 0.0 0.9921568627450981 0.9882352941176471 0.7647058823529411 0.0 0.0 0.0 0.0 0.0 0.0 0.0 0.0 0.6235294117647059 0.996078431372549 0.47058823529411764 0.0 0.0 0.0 0.0 0.0 0.0 0.0 0.0 0.0 0.0 0.0 0.0 0.6392156862745098 0.996078431372549 0.8470588235294118 0.06274509803921569 0.0 0.0 0.0 0.0 0.0 0.0 0.0 0.0 0.0 0.0 0.0 0.0 0.0 0.0 0.0 0.0 0.0 0.0 0.0 0.12549019607843137 0.803921568627451 0.9921568627450981 0.984313725490196 0.49411764705882355 0.0 0.0 0.0 0.0 0.0 0.0 0.0 0.0 0.0 0.0 0.0 0.0 0.0 0.0 0.0 0.0 0.0 0.49411764705882355 0.9921568627450981 0.9686274509803922 0.6901960784313725 0.03529411764705882 0.0 0.0 0.03137254901960784 0.3058823529411765 0.9607843137254902 0.9921568627450981 0.5058823529411764 0.0 0.0 0.0 0.0 0.0 0.0 0.0 0.0 0.0 \n",
            "0.0 0.0 0.0 0.0 0.0 0.0 0.0 0.0 0.0 0.0 0.0 0.0 0.13725490196078433 0.9450980392156862 0.8823529411764706 0.6274509803921569 0.4235294117647059 0.00392156862745098 0.0 0.0 0.0 0.0 0.0 0.0 0.0 0.0 0.0 0.0 0.0 0.0 0.0 0.0 0.0 0.0 0.0 0.2235294117647059 0.9882352941176471 0.9882352941176471 0.24705882352941178 0.0 0.0 0.0 0.0 0.0 0.0 0.0 0.0 0.0 0.9921568627450981 0.9882352941176471 0.7647058823529411 0.0 0.0 0.0 0.0 0.0 0.0 0.0 0.0 0.6235294117647059 0.996078431372549 0.2627450980392157 0.0 0.0 0.0 0.0 0.0 0.0 0.0 0.0 0.0 0.054901960784313725 0.33725490196078434 0.6980392156862745 0.9725490196078431 0.996078431372549 0.3568627450980392 0.0 0.0 0.0 0.0 0.0 0.0 0.0 0.0 0.0 0.0 0.0 0.0 0.0 0.0 0.0 0.0 0.0 0.0 0.0 0.0 0.40784313725490196 0.984313725490196 0.9921568627450981 0.7215686274509804 0.058823529411764705 0.0 0.0 0.0 0.0 0.0 0.0 0.0 0.0 0.0 0.0 0.0 0.0 0.0 0.0 0.0 0.0 0.06274509803921569 0.9098039215686274 0.9882352941176471 0.6901960784313725 0.0 0.0 0.0 0.1411764705882353 0.788235294117647 0.9882352941176471 0.9882352941176471 0.6627450980392157 0.043137254901960784 0.0 0.0 0.0 0.0 0.0 0.0 0.0 0.0 0.0 \n",
            "0.0 0.0 0.0 0.0 0.0 0.0 0.0 0.0 0.0 0.0 0.0 0.0 0.0 0.3176470588235294 0.9411764705882353 0.9921568627450981 0.9921568627450981 0.4666666666666667 0.09803921568627451 0.0 0.0 0.0 0.0 0.0 0.0 0.0 0.0 0.0 0.0 0.0 0.0 0.0 0.0 0.0 0.0 0.7764705882352941 0.9921568627450981 0.7450980392156863 0.0 0.0 0.0 0.0 0.0 0.0 0.0 0.0 0.0 0.0 1.0 0.9921568627450981 0.7686274509803922 0.0 0.0 0.0 0.0 0.0 0.0 0.0 0.0 0.6235294117647059 0.996078431372549 0.3333333333333333 0.0 0.0 0.0 0.1843137254901961 0.19215686274509805 0.4549019607843137 0.5647058823529412 0.5882352941176471 0.9450980392156862 0.9529411764705882 0.9176470588235294 0.7019607843137254 0.9450980392156862 0.9882352941176471 0.1568627450980392 0.0 0.0 0.0 0.0 0.0 0.0 0.0 0.0 0.0 0.0 0.0 0.0 0.0 0.0 0.0 0.0 0.0 0.0 0.0 0.3137254901960784 0.9411764705882353 0.984313725490196 0.7568627450980392 0.09019607843137255 0.0 0.0 0.0 0.0 0.0 0.0 0.0 0.0 0.0 0.0 0.0 0.0 0.0 0.0 0.0 0.0 0.0 0.08627450980392157 0.9882352941176471 0.9882352941176471 0.11764705882352941 0.08627450980392157 0.4666666666666667 0.7725490196078432 0.9450980392156862 0.9921568627450981 0.9882352941176471 0.984313725490196 0.30196078431372547 0.0 0.0 0.0 0.0 0.0 0.0 0.0 0.0 0.0 0.0 \n",
            "0.0 0.0 0.0 0.0 0.0 0.0 0.0 0.0 0.0 0.0 0.0 0.0 0.0 0.0 0.17647058823529413 0.7294117647058823 0.9921568627450981 0.9921568627450981 0.5882352941176471 0.10588235294117647 0.0 0.0 0.0 0.0 0.0 0.0 0.0 0.0 0.0 0.0 0.0 0.0 0.0 0.0 0.2980392156862745 0.9647058823529412 0.9882352941176471 0.4392156862745098 0.0 0.0 0.0 0.0 0.0 0.0 0.0 0.0 0.0 0.0 0.9921568627450981 0.9882352941176471 0.5803921568627451 0.0 0.0 0.0 0.0 0.0 0.0 0.0 0.0 0.5882352941176471 0.9921568627450981 0.9294117647058824 0.8117647058823529 0.8117647058823529 0.8117647058823529 0.9921568627450981 0.996078431372549 0.9803921568627451 0.9411764705882353 0.7764705882352941 0.5607843137254902 0.3568627450980392 0.10980392156862745 0.0196078431372549 0.9137254901960784 0.9803921568627451 0.0 0.0 0.0 0.0 0.0 0.0 0.0 0.0 0.0 0.0 0.0 0.0 0.0 0.0 0.0 0.0 0.0 0.0 0.0 0.12549019607843137 0.9921568627450981 0.9921568627450981 0.9921568627450981 0.6235294117647059 0.0 0.0 0.0 0.0 0.0 0.0 0.0 0.0 0.0 0.0 0.0 0.0 0.0 0.0 0.0 0.0 0.0 0.0 0.06274509803921569 0.9058823529411765 0.9882352941176471 0.9921568627450981 0.9882352941176471 0.9882352941176471 0.9882352941176471 0.8862745098039215 0.8901960784313725 0.9882352941176471 0.9058823529411765 0.0 0.0 0.0 0.0 0.0 0.0 0.0 0.0 0.0 0.0 0.0 \n",
            "0.0 0.0 0.0 0.0 0.0 0.0 0.0 0.0 0.0 0.0 0.0 0.0 0.0 0.0 0.0 0.06274509803921569 0.36470588235294116 0.9882352941176471 0.9921568627450981 0.7333333333333333 0.0 0.0 0.0 0.0 0.0 0.0 0.0 0.0 0.0 0.0 0.0 0.0 0.0 0.0 0.3333333333333333 0.9882352941176471 0.9019607843137255 0.09803921568627451 0.0 0.0 0.0 0.0 0.0 0.0 0.0 0.0 0.027450980392156862 0.5294117647058824 0.9921568627450981 0.7294117647058823 0.047058823529411764 0.0 0.0 0.0 0.0 0.0 0.0 0.0 0.0 0.0 0.4666666666666667 0.6941176470588235 0.6941176470588235 0.6941176470588235 0.6941176470588235 0.6941176470588235 0.3843137254901961 0.2196078431372549 0.0 0.0 0.0 0.0 0.0 0.4 0.996078431372549 0.8627450980392157 0.0 0.0 0.0 0.0 0.0 0.0 0.0 0.0 0.0 0.0 0.0 0.0 0.0 0.0 0.0 0.0 0.0 0.0 0.0 0.592156862745098 0.984313725490196 0.984313725490196 0.984313725490196 0.15294117647058825 0.0 0.0 0.0 0.0 0.0 0.0 0.0 0.0 0.0 0.0 0.0 0.0 0.0 0.0 0.0 0.0 0.0 0.0 0.0 0.21568627450980393 0.9215686274509803 0.9921568627450981 0.8509803921568627 0.5411764705882353 0.16470588235294117 0.09411764705882353 0.7529411764705882 0.9882352941176471 0.5607843137254902 0.0 0.0 0.0 0.0 0.0 0.0 0.0 0.0 0.0 0.0 0.0 \n",
            "0.0 0.0 0.0 0.0 0.0 0.0 0.0 0.0 0.0 0.0 0.0 0.0 0.0 0.0 0.0 0.0 0.0 0.9764705882352941 0.9921568627450981 0.9764705882352941 0.25098039215686274 0.0 0.0 0.0 0.0 0.0 0.0 0.0 0.0 0.0 0.0 0.0 0.0 0.0 0.3333333333333333 0.9882352941176471 0.8745098039215686 0.0 0.0 0.0 0.0 0.0 0.0 0.0 0.0 0.027450980392156862 0.5137254901960784 0.9882352941176471 0.8823529411764706 0.2784313725490196 0.0 0.0 0.0 0.0 0.0 0.0 0.0 0.0 0.0 0.0 0.0 0.0 0.0 0.0 0.0 0.0 0.0 0.0 0.0 0.0 0.0 0.0 0.0 0.6627450980392157 0.996078431372549 0.5372549019607843 0.0 0.0 0.0 0.0 0.0 0.0 0.0 0.0 0.0 0.0 0.0 0.0 0.0 0.0 0.0 0.0 0.0 0.0 0.18823529411764706 0.8666666666666667 0.984313725490196 0.984313725490196 0.6745098039215687 0.0 0.0 0.0 0.0 0.0 0.0 0.0 0.0 0.0 0.0 0.0 0.0 0.0 0.0 0.0 0.0 0.0 0.0 0.0 0.0 0.0 0.0 0.0 0.0 0.0 0.0 0.24313725490196078 1.0 0.9921568627450981 0.42745098039215684 0.0 0.0 0.0 0.0 0.0 0.0 0.0 0.0 0.0 0.0 0.0 \n",
            "0.0 0.0 0.0 0.0 0.0 0.0 0.0 0.0 0.0 0.0 0.0 0.0 0.0 0.0 0.1803921568627451 0.5098039215686274 0.7176470588235294 0.9921568627450981 0.9921568627450981 0.8117647058823529 0.00784313725490196 0.0 0.0 0.0 0.0 0.0 0.0 0.0 0.0 0.0 0.0 0.0 0.0 0.0 0.3333333333333333 0.9882352941176471 0.5686274509803921 0.0 0.0 0.0 0.0 0.0 0.0 0.0 0.18823529411764706 0.6470588235294118 0.9882352941176471 0.6784313725490196 0.0 0.0 0.0 0.0 0.0 0.0 0.0 0.0 0.0 0.0 0.0 0.0 0.0 0.0 0.0 0.0 0.0 0.0 0.0 0.0 0.0 0.0 0.0 0.0 0.0 0.6627450980392157 0.996078431372549 0.2235294117647059 0.0 0.0 0.0 0.0 0.0 0.0 0.0 0.0 0.0 0.0 0.0 0.0 0.0 0.0 0.0 0.0 0.0 0.0 0.9176470588235294 0.984313725490196 0.984313725490196 0.7686274509803922 0.047058823529411764 0.0 0.0 0.0 0.0 0.0 0.0 0.0 0.0 0.0 0.0 0.0 0.0 0.0 0.0 0.0 0.0 0.0 0.0 0.0 0.0 0.0 0.0 0.0 0.0 0.0 0.0 0.2784313725490196 0.9921568627450981 0.9882352941176471 0.08235294117647059 0.0 0.0 0.0 0.0 0.0 0.0 0.0 0.0 0.0 0.0 0.0 \n",
            "0.0 0.0 0.0 0.0 0.0 0.0 0.0 0.0 0.0 0.0 0.0 0.0 0.15294117647058825 0.5803921568627451 0.8980392156862745 0.9921568627450981 0.9921568627450981 0.9921568627450981 0.9803921568627451 0.7137254901960784 0.0 0.0 0.0 0.0 0.0 0.0 0.0 0.0 0.0 0.0 0.0 0.0 0.0 0.0 0.33725490196078434 0.9921568627450981 0.8823529411764706 0.0 0.0 0.0 0.0 0.0 0.0 0.4470588235294118 0.9333333333333333 0.9921568627450981 0.6352941176470588 0.0 0.0 0.0 0.0 0.0 0.0 0.0 0.0 0.0 0.0 0.0 0.0 0.0 0.0 0.0 0.0 0.0 0.0 0.0 0.0 0.0 0.0 0.0 0.0 0.0 0.0 0.6627450980392157 0.996078431372549 0.2235294117647059 0.0 0.0 0.0 0.0 0.0 0.0 0.0 0.0 0.0 0.0 0.0 0.0 0.0 0.0 0.0 0.0 0.0 0.0 0.9921568627450981 0.984313725490196 0.984313725490196 0.34901960784313724 0.0 0.0 0.0 0.0 0.0 0.0 0.0 0.0 0.0 0.0 0.0 0.0 0.0 0.0 0.0 0.0 0.0 0.0 0.0 0.0 0.0 0.0 0.0 0.0 0.0 0.0 0.0 0.0 0.9921568627450981 0.9882352941176471 0.08235294117647059 0.0 0.0 0.0 0.0 0.0 0.0 0.0 0.0 0.0 0.0 0.0 \n",
            "0.0 0.0 0.0 0.0 0.0 0.0 0.0 0.0 0.0 0.0 0.09411764705882353 0.4470588235294118 0.8666666666666667 0.9921568627450981 0.9921568627450981 0.9921568627450981 0.9921568627450981 0.788235294117647 0.3058823529411765 0.0 0.0 0.0 0.0 0.0 0.0 0.0 0.0 0.0 0.0 0.0 0.0 0.0 0.0 0.0 0.3333333333333333 0.9882352941176471 0.9764705882352941 0.5725490196078431 0.18823529411764706 0.11372549019607843 0.3333333333333333 0.6980392156862745 0.8823529411764706 0.9921568627450981 0.8745098039215686 0.6549019607843137 0.2196078431372549 0.0 0.0 0.0 0.0 0.0 0.0 0.0 0.0 0.0 0.0 0.0 0.0 0.0 0.0 0.0 0.0 0.0 0.0 0.0 0.0 0.0 0.0 0.0 0.0 0.0 0.0 0.6627450980392157 1.0 0.3686274509803922 0.0 0.0 0.0 0.0 0.0 0.0 0.0 0.0 0.0 0.0 0.0 0.0 0.0 0.0 0.0 0.0 0.0 0.6235294117647059 1.0 0.9921568627450981 0.9921568627450981 0.12156862745098039 0.0 0.0 0.0 0.0 0.0 0.0 0.0 0.0 0.0 0.0 0.0 0.0 0.0 0.0 0.0 0.0 0.0 0.0 0.0 0.0 0.0 0.0 0.0 0.0 0.0 0.0 0.0 0.2784313725490196 0.9921568627450981 0.9882352941176471 0.08235294117647059 0.0 0.0 0.0 0.0 0.0 0.0 0.0 0.0 0.0 0.0 0.0 \n",
            "0.0 0.0 0.0 0.0 0.0 0.0 0.0 0.0 0.09019607843137255 0.25882352941176473 0.8352941176470589 0.9921568627450981 0.9921568627450981 0.9921568627450981 0.9921568627450981 0.7764705882352941 0.3176470588235294 0.00784313725490196 0.0 0.0 0.0 0.0 0.0 0.0 0.0 0.0 0.0 0.0 0.0 0.0 0.0 0.0 0.0 0.0 0.3333333333333333 0.9882352941176471 0.9882352941176471 0.9882352941176471 0.8980392156862745 0.8431372549019608 0.9882352941176471 0.9882352941176471 0.9882352941176471 0.7686274509803922 0.5098039215686274 0.0 0.0 0.0 0.0 0.0 0.0 0.0 0.0 0.0 0.0 0.0 0.0 0.0 0.0 0.0 0.0 0.0 0.0 0.0 0.0 0.0 0.0 0.0 0.0 0.0 0.0 0.0 0.0 0.6627450980392157 0.996078431372549 0.3764705882352941 0.0 0.0 0.0 0.0 0.0 0.0 0.0 0.0 0.0 0.0 0.0 0.0 0.0 0.0 0.0 0.0 0.18823529411764706 0.8941176470588236 0.9921568627450981 0.9686274509803922 0.5490196078431373 0.03137254901960784 0.0 0.0 0.0 0.0 0.0 0.0 0.0 0.0 0.0 0.0 0.0 0.0 0.0 0.0 0.0 0.0 0.0 0.0 0.0 0.0 0.0 0.0 0.0 0.0 0.0 0.0 0.0 0.41568627450980394 0.9921568627450981 0.9882352941176471 0.08235294117647059 0.0 0.0 0.0 0.0 0.0 0.0 0.0 0.0 0.0 0.0 0.0 \n",
            "0.0 0.0 0.0 0.0 0.0 0.0 0.07058823529411765 0.6705882352941176 0.8588235294117647 0.9921568627450981 0.9921568627450981 0.9921568627450981 0.9921568627450981 0.7647058823529411 0.3137254901960784 0.03529411764705882 0.0 0.0 0.0 0.0 0.0 0.0 0.0 0.0 0.0 0.0 0.0 0.0 0.0 0.0 0.0 0.0 0.0 0.0 0.10980392156862745 0.7803921568627451 0.9882352941176471 0.9882352941176471 0.9921568627450981 0.9882352941176471 0.9882352941176471 0.9137254901960784 0.5686274509803921 0.0 0.0 0.0 0.0 0.0 0.0 0.0 0.0 0.0 0.0 0.0 0.0 0.0 0.0 0.0 0.0 0.0 0.0 0.0 0.0 0.0 0.0 0.0 0.0 0.0 0.0 0.0 0.0 0.0 0.0 0.6627450980392157 0.996078431372549 0.6 0.0 0.0 0.0 0.0 0.0 0.0 0.0 0.0 0.0 0.0 0.0 0.0 0.0 0.0 0.0 0.0 0.25098039215686274 0.984313725490196 0.9921568627450981 0.8627450980392157 0.0 0.0 0.0 0.0 0.0 0.0 0.0 0.0 0.0 0.0 0.0 0.0 0.0 0.0 0.0 0.0 0.0 0.0 0.0 0.0 0.0 0.0 0.0 0.0 0.0 0.0 0.0 0.0 0.0 0.17647058823529413 1.0 0.9921568627450981 0.08235294117647059 0.0 0.0 0.0 0.0 0.0 0.0 0.0 0.0 0.0 0.0 0.0 \n",
            "0.0 0.0 0.0 0.0 0.21568627450980393 0.6745098039215687 0.8862745098039215 0.9921568627450981 0.9921568627450981 0.9921568627450981 0.9921568627450981 0.9568627450980393 0.5215686274509804 0.043137254901960784 0.0 0.0 0.0 0.0 0.0 0.0 0.0 0.0 0.0 0.0 0.0 0.0 0.0 0.0 0.0 0.0 0.0 0.0 0.0 0.0 0.0 0.09803921568627451 0.5019607843137255 0.9882352941176471 0.9921568627450981 0.9882352941176471 0.5529411764705883 0.1450980392156863 0.0 0.0 0.0 0.0 0.0 0.0 0.0 0.0 0.0 0.0 0.0 0.0 0.0 0.0 0.0 0.0 0.0 0.0 0.0 0.0 0.0 0.0 0.0 0.0 0.0 0.0 0.0 0.0 0.0 0.0 0.0 0.6627450980392157 1.0 0.6 0.0 0.0 0.0 0.0 0.0 0.0 0.0 0.0 0.0 0.0 0.0 0.0 0.0 0.0 0.0 0.0 0.25098039215686274 0.984313725490196 0.9921568627450981 0.8627450980392157 0.0 0.0 0.0 0.0 0.0 0.0 0.0 0.0 0.0 0.0 0.0 0.0 0.0 0.0 0.0 0.0 0.0 0.0 0.0 0.0 0.0 0.0 0.0 0.0 0.0 0.0 0.0 0.0 0.0 0.0 0.8549019607843137 0.9882352941176471 0.2196078431372549 0.0 0.0 0.0 0.0 0.0 0.0 0.0 0.0 0.0 0.0 0.0 \n",
            "0.0 0.0 0.0 0.0 0.5333333333333333 0.9921568627450981 0.9921568627450981 0.9921568627450981 0.8313725490196079 0.5294117647058824 0.5176470588235295 0.06274509803921569 0.0 0.0 0.0 0.0 0.0 0.0 0.0 0.0 0.0 0.0 0.0 0.0 0.0 0.0 0.0 0.0 0.0 0.0 0.0 0.0 0.0 0.0 0.0 0.0 0.0 0.0 0.0 0.0 0.0 0.0 0.0 0.0 0.0 0.0 0.0 0.0 0.0 0.0 0.0 0.0 0.0 0.0 0.0 0.0 0.0 0.0 0.0 0.0 0.0 0.0 0.0 0.0 0.0 0.0 0.0 0.0 0.0 0.0 0.0 0.0 0.0 0.3764705882352941 0.996078431372549 0.6 0.0 0.0 0.0 0.0 0.0 0.0 0.0 0.0 0.0 0.0 0.0 0.0 0.0 0.0 0.0 0.0 0.09411764705882353 0.7568627450980392 0.9921568627450981 0.8627450980392157 0.0 0.0 0.0 0.0 0.0 0.0 0.0 0.0 0.0 0.0 0.0 0.0 0.0 0.0 0.0 0.0 0.0 0.0 0.0 0.0 0.0 0.0 0.0 0.0 0.0 0.0 0.0 0.0 0.0 0.0 0.3764705882352941 0.9882352941176471 0.7411764705882353 0.16470588235294117 0.0 0.0 0.0 0.0 0.0 0.0 0.0 0.0 0.0 0.0 \n",
            "0.0 0.0 0.0 0.0 0.0 0.0 0.0 0.0 0.0 0.0 0.0 0.0 0.0 0.0 0.0 0.0 0.0 0.0 0.0 0.0 0.0 0.0 0.0 0.0 0.0 0.0 0.0 0.0 0.0 0.0 0.0 0.0 0.0 0.0 0.0 0.0 0.0 0.0 0.0 0.0 0.0 0.0 0.0 0.0 0.0 0.0 0.0 0.0 0.0 0.0 0.0 0.0 0.0 0.0 0.0 0.0 0.0 0.0 0.0 0.0 0.0 0.0 0.0 0.0 0.0 0.0 0.0 0.0 0.0 0.0 0.0 0.0 0.0 0.0 0.0 0.0 0.0 0.0 0.0 0.0 0.0 0.0 0.0 0.0 0.0 0.0 0.0 0.0 0.0 0.0 0.0 0.0 0.0 0.0 0.0 0.0 0.0 0.0 0.0 0.0 0.0 0.0 0.0 0.0 0.0 0.0 0.0 0.0 0.0 0.0 0.0 0.0 0.0 0.0 0.0 0.0 0.0 0.0 0.0 0.0 0.0 0.0 0.0 0.0 0.0 0.0 0.054901960784313725 0.7215686274509804 0.9882352941176471 0.6666666666666666 0.043137254901960784 0.0 0.0 0.0 0.0 0.0 0.0 0.0 0.0 0.0 \n",
            "0.0 0.0 0.0 0.0 0.0 0.0 0.0 0.0 0.0 0.0 0.0 0.0 0.0 0.0 0.0 0.0 0.0 0.0 0.0 0.0 0.0 0.0 0.0 0.0 0.0 0.0 0.0 0.0 0.0 0.0 0.0 0.0 0.0 0.0 0.0 0.0 0.0 0.0 0.0 0.0 0.0 0.0 0.0 0.0 0.0 0.0 0.0 0.0 0.0 0.0 0.0 0.0 0.0 0.0 0.0 0.0 0.0 0.0 0.0 0.0 0.0 0.0 0.0 0.0 0.0 0.0 0.0 0.0 0.0 0.0 0.0 0.0 0.0 0.0 0.0 0.0 0.0 0.0 0.0 0.0 0.0 0.0 0.0 0.0 0.0 0.0 0.0 0.0 0.0 0.0 0.0 0.0 0.0 0.0 0.0 0.0 0.0 0.0 0.0 0.0 0.0 0.0 0.0 0.0 0.0 0.0 0.0 0.0 0.0 0.0 0.0 0.0 0.0 0.0 0.0 0.0 0.0 0.0 0.0 0.0 0.0 0.0 0.0 0.0 0.0 0.0 0.0 0.054901960784313725 0.5764705882352941 0.9882352941176471 0.16470588235294117 0.0 0.0 0.0 0.0 0.0 0.0 0.0 0.0 0.0 \n",
            "0.0 0.0 0.0 0.0 0.0 0.0 0.0 0.0 0.0 0.0 0.0 0.0 0.0 0.0 0.0 0.0 0.0 0.0 0.0 0.0 0.0 0.0 0.0 0.0 0.0 0.0 0.0 0.0 0.0 0.0 0.0 0.0 0.0 0.0 0.0 0.0 0.0 0.0 0.0 0.0 0.0 0.0 0.0 0.0 0.0 0.0 0.0 0.0 0.0 0.0 0.0 0.0 0.0 0.0 0.0 0.0 0.0 0.0 0.0 0.0 0.0 0.0 0.0 0.0 0.0 0.0 0.0 0.0 0.0 0.0 0.0 0.0 0.0 0.0 0.0 0.0 0.0 0.0 0.0 0.0 0.0 0.0 0.0 0.0 0.0 0.0 0.0 0.0 0.0 0.0 0.0 0.0 0.0 0.0 0.0 0.0 0.0 0.0 0.0 0.0 0.0 0.0 0.0 0.0 0.0 0.0 0.0 0.0 0.0 0.0 0.0 0.0 0.0 0.0 0.0 0.0 0.0 0.0 0.0 0.0 0.0 0.0 0.0 0.0 0.0 0.0 0.0 0.0 0.0 0.0 0.0 0.0 0.0 0.0 0.0 0.0 0.0 0.0 0.0 0.0 \n"
          ]
        }
      ]
    },
    {
      "cell_type": "markdown",
      "metadata": {
        "id": "xqyaO-5bk-sj"
      },
      "source": [
        "### 문제 13. np.hstack은 tensorflow에서 제공하는 방법이 아니므로 transpose 함수를 이용하여 (28, 28 * 5)로 shape을 변경해보세요."
      ]
    },
    {
      "cell_type": "code",
      "metadata": {
        "id": "SqmKdjlGlqLJ",
        "colab": {
          "base_uri": "https://localhost:8080/"
        },
        "outputId": "17d04764-e272-4e23-a1c0-04a099bbde9f"
      },
      "source": [
        "# transpose는 tensor의 axis를 섞는 기능을 합니다.\n",
        "# 해당 기능을 이용해서 (28, 140)을 작성하는 코드를 작성해보세요.\n",
        "train_images[:5].transpose( (1, 0, 2) ).reshape(28, -1)\n",
        "\n",
        "# 이거 이해하기 어렵다.. 그냥 hp.hstack은 공식적인 방법이 아니므로 같은 기능을 하는 transpose((1,0,2)).reshape(28,-1) 를 써야한다고 외우삼\n",
        "## reshape의 -1 은 140을 뜻함"
      ],
      "execution_count": 19,
      "outputs": [
        {
          "output_type": "execute_result",
          "data": {
            "text/plain": [
              "array([[0., 0., 0., ..., 0., 0., 0.],\n",
              "       [0., 0., 0., ..., 0., 0., 0.],\n",
              "       [0., 0., 0., ..., 0., 0., 0.],\n",
              "       ...,\n",
              "       [0., 0., 0., ..., 0., 0., 0.],\n",
              "       [0., 0., 0., ..., 0., 0., 0.],\n",
              "       [0., 0., 0., ..., 0., 0., 0.]])"
            ]
          },
          "metadata": {},
          "execution_count": 19
        }
      ]
    },
    {
      "cell_type": "markdown",
      "metadata": {
        "id": "T0oaToP6l0Pd"
      },
      "source": [
        "### 문제 14. (28, 140)이 된 tensor를 plt로 출력해보세요."
      ]
    },
    {
      "cell_type": "code",
      "metadata": {
        "id": "ToUpk3oBmIr1",
        "colab": {
          "base_uri": "https://localhost:8080/",
          "height": 118
        },
        "outputId": "301e6f14-7862-444b-ea47-4cf0e9c786a5"
      },
      "source": [
        "# (28, 140)의 이미지를 plt로 출력해보세요.\n",
        "plt.imshow(train_images[:5].transpose( (1, 0, 2) ).reshape(28, -1))\n",
        "plt.show()"
      ],
      "execution_count": 20,
      "outputs": [
        {
          "output_type": "display_data",
          "data": {
            "text/plain": [
              "<Figure size 432x288 with 1 Axes>"
            ],
            "image/png": "[encoded data removed]"
          },
          "metadata": {
            "needs_background": "light"
          }
        }
      ]
    },
    {
      "cell_type": "markdown",
      "metadata": {
        "id": "LDwAlHN5mQ6K"
      },
      "source": [
        "###문제 15. (28, 140)이 된 tensor를 plt로 흑백으로 출력해보세요. 또한, 해당되는 labels의 값도 print로 출력하세요.\n",
        "\n",
        "hit: imshow 함수의 cmap ='gray' 옵션은 흑백이미지를 heatmap으로 출력하지 않습니다."
      ]
    },
    {
      "cell_type": "code",
      "metadata": {
        "id": "cT-BXF6OmQUy",
        "colab": {
          "base_uri": "https://localhost:8080/",
          "height": 276
        },
        "outputId": "1e7be21f-5af6-455c-f128-07d032f2d2c6"
      },
      "source": [
        "# images와 labels 5개를 출력하는 코드를 작성하세요.\n",
        "plt.imshow(train_images[:5].transpose( (1, 0, 2) ).reshape(28, -1), cmap=\"gray\") #imshow 의 cmap = 'gray' 를 사용하여 흑백으로 표현가능\n",
        "plt.colorbar()\n",
        "plt.show()\n",
        "print(train_labels[:5])"
      ],
      "execution_count": 21,
      "outputs": [
        {
          "output_type": "display_data",
          "data": {
            "text/plain": [
              "<Figure size 432x288 with 2 Axes>"
            ],
            "image/png": "[encoded data removed]"
          },
          "metadata": {
            "needs_background": "light"
          }
        },
        {
          "output_type": "stream",
          "name": "stdout",
          "text": [
            "[5 0 4 1 9]\n"
          ]
        }
      ]
    },
    {
      "cell_type": "markdown",
      "metadata": {
        "id": "Kz3kWteP8Kap"
      },
      "source": [
        "## Step 4. Data augmentation - Noise 추가 방법"
      ]
    },
    {
      "cell_type": "markdown",
      "metadata": {
        "id": "fesKKJqio--a"
      },
      "source": [
        "### 문제 16. np.random.random 함수를 이용하여 0-1 사이의 랜덤값을 3회 print로 출력해보시오."
      ]
    },
    {
      "cell_type": "code",
      "metadata": {
        "id": "Jsmh1keWpODx",
        "colab": {
          "base_uri": "https://localhost:8080/"
        },
        "outputId": "00f8fb18-f207-41e0-bcd6-04f83b9eab99"
      },
      "source": [
        "# np.random.ranodm을 이용해서 0-1 사의의 랜덤값을 3회 출력하는 코드를 작성하시오.\n",
        "print(np.random.random()) #랜덤값을 보여주는 함수\n",
        "print(np.random.random())\n",
        "print(np.random.random())\n",
        "\n",
        "#내가 만든것(원래 없음) - 두개 출력하기\n",
        "print(np.random.random(2))"
      ],
      "execution_count": 22,
      "outputs": [
        {
          "output_type": "stream",
          "name": "stdout",
          "text": [
            "0.5499162400143941\n",
            "0.17847273631688787\n",
            "0.7194911136626176\n",
            "[0.01036999 0.4645306 ]\n"
          ]
        }
      ]
    },
    {
      "cell_type": "markdown",
      "metadata": {
        "id": "_1NMpB6LqIB5"
      },
      "source": [
        "### 문제 17. np.random.random 함수와 shape 파라매터를 (28, 28)의 랜덤 노이즈를 생성해보세요."
      ]
    },
    {
      "cell_type": "code",
      "metadata": {
        "id": "U9-NlbEhqhCx",
        "colab": {
          "base_uri": "https://localhost:8080/"
        },
        "outputId": "29fb0d69-ae63-4a5f-a4ac-8d10f92546de"
      },
      "source": [
        "# np.random.randpm 함수와 shape 파라매터를 이용하여 (28, 28)의 랜덤 노이즈를 생성하는 코드를 작성하시오.\n",
        "np.random.random((28,28)).shape"
      ],
      "execution_count": 23,
      "outputs": [
        {
          "output_type": "execute_result",
          "data": {
            "text/plain": [
              "(28, 28)"
            ]
          },
          "metadata": {},
          "execution_count": 23
        }
      ]
    },
    {
      "cell_type": "code",
      "source": [
        "#이해를 돕기 위해 내가 만든 부분(원래 없음)\n",
        "rd = np.random.random((28,28)) #28,28 을 출력하기 위해 넣어줌\n",
        "for i in rd:\n",
        "  for j in i:\n",
        "    print(j,end =' ')\n",
        "  print()\n",
        "\n",
        "#양수값임"
      ],
      "metadata": {
        "colab": {
          "base_uri": "https://localhost:8080/"
        },
        "id": "eEs4cgzhfHzJ",
        "outputId": "9d17909e-e0cf-42a4-c045-5d5e3ed981bf"
      },
      "execution_count": 24,
      "outputs": [
        {
          "output_type": "stream",
          "name": "stdout",
          "text": [
            "0.36614874015968446 0.3156263757544092 0.7120215515436927 0.2550733663504251 0.19312853576406264 0.9940537152746257 0.052914255077981975 0.26132341025493067 0.3496818547543503 0.9938984362113185 0.10154319060517059 0.5014983045447785 0.046649404719102394 0.2825265023954622 0.6263244088612274 0.45817392185665473 0.21851765891337815 0.79453891636111 0.8432949774173448 0.8907375179815652 0.4058168999349582 0.9613001628403577 0.8867055006447081 0.4374525413945024 0.8050522593664192 0.23036737755355663 0.6651606160237075 0.20075483978440756 \n",
            "0.37694697070781646 0.774982594858783 0.6027002081978348 0.8031198999258172 0.5615478783656698 0.3801137287996932 0.28109040758930526 0.2148367879869808 0.35699667695076076 0.8516100629421145 0.9070718224163143 0.2572259371002227 0.4637253980942946 0.2020037465537423 0.9767429679143415 0.4698618531433587 0.08505184883079231 0.05502265720912969 0.5316822575217908 0.01758684149317491 0.5043315927901931 0.03165225356637702 0.21683013211490654 0.23694293285377632 0.25137191358918565 0.91816057179829 0.4227472037478661 0.7590880589927653 \n",
            "0.14379524887165285 0.04492070244144608 0.7908870850455169 0.7270647088803769 0.42887291021214835 0.8083528665480365 0.13471860160842308 0.8455694619193503 0.7307603439099744 0.3264592988398216 0.398915274232547 0.3136523996291133 0.6881578117453206 0.2447700827133339 0.13107836412924345 0.021625858437750667 0.4718181215717451 0.4027772033091893 0.060263561624835926 0.21136745291443582 0.5250991343325434 0.9653722536568332 0.46167607091594975 0.134648362391119 0.18080896335881547 0.2168761012185486 0.38823614354949254 0.5260239323464292 \n",
            "0.6033056874193671 0.8363069415053912 0.02634311669106315 0.1587918306608732 0.9164365847662236 0.1814884924286555 0.7492564990904975 0.29151307995896314 0.4796677567125168 0.8759960167482606 0.07214733564922782 0.3790825054743354 0.05024804657132109 0.7534232869750787 0.32108400567122586 0.06055209730934996 0.24663361351428792 0.4834961941747338 0.5022326762319479 0.8223522977365365 0.4880906555611487 0.7735885831981014 0.35460295137557774 0.14959335135672092 0.14598416864509167 0.43645638176585444 0.06746296618764869 0.18938031292341395 \n",
            "0.8411381999375579 0.7838177510775234 0.5390171366363743 0.42432933979244536 0.8863796091783067 0.536871040705249 0.7341112570427427 0.6527317101462522 0.8019914486810087 0.9923631771233788 0.5947908362464602 0.8952590292578734 0.882578674396055 0.18319697516121147 0.9585300471283495 0.3114334179809469 0.15678754107866266 0.6460572437331538 0.9426389890049535 0.004425134618450177 0.42895656946626215 0.6325342475170839 0.174334986949382 0.7760443813742645 0.460674153160611 0.02819572707327611 0.4298390331896135 0.48361567753505286 \n",
            "0.35202841878738167 0.010920951597517492 0.14696429201504868 0.9374944794827395 0.012653484572706208 0.213847135019686 0.4439857412792638 0.15594989522715352 0.23558227838635215 0.7449294716117497 0.19738373182669355 0.6460882355909924 0.8600428840223054 0.784193503612706 0.6851145817023858 0.6159802833574448 0.7004288556377666 0.0031451943485165668 0.8610156431152762 0.8871324737295866 0.44722024885591605 0.48823380779644754 0.7412126056000242 0.353587242650214 0.597687065452309 0.23066647097200077 0.2621174968605021 0.3902926237592911 \n",
            "0.40382516791700196 0.30053009104162376 0.36521681729780575 0.7823254618272827 0.7107745519932492 0.856692064954279 0.05318668017542294 0.2226231533781322 0.1352094254497509 0.7461591211305818 0.9725277523939782 0.716292731787567 0.5488751773516155 0.5205698171126358 0.8198761914168162 0.2710295849556561 0.7512086060088842 0.8326823725994805 0.7137242265546859 0.6340857072636972 0.18530456558079278 0.4416499953677744 0.8833729002646709 0.7976093655249622 0.0011879237723341207 0.6811136322696492 0.27933537135595377 0.7024770120351297 \n",
            "0.32744450474682296 0.43590435014782924 0.9622378675975979 0.5477507055266947 0.26201910290526853 0.2396702590792945 0.7865612495818979 0.42310458988095545 0.47392451850600037 0.5824165517601415 0.3682720465173087 0.4591035376492032 0.34209081884132986 0.9077464099445534 0.6918856433207279 0.9242527840272798 0.4402880425164608 0.9530963402400044 0.29468377067551954 0.2576612330391609 0.63748687606695 0.02499467719826165 0.08297083627909563 0.2852395189924366 0.7917452796817829 0.5649004732129366 0.580680888474473 0.5650293618014649 \n",
            "0.598520783588771 0.8877458992865298 0.4262800637788875 0.8691285164804302 0.8612943117941982 0.07131734268158085 0.155628711142061 0.028541424529095583 0.49230507492700015 0.8128337019029461 0.07939968235852812 0.156744821553495 0.9380399895377636 0.795371362750623 0.98086842907444 0.7427936652326462 0.4010922224262977 0.18049368034559365 0.06769610712866203 0.6322501012896292 0.3216691017028218 0.6577544913451232 0.1108195372695806 0.7312275217761808 0.07051837865855248 0.7866331829005143 0.1253294296629316 0.03201378665630028 \n",
            "0.5784241575998151 0.6994432067837891 0.22731031030301718 0.5021980040272117 0.9707274888509824 0.11399845005454434 0.259007387919037 0.7743197481465512 0.6746180032606852 0.250915597242665 0.9391694139807103 0.7365756648496234 0.19855925121078077 0.7739590851368401 0.4655358220521272 0.7529667586774065 0.07934876892632825 0.9595857966549364 0.6983354898300165 0.19019296888084014 0.14193720242382057 0.5770283424927539 0.2674843635333636 0.08993190436347587 0.8391704068641491 0.9586999636338225 0.11987021479888027 0.2563996433318221 \n",
            "0.8222228734340448 0.4646041102967693 0.9110901686310008 0.8691440542363119 0.10113685591475885 0.5272381743010842 0.849390334678204 0.17884938840499665 0.25536569262789655 0.2556041658955097 0.36498118705507265 0.5506469340027434 0.9252924699027619 0.6513397962654338 0.32565971453167586 0.3275921575076791 0.2495468060945203 0.22134628778985976 0.9353360165095929 0.7839500702238658 0.03028472895284451 0.9673855715812306 0.3986085470999514 0.7535676791573207 0.6059092022542203 0.4284437130455746 0.10733458896784565 0.825672073908414 \n",
            "0.8165446579150917 0.6953720661182669 0.9400369384051854 0.10196622642281017 0.3197715872916551 0.3294760202334338 0.11136220934143992 0.5330264922889633 0.8581704192950214 0.577760303228593 0.12288013181683866 0.1728551020922292 0.9168444778402695 0.4250665050283473 0.6507676498156011 0.8562905260802607 0.30295049709443767 0.64141005221193 0.14550590352290216 0.12409521883808006 0.9064394392348853 0.2698857140508585 0.8850567376609502 0.003654086619171437 0.5196869154907392 0.03984001306061591 0.48052969445674876 0.1614622686060464 \n",
            "0.7731720746001248 0.2197661060423749 0.46009704034471377 0.9035627329001582 0.4075706157725285 0.20708494313933512 0.7907889857110562 0.6881614512524472 0.2838121679283292 0.5033269449117044 0.667500727255406 0.674587449359303 0.22158972809669442 0.3997009219644787 0.7119027792458542 0.1801857307246536 0.7179139047261723 0.10505373486520075 0.8107847676238673 0.5843207735194494 0.09919747091828124 0.22300743842834925 0.8035093214214837 0.25070487543091846 0.20227467653197206 0.5856240520315293 0.4949067664146314 0.53740112906034 \n",
            "0.10177118023155962 0.600407350118781 0.83730500317036 0.8159762654329246 0.22536845777924341 0.9019023309931673 0.32625869630397575 0.3868496261236495 0.483219460303702 0.5220357551381997 0.6267931011151519 0.2073978258423419 0.31337457060131857 0.6986980394804633 0.7184960582003618 0.31985556436005236 0.5518060694335717 0.6753812757172096 0.5800490882411559 0.9034605570933163 0.23639369280294442 0.3762505685299301 0.28783297241434 0.6684292180266624 0.8558602615133684 0.1127714988014209 0.28436425438977686 0.8531430078839676 \n",
            "0.6342598128357866 0.010690459852534029 0.9192631659509901 0.208329665482068 0.5234747452313435 0.1361249129585772 0.8555619515965774 0.797661007179682 0.03556054698752198 0.4138936238748101 0.8910589017119084 0.8596483053523897 0.7525051234634419 0.664251588395193 0.8188032768551465 0.49637241040087066 0.5958542945805537 0.11050047318775547 0.9543772947056456 0.19153451165910695 0.8477314776094981 0.5876517994139031 0.7671887841992641 0.9635089032478303 0.7704641344634648 0.5785490279105943 0.5305349123874878 0.14218836637851595 \n",
            "0.36228589134105305 0.38276906158882607 0.8280919866567285 0.38312578036278866 0.33788427471072713 0.41826286249478895 0.593327369092353 0.4217839554381505 0.6274182411155808 0.03664139723148474 0.8096087758155811 0.9416244316930058 0.17654622716829527 0.4804011284077673 0.3606798441307498 0.17400084753497758 0.1255512622752576 0.019275825463763274 0.744657602610492 0.8790259189170773 0.414712546403462 0.8620124825071653 0.59214250837288 0.20508418566543807 0.583667990737017 0.5455371367975959 0.6130390595909424 0.5656873636442324 \n",
            "0.19599631417694163 0.08564606254967722 0.7519373192477143 0.323474073221229 0.30965572825362475 0.8971279969903229 0.16025281326385277 0.7450510541416909 0.15095347254371683 0.8794289255708353 0.8565197999726274 0.2890114642862629 0.030658145713643337 0.2880385756974957 0.8893240114805455 0.7162175307550177 0.3381044384021159 0.34013059469371165 0.3121035255538883 0.08690931832141213 0.18658318963863063 0.21280518269963233 0.34002435205809267 0.10382096564836174 0.41153097401206695 0.9014245951433988 0.09003320963546368 0.9435108160356274 \n",
            "0.20908764224689746 0.5599174996535973 0.21590765112498245 0.7471275035507565 0.839846312707521 0.19220144729456257 0.9906748472451828 0.23854721033872228 0.23509421966220878 0.9717210593324778 0.001989221448736811 0.6236359707077409 0.47574265219846656 0.525826577422581 0.5928427787223799 0.4557620396208084 0.011787836711993016 0.5677994551974697 0.3720021227317172 0.9530390259103476 0.53613955052115 0.5351300843147841 0.032004933598533736 0.7923778230691629 0.10068921251949337 0.7359203137063364 0.598084071400095 0.37400276933103516 \n",
            "0.3742013158146549 0.674947891324946 0.51948929797463 0.5973144456470302 0.7121811773520799 0.0791691378177024 0.14759866639958052 0.5285872515985724 0.17536359564778092 0.7300411590922361 0.16618575310545713 0.3011233899785525 0.4761187924090098 0.608893908387762 0.46815872898747324 0.40485230942438377 0.4781899668306767 0.9734773486121261 0.4656073878083501 0.42215418300678964 0.8305223670994341 0.7611937506249771 0.5723313162847552 0.32596299843498444 0.10758238258091846 0.046148302605595104 0.34191522955519515 0.7061058923853365 \n",
            "0.6802706502623544 0.710206375753534 0.7585963233492821 0.061102905530953655 0.0022722235845464844 0.5451307589312807 0.34049203604680545 0.6136187855891886 0.12147574865387822 0.21785304624009705 0.26470418241919347 0.8740515049499887 0.9531121129989185 0.9296734306441025 0.04405559976519613 0.5768908896697529 0.20349351392307602 0.2044056601003741 0.1955499709616415 0.2822327519400343 0.07566676489208923 0.41896137046265025 0.0323108546985299 0.7701277797932207 0.9927781961031978 0.9466990831982859 0.03962906861676585 0.3989046989334435 \n",
            "0.7488982087731183 0.29413755802521957 0.6624792044717751 0.7227726371864692 0.24656112365457705 0.5062845459230846 0.30054028448605974 0.1414539926716667 0.8537470031166474 0.3338364888069093 0.07147255056936419 0.5905328911641001 0.7765817888329009 0.8039759883360384 0.5160595967532591 0.5104125347524495 0.4029119906068077 0.13159813076735216 0.5573953094655786 0.5635513174076838 0.7854776667801949 0.9657750515792122 0.513793434164458 0.4556590862644101 0.6276819624883305 0.268958377149643 0.3165710652756032 0.5207056429132406 \n",
            "0.12150725630536063 0.6467606636880734 0.8102278376030351 0.31189058135099523 0.7816280742538895 0.2911184561725585 0.32636364661820627 0.633759880039733 0.1508715694787428 0.10047862625409199 0.04883823144378341 0.9264027148484271 0.7521018031061703 0.07597210045543978 0.6187260903991079 0.08702763138597269 0.6579773788186584 0.007389775225511208 0.3712144309836395 0.834120269312149 0.8437524954334186 0.6513563741112773 0.6452021632719211 0.7524086702864234 0.3104537793622755 0.9259573973720944 0.8941835026503069 0.9094926834368313 \n",
            "0.2946339029242412 0.3202813600936386 0.4593072206154103 0.6870184062193193 0.1061334672464136 0.06281447181100386 0.5151961910802368 0.6920637863637755 0.7606321083032618 0.2985898569194779 0.3839300875603171 0.18066930844731732 0.4737652497874757 0.5400545917004933 0.08694168828745918 0.04979180570204389 0.46061706745222597 0.13763523142440948 0.3451271669146645 0.5267971942684013 0.7949499884462699 0.39654922855938024 0.28333846750018 0.48320333457678366 0.9786664976867974 0.7131037130366387 0.3664228909612677 0.30653318787969497 \n",
            "0.8626699516138631 0.9178605404593949 0.7924842113094029 0.6354103475901556 0.7111712668969727 0.5084211430544886 0.06254184344895919 0.8996017613811499 0.8281497988807025 0.2779749981703188 0.4989974248973168 0.9633270690674974 0.9716260741565844 0.9265084323875248 0.7512543660637827 0.996467784067842 0.34713052957271795 0.6787379090829925 0.5144443418746595 0.07708929419181432 0.6370398695917654 0.7316983296578004 0.4966660050558769 0.22465119838698933 0.12636337675407439 0.9263368545100685 0.021576714568532274 0.6397208773373011 \n",
            "0.11641203127976152 0.8817319382787038 0.20166416602998838 0.8332112870497708 0.836283172487269 0.26373004629919483 0.30597798991322456 0.36267436862629576 0.9532863963735762 0.6380965556143009 0.4190974604865312 0.9389336131268157 0.7245114681680169 0.2895347836052309 0.6780437102862589 0.09560271631858752 0.17661293015871427 0.38365586869182855 0.10856816125068292 0.8973535093887473 0.7603329802502554 0.9610327306959624 0.5687644553202937 0.2726242536397784 0.44300769967782383 0.41196989573224707 0.4737216372800387 0.6669819516487454 \n",
            "0.9937458594851343 0.3798591734397516 0.1757827817734645 0.7659325750769099 0.24808704035600948 0.6981941294296087 0.6635950631114123 0.056964965023094116 0.7301162989529965 0.3025954501067821 0.6217861886707392 0.2454874851662926 0.13337017182677224 0.9327568135396741 0.14051459987602055 0.7278333763252647 0.21640604031238198 0.4823786604525867 0.6578026578211317 0.7967408597441991 0.20198347832906494 0.19840503775465568 0.35163442092291486 0.545794011413871 0.9864595527566384 0.4769512250334219 0.45118034605964397 0.24018727287996233 \n",
            "0.1787270561022477 0.8920944539453467 0.4550561871723535 0.32917010227060617 0.3771387978885343 0.6458717873862766 0.1325600814788449 0.670939113071782 0.6948522960749787 0.44043879273440145 0.35732592170320876 0.9335705486110575 0.9031204839359203 0.44113244177979105 0.320800526666724 0.9302297821648838 0.36128613795205744 0.2373707824900717 0.13079468359824342 0.387365175883969 0.946581398610636 0.4343651895709423 0.44795755624475153 0.36903301120694 0.2062333964106221 0.674510776331329 0.7345105681351813 0.37699265244969815 \n",
            "0.9267759321976521 0.25626427524052875 0.9856901914750854 0.6610882199077635 0.5115192009469317 0.9300941596796846 0.05205492438714221 0.8521493132546162 0.9976959674487562 0.7538303260155685 0.6478302934691748 0.309070634769235 0.25919436690368236 0.9848977549761947 0.48912424478639704 0.8268774704065348 0.18315940063545588 0.6780463545373405 0.47967843284486833 0.44961656460764676 0.9530136426026456 0.09064747116911032 0.761645952407341 0.7716220101942828 0.3328442961400505 0.7811103155597222 0.8619233058976249 0.0899866658576195 \n"
          ]
        }
      ]
    },
    {
      "cell_type": "markdown",
      "metadata": {
        "id": "JLSYLZr0qvGI"
      },
      "source": [
        "### 문제 18. 생성된 random (28, 28) 노이즈를 plt를 통하여 확인해보세요."
      ]
    },
    {
      "cell_type": "code",
      "metadata": {
        "id": "EsgmHRFSrDX4",
        "colab": {
          "base_uri": "https://localhost:8080/",
          "height": 265
        },
        "outputId": "85bed4d2-7294-4819-817b-5fe8a76509a8"
      },
      "source": [
        "# plt를 통하여 random (28, 28) 노이즈를 2회 출력하는 코드를 작성하시고, 이미지가 다른지 확인하세요.\n",
        "plt.imshow(np.random.random((28,28)), cmap=\"gray\")\n",
        "plt.colorbar()\n",
        "plt.show()\n",
        "# 원래 이미지의 경우 안그려진 부분은 0, 그려진 부분은 색깔값 이라서 숫자 모양이 만들어졌지만, 지금은 모양이 만들어지지 않은 모습 "
      ],
      "execution_count": 25,
      "outputs": [
        {
          "output_type": "display_data",
          "data": {
            "text/plain": [
              "<Figure size 432x288 with 2 Axes>"
            ],
            "image/png": "[encoded data removed]"
          },
          "metadata": {
            "needs_background": "light"
          }
        }
      ]
    },
    {
      "cell_type": "markdown",
      "metadata": {
        "id": "nWy8FKR1AYJU"
      },
      "source": [
        "### 문제 19. 가우시안 노이즈 함수를 사용하여 평균 0, 표준편차 0.1, 사이즈 1로 랜덤 값을 3번 출력하세요. (np.random.normal)"
      ]
    },
    {
      "cell_type": "code",
      "metadata": {
        "id": "ENpSWYu_stHp",
        "colab": {
          "base_uri": "https://localhost:8080/"
        },
        "outputId": "88a66baf-79db-4f22-aef5-78a21d21bcd2"
      },
      "source": [
        "# 가우시안 노이즈 함수를 이용하여 mu 0.1 std 0.1 size 1인 랜덤값을 3번 출력하는 코드를 작성하세요.\n",
        "print(np.random.normal(0.0, 0.1, 1))\n",
        "print(np.random.normal(0.0, 0.1, 1))\n",
        "print(np.random.normal(0.0, 0.1, 1))"
      ],
      "execution_count": 26,
      "outputs": [
        {
          "output_type": "stream",
          "name": "stdout",
          "text": [
            "[0.00529842]\n",
            "[0.00165789]\n",
            "[0.11319892]\n"
          ]
        }
      ]
    },
    {
      "cell_type": "markdown",
      "metadata": {
        "id": "OQPItJ4zBWTt"
      },
      "source": [
        "### 문제 20. 가우시안 노이즈 함수의 옵션을 문제 19과 동일하지만 평균이 3.0인 경우, 표준 편차가 0.01인 경우로 각각 3회씩 출력해보세요."
      ]
    },
    {
      "cell_type": "code",
      "metadata": {
        "id": "CuvUg3SmtRrx",
        "colab": {
          "base_uri": "https://localhost:8080/"
        },
        "outputId": "63dfe29d-41a5-42cb-f52a-cbf8365b89b9"
      },
      "source": [
        "# 가우시안 노이즈 함수 mu = 3.0, std = 0.1, size = 1을 3 회 출력, mu = 0.0, std = 0.01, size = 1을 3회 출력하는 코드를 작성해보세요.\n",
        "print(np.random.normal(3.0, 0.01, 1)) #평균 3, 표준편차 0.01, 1개 값\n",
        "print(np.random.normal(3.0, 0.01, 1))\n",
        "print(np.random.normal(3.0, 0.01, 1))\n",
        "\n",
        "# 내가 추가한것 - 2개가 출력됨\n",
        "print(np.random.normal(3.0, 0.01, 2))"
      ],
      "execution_count": 27,
      "outputs": [
        {
          "output_type": "stream",
          "name": "stdout",
          "text": [
            "[2.9891398]\n",
            "[2.98772789]\n",
            "[3.00350564]\n",
            "[3.00775558 2.99742251]\n"
          ]
        }
      ]
    },
    {
      "cell_type": "markdown",
      "metadata": {
        "id": "ef1qyJ8HtZfu"
      },
      "source": [
        "### 문제 21. 가우시안 노이즈 함수를 문제 19의 옵션으로 size를 (28, 28)로 생성 후 plt로 출력해보세요."
      ]
    },
    {
      "cell_type": "code",
      "metadata": {
        "id": "kh_v1QZYt0kJ",
        "colab": {
          "base_uri": "https://localhost:8080/",
          "height": 268
        },
        "outputId": "f54e78f6-b6ec-407b-9ae8-0dd96747a914"
      },
      "source": [
        "# 가우시안 노이즈 함수를 문제 17의 옵션으로 size를 (28, 28)로 생성 후 plt로 출력하는 코드를 작성해보세요. 단, std = 0.01\n",
        "plt.imshow(np.random.normal(0.0, 0.01, (28, 28)), cmap=\"gray\")\n",
        "plt.colorbar()\n",
        "plt.show()"
      ],
      "execution_count": 28,
      "outputs": [
        {
          "output_type": "display_data",
          "data": {
            "text/plain": [
              "<Figure size 432x288 with 2 Axes>"
            ],
            "image/png": "[encoded data removed]"
          },
          "metadata": {
            "needs_background": "light"
          }
        }
      ]
    },
    {
      "cell_type": "markdown",
      "metadata": {
        "id": "MUdBACZuCDfA"
      },
      "source": [
        "### 문제 22. train_images의 5번째 이미지와 가우시안 노이즈 (28, 28)를 생성 한 뒤 각각 tensor를 더한 뒤 noisy_image 변수에 할당 해보세요."
      ]
    },
    {
      "cell_type": "code",
      "metadata": {
        "id": "pWia41PbumMX"
      },
      "source": [
        "# train_images[5]와 가우시안 노이즈 (28, 28)을 더한 뒤 noisy_image 변수에 할당하는 코드를 작성하세요. mu = 0.5, std = 0.1\n",
        "noisy_image = train_images[5] + np.random.normal(0.5, 0.1, (28, 28))\n",
        "\n",
        "# 원래 깨끗했던 숫자 이미지에 (28,28) 모양의 노이즈를 더해서 흐릿하게 만들어줌\n",
        "## 모델의 과적합을 막기위해 해줌(이정도면 2 맞으니까 2 로 판별해라 라는 느낌)"
      ],
      "execution_count": 29,
      "outputs": []
    },
    {
      "cell_type": "markdown",
      "metadata": {
        "id": "WsA0v_tNuv7Z"
      },
      "source": [
        "### 문제 23. noisy_image를 plt를 통해서 출력해보세요."
      ]
    },
    {
      "cell_type": "code",
      "metadata": {
        "id": "SMLTjkltv4g3",
        "colab": {
          "base_uri": "https://localhost:8080/",
          "height": 265
        },
        "outputId": "e2e3415d-2a47-48c2-90ea-8919b5afd5bd"
      },
      "source": [
        "# noisy_image를 plt로 출력하는 코드를 작성해보세요.\n",
        "plt.imshow(noisy_image, cmap=\"gray\")\n",
        "plt.colorbar()\n",
        "plt.show()"
      ],
      "execution_count": 30,
      "outputs": [
        {
          "output_type": "display_data",
          "data": {
            "text/plain": [
              "<Figure size 432x288 with 2 Axes>"
            ],
            "image/png": "[encoded data removed]"
          },
          "metadata": {
            "needs_background": "light"
          }
        }
      ]
    },
    {
      "cell_type": "markdown",
      "metadata": {
        "id": "Mqv2vE5EwChf"
      },
      "source": [
        "### 문제 24. 노이지 이미지를 생성했지만, max가 1이 넘습니다. max값을 1로 조절해보세요."
      ]
    },
    {
      "cell_type": "code",
      "metadata": {
        "id": "yxlKvbMBwyZu",
        "colab": {
          "base_uri": "https://localhost:8080/",
          "height": 269
        },
        "outputId": "b77f420a-14b2-4ffa-d93c-bc1f8bed7c9f"
      },
      "source": [
        "# max가 1을 초과하지 않게 noisy_image를 수정한 뒤 plt로 출력해보세요.\n",
        "noisy_image[noisy_image > 1.0] = 1.0 # 이미지값중 1이 넘는 수 == 1 입니다. (1은 원래 255 였으니 검정색을 뜻함. 즉 일반 검정색보다 더 검정색인건 일반 검정색으로 바꿔라)\n",
        "plt.imshow(noisy_image, cmap=\"gray\")\n",
        "plt.colorbar()\n",
        "plt.show()"
      ],
      "execution_count": 31,
      "outputs": [
        {
          "output_type": "display_data",
          "data": {
            "text/plain": [
              "<Figure size 432x288 with 2 Axes>"
            ],
            "image/png": "[encoded data removed]"
          },
          "metadata": {
            "needs_background": "light"
          }
        }
      ]
    },
    {
      "cell_type": "markdown",
      "metadata": {
        "id": "-ZGNiCnuxQTO"
      },
      "source": [
        "### 문제 25. 위의 방법을 전부 활용하여 train_images와 test_images 데이터에 랜덤 노이즈를 추가한 train_noisy_images와 test_noisy_images를 생성해보세요."
      ]
    },
    {
      "cell_type": "code",
      "metadata": {
        "id": "c7292i2CMFCz"
      },
      "source": [
        "# train_noisy_image와 test_nosiy_images를 생성하는 코드를 작성하세요.\n",
        "train_noisy_images = train_images + np.random.normal(0.5, 0.1, train_images.shape) #원래 트레인 셋에 노이즈 값을 추가\n",
        "train_noisy_images[train_noisy_images > 1.0] = 1.0  #1이 넘는 값들은 1로 변경\n",
        "\n",
        "test_noisy_images = test_images + np.random.normal(0.5, 0.1, test_images.shape)\n",
        "test_noisy_images[test_noisy_images > 1.0] = 1.0"
      ],
      "execution_count": 32,
      "outputs": []
    },
    {
      "cell_type": "code",
      "metadata": {
        "colab": {
          "base_uri": "https://localhost:8080/",
          "height": 252
        },
        "id": "zGzd99EolQBo",
        "outputId": "5ece3456-9bb2-42f2-cb85-20eaee65387e"
      },
      "source": [
        "plt.imshow(train_noisy_images[:5].transpose( (1, 0, 2) ).reshape(28, -1), cmap=\"gray\")\n",
        "plt.colorbar()\n",
        "plt.show()"
      ],
      "execution_count": 33,
      "outputs": [
        {
          "output_type": "display_data",
          "data": {
            "text/plain": [
              "<Figure size 432x288 with 2 Axes>"
            ],
            "image/png": "[encoded data removed]"
          },
          "metadata": {
            "needs_background": "light"
          }
        }
      ]
    },
    {
      "cell_type": "markdown",
      "metadata": {
        "id": "cclii1-lS_HA"
      },
      "source": [
        "### 문제 26. labels에 onehot 인코딩을 적용하여 (배치 사이즈, 클래스 개수)의 shape으로 변경해보세요."
      ]
    },
    {
      "cell_type": "code",
      "source": [
        "#원래 라벨\n",
        "train_labels[2]"
      ],
      "metadata": {
        "colab": {
          "base_uri": "https://localhost:8080/"
        },
        "id": "nFQ5h3atkPmd",
        "outputId": "76d3a65a-8b1e-4809-f307-0af7675b3b27"
      },
      "execution_count": 34,
      "outputs": [
        {
          "output_type": "execute_result",
          "data": {
            "text/plain": [
              "4"
            ]
          },
          "metadata": {},
          "execution_count": 34
        }
      ]
    },
    {
      "cell_type": "code",
      "metadata": {
        "id": "S34frxLyxAD-",
        "colab": {
          "base_uri": "https://localhost:8080/"
        },
        "outputId": "b765b75a-7992-4591-c744-4967483828e5"
      },
      "source": [
        "# train/test labels에 onehot encoding을 적용하여 shape을 (배치사이즈,) 에서 (배치사이즈, 클래스 개수)로 변경하는 코드를 작성하세요.\n",
        "from keras.utils import to_categorical\n",
        "print(train_labels.shape, test_labels.shape)\n",
        "train_labels = to_categorical( train_labels, 10) #중요\n",
        "test_labels = to_categorical( test_labels, 10)\n",
        "print(train_labels.shape, test_labels.shape)"
      ],
      "execution_count": 35,
      "outputs": [
        {
          "output_type": "stream",
          "name": "stdout",
          "text": [
            "(60000,) (10000,)\n",
            "(60000, 10) (10000, 10)\n"
          ]
        }
      ]
    },
    {
      "cell_type": "code",
      "source": [
        "#원 핫 인코딩 된 라벨 - to_categorical 함수!!\n",
        "train_labels[2]\n",
        "#4 를 뜻함"
      ],
      "metadata": {
        "colab": {
          "base_uri": "https://localhost:8080/"
        },
        "id": "YT5T05QgkZ9U",
        "outputId": "4d2e04f8-acfc-4531-e2cb-96d7c1f94bf2"
      },
      "execution_count": 36,
      "outputs": [
        {
          "output_type": "execute_result",
          "data": {
            "text/plain": [
              "array([0., 0., 0., 0., 1., 0., 0., 0., 0., 0.], dtype=float32)"
            ]
          },
          "metadata": {},
          "execution_count": 36
        }
      ]
    },
    {
      "cell_type": "markdown",
      "metadata": {
        "id": "z67dTPu0xJSu"
      },
      "source": [
        "## Step 5. 모델링"
      ]
    },
    {
      "cell_type": "markdown",
      "metadata": {
        "id": "20iJHg2gXrC2"
      },
      "source": [
        "### 문제 27. 해당 학습셋을 처리하는 이미지 classification 모델을 작성하세요."
      ]
    },
    {
      "cell_type": "code",
      "metadata": {
        "id": "1Q1XtFoxX0eN"
      },
      "source": [
        "# input (28, 28), 64 unit의 simple RNN, 10 unit의 fully-conntect를 가진 모델을 작성하세요.\n",
        "from keras.layers import SimpleRNN\n",
        "from keras.layers import Dense, Input\n",
        "from keras.models import Model\n",
        "\n",
        "inputs = Input(shape=(28, 28))\n",
        "x1 = SimpleRNN(64, activation=\"tanh\")(inputs) #학습층 tanh 활성화 함수를 사용한 모습\n",
        "x2 = Dense(10, activation=\"softmax\")(x1) # 0~9까지의 숫자를 분류해야 하므로 다중분류 - 다중 분류시에는 마지막 층에서 softmax 함수를 사용\n",
        "model = Model(inputs, x2)"
      ],
      "execution_count": 37,
      "outputs": []
    },
    {
      "cell_type": "markdown",
      "metadata": {
        "id": "svYCsKxOyJzt"
      },
      "source": [
        "### 문제 28. 모델 요약 정보를 출력해보세요."
      ]
    },
    {
      "cell_type": "code",
      "metadata": {
        "id": "d4qnTxHpyN37",
        "colab": {
          "base_uri": "https://localhost:8080/"
        },
        "outputId": "abdd6398-b195-4e5b-9adc-1a934c95325e"
      },
      "source": [
        "# 모델 요약 정보를 출력해보세요.\n",
        "model.summary()"
      ],
      "execution_count": 38,
      "outputs": [
        {
          "output_type": "stream",
          "name": "stdout",
          "text": [
            "Model: \"model\"\n",
            "_________________________________________________________________\n",
            " Layer (type)                Output Shape              Param #   \n",
            "=================================================================\n",
            " input_1 (InputLayer)        [(None, 28, 28)]          0         \n",
            "                                                                 \n",
            " simple_rnn (SimpleRNN)      (None, 64)                5952      \n",
            "                                                                 \n",
            " dense (Dense)               (None, 10)                650       \n",
            "                                                                 \n",
            "=================================================================\n",
            "Total params: 6,602\n",
            "Trainable params: 6,602\n",
            "Non-trainable params: 0\n",
            "_________________________________________________________________\n"
          ]
        }
      ]
    },
    {
      "cell_type": "markdown",
      "metadata": {
        "id": "PkOrDR1yam4a"
      },
      "source": [
        "### 문제 29. 27에서 만든 모델에 로스와 옵티마이저, 메트릭을 설정하세요."
      ]
    },
    {
      "cell_type": "code",
      "metadata": {
        "id": "nufi0CMyazsF"
      },
      "source": [
        "# 만든 모델에 loss는 categorical_crossentropy, optimizer는 adam 매트릭은 accuracy으로 설정하는 코드를 작성하세요.\n",
        "model.compile(loss='categorical_crossentropy', optimizer='adam', metrics = [\"accuracy\"]) #다중 분류에는 손실함수로 categorical_crossentropy 를 사용\n",
        "\n",
        "#모델 생성 완료. 이제 공부시킬 시간"
      ],
      "execution_count": 39,
      "outputs": []
    },
    {
      "cell_type": "markdown",
      "metadata": {
        "id": "IZRqZC50ZoaE"
      },
      "source": [
        "### 문제 30. 만든 모델에 train_noisy_images를 학습시켜 보세요."
      ]
    },
    {
      "cell_type": "code",
      "metadata": {
        "id": "PtpJp3fmaRuA",
        "colab": {
          "base_uri": "https://localhost:8080/"
        },
        "outputId": "d7a9d86b-ae95-46b4-c4f5-84c8eb517439"
      },
      "source": [
        "# train_noisy_images를 학습시키고 5 epochs을 돌리고 그 진행 사항을 hist에 저장하는 코드를 작성하세요.\n",
        "hist = model.fit(train_noisy_images, train_labels, validation_data=(test_noisy_images, test_labels), epochs=5, verbose=2)\n",
        "#공부 : 트레인 노이즈 셋\n",
        "#평가 : 테스트 노이즈 셋과 비교\n",
        "#에포크 : 5번 공부\n",
        "#벌보스\n",
        "#verbose = 학습 중 출력되는 문구를 설정합니다.\n",
        "#- 0 : 아무 것도 출력하지 않습니다.\n",
        "#- 1 : 훈련의 진행도를 보여주는 진행 막대와 정보를 보여줌.\n",
        "#- 2 : 정보만 보여줌 진행도 보여주는 막대 안보여줌."
      ],
      "execution_count": null,
      "outputs": [
        {
          "output_type": "stream",
          "name": "stdout",
          "text": [
            "Epoch 1/5\n"
          ]
        }
      ]
    },
    {
      "cell_type": "markdown",
      "metadata": {
        "id": "hU3-Lm7Ma_97"
      },
      "source": [
        "### 문제 31. 학습 진행 사항을 plt으로 출력하세요."
      ]
    },
    {
      "cell_type": "code",
      "metadata": {
        "id": "B6pKz5o3bPIT"
      },
      "source": [
        "# hist의 accuracy plt의 plot을 이용하여 출력하는 코드를 작성하세요.\n",
        "plt.plot(hist.history['accuracy'], label='accuracy')\n",
        "plt.plot(hist.history['loss'], label='loss')\n",
        "plt.plot(hist.history['val_accuracy'], label='val_accuracy')\n",
        "plt.plot(hist.history['val_loss'], label='val_loss')\n",
        "plt.legend(loc='upper left')\n",
        "plt.show()"
      ],
      "execution_count": null,
      "outputs": []
    },
    {
      "cell_type": "markdown",
      "metadata": {
        "id": "bfxPsEKTrKBq"
      },
      "source": [
        "## Step 6. 결과 확인"
      ]
    },
    {
      "cell_type": "markdown",
      "metadata": {
        "id": "J6nvDS4yOSCD"
      },
      "source": [
        "### 문제 32. 완성된 모델에서 test_noisy_image를 1장 넣고 결과를 res 변수에 저정하세요."
      ]
    },
    {
      "cell_type": "code",
      "metadata": {
        "id": "uKFAu5z4QRjR"
      },
      "source": [
        "# 모델에 test_noisy_images 중 1장을 넣고 결과를 받는 코드를 작성하세요.\n",
        "res = model.predict( test_noisy_images[3:4] ) #한장만 알고싶을때 predict 함수 사용\n",
        "print(res.shape)\n",
        "print(res)\n",
        "#0일 확률 99퍼,1일 확률 27퍼, 2일확률 29퍼 ,,, 로 이해하면 됨 ## 세부 값은 실행시킬 때 마다 변경 될 수 있으나 아마 0이 99퍼 대 인건 동일할듯"
      ],
      "execution_count": null,
      "outputs": []
    },
    {
      "cell_type": "markdown",
      "metadata": {
        "id": "KMHHUTQfQcU0"
      },
      "source": [
        "### 문제 33. test_noisy_images[0], test_images[0]를 width 방향으로 결합하여 plt로 출력하세요"
      ]
    },
    {
      "cell_type": "code",
      "metadata": {
        "id": "L0t-FO9qRfoK"
      },
      "source": [
        "# test_noisy_images[0], test_images[0]를 width 방향으로 결합하여 (28, 28 * 2) 의 이미지를 만들어 plt로 출력하는 코드를 작성하세요.\n",
        "plt.imshow(   np.concatenate([test_noisy_images[3], test_images[3]], axis=1) , cmap=\"gray\") #np.concatenate 함수는 그림을 붙이는 역할을 함 - axis = 1 은 '가로로\n",
        "plt.show()\n",
        "\n",
        "#세로 예시(내가 만듦)\n",
        "plt.imshow(   np.concatenate([test_noisy_images[3], test_images[3]], axis=0) , cmap=\"gray\") #np.concatenate 함수는 그림을 붙이는 역할을 함 - axis = 0 은 '세로로 붙여라' 라는 뜻\n",
        "plt.show()"
      ],
      "execution_count": null,
      "outputs": []
    },
    {
      "cell_type": "markdown",
      "metadata": {
        "id": "16fGMxJRwhc6"
      },
      "source": [
        "### 문제 34. res와 test_labels[0]의 결과를 plt.bar로 확인하세요."
      ]
    },
    {
      "cell_type": "code",
      "metadata": {
        "id": "oLZEQHHAwqPC"
      },
      "source": [
        "# res와 test_labels[0]의 결과를 plt.bar로 확인하세요.\n",
        "plt.bar(range(10), res[0], color='red') #range(10) 은 뭔가요? : 그래프 x축인 0~10을 뜻함\n",
        "plt.bar(np.array(range(10)) + 0.35, test_labels[3]) #0.35 신경 쓸 필요 없음- 그냥 원래대로 하면 x축 숫자10이 없어져서 조금 늘린거임\n",
        "plt.show()"
      ],
      "execution_count": null,
      "outputs": []
    },
    {
      "cell_type": "markdown",
      "metadata": {
        "id": "7FQT89oqrdkA"
      },
      "source": [
        "## Step 7. 모델 저장 및 로드, 다운"
      ]
    },
    {
      "cell_type": "markdown",
      "metadata": {
        "id": "c2GZFvCAzFNl"
      },
      "source": [
        "### 문제 35. 모델을 저장하세요."
      ]
    },
    {
      "cell_type": "code",
      "metadata": {
        "id": "YjuCVTNbriVJ"
      },
      "source": [
        "# 모델을 저장하는 코드를 작성하세요. \n",
        "model.save(\"./lecture001.h5\") # .save 함수 기억하세요"
      ],
      "execution_count": null,
      "outputs": []
    },
    {
      "cell_type": "markdown",
      "metadata": {
        "id": "Bj4P3DdzzhyC"
      },
      "source": [
        "### 문제 36. 모델 파일을 새로운 모델에 로드하세요."
      ]
    },
    {
      "cell_type": "code",
      "metadata": {
        "id": "xuRAnBR8zY-X"
      },
      "source": [
        "# 모델을 로드하는 코드를 작성하세요.\n",
        "new_model = tf.keras.models.load_model('./lecture001.h5') #tf.keras.model(새로운 모델 생성)에 .load_model(붙여넣기) 하세요"
      ],
      "execution_count": null,
      "outputs": []
    },
    {
      "cell_type": "code",
      "metadata": {
        "id": "cWof77221dxs"
      },
      "source": [
        "res = new_model.predict( test_noisy_images[3:4] ) \n",
        "res.shape\n",
        "plt.bar(range(10), res[0], color='red')\n",
        "plt.bar(np.array(range(10)) + 0.35, test_labels[3])\n",
        "plt.show()"
      ],
      "execution_count": null,
      "outputs": []
    },
    {
      "cell_type": "markdown",
      "metadata": {
        "id": "ta1I5ZEY1FBR"
      },
      "source": [
        "### 문제 37. 로드한 모델을 test 데이터로 평가해보세요.\n"
      ]
    },
    {
      "cell_type": "code",
      "metadata": {
        "id": "ALrVf_lm0_Bc"
      },
      "source": [
        "# 로드한 모델을 test 데이터로 평가해보세요.\n",
        "loss, acc = new_model.evaluate(test_noisy_images, test_labels, verbose=2) #여러장을 학습시켜 정확도를 보고싶으면 evaluate 함수 사용\n",
        "print(loss, acc)\n",
        "loss, acc = model.evaluate(test_noisy_images, test_labels, verbose=2)\n",
        "print(loss, acc)"
      ],
      "execution_count": null,
      "outputs": []
    },
    {
      "cell_type": "markdown",
      "metadata": {
        "id": "gfEgY1Vr1T1v"
      },
      "source": [
        "### 문제 38. 모델을 내 컴퓨터에 저장해보세요"
      ]
    },
    {
      "cell_type": "code",
      "metadata": {
        "id": "ASkJv_Ui1RGv"
      },
      "source": [
        "# 모델을 내 컴퓨터에 저장해보세요.\n",
        "from google.colab import files\n",
        "files.download('./lecture001.h5') #files.download 함수로 내 켬퓨터에 저장"
      ],
      "execution_count": null,
      "outputs": []
    },
    {
      "cell_type": "code",
      "metadata": {
        "id": "4qBQZvGj2IkF"
      },
      "source": [],
      "execution_count": null,
      "outputs": []
    }
  ]
}